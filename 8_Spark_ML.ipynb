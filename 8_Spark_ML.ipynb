{
  "nbformat": 4,
  "nbformat_minor": 0,
  "metadata": {
    "colab": {
      "name": "Spark7.ipynb",
      "provenance": []
    },
    "kernelspec": {
      "name": "python3",
      "display_name": "Python 3"
    },
    "language_info": {
      "name": "python"
    }
  },
  "cells": [
    {
      "cell_type": "code",
      "execution_count": null,
      "metadata": {
        "colab": {
          "base_uri": "https://localhost:8080/"
        },
        "id": "i1eWW3U20uMn",
        "outputId": "c8a72fa0-c31a-4ba6-b097-6d6703440025"
      },
      "outputs": [
        {
          "output_type": "stream",
          "name": "stdout",
          "text": [
            "Collecting pyspark\n",
            "  Downloading pyspark-3.2.1.tar.gz (281.4 MB)\n",
            "\u001b[K     |████████████████████████████████| 281.4 MB 33 kB/s \n",
            "\u001b[?25hCollecting py4j==0.10.9.3\n",
            "  Downloading py4j-0.10.9.3-py2.py3-none-any.whl (198 kB)\n",
            "\u001b[K     |████████████████████████████████| 198 kB 47.9 MB/s \n",
            "\u001b[?25hBuilding wheels for collected packages: pyspark\n",
            "  Building wheel for pyspark (setup.py) ... \u001b[?25l\u001b[?25hdone\n",
            "  Created wheel for pyspark: filename=pyspark-3.2.1-py2.py3-none-any.whl size=281853642 sha256=72b6cd5f8e88ed640b625d90ba5cadc1595b8718b0306484f30af68b0a0942ec\n",
            "  Stored in directory: /root/.cache/pip/wheels/9f/f5/07/7cd8017084dce4e93e84e92efd1e1d5334db05f2e83bcef74f\n",
            "Successfully built pyspark\n",
            "Installing collected packages: py4j, pyspark\n",
            "Successfully installed py4j-0.10.9.3 pyspark-3.2.1\n"
          ]
        }
      ],
      "source": [
        "!pip install pyspark"
      ]
    },
    {
      "cell_type": "code",
      "source": [
        "from pyspark.sql import SparkSession\n",
        "session = SparkSession.builder.appName(\"Classification\").getOrCreate()"
      ],
      "metadata": {
        "id": "NEoCK9UT0xHN"
      },
      "execution_count": null,
      "outputs": []
    },
    {
      "cell_type": "code",
      "source": [
        "data = session.read.csv(\"default_of_credit_card_clients.csv\", header = True, inferSchema = True)"
      ],
      "metadata": {
        "id": "Y3evz-u21PnF"
      },
      "execution_count": null,
      "outputs": []
    },
    {
      "cell_type": "code",
      "source": [
        "data.show()"
      ],
      "metadata": {
        "colab": {
          "base_uri": "https://localhost:8080/"
        },
        "id": "ylbD8aMc4eGt",
        "outputId": "5ccf0447-1c99-4f9b-9118-0d40ada06612"
      },
      "execution_count": null,
      "outputs": [
        {
          "output_type": "stream",
          "name": "stdout",
          "text": [
            "+------+---+---+---+---+---+---+---+---+---+---+------+------+------+------+------+------+-----+-----+-----+-----+------+-----+---+\n",
            "|    X1| X2| X3| X4| X5| X6| X7| X8| X9|X10|X11|   X12|   X13|   X14|   X15|   X16|   X17|  X18|  X19|  X20|  X21|   X22|  X23|  Y|\n",
            "+------+---+---+---+---+---+---+---+---+---+---+------+------+------+------+------+------+-----+-----+-----+-----+------+-----+---+\n",
            "| 20000|  2|  2|  1| 24|  2|  2| -1| -1| -2| -2|  3913|  3102|   689|     0|     0|     0|    0|  689|    0|    0|     0|    0|  1|\n",
            "|120000|  2|  2|  2| 26| -1|  2|  0|  0|  0|  2|  2682|  1725|  2682|  3272|  3455|  3261|    0| 1000| 1000| 1000|     0| 2000|  1|\n",
            "| 90000|  2|  2|  2| 34|  0|  0|  0|  0|  0|  0| 29239| 14027| 13559| 14331| 14948| 15549| 1518| 1500| 1000| 1000|  1000| 5000|  0|\n",
            "| 50000|  2|  2|  1| 37|  0|  0|  0|  0|  0|  0| 46990| 48233| 49291| 28314| 28959| 29547| 2000| 2019| 1200| 1100|  1069| 1000|  0|\n",
            "| 50000|  1|  2|  1| 57| -1|  0| -1|  0|  0|  0|  8617|  5670| 35835| 20940| 19146| 19131| 2000|36681|10000| 9000|   689|  679|  0|\n",
            "| 50000|  1|  1|  2| 37|  0|  0|  0|  0|  0|  0| 64400| 57069| 57608| 19394| 19619| 20024| 2500| 1815|  657| 1000|  1000|  800|  0|\n",
            "|500000|  1|  1|  2| 29|  0|  0|  0|  0|  0|  0|367965|412023|445007|542653|483003|473944|55000|40000|38000|20239| 13750|13770|  0|\n",
            "|100000|  2|  2|  2| 23|  0| -1| -1|  0|  0| -1| 11876|   380|   601|   221|  -159|   567|  380|  601|    0|  581|  1687| 1542|  0|\n",
            "|140000|  2|  3|  1| 28|  0|  0|  2|  0|  0|  0| 11285| 14096| 12108| 12211| 11793|  3719| 3329|    0|  432| 1000|  1000| 1000|  0|\n",
            "| 20000|  1|  3|  2| 35| -2| -2| -2| -2| -1| -1|     0|     0|     0|     0| 13007| 13912|    0|    0|    0|13007|  1122|    0|  0|\n",
            "|200000|  2|  3|  2| 34|  0|  0|  2|  0|  0| -1| 11073|  9787|  5535|  2513|  1828|  3731| 2306|   12|   50|  300|  3738|   66|  0|\n",
            "|260000|  2|  1|  2| 51| -1| -1| -1| -1| -1|  2| 12261| 21670|  9966|  8517| 22287| 13668|21818| 9966| 8583|22301|     0| 3640|  0|\n",
            "|630000|  2|  2|  2| 41| -1|  0| -1| -1| -1| -1| 12137|  6500|  6500|  6500|  6500|  2870| 1000| 6500| 6500| 6500|  2870|    0|  0|\n",
            "| 70000|  1|  2|  2| 30|  1|  2|  2|  0|  0|  2| 65802| 67369| 65701| 66782| 36137| 36894| 3200|    0| 3000| 3000|  1500|    0|  1|\n",
            "|250000|  1|  1|  2| 29|  0|  0|  0|  0|  0|  0| 70887| 67060| 63561| 59696| 56875| 55512| 3000| 3000| 3000| 3000|  3000| 3000|  0|\n",
            "| 50000|  2|  3|  3| 23|  1|  2|  0|  0|  0|  0| 50614| 29173| 28116| 28771| 29531| 30211|    0| 1500| 1100| 1200|  1300| 1100|  0|\n",
            "| 20000|  1|  1|  2| 24|  0|  0|  2|  2|  2|  2| 15376| 18010| 17428| 18338| 17905| 19104| 3200|    0| 1500|    0|  1650|    0|  1|\n",
            "|320000|  1|  1|  1| 49|  0|  0|  0| -1| -1| -1|253286|246536|194663| 70074|  5856|195599|10358|10000|75940|20000|195599|50000|  0|\n",
            "|360000|  2|  1|  1| 49|  1| -2| -2| -2| -2| -2|     0|     0|     0|     0|     0|     0|    0|    0|    0|    0|     0|    0|  0|\n",
            "|180000|  2|  1|  2| 29|  1| -2| -2| -2| -2| -2|     0|     0|     0|     0|     0|     0|    0|    0|    0|    0|     0|    0|  0|\n",
            "+------+---+---+---+---+---+---+---+---+---+---+------+------+------+------+------+------+-----+-----+-----+-----+------+-----+---+\n",
            "only showing top 20 rows\n",
            "\n"
          ]
        }
      ]
    },
    {
      "cell_type": "code",
      "source": [
        "from pyspark.ml.feature import VectorAssembler\n",
        "# Pyspark ml models takes only one independent variable and one dependent varibale\n",
        "#but, we have multiple independent variabales\n",
        "\n",
        "assembler_obj = VectorAssembler(inputCols= [\"X1\", \"X2\", \"X3\", \"X4\", \"X5\", \"X6\", \"X7\", \"X8\", \"X9\", \"X10\", \"X11\", \"X12\", \"X13\", \"X14\", \"X15\", \"X16\", \"X17\", \"X18\", \"X19\", \"X20\", \"X21\", \"X22\", \"X23\"], outputCol = \"allfeatures\")"
      ],
      "metadata": {
        "id": "LZtdB2Mb1-HQ"
      },
      "execution_count": null,
      "outputs": []
    },
    {
      "cell_type": "code",
      "source": [
        "from pyspark.ml.classification import LogisticRegression\n",
        "#featuresCol means independent varibale and labelCol means dependent variable\n",
        "model = LogisticRegression(featuresCol= \"allfeatures\", labelCol = \"Y\") "
      ],
      "metadata": {
        "id": "RpygNcJg3piM"
      },
      "execution_count": null,
      "outputs": []
    },
    {
      "cell_type": "markdown",
      "source": [
        "### Create Pipeline"
      ],
      "metadata": {
        "id": "8juup04mNqag"
      }
    },
    {
      "cell_type": "code",
      "source": [
        "from pyspark.ml import Pipeline\n",
        "mypipeline = Pipeline(stages = [assembler_obj, model])\n"
      ],
      "metadata": {
        "id": "TZmcBpR44j6t"
      },
      "execution_count": null,
      "outputs": []
    },
    {
      "cell_type": "code",
      "source": [
        "#splitting the dataset into training and test\n",
        "training, test = data.randomSplit([0.7, 0.3])"
      ],
      "metadata": {
        "id": "B_59BCAA5QIH"
      },
      "execution_count": null,
      "outputs": []
    },
    {
      "cell_type": "code",
      "source": [
        "#training the model\n",
        "fitmodel = mypipeline.fit(training)"
      ],
      "metadata": {
        "id": "q0909dV_5f9Q"
      },
      "execution_count": null,
      "outputs": []
    },
    {
      "cell_type": "code",
      "source": [
        "# Predict the values of the test dataset\n",
        "result = fitmodel.transform(test)"
      ],
      "metadata": {
        "id": "pifZI8Pv52Ux"
      },
      "execution_count": null,
      "outputs": []
    },
    {
      "cell_type": "code",
      "source": [
        "result.show(4)"
      ],
      "metadata": {
        "colab": {
          "base_uri": "https://localhost:8080/"
        },
        "id": "_kB6YRLz8UEk",
        "outputId": "3573b397-3a18-4c9c-de4f-955f3f2a578c"
      },
      "execution_count": null,
      "outputs": [
        {
          "output_type": "stream",
          "name": "stdout",
          "text": [
            "+-----+---+---+---+---+---+---+---+---+---+---+-----+----+----+-----+-----+-----+----+----+----+----+----+---+---+--------------------+--------------------+--------------------+----------+\n",
            "|   X1| X2| X3| X4| X5| X6| X7| X8| X9|X10|X11|  X12| X13| X14|  X15|  X16|  X17| X18| X19| X20| X21| X22|X23|  Y|         allfeatures|       rawPrediction|         probability|prediction|\n",
            "+-----+---+---+---+---+---+---+---+---+---+---+-----+----+----+-----+-----+-----+----+----+----+----+----+---+---+--------------------+--------------------+--------------------+----------+\n",
            "|10000|  1|  1|  1| 41|  0|  0|  3|  2|  2|  2| 6859|9751|9451| 9169|10056| 8559|3000|   0|   0|1002|   0|500|  0|[10000.0,1.0,1.0,...|[0.43976581686668...|[0.60820322817918...|       0.0|\n",
            "|10000|  1|  1|  1| 50|  0|  0|  0|  0|  0|  0|10043|9616|9718| 9916| 9250| 7461|1194|1076| 274| 370| 472|375|  0|[10000.0,1.0,1.0,...|[0.73379895056942...|[0.67563837189168...|       0.0|\n",
            "|10000|  1|  1|  2| 22|  0|  0| -1| -1| -1| -1| 2946|   0| 390|  390|  390|    0|   0| 390| 390| 390|   0|780|  1|[10000.0,1.0,1.0,...|[1.21625781854719...|[0.77140432460699...|       0.0|\n",
            "|10000|  1|  1|  2| 33|  0|  0|  0|  0|  0|  0| 8417|6281|8567|10046|10063|10132|1700|4700|2502|1500|3000|  0|  0|[10000.0,1.0,1.0,...|[1.07005455741761...|[0.74460729100127...|       0.0|\n",
            "+-----+---+---+---+---+---+---+---+---+---+---+-----+----+----+-----+-----+-----+----+----+----+----+----+---+---+--------------------+--------------------+--------------------+----------+\n",
            "only showing top 4 rows\n",
            "\n"
          ]
        }
      ]
    },
    {
      "cell_type": "code",
      "source": [
        "#step1 :- Split\n",
        "#step2 :- create model\n",
        "#step3 :- traing model\n",
        "#step4 :- Predict model\n",
        "#step5 :- Evaluating the model"
      ],
      "metadata": {
        "id": "QqEelzJG8YhZ"
      },
      "execution_count": null,
      "outputs": []
    },
    {
      "cell_type": "code",
      "source": [
        "from pyspark.ml.evaluation import BinaryClassificationEvaluator\n",
        "eval_obj = BinaryClassificationEvaluator(rawPredictionCol = 'probability', labelCol = \"Y\")\n",
        "accuracy = eval_obj.evaluate(result)\n",
        "print(accuracy)"
      ],
      "metadata": {
        "colab": {
          "base_uri": "https://localhost:8080/"
        },
        "id": "ZKIb1utK9bXQ",
        "outputId": "a34cab83-0df7-40ef-b4a9-ef860c898ce3"
      },
      "execution_count": null,
      "outputs": [
        {
          "output_type": "stream",
          "name": "stdout",
          "text": [
            "0.7243794190739842\n"
          ]
        }
      ]
    },
    {
      "cell_type": "code",
      "source": [
        ""
      ],
      "metadata": {
        "id": "oWcxgOAX_EMj"
      },
      "execution_count": null,
      "outputs": []
    }
  ]
}