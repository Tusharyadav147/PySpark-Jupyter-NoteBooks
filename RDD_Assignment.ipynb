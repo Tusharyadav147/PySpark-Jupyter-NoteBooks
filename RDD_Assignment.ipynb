{
  "nbformat": 4,
  "nbformat_minor": 0,
  "metadata": {
    "colab": {
      "name": "RDD Assignment.ipynb",
      "provenance": [],
      "collapsed_sections": []
    },
    "kernelspec": {
      "name": "python3",
      "display_name": "Python 3"
    },
    "language_info": {
      "name": "python"
    }
  },
  "cells": [
    {
      "cell_type": "code",
      "execution_count": null,
      "metadata": {
        "colab": {
          "base_uri": "https://localhost:8080/"
        },
        "id": "HkIFLkrCDv86",
        "outputId": "30cb7f7f-9239-451f-ded4-b8a289bcd1d6"
      },
      "outputs": [
        {
          "output_type": "stream",
          "name": "stdout",
          "text": [
            "Collecting pyspark\n",
            "  Downloading pyspark-3.2.1.tar.gz (281.4 MB)\n",
            "\u001b[K     |████████████████████████████████| 281.4 MB 35 kB/s \n",
            "\u001b[?25hCollecting py4j==0.10.9.3\n",
            "  Downloading py4j-0.10.9.3-py2.py3-none-any.whl (198 kB)\n",
            "\u001b[K     |████████████████████████████████| 198 kB 43.3 MB/s \n",
            "\u001b[?25hBuilding wheels for collected packages: pyspark\n",
            "  Building wheel for pyspark (setup.py) ... \u001b[?25l\u001b[?25hdone\n",
            "  Created wheel for pyspark: filename=pyspark-3.2.1-py2.py3-none-any.whl size=281853642 sha256=13ac2fdcf6d4c1733132c3f8d1998f6e26fc4b8ce3450d565b8d074ed5f54b22\n",
            "  Stored in directory: /root/.cache/pip/wheels/9f/f5/07/7cd8017084dce4e93e84e92efd1e1d5334db05f2e83bcef74f\n",
            "Successfully built pyspark\n",
            "Installing collected packages: py4j, pyspark\n",
            "Successfully installed py4j-0.10.9.3 pyspark-3.2.1\n"
          ]
        }
      ],
      "source": [
        "!pip install pyspark"
      ]
    },
    {
      "cell_type": "code",
      "source": [
        "from pyspark import SparkConf, SparkContext"
      ],
      "metadata": {
        "id": "Ayl1WQ5JOTIL"
      },
      "execution_count": null,
      "outputs": []
    },
    {
      "cell_type": "code",
      "source": [
        "if __name__ == \"__main__\":\n",
        "  conf = SparkConf().setAppName(\"MyCode\").setMaster(\"local[2]\")\n",
        "  sc = SparkContext(conf = conf)"
      ],
      "metadata": {
        "id": "Bd2YGeHROhW6"
      },
      "execution_count": null,
      "outputs": []
    },
    {
      "cell_type": "code",
      "source": [
        "data = sc.textFile(\"BigMart_Sales.csv\")"
      ],
      "metadata": {
        "id": "rbBszFUWQKFu"
      },
      "execution_count": null,
      "outputs": []
    },
    {
      "cell_type": "code",
      "source": [
        "data.take(4)"
      ],
      "metadata": {
        "id": "796PDkv1SAyJ",
        "colab": {
          "base_uri": "https://localhost:8080/"
        },
        "outputId": "a16fca3f-146a-4cd5-e214-cdcd78c9fd81"
      },
      "execution_count": null,
      "outputs": [
        {
          "output_type": "execute_result",
          "data": {
            "text/plain": [
              "['Item_Identifier,Item_Weight,Item_Fat_Content,Item_Visibility,Item_Type,Item_MRP,Outlet_Identifier,Outlet_Establishment_Year,Outlet_Size,Outlet_Location_Type,Outlet_Type,Item_Outlet_Sales',\n",
              " 'FDA15,9.3,Low Fat,0.016047301,Dairy,249.8092,OUT049,1999,Medium,Tier 1,Supermarket Type1,4235.475',\n",
              " 'DRC01,5.92,Regular,0.019278216,Soft Drinks,48.2692,OUT018,2009,Medium,Tier 3,Supermarket Type2,604.4969',\n",
              " 'FDN15,17.5,Low Fat,0.016760075,Meat,141.618,OUT049,1999,Medium,Tier 1,Supermarket Type1,2358.5261']"
            ]
          },
          "metadata": {},
          "execution_count": 5
        }
      ]
    },
    {
      "cell_type": "code",
      "source": [
        "data.getNumPartitions()"
      ],
      "metadata": {
        "colab": {
          "base_uri": "https://localhost:8080/"
        },
        "id": "63QBs737VoHI",
        "outputId": "fc8f3d63-1e34-4e16-836c-7e49afa81983"
      },
      "execution_count": null,
      "outputs": [
        {
          "output_type": "execute_result",
          "data": {
            "text/plain": [
              "2"
            ]
          },
          "metadata": {},
          "execution_count": 6
        }
      ]
    },
    {
      "cell_type": "code",
      "source": [
        "data.count()"
      ],
      "metadata": {
        "id": "38dm5YSgaeK0",
        "colab": {
          "base_uri": "https://localhost:8080/"
        },
        "outputId": "5c61d242-b148-4d8e-f623-27f94778c31c"
      },
      "execution_count": null,
      "outputs": [
        {
          "output_type": "execute_result",
          "data": {
            "text/plain": [
              "8524"
            ]
          },
          "metadata": {},
          "execution_count": 7
        }
      ]
    },
    {
      "cell_type": "markdown",
      "source": [
        "# Remove Heading"
      ],
      "metadata": {
        "id": "pkK_rhPKdKnp"
      }
    },
    {
      "cell_type": "code",
      "source": [
        "header = data.first()\n",
        "header"
      ],
      "metadata": {
        "colab": {
          "base_uri": "https://localhost:8080/",
          "height": 53
        },
        "id": "8lz9lVX4EmeH",
        "outputId": "71df9bae-bab3-422f-cf99-a5ef7a42b886"
      },
      "execution_count": null,
      "outputs": [
        {
          "output_type": "execute_result",
          "data": {
            "text/plain": [
              "'Item_Identifier,Item_Weight,Item_Fat_Content,Item_Visibility,Item_Type,Item_MRP,Outlet_Identifier,Outlet_Establishment_Year,Outlet_Size,Outlet_Location_Type,Outlet_Type,Item_Outlet_Sales'"
            ],
            "application/vnd.google.colaboratory.intrinsic+json": {
              "type": "string"
            }
          },
          "metadata": {},
          "execution_count": 8
        }
      ]
    },
    {
      "cell_type": "code",
      "source": [
        "newdata = data.filter(lambda x: x!=header)\n",
        "newdata.take(5)"
      ],
      "metadata": {
        "colab": {
          "base_uri": "https://localhost:8080/"
        },
        "id": "kwkqfCkREzcr",
        "outputId": "002b2de7-59d1-4bad-bb06-46987f1dec5e"
      },
      "execution_count": null,
      "outputs": [
        {
          "output_type": "execute_result",
          "data": {
            "text/plain": [
              "['FDA15,9.3,Low Fat,0.016047301,Dairy,249.8092,OUT049,1999,Medium,Tier 1,Supermarket Type1,4235.475',\n",
              " 'DRC01,5.92,Regular,0.019278216,Soft Drinks,48.2692,OUT018,2009,Medium,Tier 3,Supermarket Type2,604.4969',\n",
              " 'FDN15,17.5,Low Fat,0.016760075,Meat,141.618,OUT049,1999,Medium,Tier 1,Supermarket Type1,2358.5261',\n",
              " 'FDX07,19.2,Regular,0.0,Fruits and Vegetables,182.095,OUT010,1998,Medium,Tier 3,Grocery Store,811.6203',\n",
              " 'NCD19,8.93,Low Fat,0.0,Household,53.8614,OUT013,1987,High,Tier 3,Supermarket Type1,736.0226']"
            ]
          },
          "metadata": {},
          "execution_count": 9
        }
      ]
    },
    {
      "cell_type": "markdown",
      "source": [
        "# First Function\n",
        "\n",
        "\n"
      ],
      "metadata": {
        "id": "SrueCcaYpdwt"
      }
    },
    {
      "cell_type": "markdown",
      "source": [
        "### Total Item_Outlet_Sales of given Outlet_Type having given item_fat as per item_type"
      ],
      "metadata": {
        "id": "n2ZGHVp1vwYD"
      }
    },
    {
      "cell_type": "code",
      "source": [
        "import pandas as pd\n",
        "class function1:\n",
        "  def __init__(self, marttype, fat):\n",
        "    self.marttype = marttype\n",
        "    self.fat = fat\n",
        "\n",
        "  def filters(self, x):\n",
        "    a = x.split(\",\")[10]\n",
        "    b = x.split(\",\")[2]\n",
        "    if a == self.marttype and b == self.fat:\n",
        "      return (x.split(\",\")[4], x.split(\",\")[11])\n",
        "  \n",
        "  def sale(self, x, y):\n",
        "    return float(x) + float(y)\n",
        "  \n",
        "  def sort(self, x):\n",
        "    a = float(x[1])\n",
        "    return a\n",
        "\n",
        "  def table(self,foodrdd):\n",
        "    dic = {}\n",
        "    food_name = []\n",
        "    total_sale = []\n",
        "    for i in foodrdd.collect():\n",
        "      food_name.append(i[0])\n",
        "      total_sale.append(i[1])\n",
        "    dic[\"Food_name\"] = food_name\n",
        "    dic[\"Total_sale\"] = total_sale\n",
        "    return pd.DataFrame(dic)\n",
        "\n",
        "if __name__ == \"__main__\":\n",
        "  marttype = input(\"1. Outlet Type :- \\n 1.Supermarket Type1\\n 2.Supermarket Type2\\n 3.Supermarket Type3\\n 4.Grocery Store\\nEnter Outlet Type: \")\n",
        "  fat = input(\"2. Item Fat:- \\n 1.Low Fat\\n 2.Regular\\nEnter Item Fat Content: \")\n",
        "  fun1 = function1(marttype, fat)\n",
        "  newrdd = newdata.filter(fun1.filters).map(fun1.filters).reduceByKey(fun1.sale).sortBy(fun1.sort)\n",
        "  result1 = fun1.table(newrdd)"
      ],
      "metadata": {
        "colab": {
          "base_uri": "https://localhost:8080/"
        },
        "id": "bs6WwmkYpUXP",
        "outputId": "bc2dd59f-9df5-44cb-e592-3b10e261af79"
      },
      "execution_count": null,
      "outputs": [
        {
          "name": "stdout",
          "output_type": "stream",
          "text": [
            "1. Outlet Type :- \n",
            " 1.Supermarket Type1\n",
            " 2.Supermarket Type2\n",
            " 3.Supermarket Type3\n",
            " 4.Grocery Store\n",
            "Enter Outlet Type: Supermarket Type1\n",
            "2. Item Fat:- \n",
            " 1.Low Fat\n",
            " 2.Regular\n",
            "Enter Item Fat Content: Low Fat\n"
          ]
        }
      ]
    },
    {
      "cell_type": "code",
      "source": [
        "result1"
      ],
      "metadata": {
        "colab": {
          "base_uri": "https://localhost:8080/",
          "height": 551
        },
        "id": "dJ8XAPbRnHsR",
        "outputId": "d108a655-8aa4-46ec-8247-79abd6a30d87"
      },
      "execution_count": null,
      "outputs": [
        {
          "output_type": "execute_result",
          "data": {
            "text/plain": [
              "                Food_name    Total_sale\n",
              "0                 Seafood  4.248980e+04\n",
              "1               Breakfast  6.637590e+04\n",
              "2           Starchy Foods  1.441969e+05\n",
              "3                    Meat  1.863575e+05\n",
              "4                  Breads  1.926356e+05\n",
              "5                  Others  2.194258e+05\n",
              "6             Hard Drinks  3.033961e+05\n",
              "7            Baking Goods  3.767422e+05\n",
              "8                  Canned  4.824855e+05\n",
              "9             Soft Drinks  5.065147e+05\n",
              "10                  Dairy  6.081809e+05\n",
              "11           Frozen Foods  6.167147e+05\n",
              "12     Health and Hygiene  6.755549e+05\n",
              "13  Fruits and Vegetables  8.557449e+05\n",
              "14            Snack Foods  1.067197e+06\n",
              "15              Household  1.320444e+06"
            ],
            "text/html": [
              "\n",
              "  <div id=\"df-c0a2d59e-b669-41be-82cd-2b6103f815a3\">\n",
              "    <div class=\"colab-df-container\">\n",
              "      <div>\n",
              "<style scoped>\n",
              "    .dataframe tbody tr th:only-of-type {\n",
              "        vertical-align: middle;\n",
              "    }\n",
              "\n",
              "    .dataframe tbody tr th {\n",
              "        vertical-align: top;\n",
              "    }\n",
              "\n",
              "    .dataframe thead th {\n",
              "        text-align: right;\n",
              "    }\n",
              "</style>\n",
              "<table border=\"1\" class=\"dataframe\">\n",
              "  <thead>\n",
              "    <tr style=\"text-align: right;\">\n",
              "      <th></th>\n",
              "      <th>Food_name</th>\n",
              "      <th>Total_sale</th>\n",
              "    </tr>\n",
              "  </thead>\n",
              "  <tbody>\n",
              "    <tr>\n",
              "      <th>0</th>\n",
              "      <td>Seafood</td>\n",
              "      <td>4.248980e+04</td>\n",
              "    </tr>\n",
              "    <tr>\n",
              "      <th>1</th>\n",
              "      <td>Breakfast</td>\n",
              "      <td>6.637590e+04</td>\n",
              "    </tr>\n",
              "    <tr>\n",
              "      <th>2</th>\n",
              "      <td>Starchy Foods</td>\n",
              "      <td>1.441969e+05</td>\n",
              "    </tr>\n",
              "    <tr>\n",
              "      <th>3</th>\n",
              "      <td>Meat</td>\n",
              "      <td>1.863575e+05</td>\n",
              "    </tr>\n",
              "    <tr>\n",
              "      <th>4</th>\n",
              "      <td>Breads</td>\n",
              "      <td>1.926356e+05</td>\n",
              "    </tr>\n",
              "    <tr>\n",
              "      <th>5</th>\n",
              "      <td>Others</td>\n",
              "      <td>2.194258e+05</td>\n",
              "    </tr>\n",
              "    <tr>\n",
              "      <th>6</th>\n",
              "      <td>Hard Drinks</td>\n",
              "      <td>3.033961e+05</td>\n",
              "    </tr>\n",
              "    <tr>\n",
              "      <th>7</th>\n",
              "      <td>Baking Goods</td>\n",
              "      <td>3.767422e+05</td>\n",
              "    </tr>\n",
              "    <tr>\n",
              "      <th>8</th>\n",
              "      <td>Canned</td>\n",
              "      <td>4.824855e+05</td>\n",
              "    </tr>\n",
              "    <tr>\n",
              "      <th>9</th>\n",
              "      <td>Soft Drinks</td>\n",
              "      <td>5.065147e+05</td>\n",
              "    </tr>\n",
              "    <tr>\n",
              "      <th>10</th>\n",
              "      <td>Dairy</td>\n",
              "      <td>6.081809e+05</td>\n",
              "    </tr>\n",
              "    <tr>\n",
              "      <th>11</th>\n",
              "      <td>Frozen Foods</td>\n",
              "      <td>6.167147e+05</td>\n",
              "    </tr>\n",
              "    <tr>\n",
              "      <th>12</th>\n",
              "      <td>Health and Hygiene</td>\n",
              "      <td>6.755549e+05</td>\n",
              "    </tr>\n",
              "    <tr>\n",
              "      <th>13</th>\n",
              "      <td>Fruits and Vegetables</td>\n",
              "      <td>8.557449e+05</td>\n",
              "    </tr>\n",
              "    <tr>\n",
              "      <th>14</th>\n",
              "      <td>Snack Foods</td>\n",
              "      <td>1.067197e+06</td>\n",
              "    </tr>\n",
              "    <tr>\n",
              "      <th>15</th>\n",
              "      <td>Household</td>\n",
              "      <td>1.320444e+06</td>\n",
              "    </tr>\n",
              "  </tbody>\n",
              "</table>\n",
              "</div>\n",
              "      <button class=\"colab-df-convert\" onclick=\"convertToInteractive('df-c0a2d59e-b669-41be-82cd-2b6103f815a3')\"\n",
              "              title=\"Convert this dataframe to an interactive table.\"\n",
              "              style=\"display:none;\">\n",
              "        \n",
              "  <svg xmlns=\"http://www.w3.org/2000/svg\" height=\"24px\"viewBox=\"0 0 24 24\"\n",
              "       width=\"24px\">\n",
              "    <path d=\"M0 0h24v24H0V0z\" fill=\"none\"/>\n",
              "    <path d=\"M18.56 5.44l.94 2.06.94-2.06 2.06-.94-2.06-.94-.94-2.06-.94 2.06-2.06.94zm-11 1L8.5 8.5l.94-2.06 2.06-.94-2.06-.94L8.5 2.5l-.94 2.06-2.06.94zm10 10l.94 2.06.94-2.06 2.06-.94-2.06-.94-.94-2.06-.94 2.06-2.06.94z\"/><path d=\"M17.41 7.96l-1.37-1.37c-.4-.4-.92-.59-1.43-.59-.52 0-1.04.2-1.43.59L10.3 9.45l-7.72 7.72c-.78.78-.78 2.05 0 2.83L4 21.41c.39.39.9.59 1.41.59.51 0 1.02-.2 1.41-.59l7.78-7.78 2.81-2.81c.8-.78.8-2.07 0-2.86zM5.41 20L4 18.59l7.72-7.72 1.47 1.35L5.41 20z\"/>\n",
              "  </svg>\n",
              "      </button>\n",
              "      \n",
              "  <style>\n",
              "    .colab-df-container {\n",
              "      display:flex;\n",
              "      flex-wrap:wrap;\n",
              "      gap: 12px;\n",
              "    }\n",
              "\n",
              "    .colab-df-convert {\n",
              "      background-color: #E8F0FE;\n",
              "      border: none;\n",
              "      border-radius: 50%;\n",
              "      cursor: pointer;\n",
              "      display: none;\n",
              "      fill: #1967D2;\n",
              "      height: 32px;\n",
              "      padding: 0 0 0 0;\n",
              "      width: 32px;\n",
              "    }\n",
              "\n",
              "    .colab-df-convert:hover {\n",
              "      background-color: #E2EBFA;\n",
              "      box-shadow: 0px 1px 2px rgba(60, 64, 67, 0.3), 0px 1px 3px 1px rgba(60, 64, 67, 0.15);\n",
              "      fill: #174EA6;\n",
              "    }\n",
              "\n",
              "    [theme=dark] .colab-df-convert {\n",
              "      background-color: #3B4455;\n",
              "      fill: #D2E3FC;\n",
              "    }\n",
              "\n",
              "    [theme=dark] .colab-df-convert:hover {\n",
              "      background-color: #434B5C;\n",
              "      box-shadow: 0px 1px 3px 1px rgba(0, 0, 0, 0.15);\n",
              "      filter: drop-shadow(0px 1px 2px rgba(0, 0, 0, 0.3));\n",
              "      fill: #FFFFFF;\n",
              "    }\n",
              "  </style>\n",
              "\n",
              "      <script>\n",
              "        const buttonEl =\n",
              "          document.querySelector('#df-c0a2d59e-b669-41be-82cd-2b6103f815a3 button.colab-df-convert');\n",
              "        buttonEl.style.display =\n",
              "          google.colab.kernel.accessAllowed ? 'block' : 'none';\n",
              "\n",
              "        async function convertToInteractive(key) {\n",
              "          const element = document.querySelector('#df-c0a2d59e-b669-41be-82cd-2b6103f815a3');\n",
              "          const dataTable =\n",
              "            await google.colab.kernel.invokeFunction('convertToInteractive',\n",
              "                                                     [key], {});\n",
              "          if (!dataTable) return;\n",
              "\n",
              "          const docLinkHtml = 'Like what you see? Visit the ' +\n",
              "            '<a target=\"_blank\" href=https://colab.research.google.com/notebooks/data_table.ipynb>data table notebook</a>'\n",
              "            + ' to learn more about interactive tables.';\n",
              "          element.innerHTML = '';\n",
              "          dataTable['output_type'] = 'display_data';\n",
              "          await google.colab.output.renderOutput(dataTable, element);\n",
              "          const docLink = document.createElement('div');\n",
              "          docLink.innerHTML = docLinkHtml;\n",
              "          element.appendChild(docLink);\n",
              "        }\n",
              "      </script>\n",
              "    </div>\n",
              "  </div>\n",
              "  "
            ]
          },
          "metadata": {},
          "execution_count": 68
        }
      ]
    },
    {
      "cell_type": "markdown",
      "source": [
        "# Second Function"
      ],
      "metadata": {
        "id": "LdoeOxhXprRF"
      }
    },
    {
      "cell_type": "markdown",
      "source": [
        "### Total Sales of give Outlet_Location of given Outlet_Size"
      ],
      "metadata": {
        "id": "W0HtXH7xQ1HS"
      }
    },
    {
      "cell_type": "code",
      "source": [
        "class function2:\n",
        "  def __init__(self, location, size):\n",
        "    self.location = location\n",
        "    self.size = size\n",
        "  \n",
        "  def myfilter(self,x):\n",
        "    a = x.split(\",\")[9]\n",
        "    b = x.split(\",\")[8]\n",
        "    if a == self.location and self.size:\n",
        "      return x.split(\",\")[11]\n",
        "  \n",
        "  def total(self,x,y):\n",
        "    return float(x) + float(y)\n",
        "\n",
        "if __name__ == \"__main__\":\n",
        "  location = input(\"1. Outlet Location:- \\n 1.Tier 1\\n 2.Tier 2\\n 3.Tier 3\\nEnter Outlet Location: \")\n",
        "  size = input(\"2. Outlet Size:- \\n 1.Medium\\n 2.Small\\n 3.High\\nEnter Outlet Size: \")\n",
        "  fun2 = function2(location, size)\n",
        "  newrdd2 = newdata.filter(fun2.myfilter).map(fun2.myfilter).reduce(fun2.total)\n",
        "  print(\"Total Sales Of Outlet_Location '{}' of Outlet_Size '{}' is {}\".format(location, size, newrdd2))\n"
      ],
      "metadata": {
        "colab": {
          "base_uri": "https://localhost:8080/"
        },
        "id": "xGaU_Uei6FPe",
        "outputId": "f9007248-8510-414c-be3c-9921200387f3"
      },
      "execution_count": null,
      "outputs": [
        {
          "output_type": "stream",
          "name": "stdout",
          "text": [
            "1. Outlet Location:- \n",
            " 1.Tier 1\n",
            " 2.Tier 2\n",
            " 3.Tier 3\n",
            "Enter Outlet Location: Tier 2\n",
            "2. Outlet Size:- \n",
            " 1.Medium\n",
            " 2.Small\n",
            " 3.High\n",
            "Enter Outlet Size: High\n",
            "Total Sales Of Outlet_Location 'Tier 2' of Outlet_Size 'High' is 6469329.444733999\n"
          ]
        }
      ]
    },
    {
      "cell_type": "markdown",
      "source": [
        "# Third Function"
      ],
      "metadata": {
        "id": "GJLDDNtKQQJ9"
      }
    },
    {
      "cell_type": "markdown",
      "source": [
        "### According to item fat and sales greater then 4000 filter all item type, item price, item weight"
      ],
      "metadata": {
        "id": "3h3xqsAZckEX"
      }
    },
    {
      "cell_type": "code",
      "source": [
        "import pandas as pd\n",
        "class function3:\n",
        "  def __init__(self, fat):\n",
        "    self.fat = fat\n",
        "  \n",
        "  def myfilter(self,x):\n",
        "    a = x.split(\",\")\n",
        "    b = x.split(\",\")\n",
        "    if a[2] == self.fat and float(b[11]) >= 4000:\n",
        "      return [x.split(\",\")[4], x.split(\",\")[5], x.split(\",\")[1]]\n",
        "    \n",
        "  def sort(self,x):\n",
        "    a = float(x[1])\n",
        "    return a\n",
        "  \n",
        "  def table(self, data):\n",
        "    dic = {}\n",
        "    food = []\n",
        "    price = []\n",
        "    weight = []\n",
        "    for i in data.collect():\n",
        "      food.append(i[0])\n",
        "      price.append(i[1])\n",
        "      weight.append(i[2])\n",
        "    dic[\"Food_Name\"] = food\n",
        "    dic[\"Price\"] = price\n",
        "    dic[\"Weight\"] = weight\n",
        "    return pd.DataFrame(dic)\n",
        "\n",
        "if __name__ == \"__main__\":\n",
        "  fat = input(\"2. Item Fat:- \\n 1.Low Fat\\n 2.Regular\\nEnter Item Fat Content: \")\n",
        "  fun3 = function3(fat)\n",
        "  newrdd3 = newdata.filter(fun3.myfilter).map(fun3.myfilter).sortBy(fun3.sort)\n",
        "  result3 = fun3.table(newrdd3)"
      ],
      "metadata": {
        "colab": {
          "base_uri": "https://localhost:8080/"
        },
        "id": "C6TrqWJBWF1D",
        "outputId": "9779c38f-66ed-4399-9bcb-27ae651987f2"
      },
      "execution_count": null,
      "outputs": [
        {
          "name": "stdout",
          "output_type": "stream",
          "text": [
            "2. Item Fat:- \n",
            " 1.Low Fat\n",
            " 2.Regular\n",
            "Enter Item Fat Content: Low Fat\n"
          ]
        }
      ]
    },
    {
      "cell_type": "code",
      "source": [
        "result3"
      ],
      "metadata": {
        "colab": {
          "base_uri": "https://localhost:8080/",
          "height": 424
        },
        "id": "c3fU6rKXcPsI",
        "outputId": "4a82abd2-ca64-4872-bfb6-6c60af2c5f94"
      },
      "execution_count": null,
      "outputs": [
        {
          "output_type": "execute_result",
          "data": {
            "text/plain": [
              "                 Food_Name     Price              Weight\n",
              "0                Household  125.9336  12.857645184135976\n",
              "1             Baking Goods  127.5362                 9.1\n",
              "2       Health and Hygiene  139.9154  12.857645184135976\n",
              "3    Fruits and Vegetables  140.6154  12.857645184135976\n",
              "4              Snack Foods  140.9154               18.25\n",
              "..                     ...       ...                 ...\n",
              "570                 Canned  265.2226                10.0\n",
              "571                  Dairy  265.2568              10.895\n",
              "572                 Canned  266.1884               6.465\n",
              "573     Health and Hygiene  266.5884                 9.0\n",
              "574     Health and Hygiene  266.6884                 9.0\n",
              "\n",
              "[575 rows x 3 columns]"
            ],
            "text/html": [
              "\n",
              "  <div id=\"df-00711091-d5d2-4a8c-93a2-c0aebc5d0d3f\">\n",
              "    <div class=\"colab-df-container\">\n",
              "      <div>\n",
              "<style scoped>\n",
              "    .dataframe tbody tr th:only-of-type {\n",
              "        vertical-align: middle;\n",
              "    }\n",
              "\n",
              "    .dataframe tbody tr th {\n",
              "        vertical-align: top;\n",
              "    }\n",
              "\n",
              "    .dataframe thead th {\n",
              "        text-align: right;\n",
              "    }\n",
              "</style>\n",
              "<table border=\"1\" class=\"dataframe\">\n",
              "  <thead>\n",
              "    <tr style=\"text-align: right;\">\n",
              "      <th></th>\n",
              "      <th>Food_Name</th>\n",
              "      <th>Price</th>\n",
              "      <th>Weight</th>\n",
              "    </tr>\n",
              "  </thead>\n",
              "  <tbody>\n",
              "    <tr>\n",
              "      <th>0</th>\n",
              "      <td>Household</td>\n",
              "      <td>125.9336</td>\n",
              "      <td>12.857645184135976</td>\n",
              "    </tr>\n",
              "    <tr>\n",
              "      <th>1</th>\n",
              "      <td>Baking Goods</td>\n",
              "      <td>127.5362</td>\n",
              "      <td>9.1</td>\n",
              "    </tr>\n",
              "    <tr>\n",
              "      <th>2</th>\n",
              "      <td>Health and Hygiene</td>\n",
              "      <td>139.9154</td>\n",
              "      <td>12.857645184135976</td>\n",
              "    </tr>\n",
              "    <tr>\n",
              "      <th>3</th>\n",
              "      <td>Fruits and Vegetables</td>\n",
              "      <td>140.6154</td>\n",
              "      <td>12.857645184135976</td>\n",
              "    </tr>\n",
              "    <tr>\n",
              "      <th>4</th>\n",
              "      <td>Snack Foods</td>\n",
              "      <td>140.9154</td>\n",
              "      <td>18.25</td>\n",
              "    </tr>\n",
              "    <tr>\n",
              "      <th>...</th>\n",
              "      <td>...</td>\n",
              "      <td>...</td>\n",
              "      <td>...</td>\n",
              "    </tr>\n",
              "    <tr>\n",
              "      <th>570</th>\n",
              "      <td>Canned</td>\n",
              "      <td>265.2226</td>\n",
              "      <td>10.0</td>\n",
              "    </tr>\n",
              "    <tr>\n",
              "      <th>571</th>\n",
              "      <td>Dairy</td>\n",
              "      <td>265.2568</td>\n",
              "      <td>10.895</td>\n",
              "    </tr>\n",
              "    <tr>\n",
              "      <th>572</th>\n",
              "      <td>Canned</td>\n",
              "      <td>266.1884</td>\n",
              "      <td>6.465</td>\n",
              "    </tr>\n",
              "    <tr>\n",
              "      <th>573</th>\n",
              "      <td>Health and Hygiene</td>\n",
              "      <td>266.5884</td>\n",
              "      <td>9.0</td>\n",
              "    </tr>\n",
              "    <tr>\n",
              "      <th>574</th>\n",
              "      <td>Health and Hygiene</td>\n",
              "      <td>266.6884</td>\n",
              "      <td>9.0</td>\n",
              "    </tr>\n",
              "  </tbody>\n",
              "</table>\n",
              "<p>575 rows × 3 columns</p>\n",
              "</div>\n",
              "      <button class=\"colab-df-convert\" onclick=\"convertToInteractive('df-00711091-d5d2-4a8c-93a2-c0aebc5d0d3f')\"\n",
              "              title=\"Convert this dataframe to an interactive table.\"\n",
              "              style=\"display:none;\">\n",
              "        \n",
              "  <svg xmlns=\"http://www.w3.org/2000/svg\" height=\"24px\"viewBox=\"0 0 24 24\"\n",
              "       width=\"24px\">\n",
              "    <path d=\"M0 0h24v24H0V0z\" fill=\"none\"/>\n",
              "    <path d=\"M18.56 5.44l.94 2.06.94-2.06 2.06-.94-2.06-.94-.94-2.06-.94 2.06-2.06.94zm-11 1L8.5 8.5l.94-2.06 2.06-.94-2.06-.94L8.5 2.5l-.94 2.06-2.06.94zm10 10l.94 2.06.94-2.06 2.06-.94-2.06-.94-.94-2.06-.94 2.06-2.06.94z\"/><path d=\"M17.41 7.96l-1.37-1.37c-.4-.4-.92-.59-1.43-.59-.52 0-1.04.2-1.43.59L10.3 9.45l-7.72 7.72c-.78.78-.78 2.05 0 2.83L4 21.41c.39.39.9.59 1.41.59.51 0 1.02-.2 1.41-.59l7.78-7.78 2.81-2.81c.8-.78.8-2.07 0-2.86zM5.41 20L4 18.59l7.72-7.72 1.47 1.35L5.41 20z\"/>\n",
              "  </svg>\n",
              "      </button>\n",
              "      \n",
              "  <style>\n",
              "    .colab-df-container {\n",
              "      display:flex;\n",
              "      flex-wrap:wrap;\n",
              "      gap: 12px;\n",
              "    }\n",
              "\n",
              "    .colab-df-convert {\n",
              "      background-color: #E8F0FE;\n",
              "      border: none;\n",
              "      border-radius: 50%;\n",
              "      cursor: pointer;\n",
              "      display: none;\n",
              "      fill: #1967D2;\n",
              "      height: 32px;\n",
              "      padding: 0 0 0 0;\n",
              "      width: 32px;\n",
              "    }\n",
              "\n",
              "    .colab-df-convert:hover {\n",
              "      background-color: #E2EBFA;\n",
              "      box-shadow: 0px 1px 2px rgba(60, 64, 67, 0.3), 0px 1px 3px 1px rgba(60, 64, 67, 0.15);\n",
              "      fill: #174EA6;\n",
              "    }\n",
              "\n",
              "    [theme=dark] .colab-df-convert {\n",
              "      background-color: #3B4455;\n",
              "      fill: #D2E3FC;\n",
              "    }\n",
              "\n",
              "    [theme=dark] .colab-df-convert:hover {\n",
              "      background-color: #434B5C;\n",
              "      box-shadow: 0px 1px 3px 1px rgba(0, 0, 0, 0.15);\n",
              "      filter: drop-shadow(0px 1px 2px rgba(0, 0, 0, 0.3));\n",
              "      fill: #FFFFFF;\n",
              "    }\n",
              "  </style>\n",
              "\n",
              "      <script>\n",
              "        const buttonEl =\n",
              "          document.querySelector('#df-00711091-d5d2-4a8c-93a2-c0aebc5d0d3f button.colab-df-convert');\n",
              "        buttonEl.style.display =\n",
              "          google.colab.kernel.accessAllowed ? 'block' : 'none';\n",
              "\n",
              "        async function convertToInteractive(key) {\n",
              "          const element = document.querySelector('#df-00711091-d5d2-4a8c-93a2-c0aebc5d0d3f');\n",
              "          const dataTable =\n",
              "            await google.colab.kernel.invokeFunction('convertToInteractive',\n",
              "                                                     [key], {});\n",
              "          if (!dataTable) return;\n",
              "\n",
              "          const docLinkHtml = 'Like what you see? Visit the ' +\n",
              "            '<a target=\"_blank\" href=https://colab.research.google.com/notebooks/data_table.ipynb>data table notebook</a>'\n",
              "            + ' to learn more about interactive tables.';\n",
              "          element.innerHTML = '';\n",
              "          dataTable['output_type'] = 'display_data';\n",
              "          await google.colab.output.renderOutput(dataTable, element);\n",
              "          const docLink = document.createElement('div');\n",
              "          docLink.innerHTML = docLinkHtml;\n",
              "          element.appendChild(docLink);\n",
              "        }\n",
              "      </script>\n",
              "    </div>\n",
              "  </div>\n",
              "  "
            ]
          },
          "metadata": {},
          "execution_count": 78
        }
      ]
    },
    {
      "cell_type": "markdown",
      "source": [
        "# Fourth Function"
      ],
      "metadata": {
        "id": "U0JwQjuXfVYC"
      }
    },
    {
      "cell_type": "markdown",
      "source": [
        "### Year wise Total Sales"
      ],
      "metadata": {
        "id": "Tu94zXE-5kui"
      }
    },
    {
      "cell_type": "code",
      "source": [
        "import pandas as pd\n",
        "class function4:\n",
        "  def mymap(x):\n",
        "    return (x.split(\",\")[7], x.split(\",\")[11])\n",
        "\n",
        "  def myreduce(x,y):\n",
        "    a = float(x) + float(y)\n",
        "    return a\n",
        "  \n",
        "  def sort(x):\n",
        "    a = x[1]\n",
        "    return a\n",
        "\n",
        "  def table(data):\n",
        "    dic = {}\n",
        "    year = []\n",
        "    sales = []\n",
        "    for i in data.collect():\n",
        "      year.append(i[0])\n",
        "      sales.append(i[1])\n",
        "    dic[\"Year\"] = year\n",
        "    dic[\"Total_Sales\"] = sales\n",
        "    return pd.DataFrame(dic)\n",
        "\n",
        "fun4 = function4\n",
        "newrdd4 = newdata.map(fun4.mymap).reduceByKey(fun4.myreduce).sortBy(fun4.sort)\n",
        "result4 = fun4.table(newrdd4)\n"
      ],
      "metadata": {
        "id": "mzjywvJxvOe9"
      },
      "execution_count": null,
      "outputs": []
    },
    {
      "cell_type": "code",
      "source": [
        "result4"
      ],
      "metadata": {
        "colab": {
          "base_uri": "https://localhost:8080/",
          "height": 332
        },
        "id": "rGTL38BcxVlx",
        "outputId": "0641c45c-a5a3-431c-e016-34532f3d95ef"
      },
      "execution_count": null,
      "outputs": [
        {
          "output_type": "execute_result",
          "data": {
            "text/plain": [
              "   Year   Total_Sales\n",
              "0  1998  1.909775e+05\n",
              "1  2009  1.855210e+06\n",
              "2  2002  2.040726e+06\n",
              "3  1997  2.118801e+06\n",
              "4  1987  2.140092e+06\n",
              "5  2007  2.165617e+06\n",
              "6  1999  2.182020e+06\n",
              "7  2004  2.262986e+06\n",
              "8  1985  3.634365e+06"
            ],
            "text/html": [
              "\n",
              "  <div id=\"df-06f9b170-4049-49c2-8f65-8b4e03163e6e\">\n",
              "    <div class=\"colab-df-container\">\n",
              "      <div>\n",
              "<style scoped>\n",
              "    .dataframe tbody tr th:only-of-type {\n",
              "        vertical-align: middle;\n",
              "    }\n",
              "\n",
              "    .dataframe tbody tr th {\n",
              "        vertical-align: top;\n",
              "    }\n",
              "\n",
              "    .dataframe thead th {\n",
              "        text-align: right;\n",
              "    }\n",
              "</style>\n",
              "<table border=\"1\" class=\"dataframe\">\n",
              "  <thead>\n",
              "    <tr style=\"text-align: right;\">\n",
              "      <th></th>\n",
              "      <th>Year</th>\n",
              "      <th>Total_Sales</th>\n",
              "    </tr>\n",
              "  </thead>\n",
              "  <tbody>\n",
              "    <tr>\n",
              "      <th>0</th>\n",
              "      <td>1998</td>\n",
              "      <td>1.909775e+05</td>\n",
              "    </tr>\n",
              "    <tr>\n",
              "      <th>1</th>\n",
              "      <td>2009</td>\n",
              "      <td>1.855210e+06</td>\n",
              "    </tr>\n",
              "    <tr>\n",
              "      <th>2</th>\n",
              "      <td>2002</td>\n",
              "      <td>2.040726e+06</td>\n",
              "    </tr>\n",
              "    <tr>\n",
              "      <th>3</th>\n",
              "      <td>1997</td>\n",
              "      <td>2.118801e+06</td>\n",
              "    </tr>\n",
              "    <tr>\n",
              "      <th>4</th>\n",
              "      <td>1987</td>\n",
              "      <td>2.140092e+06</td>\n",
              "    </tr>\n",
              "    <tr>\n",
              "      <th>5</th>\n",
              "      <td>2007</td>\n",
              "      <td>2.165617e+06</td>\n",
              "    </tr>\n",
              "    <tr>\n",
              "      <th>6</th>\n",
              "      <td>1999</td>\n",
              "      <td>2.182020e+06</td>\n",
              "    </tr>\n",
              "    <tr>\n",
              "      <th>7</th>\n",
              "      <td>2004</td>\n",
              "      <td>2.262986e+06</td>\n",
              "    </tr>\n",
              "    <tr>\n",
              "      <th>8</th>\n",
              "      <td>1985</td>\n",
              "      <td>3.634365e+06</td>\n",
              "    </tr>\n",
              "  </tbody>\n",
              "</table>\n",
              "</div>\n",
              "      <button class=\"colab-df-convert\" onclick=\"convertToInteractive('df-06f9b170-4049-49c2-8f65-8b4e03163e6e')\"\n",
              "              title=\"Convert this dataframe to an interactive table.\"\n",
              "              style=\"display:none;\">\n",
              "        \n",
              "  <svg xmlns=\"http://www.w3.org/2000/svg\" height=\"24px\"viewBox=\"0 0 24 24\"\n",
              "       width=\"24px\">\n",
              "    <path d=\"M0 0h24v24H0V0z\" fill=\"none\"/>\n",
              "    <path d=\"M18.56 5.44l.94 2.06.94-2.06 2.06-.94-2.06-.94-.94-2.06-.94 2.06-2.06.94zm-11 1L8.5 8.5l.94-2.06 2.06-.94-2.06-.94L8.5 2.5l-.94 2.06-2.06.94zm10 10l.94 2.06.94-2.06 2.06-.94-2.06-.94-.94-2.06-.94 2.06-2.06.94z\"/><path d=\"M17.41 7.96l-1.37-1.37c-.4-.4-.92-.59-1.43-.59-.52 0-1.04.2-1.43.59L10.3 9.45l-7.72 7.72c-.78.78-.78 2.05 0 2.83L4 21.41c.39.39.9.59 1.41.59.51 0 1.02-.2 1.41-.59l7.78-7.78 2.81-2.81c.8-.78.8-2.07 0-2.86zM5.41 20L4 18.59l7.72-7.72 1.47 1.35L5.41 20z\"/>\n",
              "  </svg>\n",
              "      </button>\n",
              "      \n",
              "  <style>\n",
              "    .colab-df-container {\n",
              "      display:flex;\n",
              "      flex-wrap:wrap;\n",
              "      gap: 12px;\n",
              "    }\n",
              "\n",
              "    .colab-df-convert {\n",
              "      background-color: #E8F0FE;\n",
              "      border: none;\n",
              "      border-radius: 50%;\n",
              "      cursor: pointer;\n",
              "      display: none;\n",
              "      fill: #1967D2;\n",
              "      height: 32px;\n",
              "      padding: 0 0 0 0;\n",
              "      width: 32px;\n",
              "    }\n",
              "\n",
              "    .colab-df-convert:hover {\n",
              "      background-color: #E2EBFA;\n",
              "      box-shadow: 0px 1px 2px rgba(60, 64, 67, 0.3), 0px 1px 3px 1px rgba(60, 64, 67, 0.15);\n",
              "      fill: #174EA6;\n",
              "    }\n",
              "\n",
              "    [theme=dark] .colab-df-convert {\n",
              "      background-color: #3B4455;\n",
              "      fill: #D2E3FC;\n",
              "    }\n",
              "\n",
              "    [theme=dark] .colab-df-convert:hover {\n",
              "      background-color: #434B5C;\n",
              "      box-shadow: 0px 1px 3px 1px rgba(0, 0, 0, 0.15);\n",
              "      filter: drop-shadow(0px 1px 2px rgba(0, 0, 0, 0.3));\n",
              "      fill: #FFFFFF;\n",
              "    }\n",
              "  </style>\n",
              "\n",
              "      <script>\n",
              "        const buttonEl =\n",
              "          document.querySelector('#df-06f9b170-4049-49c2-8f65-8b4e03163e6e button.colab-df-convert');\n",
              "        buttonEl.style.display =\n",
              "          google.colab.kernel.accessAllowed ? 'block' : 'none';\n",
              "\n",
              "        async function convertToInteractive(key) {\n",
              "          const element = document.querySelector('#df-06f9b170-4049-49c2-8f65-8b4e03163e6e');\n",
              "          const dataTable =\n",
              "            await google.colab.kernel.invokeFunction('convertToInteractive',\n",
              "                                                     [key], {});\n",
              "          if (!dataTable) return;\n",
              "\n",
              "          const docLinkHtml = 'Like what you see? Visit the ' +\n",
              "            '<a target=\"_blank\" href=https://colab.research.google.com/notebooks/data_table.ipynb>data table notebook</a>'\n",
              "            + ' to learn more about interactive tables.';\n",
              "          element.innerHTML = '';\n",
              "          dataTable['output_type'] = 'display_data';\n",
              "          await google.colab.output.renderOutput(dataTable, element);\n",
              "          const docLink = document.createElement('div');\n",
              "          docLink.innerHTML = docLinkHtml;\n",
              "          element.appendChild(docLink);\n",
              "        }\n",
              "      </script>\n",
              "    </div>\n",
              "  </div>\n",
              "  "
            ]
          },
          "metadata": {},
          "execution_count": 106
        }
      ]
    },
    {
      "cell_type": "markdown",
      "source": [
        "# Fifth Function"
      ],
      "metadata": {
        "id": "eC5mw6kY6sXi"
      }
    },
    {
      "cell_type": "code",
      "source": [
        ""
      ],
      "metadata": {
        "id": "LESkzevp6sCY"
      },
      "execution_count": null,
      "outputs": []
    }
  ]
}