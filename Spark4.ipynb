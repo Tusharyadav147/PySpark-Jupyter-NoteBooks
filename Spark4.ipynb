{
  "nbformat": 4,
  "nbformat_minor": 0,
  "metadata": {
    "colab": {
      "name": "Spark4.ipynb",
      "provenance": [],
      "collapsed_sections": []
    },
    "kernelspec": {
      "name": "python3",
      "display_name": "Python 3"
    },
    "language_info": {
      "name": "python"
    }
  },
  "cells": [
    {
      "cell_type": "code",
      "execution_count": 1,
      "metadata": {
        "colab": {
          "base_uri": "https://localhost:8080/"
        },
        "id": "wgWeyPLq7cAB",
        "outputId": "73c049a6-b9d6-4389-a770-f9da2299f876"
      },
      "outputs": [
        {
          "output_type": "stream",
          "name": "stdout",
          "text": [
            "Collecting pyspark\n",
            "  Downloading pyspark-3.2.1.tar.gz (281.4 MB)\n",
            "\u001b[K     |████████████████████████████████| 281.4 MB 32 kB/s \n",
            "\u001b[?25hCollecting py4j==0.10.9.3\n",
            "  Downloading py4j-0.10.9.3-py2.py3-none-any.whl (198 kB)\n",
            "\u001b[K     |████████████████████████████████| 198 kB 44.3 MB/s \n",
            "\u001b[?25hBuilding wheels for collected packages: pyspark\n",
            "  Building wheel for pyspark (setup.py) ... \u001b[?25l\u001b[?25hdone\n",
            "  Created wheel for pyspark: filename=pyspark-3.2.1-py2.py3-none-any.whl size=281853642 sha256=e8c3daf217ec9dbce9112460cb88e3da4955206cb2383a001ca12ee664ffc87d\n",
            "  Stored in directory: /root/.cache/pip/wheels/9f/f5/07/7cd8017084dce4e93e84e92efd1e1d5334db05f2e83bcef74f\n",
            "Successfully built pyspark\n",
            "Installing collected packages: py4j, pyspark\n",
            "Successfully installed py4j-0.10.9.3 pyspark-3.2.1\n"
          ]
        }
      ],
      "source": [
        "!pip install pyspark"
      ]
    },
    {
      "cell_type": "code",
      "source": [
        "from pyspark import SparkConf, SparkContext"
      ],
      "metadata": {
        "id": "u1cbxSt_7f_v"
      },
      "execution_count": 2,
      "outputs": []
    },
    {
      "cell_type": "code",
      "source": [
        "if __name__ == \"__main__\":\n",
        "  conf = SparkConf().setAppName(\"Tushar\").setMaster(\"local[3]\")\n",
        "  sc = SparkContext(conf = conf)"
      ],
      "metadata": {
        "id": "D0167A2r7og7"
      },
      "execution_count": 3,
      "outputs": []
    },
    {
      "cell_type": "code",
      "source": [
        "rdd1 = sc.parallelize([10,20,30,40])\n",
        "rdd2 = sc.parallelize([20,40,60,80,100])"
      ],
      "metadata": {
        "id": "eVbo74zq7qwa"
      },
      "execution_count": 4,
      "outputs": []
    },
    {
      "cell_type": "code",
      "source": [
        "unionresult = rdd1.union(rdd2)"
      ],
      "metadata": {
        "id": "h6Kvytd18Lb2"
      },
      "execution_count": 5,
      "outputs": []
    },
    {
      "cell_type": "code",
      "source": [
        "unionresult.collect()"
      ],
      "metadata": {
        "colab": {
          "base_uri": "https://localhost:8080/"
        },
        "id": "67JRj0vw8SUS",
        "outputId": "8561a4d3-0744-4e92-d5b5-f77cc6e50c2a"
      },
      "execution_count": 6,
      "outputs": [
        {
          "output_type": "execute_result",
          "data": {
            "text/plain": [
              "[10, 20, 30, 40, 20, 40, 60, 80, 100]"
            ]
          },
          "metadata": {},
          "execution_count": 6
        }
      ]
    },
    {
      "cell_type": "code",
      "source": [
        "intersectresult = rdd1.intersection(rdd2)"
      ],
      "metadata": {
        "id": "efZT_l_d8Uco"
      },
      "execution_count": 8,
      "outputs": []
    },
    {
      "cell_type": "code",
      "source": [
        "intersectresult.collect()"
      ],
      "metadata": {
        "colab": {
          "base_uri": "https://localhost:8080/"
        },
        "id": "zGKNPj8s8poG",
        "outputId": "93f611f6-2467-441e-bc0d-a0a6d45afc02"
      },
      "execution_count": 9,
      "outputs": [
        {
          "output_type": "execute_result",
          "data": {
            "text/plain": [
              "[20, 40]"
            ]
          },
          "metadata": {},
          "execution_count": 9
        }
      ]
    },
    {
      "cell_type": "code",
      "source": [
        "carresult = rdd1.cartesian(rdd2)"
      ],
      "metadata": {
        "id": "2BZdRC2882aA"
      },
      "execution_count": 10,
      "outputs": []
    },
    {
      "cell_type": "code",
      "source": [
        "carresult.collect()"
      ],
      "metadata": {
        "colab": {
          "base_uri": "https://localhost:8080/"
        },
        "id": "5geXNuYY88UX",
        "outputId": "5a637b51-ea6f-4d20-f04d-28194ecfbff2"
      },
      "execution_count": 11,
      "outputs": [
        {
          "output_type": "execute_result",
          "data": {
            "text/plain": [
              "[(10, 20),\n",
              " (10, 40),\n",
              " (10, 60),\n",
              " (10, 80),\n",
              " (10, 100),\n",
              " (20, 20),\n",
              " (20, 40),\n",
              " (20, 60),\n",
              " (20, 80),\n",
              " (20, 100),\n",
              " (30, 20),\n",
              " (40, 20),\n",
              " (30, 40),\n",
              " (30, 60),\n",
              " (40, 40),\n",
              " (40, 60),\n",
              " (30, 80),\n",
              " (30, 100),\n",
              " (40, 80),\n",
              " (40, 100)]"
            ]
          },
          "metadata": {},
          "execution_count": 11
        }
      ]
    },
    {
      "cell_type": "code",
      "source": [
        "subresult = rdd1.subtract(rdd2)"
      ],
      "metadata": {
        "id": "MYHQrQvV8-Pl"
      },
      "execution_count": 12,
      "outputs": []
    },
    {
      "cell_type": "code",
      "source": [
        "subresult.collect()"
      ],
      "metadata": {
        "colab": {
          "base_uri": "https://localhost:8080/"
        },
        "id": "VRCEevo49kwt",
        "outputId": "6f3bdbd3-dd49-4d98-9f22-1db0e958f7c4"
      },
      "execution_count": 13,
      "outputs": [
        {
          "output_type": "execute_result",
          "data": {
            "text/plain": [
              "[30, 10]"
            ]
          },
          "metadata": {},
          "execution_count": 13
        }
      ]
    },
    {
      "cell_type": "code",
      "source": [
        "sub2 = rdd2.subtract(rdd1)"
      ],
      "metadata": {
        "id": "hh_qHSNm9nSs"
      },
      "execution_count": 14,
      "outputs": []
    },
    {
      "cell_type": "code",
      "source": [
        "sub2.collect()"
      ],
      "metadata": {
        "colab": {
          "base_uri": "https://localhost:8080/"
        },
        "id": "SbKaEkNn9zwE",
        "outputId": "443b63ed-6d17-4e02-92d3-de4d8854c6ed"
      },
      "execution_count": 15,
      "outputs": [
        {
          "output_type": "execute_result",
          "data": {
            "text/plain": [
              "[60, 80, 100]"
            ]
          },
          "metadata": {},
          "execution_count": 15
        }
      ]
    },
    {
      "cell_type": "code",
      "source": [
        "!pip install wget"
      ],
      "metadata": {
        "colab": {
          "base_uri": "https://localhost:8080/"
        },
        "id": "1dl44Zoc92XA",
        "outputId": "3ef6e6f7-ebd9-489e-8326-9e7930b0232b"
      },
      "execution_count": 16,
      "outputs": [
        {
          "output_type": "stream",
          "name": "stdout",
          "text": [
            "Collecting wget\n",
            "  Downloading wget-3.2.zip (10 kB)\n",
            "Building wheels for collected packages: wget\n",
            "  Building wheel for wget (setup.py) ... \u001b[?25l\u001b[?25hdone\n",
            "  Created wheel for wget: filename=wget-3.2-py3-none-any.whl size=9675 sha256=efe49b73997c268c96c44ee9fe98420bbb08f072022ffed30da03ee5ec21ba6e\n",
            "  Stored in directory: /root/.cache/pip/wheels/a1/b6/7c/0e63e34eb06634181c63adacca38b79ff8f35c37e3c13e3c02\n",
            "Successfully built wget\n",
            "Installing collected packages: wget\n",
            "Successfully installed wget-3.2\n"
          ]
        }
      ]
    },
    {
      "cell_type": "code",
      "source": [
        "import wget"
      ],
      "metadata": {
        "id": "47nIF41a-gU_"
      },
      "execution_count": 17,
      "outputs": []
    },
    {
      "cell_type": "code",
      "source": [
        "wget.download(\"https://raw.githubusercontent.com/jleetutorial/python-spark-tutorial/master/in/nasa_19950701.tsv\")"
      ],
      "metadata": {
        "colab": {
          "base_uri": "https://localhost:8080/",
          "height": 35
        },
        "id": "p3QH2mvF-pMv",
        "outputId": "0836869f-ac73-4feb-dc22-d43c971f634a"
      },
      "execution_count": 18,
      "outputs": [
        {
          "output_type": "execute_result",
          "data": {
            "text/plain": [
              "'nasa_19950701.tsv'"
            ],
            "application/vnd.google.colaboratory.intrinsic+json": {
              "type": "string"
            }
          },
          "metadata": {},
          "execution_count": 18
        }
      ]
    },
    {
      "cell_type": "code",
      "source": [
        "wget.download(\"https://raw.githubusercontent.com/jleetutorial/python-spark-tutorial/master/in/nasa_19950801.tsv\")"
      ],
      "metadata": {
        "colab": {
          "base_uri": "https://localhost:8080/",
          "height": 35
        },
        "id": "z8qjWfeE-u90",
        "outputId": "9436cb0c-9e39-4465-8f51-cff08571c383"
      },
      "execution_count": 19,
      "outputs": [
        {
          "output_type": "execute_result",
          "data": {
            "text/plain": [
              "'nasa_19950801.tsv'"
            ],
            "application/vnd.google.colaboratory.intrinsic+json": {
              "type": "string"
            }
          },
          "metadata": {},
          "execution_count": 19
        }
      ]
    },
    {
      "cell_type": "code",
      "source": [
        "firstrdd = sc.textFile(\"nasa_19950701.tsv\")\n",
        "firstrdd.take(4)"
      ],
      "metadata": {
        "colab": {
          "base_uri": "https://localhost:8080/"
        },
        "id": "0f8qlRS6-9a5",
        "outputId": "b7eea9ae-6ad2-4235-d353-d790caf09746"
      },
      "execution_count": 20,
      "outputs": [
        {
          "output_type": "execute_result",
          "data": {
            "text/plain": [
              "['host\\tlogname\\ttime\\tmethod\\turl\\tresponse\\tbytes',\n",
              " '199.72.81.55\\t-\\t804571201\\tGET\\t/history/apollo/\\t200\\t6245\\t\\t',\n",
              " 'unicomp6.unicomp.net\\t-\\t804571206\\tGET\\t/shuttle/countdown/\\t200\\t3985\\t\\t',\n",
              " '199.120.110.21\\t-\\t804571209\\tGET\\t/shuttle/missions/sts-73/mission-sts-73.html\\t200\\t4085\\t\\t']"
            ]
          },
          "metadata": {},
          "execution_count": 20
        }
      ]
    },
    {
      "cell_type": "code",
      "source": [
        "firstrdd.count()"
      ],
      "metadata": {
        "colab": {
          "base_uri": "https://localhost:8080/"
        },
        "id": "9wOQCeVkAGfj",
        "outputId": "0feb86d6-1b4b-441c-95ed-57b21d9cd255"
      },
      "execution_count": 27,
      "outputs": [
        {
          "output_type": "execute_result",
          "data": {
            "text/plain": [
              "10000"
            ]
          },
          "metadata": {},
          "execution_count": 27
        }
      ]
    },
    {
      "cell_type": "code",
      "source": [
        "secondrdd = sc.textFile(\"nasa_19950801.tsv\")\n",
        "secondrdd.take(4)"
      ],
      "metadata": {
        "colab": {
          "base_uri": "https://localhost:8080/"
        },
        "id": "_7um8lvx_ZJp",
        "outputId": "8094b0a1-75e0-4836-b8e7-df128cc7ce2b"
      },
      "execution_count": 23,
      "outputs": [
        {
          "output_type": "execute_result",
          "data": {
            "text/plain": [
              "['host\\tlogname\\ttime\\tmethod\\turl\\tresponse\\tbytes',\n",
              " 'in24.inetnebr.com\\t-\\t807249601\\tGET\\t/shuttle/missions/sts-68/news/sts-68-mcc-05.txt\\t200\\t1839\\t\\t',\n",
              " 'uplherc.upl.com\\t-\\t807249607\\tGET\\t/\\t304\\t0\\t\\t',\n",
              " 'uplherc.upl.com\\t-\\t807249608\\tGET\\t/images/ksclogo-medium.gif\\t304\\t0\\t\\t']"
            ]
          },
          "metadata": {},
          "execution_count": 23
        }
      ]
    },
    {
      "cell_type": "code",
      "source": [
        "secondrdd.count()"
      ],
      "metadata": {
        "colab": {
          "base_uri": "https://localhost:8080/"
        },
        "id": "hcVZ2pl_AEJL",
        "outputId": "7ab0afdf-8fb0-4a89-f0fb-ab53cc7b01f4"
      },
      "execution_count": 26,
      "outputs": [
        {
          "output_type": "execute_result",
          "data": {
            "text/plain": [
              "10000"
            ]
          },
          "metadata": {},
          "execution_count": 26
        }
      ]
    },
    {
      "cell_type": "code",
      "source": [
        "header1 = firstrdd.first()\n",
        "header1"
      ],
      "metadata": {
        "colab": {
          "base_uri": "https://localhost:8080/",
          "height": 35
        },
        "id": "u2XHWu-e_w_V",
        "outputId": "588540e9-551d-458e-dfa1-2e7b39e5f52b"
      },
      "execution_count": 25,
      "outputs": [
        {
          "output_type": "execute_result",
          "data": {
            "text/plain": [
              "'host\\tlogname\\ttime\\tmethod\\turl\\tresponse\\tbytes'"
            ],
            "application/vnd.google.colaboratory.intrinsic+json": {
              "type": "string"
            }
          },
          "metadata": {},
          "execution_count": 25
        }
      ]
    },
    {
      "cell_type": "code",
      "source": [
        "header2 = secondrdd.first()\n",
        "header2"
      ],
      "metadata": {
        "colab": {
          "base_uri": "https://localhost:8080/",
          "height": 35
        },
        "id": "wnqOdcfQAAgf",
        "outputId": "2074a1f9-3e86-4456-aac2-afb5e5a694e4"
      },
      "execution_count": 28,
      "outputs": [
        {
          "output_type": "execute_result",
          "data": {
            "text/plain": [
              "'host\\tlogname\\ttime\\tmethod\\turl\\tresponse\\tbytes'"
            ],
            "application/vnd.google.colaboratory.intrinsic+json": {
              "type": "string"
            }
          },
          "metadata": {},
          "execution_count": 28
        }
      ]
    },
    {
      "cell_type": "code",
      "source": [
        "newrdd1 = firstrdd.filter(lambda x:x!= header1)\n",
        "firsthostrdd = newrdd1.map(lambda x:x.split(\"\\t\")[0])"
      ],
      "metadata": {
        "id": "k0Zg1VrFAQYJ"
      },
      "execution_count": 36,
      "outputs": []
    },
    {
      "cell_type": "code",
      "source": [
        "firsthostrdd.take(5)"
      ],
      "metadata": {
        "colab": {
          "base_uri": "https://localhost:8080/"
        },
        "id": "OcNQO80fAsP7",
        "outputId": "363f868e-d6e8-428a-8181-8906d897f4e8"
      },
      "execution_count": 37,
      "outputs": [
        {
          "output_type": "execute_result",
          "data": {
            "text/plain": [
              "['199.72.81.55',\n",
              " 'unicomp6.unicomp.net',\n",
              " '199.120.110.21',\n",
              " 'burger.letters.com',\n",
              " '199.120.110.21']"
            ]
          },
          "metadata": {},
          "execution_count": 37
        }
      ]
    },
    {
      "cell_type": "code",
      "source": [
        "newrdd2 = secondrdd.filter(lambda x: x!=header2)\n",
        "secondhostrdd = newrdd2.map(lambda x: x.split(\"\\t\")[0])"
      ],
      "metadata": {
        "id": "4DNIzyvPAvos"
      },
      "execution_count": 31,
      "outputs": []
    },
    {
      "cell_type": "code",
      "source": [
        "secondhostrdd.take(5)"
      ],
      "metadata": {
        "colab": {
          "base_uri": "https://localhost:8080/"
        },
        "id": "O5nBzMdGBHlY",
        "outputId": "a15596ea-2a13-4f12-8df2-cc68ce0e6933"
      },
      "execution_count": 33,
      "outputs": [
        {
          "output_type": "execute_result",
          "data": {
            "text/plain": [
              "['in24.inetnebr.com',\n",
              " 'uplherc.upl.com',\n",
              " 'uplherc.upl.com',\n",
              " 'uplherc.upl.com',\n",
              " 'uplherc.upl.com']"
            ]
          },
          "metadata": {},
          "execution_count": 33
        }
      ]
    },
    {
      "cell_type": "code",
      "source": [
        "firsthostrdd.union(secondhostrdd).count()"
      ],
      "metadata": {
        "colab": {
          "base_uri": "https://localhost:8080/"
        },
        "id": "apm_SN_pBNlJ",
        "outputId": "c0af8272-2a24-429d-acb6-98fcf52f16ad"
      },
      "execution_count": 38,
      "outputs": [
        {
          "output_type": "execute_result",
          "data": {
            "text/plain": [
              "19998"
            ]
          },
          "metadata": {},
          "execution_count": 38
        }
      ]
    },
    {
      "cell_type": "code",
      "source": [
        "firsthostrdd.intersection(secondhostrdd).count()"
      ],
      "metadata": {
        "colab": {
          "base_uri": "https://localhost:8080/"
        },
        "id": "nLmJMMF1BhBv",
        "outputId": "62ef9e1d-ac07-41b2-c631-fb17564bd9b1"
      },
      "execution_count": 39,
      "outputs": [
        {
          "output_type": "execute_result",
          "data": {
            "text/plain": [
              "37"
            ]
          },
          "metadata": {},
          "execution_count": 39
        }
      ]
    },
    {
      "cell_type": "code",
      "source": [
        "firsthostrdd.subtract(secondhostrdd).count()"
      ],
      "metadata": {
        "colab": {
          "base_uri": "https://localhost:8080/"
        },
        "id": "DRDnEI52Bvsi",
        "outputId": "874b1959-a425-4b4b-b8d1-5d931dfcd29d"
      },
      "execution_count": 40,
      "outputs": [
        {
          "output_type": "execute_result",
          "data": {
            "text/plain": [
              "9066"
            ]
          },
          "metadata": {},
          "execution_count": 40
        }
      ]
    },
    {
      "cell_type": "code",
      "source": [
        "data = secondhostrdd.subtract(firsthostrdd)"
      ],
      "metadata": {
        "id": "zxZQpkcoB36e"
      },
      "execution_count": 44,
      "outputs": []
    },
    {
      "cell_type": "code",
      "source": [
        "data.coalesce(2).saveAsTextFile(\"result.csv\")"
      ],
      "metadata": {
        "id": "31UDtCSaB9lp"
      },
      "execution_count": 45,
      "outputs": []
    },
    {
      "cell_type": "code",
      "source": [
        ""
      ],
      "metadata": {
        "id": "cZHKy2SSCNHh"
      },
      "execution_count": 45,
      "outputs": []
    }
  ]
}