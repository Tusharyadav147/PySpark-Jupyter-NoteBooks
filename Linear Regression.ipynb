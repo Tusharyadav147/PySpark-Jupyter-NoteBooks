{
  "nbformat": 4,
  "nbformat_minor": 0,
  "metadata": {
    "colab": {
      "name": "Linear Regression.ipynb",
      "provenance": []
    },
    "kernelspec": {
      "name": "python3",
      "display_name": "Python 3"
    },
    "language_info": {
      "name": "python"
    }
  },
  "cells": [
    {
      "cell_type": "code",
      "execution_count": null,
      "metadata": {
        "colab": {
          "base_uri": "https://localhost:8080/"
        },
        "id": "d_n0zcLKa3Ir",
        "outputId": "2641e1a8-fad5-4fac-9b4c-186eea6fd83d"
      },
      "outputs": [
        {
          "output_type": "stream",
          "name": "stdout",
          "text": [
            "Collecting pyspark\n",
            "  Downloading pyspark-3.2.1.tar.gz (281.4 MB)\n",
            "\u001b[K     |████████████████████████████████| 281.4 MB 33 kB/s \n",
            "\u001b[?25hCollecting py4j==0.10.9.3\n",
            "  Downloading py4j-0.10.9.3-py2.py3-none-any.whl (198 kB)\n",
            "\u001b[K     |████████████████████████████████| 198 kB 44.4 MB/s \n",
            "\u001b[?25hBuilding wheels for collected packages: pyspark\n",
            "  Building wheel for pyspark (setup.py) ... \u001b[?25l\u001b[?25hdone\n",
            "  Created wheel for pyspark: filename=pyspark-3.2.1-py2.py3-none-any.whl size=281853642 sha256=675a1ac6910db9411200d5ae82acf75447d6d31d9edbee9e08228f2e15a701aa\n",
            "  Stored in directory: /root/.cache/pip/wheels/9f/f5/07/7cd8017084dce4e93e84e92efd1e1d5334db05f2e83bcef74f\n",
            "Successfully built pyspark\n",
            "Installing collected packages: py4j, pyspark\n",
            "Successfully installed py4j-0.10.9.3 pyspark-3.2.1\n"
          ]
        }
      ],
      "source": [
        "pip install pyspark"
      ]
    },
    {
      "cell_type": "code",
      "source": [
        "from pyspark.sql import SparkSession"
      ],
      "metadata": {
        "id": "NXYeojrWa5hd"
      },
      "execution_count": null,
      "outputs": []
    },
    {
      "cell_type": "code",
      "source": [
        "session = SparkSession.builder.appName(\"Mycode\").master(\"local\").getOrCreate()\n",
        "data = session.read.csv(\"Admission_Prediction.csv\", header = True, inferSchema=True)\n",
        "data.show()"
      ],
      "metadata": {
        "colab": {
          "base_uri": "https://localhost:8080/"
        },
        "id": "Oww1-Utsccsv",
        "outputId": "68ed2094-19f4-4c32-9f41-848413da18b4"
      },
      "execution_count": 595,
      "outputs": [
        {
          "output_type": "stream",
          "name": "stdout",
          "text": [
            "+---+----------+---------+-----------+-----------------+---+---+----+--------+---------------+\n",
            "|_c0|Serial No.|GRE Score|TOEFL Score|University Rating|SOP|LOR|CGPA|Research|Chance of Admit|\n",
            "+---+----------+---------+-----------+-----------------+---+---+----+--------+---------------+\n",
            "|  0|         1|    337.0|      118.0|              4.0|4.5|4.5|9.65|       1|           0.92|\n",
            "|  1|         2|    324.0|      107.0|              4.0|4.0|4.5|8.87|       1|           0.76|\n",
            "|  3|         4|    322.0|      110.0|              3.0|3.5|2.5|8.67|       1|            0.8|\n",
            "|  4|         5|    314.0|      103.0|              2.0|2.0|3.0|8.21|       0|           0.65|\n",
            "|  5|         6|    330.0|      115.0|              5.0|4.5|3.0|9.34|       1|            0.9|\n",
            "|  7|         8|    308.0|      101.0|              2.0|3.0|4.0| 7.9|       0|           0.68|\n",
            "|  8|         9|    302.0|      102.0|              1.0|2.0|1.5| 8.0|       0|            0.5|\n",
            "|  9|        10|    323.0|      108.0|              3.0|3.5|3.0| 8.6|       0|           0.45|\n",
            "| 10|        11|    325.0|      106.0|              3.0|3.5|4.0| 8.4|       1|           0.52|\n",
            "| 11|        12|    327.0|      111.0|              4.0|4.0|4.5| 9.0|       1|           0.84|\n",
            "| 13|        14|    307.0|      109.0|              3.0|4.0|3.0| 8.0|       1|           0.62|\n",
            "| 14|        15|    311.0|      104.0|              3.0|3.5|2.0| 8.2|       1|           0.61|\n",
            "| 15|        16|    314.0|      105.0|              3.0|3.5|2.5| 8.3|       0|           0.54|\n",
            "| 16|        17|    317.0|      107.0|              3.0|4.0|3.0| 8.7|       0|           0.66|\n",
            "| 17|        18|    319.0|      106.0|              3.0|4.0|3.0| 8.0|       1|           0.65|\n",
            "| 18|        19|    318.0|      110.0|              3.0|4.0|3.0| 8.8|       0|           0.63|\n",
            "| 19|        20|    303.0|      102.0|              3.0|3.5|3.0| 8.5|       0|           0.62|\n",
            "| 20|        21|    312.0|      107.0|              3.0|3.0|2.0| 7.9|       1|           0.64|\n",
            "| 21|        22|    325.0|      114.0|              4.0|3.0|2.0| 8.4|       0|            0.7|\n",
            "| 22|        23|    328.0|      116.0|              5.0|5.0|5.0| 9.5|       1|           0.94|\n",
            "+---+----------+---------+-----------+-----------------+---+---+----+--------+---------------+\n",
            "only showing top 20 rows\n",
            "\n"
          ]
        }
      ]
    },
    {
      "cell_type": "code",
      "source": [
        "data.describe()"
      ],
      "metadata": {
        "colab": {
          "base_uri": "https://localhost:8080/"
        },
        "id": "2hFQfnlddARn",
        "outputId": "a15ce490-46df-44e2-9288-c532896b114f"
      },
      "execution_count": 596,
      "outputs": [
        {
          "output_type": "execute_result",
          "data": {
            "text/plain": [
              "DataFrame[summary: string, _c0: string, Serial No.: string, GRE Score: string, TOEFL Score: string, University Rating: string, SOP: string, LOR: string, CGPA: string, Research: string, Chance of Admit: string]"
            ]
          },
          "metadata": {},
          "execution_count": 596
        }
      ]
    },
    {
      "cell_type": "code",
      "source": [
        "data.dtypes"
      ],
      "metadata": {
        "colab": {
          "base_uri": "https://localhost:8080/"
        },
        "id": "mOfjEgijdHjh",
        "outputId": "346c7a81-cf05-4df5-b917-6727246982d8"
      },
      "execution_count": 597,
      "outputs": [
        {
          "output_type": "execute_result",
          "data": {
            "text/plain": [
              "[('_c0', 'int'),\n",
              " ('Serial No.', 'int'),\n",
              " ('GRE Score', 'double'),\n",
              " ('TOEFL Score', 'double'),\n",
              " ('University Rating', 'double'),\n",
              " ('SOP', 'double'),\n",
              " ('LOR', 'double'),\n",
              " ('CGPA', 'double'),\n",
              " ('Research', 'int'),\n",
              " ('Chance of Admit', 'double')]"
            ]
          },
          "metadata": {},
          "execution_count": 597
        }
      ]
    },
    {
      "cell_type": "code",
      "source": [
        "data.columns"
      ],
      "metadata": {
        "colab": {
          "base_uri": "https://localhost:8080/"
        },
        "id": "YPDdWmHAdIkk",
        "outputId": "80958076-67fc-417a-d9a1-cf5f0fa2b54c"
      },
      "execution_count": 598,
      "outputs": [
        {
          "output_type": "execute_result",
          "data": {
            "text/plain": [
              "['_c0',\n",
              " 'Serial No.',\n",
              " 'GRE Score',\n",
              " 'TOEFL Score',\n",
              " 'University Rating',\n",
              " 'SOP',\n",
              " 'LOR',\n",
              " 'CGPA',\n",
              " 'Research',\n",
              " 'Chance of Admit']"
            ]
          },
          "metadata": {},
          "execution_count": 598
        }
      ]
    },
    {
      "cell_type": "code",
      "source": [
        "data.printSchema()"
      ],
      "metadata": {
        "colab": {
          "base_uri": "https://localhost:8080/"
        },
        "id": "-5IXXtx9dLgi",
        "outputId": "aa4edeb0-7af6-4c84-af79-dc6a9157d6f7"
      },
      "execution_count": 599,
      "outputs": [
        {
          "output_type": "stream",
          "name": "stdout",
          "text": [
            "root\n",
            " |-- _c0: integer (nullable = true)\n",
            " |-- Serial No.: integer (nullable = true)\n",
            " |-- GRE Score: double (nullable = true)\n",
            " |-- TOEFL Score: double (nullable = true)\n",
            " |-- University Rating: double (nullable = true)\n",
            " |-- SOP: double (nullable = true)\n",
            " |-- LOR: double (nullable = true)\n",
            " |-- CGPA: double (nullable = true)\n",
            " |-- Research: integer (nullable = true)\n",
            " |-- Chance of Admit: double (nullable = true)\n",
            "\n"
          ]
        }
      ]
    },
    {
      "cell_type": "code",
      "source": [
        "data.count()"
      ],
      "metadata": {
        "colab": {
          "base_uri": "https://localhost:8080/"
        },
        "id": "N8gb0N_XdSMA",
        "outputId": "f1630d84-d63e-4348-e7fc-02cb2df715d5"
      },
      "execution_count": 600,
      "outputs": [
        {
          "output_type": "execute_result",
          "data": {
            "text/plain": [
              "460"
            ]
          },
          "metadata": {},
          "execution_count": 600
        }
      ]
    },
    {
      "cell_type": "code",
      "source": [
        "data.show()"
      ],
      "metadata": {
        "colab": {
          "base_uri": "https://localhost:8080/"
        },
        "id": "ujzTSQokjyyv",
        "outputId": "a2c76497-d93a-4343-e615-be5a651622d9"
      },
      "execution_count": 601,
      "outputs": [
        {
          "output_type": "stream",
          "name": "stdout",
          "text": [
            "+---+----------+---------+-----------+-----------------+---+---+----+--------+---------------+\n",
            "|_c0|Serial No.|GRE Score|TOEFL Score|University Rating|SOP|LOR|CGPA|Research|Chance of Admit|\n",
            "+---+----------+---------+-----------+-----------------+---+---+----+--------+---------------+\n",
            "|  0|         1|    337.0|      118.0|              4.0|4.5|4.5|9.65|       1|           0.92|\n",
            "|  1|         2|    324.0|      107.0|              4.0|4.0|4.5|8.87|       1|           0.76|\n",
            "|  3|         4|    322.0|      110.0|              3.0|3.5|2.5|8.67|       1|            0.8|\n",
            "|  4|         5|    314.0|      103.0|              2.0|2.0|3.0|8.21|       0|           0.65|\n",
            "|  5|         6|    330.0|      115.0|              5.0|4.5|3.0|9.34|       1|            0.9|\n",
            "|  7|         8|    308.0|      101.0|              2.0|3.0|4.0| 7.9|       0|           0.68|\n",
            "|  8|         9|    302.0|      102.0|              1.0|2.0|1.5| 8.0|       0|            0.5|\n",
            "|  9|        10|    323.0|      108.0|              3.0|3.5|3.0| 8.6|       0|           0.45|\n",
            "| 10|        11|    325.0|      106.0|              3.0|3.5|4.0| 8.4|       1|           0.52|\n",
            "| 11|        12|    327.0|      111.0|              4.0|4.0|4.5| 9.0|       1|           0.84|\n",
            "| 13|        14|    307.0|      109.0|              3.0|4.0|3.0| 8.0|       1|           0.62|\n",
            "| 14|        15|    311.0|      104.0|              3.0|3.5|2.0| 8.2|       1|           0.61|\n",
            "| 15|        16|    314.0|      105.0|              3.0|3.5|2.5| 8.3|       0|           0.54|\n",
            "| 16|        17|    317.0|      107.0|              3.0|4.0|3.0| 8.7|       0|           0.66|\n",
            "| 17|        18|    319.0|      106.0|              3.0|4.0|3.0| 8.0|       1|           0.65|\n",
            "| 18|        19|    318.0|      110.0|              3.0|4.0|3.0| 8.8|       0|           0.63|\n",
            "| 19|        20|    303.0|      102.0|              3.0|3.5|3.0| 8.5|       0|           0.62|\n",
            "| 20|        21|    312.0|      107.0|              3.0|3.0|2.0| 7.9|       1|           0.64|\n",
            "| 21|        22|    325.0|      114.0|              4.0|3.0|2.0| 8.4|       0|            0.7|\n",
            "| 22|        23|    328.0|      116.0|              5.0|5.0|5.0| 9.5|       1|           0.94|\n",
            "+---+----------+---------+-----------+-----------------+---+---+----+--------+---------------+\n",
            "only showing top 20 rows\n",
            "\n"
          ]
        }
      ]
    },
    {
      "cell_type": "code",
      "source": [
        "from pyspark.ml.feature import StringIndexer, VectorAssembler, OneHotEncoder"
      ],
      "metadata": {
        "id": "n3UQQ0rke5jN"
      },
      "execution_count": 602,
      "outputs": []
    },
    {
      "cell_type": "code",
      "source": [
        "vec_ass = VectorAssembler(inputCols=[\n",
        "'_c0',\n",
        " 'GRE Score',\n",
        " 'TOEFL Score',\n",
        " 'University Rating',\n",
        " 'SOP',\n",
        " 'LOR',\n",
        " 'CGPA',\n",
        " 'Research'], outputCol=\"allfeatures\")"
      ],
      "metadata": {
        "id": "eEbE59iOgpFi"
      },
      "execution_count": 603,
      "outputs": []
    },
    {
      "cell_type": "code",
      "source": [
        "from pyspark.ml.regression import LinearRegression\n",
        "linear = LinearRegression(featuresCol=\"allfeatures\", labelCol=\"Chance of Admit\")"
      ],
      "metadata": {
        "id": "B3fKiOHPgV-A"
      },
      "execution_count": 604,
      "outputs": []
    },
    {
      "cell_type": "code",
      "source": [
        "newdata = vec_ass.transform(data)"
      ],
      "metadata": {
        "id": "6bOihABtnXx-"
      },
      "execution_count": 605,
      "outputs": []
    },
    {
      "cell_type": "code",
      "source": [
        "from pyspark.ml import Pipeline"
      ],
      "metadata": {
        "id": "hJ5td8mUiEep"
      },
      "execution_count": 606,
      "outputs": []
    },
    {
      "cell_type": "code",
      "source": [
        "training, test = newdata.randomSplit([.8, .2])"
      ],
      "metadata": {
        "id": "KJBIrQfoizRv"
      },
      "execution_count": 607,
      "outputs": []
    },
    {
      "cell_type": "code",
      "source": [
        "model = linear.fit(training)"
      ],
      "metadata": {
        "id": "x26VHmzbinpz"
      },
      "execution_count": 608,
      "outputs": []
    },
    {
      "cell_type": "code",
      "source": [
        "result = model.transform(test)"
      ],
      "metadata": {
        "id": "DAtknXsZi-Px"
      },
      "execution_count": 609,
      "outputs": []
    },
    {
      "cell_type": "code",
      "source": [
        "result.show()"
      ],
      "metadata": {
        "colab": {
          "base_uri": "https://localhost:8080/"
        },
        "id": "H_jQQR20jNHd",
        "outputId": "5c9cc277-c7a2-46d4-d6a3-ac62cb6fd5b7"
      },
      "execution_count": 610,
      "outputs": [
        {
          "output_type": "stream",
          "name": "stdout",
          "text": [
            "+---+----------+---------+-----------+-----------------+---+---+----+--------+---------------+--------------------+-------------------+\n",
            "|_c0|Serial No.|GRE Score|TOEFL Score|University Rating|SOP|LOR|CGPA|Research|Chance of Admit|         allfeatures|         prediction|\n",
            "+---+----------+---------+-----------+-----------------+---+---+----+--------+---------------+--------------------+-------------------+\n",
            "|  4|         5|    314.0|      103.0|              2.0|2.0|3.0|8.21|       0|           0.65|[4.0,314.0,103.0,...| 0.6066976908422705|\n",
            "| 16|        17|    317.0|      107.0|              3.0|4.0|3.0| 8.7|       0|           0.66|[16.0,317.0,107.0...| 0.6962740877334241|\n",
            "| 33|        34|    340.0|      114.0|              5.0|4.0|4.0| 9.6|       1|            0.9|[33.0,340.0,114.0...| 0.9161542745634963|\n",
            "| 38|        39|    304.0|      105.0|              1.0|3.0|1.5| 7.5|       0|           0.52|[38.0,304.0,105.0...|0.49835997315382397|\n",
            "| 42|        43|    313.0|      107.0|              2.0|2.5|2.0| 8.5|       1|           0.53|[42.0,313.0,107.0...| 0.6738472670158413|\n",
            "| 44|        45|    326.0|      113.0|              5.0|4.5|4.0| 9.4|       1|           0.91|[44.0,326.0,113.0...|  0.869868597913561|\n",
            "| 58|        59|    300.0|       99.0|              1.0|3.0|2.0| 6.8|       1|           0.36|[58.0,300.0,99.0,...| 0.4380860025888942|\n",
            "| 59|        60|    311.0|      104.0|              2.0|2.0|2.0| 8.3|       0|           0.42|[59.0,311.0,104.0...| 0.6054679207495861|\n",
            "| 60|        61|    309.0|      100.0|              2.0|3.0|3.0| 8.1|       0|           0.48|[60.0,309.0,100.0...| 0.5878767085839802|\n",
            "| 78|        79|    296.0|       95.0|              2.0|3.0|2.0|7.54|       1|           0.44|[78.0,296.0,95.0,...| 0.5097645042257994|\n",
            "| 79|        80|    294.0|       93.0|              1.0|1.5|2.0|7.36|       0|           0.46|[79.0,294.0,93.0,...| 0.4331093656745124|\n",
            "| 80|        81|    312.0|      105.0|              3.0|2.0|3.0|8.02|       1|            0.5|[80.0,312.0,105.0...| 0.6326259232677429|\n",
            "| 83|        84|    322.0|      115.0|              5.0|4.0|4.5|9.36|       1|           0.92|[83.0,322.0,115.0...| 0.8705764477095774|\n",
            "| 84|        85|    340.0|      115.0|              5.0|4.5|4.5|9.45|       1|           0.94|[84.0,340.0,115.0...| 0.9160411715569106|\n",
            "| 91|        92|    299.0|       97.0|              3.0|5.0|3.5|7.66|       0|           0.38|[91.0,299.0,97.0,...| 0.5397808074906478|\n",
            "| 93|        94|    301.0|       97.0|              2.0|3.0|3.0|7.88|       1|           0.44|[93.0,301.0,97.0,...| 0.5764151993036497|\n",
            "| 95|        96|    304.0|      100.0|              4.0|1.5|2.5|7.84|       0|           0.42|[95.0,304.0,100.0...| 0.5494141835286512|\n",
            "|105|       106|    316.0|      110.0|              3.0|4.0|4.5|8.78|       1|           0.69|[105.0,316.0,110....| 0.7715774940099782|\n",
            "|111|       112|    321.0|      109.0|              4.0|4.0|4.0|8.68|       1|           0.69|[111.0,321.0,109....| 0.7666403872441732|\n",
            "|113|       114|    320.0|      110.0|              2.0|4.0|3.5|8.56|       0|           0.72|[113.0,320.0,110....|  0.703064721423984|\n",
            "+---+----------+---------+-----------+-----------------+---+---+----+--------+---------------+--------------------+-------------------+\n",
            "only showing top 20 rows\n",
            "\n"
          ]
        }
      ]
    },
    {
      "cell_type": "code",
      "source": [
        "from pyspark.ml.evaluation import RegressionEvaluator\n",
        "eval = RegressionEvaluator(predictionCol=\"prediction\", labelCol='Chance of Admit', metricName=\"r2\")\n",
        "eval.evaluate(result)"
      ],
      "metadata": {
        "colab": {
          "base_uri": "https://localhost:8080/"
        },
        "id": "JtCRyI1iYOBi",
        "outputId": "31a239c3-c72c-4f23-cc80-375bf52ade00"
      },
      "execution_count": 611,
      "outputs": [
        {
          "output_type": "execute_result",
          "data": {
            "text/plain": [
              "0.8490299989697287"
            ]
          },
          "metadata": {},
          "execution_count": 611
        }
      ]
    },
    {
      "cell_type": "code",
      "source": [
        "from pyspark.ml.evaluation import RegressionEvaluator\n",
        "eval = RegressionEvaluator(predictionCol=\"prediction\", labelCol='Chance of Admit', metricName=\"rmse\")\n",
        "eval.evaluate(result)"
      ],
      "metadata": {
        "id": "g4LNKvvcgcZL",
        "colab": {
          "base_uri": "https://localhost:8080/"
        },
        "outputId": "08d68559-9273-430e-eb94-64ecbf72eab3"
      },
      "execution_count": 612,
      "outputs": [
        {
          "output_type": "execute_result",
          "data": {
            "text/plain": [
              "0.06430619732721732"
            ]
          },
          "metadata": {},
          "execution_count": 612
        }
      ]
    },
    {
      "cell_type": "code",
      "source": [
        "from pyspark.ml.evaluation import RegressionEvaluator\n",
        "eval = RegressionEvaluator(predictionCol=\"prediction\", labelCol='Chance of Admit', metricName=\"mse\")\n",
        "eval.evaluate(result)"
      ],
      "metadata": {
        "colab": {
          "base_uri": "https://localhost:8080/"
        },
        "id": "EtbTb2QZoeUN",
        "outputId": "4d0d9934-5dca-4fa5-d532-f4ea24b742b3"
      },
      "execution_count": 613,
      "outputs": [
        {
          "output_type": "execute_result",
          "data": {
            "text/plain": [
              "0.0041352870146870125"
            ]
          },
          "metadata": {},
          "execution_count": 613
        }
      ]
    },
    {
      "cell_type": "code",
      "source": [
        "from pyspark.ml.evaluation import RegressionEvaluator\n",
        "eval = RegressionEvaluator(predictionCol=\"prediction\", labelCol='Chance of Admit', metricName=\"mae\")\n",
        "eval.evaluate(result)"
      ],
      "metadata": {
        "colab": {
          "base_uri": "https://localhost:8080/"
        },
        "id": "JD8t92BNogCj",
        "outputId": "1b087609-8a1c-475e-bb3b-8016f8a1a2d1"
      },
      "execution_count": 614,
      "outputs": [
        {
          "output_type": "execute_result",
          "data": {
            "text/plain": [
              "0.048282776815045"
            ]
          },
          "metadata": {},
          "execution_count": 614
        }
      ]
    },
    {
      "cell_type": "code",
      "source": [
        ""
      ],
      "metadata": {
        "id": "brm36wW6ojeu"
      },
      "execution_count": null,
      "outputs": []
    }
  ]
}