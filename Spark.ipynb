{
  "nbformat": 4,
  "nbformat_minor": 0,
  "metadata": {
    "colab": {
      "name": "Spark.ipynb",
      "provenance": []
    },
    "kernelspec": {
      "name": "python3",
      "display_name": "Python 3"
    },
    "language_info": {
      "name": "python"
    }
  },
  "cells": [
    {
      "cell_type": "code",
      "execution_count": 1,
      "metadata": {
        "colab": {
          "base_uri": "https://localhost:8080/"
        },
        "id": "RY35phH0x-VZ",
        "outputId": "98ab2591-9552-4176-8980-81a4f297f858"
      },
      "outputs": [
        {
          "output_type": "stream",
          "name": "stdout",
          "text": [
            "Collecting pyspark\n",
            "  Downloading pyspark-3.2.1.tar.gz (281.4 MB)\n",
            "\u001b[K     |████████████████████████████████| 281.4 MB 34 kB/s \n",
            "\u001b[?25hCollecting py4j==0.10.9.3\n",
            "  Downloading py4j-0.10.9.3-py2.py3-none-any.whl (198 kB)\n",
            "\u001b[K     |████████████████████████████████| 198 kB 6.9 MB/s \n",
            "\u001b[?25hBuilding wheels for collected packages: pyspark\n",
            "  Building wheel for pyspark (setup.py) ... \u001b[?25l\u001b[?25hdone\n",
            "  Created wheel for pyspark: filename=pyspark-3.2.1-py2.py3-none-any.whl size=281853642 sha256=4e092dbf45ab02be9313c662d13fa8fe230d50a55fbf42330cacbaab66512577\n",
            "  Stored in directory: /root/.cache/pip/wheels/9f/f5/07/7cd8017084dce4e93e84e92efd1e1d5334db05f2e83bcef74f\n",
            "Successfully built pyspark\n",
            "Installing collected packages: py4j, pyspark\n",
            "Successfully installed py4j-0.10.9.3 pyspark-3.2.1\n"
          ]
        }
      ],
      "source": [
        "!pip install pyspark"
      ]
    },
    {
      "cell_type": "code",
      "source": [
        "from pyspark import SparkConf, SparkContext"
      ],
      "metadata": {
        "id": "1lSO8ATOyM3r"
      },
      "execution_count": 2,
      "outputs": []
    },
    {
      "cell_type": "code",
      "source": [
        "if __name__ == \"__main__\":\n",
        "  conf = SparkConf().setAppName(\"rdd\").setMaster(\"local[2]\")\n",
        "  sc = SparkContext(conf = conf)"
      ],
      "metadata": {
        "id": "3sfZwEulyr12"
      },
      "execution_count": 3,
      "outputs": []
    },
    {
      "cell_type": "code",
      "source": [
        "ibmrdd = sc.textFile(\"IBMdata1.csv\")"
      ],
      "metadata": {
        "id": "KmRrlH6ezGtX"
      },
      "execution_count": 4,
      "outputs": []
    },
    {
      "cell_type": "code",
      "source": [
        "ibmrdd.take(3)"
      ],
      "metadata": {
        "colab": {
          "base_uri": "https://localhost:8080/"
        },
        "id": "pFljh3yQ1MAX",
        "outputId": "82d1e5b0-79c6-4d9e-ada4-27e918a51999"
      },
      "execution_count": 5,
      "outputs": [
        {
          "output_type": "execute_result",
          "data": {
            "text/plain": [
              "['Age,Attrition,BusinessTravel,DailyRate,Department,DistanceFromHome,Education,EducationField,EmployeeCount,EmployeeNumber,EnvironmentSatisfaction,Gender,HourlyRate,JobInvolvement,JobLevel,JobRole,JobSatisfaction,MaritalStatus,MonthlyIncome,MonthlyRate,NumCompaniesWorked,Over18,OverTime,PercentSalaryHike,PerformanceRating,RelationshipSatisfaction,StandardHours,StockOptionLevel,TotalWorkingYears,TrainingTimesLastYear,WorkLifeBalance,YearsAtCompany,YearsInCurrentRole,YearsSinceLastPromotion,YearsWithCurrManager',\n",
              " '41,Yes,Travel_Rarely,1102,Sales,1,2,Life Sciences,1,1,2,Female,94,3,2,Sales Executive,4,Single,5993,19479,8,Y,Yes,11,3,1,80,0,8,0,1,6,4,0,5',\n",
              " '49,No,Travel_Frequently,279,Research & Development,8,1,Life Sciences,1,2,3,Male,61,2,2,Research Scientist,2,Married,5130,24907,1,Y,No,23,4,4,80,1,10,3,3,10,7,1,7']"
            ]
          },
          "metadata": {},
          "execution_count": 5
        }
      ]
    },
    {
      "cell_type": "code",
      "source": [
        "ibmrdd.take(5)"
      ],
      "metadata": {
        "colab": {
          "base_uri": "https://localhost:8080/"
        },
        "id": "qmU5kEbk1VS4",
        "outputId": "384ab3ae-00c4-461c-9441-e6c3f3c80926"
      },
      "execution_count": 6,
      "outputs": [
        {
          "output_type": "execute_result",
          "data": {
            "text/plain": [
              "['Age,Attrition,BusinessTravel,DailyRate,Department,DistanceFromHome,Education,EducationField,EmployeeCount,EmployeeNumber,EnvironmentSatisfaction,Gender,HourlyRate,JobInvolvement,JobLevel,JobRole,JobSatisfaction,MaritalStatus,MonthlyIncome,MonthlyRate,NumCompaniesWorked,Over18,OverTime,PercentSalaryHike,PerformanceRating,RelationshipSatisfaction,StandardHours,StockOptionLevel,TotalWorkingYears,TrainingTimesLastYear,WorkLifeBalance,YearsAtCompany,YearsInCurrentRole,YearsSinceLastPromotion,YearsWithCurrManager',\n",
              " '41,Yes,Travel_Rarely,1102,Sales,1,2,Life Sciences,1,1,2,Female,94,3,2,Sales Executive,4,Single,5993,19479,8,Y,Yes,11,3,1,80,0,8,0,1,6,4,0,5',\n",
              " '49,No,Travel_Frequently,279,Research & Development,8,1,Life Sciences,1,2,3,Male,61,2,2,Research Scientist,2,Married,5130,24907,1,Y,No,23,4,4,80,1,10,3,3,10,7,1,7',\n",
              " '37,Yes,Travel_Rarely,1373,Research & Development,2,2,Other,1,4,4,Male,92,2,1,Laboratory Technician,3,Single,2090,2396,6,Y,Yes,15,3,2,80,0,7,3,3,0,0,0,0',\n",
              " '33,No,Travel_Frequently,1392,Research & Development,3,4,Life Sciences,1,5,4,Female,56,3,1,Research Scientist,3,Married,2909,23159,1,Y,Yes,11,3,3,80,0,8,3,3,8,7,3,0']"
            ]
          },
          "metadata": {},
          "execution_count": 6
        }
      ]
    },
    {
      "cell_type": "code",
      "source": [
        "ibmrdd.collect()"
      ],
      "metadata": {
        "colab": {
          "base_uri": "https://localhost:8080/"
        },
        "id": "u4ZU48IE1rS2",
        "outputId": "b4f3e2f0-2fd9-47f9-e521-67b872505940"
      },
      "execution_count": 8,
      "outputs": [
        {
          "output_type": "execute_result",
          "data": {
            "text/plain": [
              "['Age,Attrition,BusinessTravel,DailyRate,Department,DistanceFromHome,Education,EducationField,EmployeeCount,EmployeeNumber,EnvironmentSatisfaction,Gender,HourlyRate,JobInvolvement,JobLevel,JobRole,JobSatisfaction,MaritalStatus,MonthlyIncome,MonthlyRate,NumCompaniesWorked,Over18,OverTime,PercentSalaryHike,PerformanceRating,RelationshipSatisfaction,StandardHours,StockOptionLevel,TotalWorkingYears,TrainingTimesLastYear,WorkLifeBalance,YearsAtCompany,YearsInCurrentRole,YearsSinceLastPromotion,YearsWithCurrManager',\n",
              " '41,Yes,Travel_Rarely,1102,Sales,1,2,Life Sciences,1,1,2,Female,94,3,2,Sales Executive,4,Single,5993,19479,8,Y,Yes,11,3,1,80,0,8,0,1,6,4,0,5',\n",
              " '49,No,Travel_Frequently,279,Research & Development,8,1,Life Sciences,1,2,3,Male,61,2,2,Research Scientist,2,Married,5130,24907,1,Y,No,23,4,4,80,1,10,3,3,10,7,1,7',\n",
              " '37,Yes,Travel_Rarely,1373,Research & Development,2,2,Other,1,4,4,Male,92,2,1,Laboratory Technician,3,Single,2090,2396,6,Y,Yes,15,3,2,80,0,7,3,3,0,0,0,0',\n",
              " '33,No,Travel_Frequently,1392,Research & Development,3,4,Life Sciences,1,5,4,Female,56,3,1,Research Scientist,3,Married,2909,23159,1,Y,Yes,11,3,3,80,0,8,3,3,8,7,3,0',\n",
              " '27,No,Travel_Rarely,591,Research & Development,2,1,Medical,1,7,1,Male,40,3,1,Laboratory Technician,2,Married,3468,16632,9,Y,No,12,3,4,80,1,6,3,3,2,2,2,2',\n",
              " '32,No,Travel_Frequently,1005,Research & Development,2,2,Life Sciences,1,8,4,Male,79,3,1,Laboratory Technician,4,Single,3068,11864,0,Y,No,13,3,3,80,0,8,2,2,7,7,3,6',\n",
              " '59,No,Travel_Rarely,1324,Research & Development,3,3,Medical,1,10,3,Female,81,4,1,Laboratory Technician,1,Married,2670,9964,4,Y,Yes,20,4,1,80,3,12,3,2,1,0,0,0',\n",
              " '30,No,Travel_Rarely,1358,Research & Development,24,1,Life Sciences,1,11,4,Male,67,3,1,Laboratory Technician,3,Divorced,2693,13335,1,Y,No,22,4,2,80,1,1,2,3,1,0,0,0',\n",
              " '38,No,Travel_Frequently,216,Research & Development,23,3,Life Sciences,1,12,4,Male,44,2,3,Manufacturing Director,3,Single,9526,8787,0,Y,No,21,4,2,80,0,10,2,3,9,7,1,8']"
            ]
          },
          "metadata": {},
          "execution_count": 8
        }
      ]
    },
    {
      "cell_type": "code",
      "source": [
        "ibmrdd.top(5)"
      ],
      "metadata": {
        "colab": {
          "base_uri": "https://localhost:8080/"
        },
        "id": "YyUpjxPo2KDE",
        "outputId": "862bb09d-4cf0-4fe7-a00e-c5ea542cee46"
      },
      "execution_count": 9,
      "outputs": [
        {
          "output_type": "execute_result",
          "data": {
            "text/plain": [
              "['Age,Attrition,BusinessTravel,DailyRate,Department,DistanceFromHome,Education,EducationField,EmployeeCount,EmployeeNumber,EnvironmentSatisfaction,Gender,HourlyRate,JobInvolvement,JobLevel,JobRole,JobSatisfaction,MaritalStatus,MonthlyIncome,MonthlyRate,NumCompaniesWorked,Over18,OverTime,PercentSalaryHike,PerformanceRating,RelationshipSatisfaction,StandardHours,StockOptionLevel,TotalWorkingYears,TrainingTimesLastYear,WorkLifeBalance,YearsAtCompany,YearsInCurrentRole,YearsSinceLastPromotion,YearsWithCurrManager',\n",
              " '60,No,Travel_Rarely,696,Sales,7,4,Marketing,1,1233,2,Male,52,4,2,Sales Executive,4,Divorced,5220,10893,0,Y,Yes,18,3,2,80,1,12,3,3,11,7,1,9',\n",
              " '60,No,Travel_Rarely,422,Research & Development,7,3,Life Sciences,1,549,1,Female,41,3,5,Manager,1,Married,19566,3854,5,Y,No,11,3,4,80,0,33,5,1,29,8,11,10',\n",
              " '60,No,Travel_Rarely,370,Research & Development,1,4,Medical,1,1697,3,Male,92,1,3,Healthcare Representative,4,Divorced,10883,20467,3,Y,No,20,4,3,80,1,19,2,4,1,0,0,0',\n",
              " '60,No,Travel_Rarely,1179,Sales,16,4,Marketing,1,732,1,Male,84,3,2,Sales Executive,1,Single,5405,11924,8,Y,No,14,3,4,80,0,10,1,3,2,2,2,2']"
            ]
          },
          "metadata": {},
          "execution_count": 9
        }
      ]
    },
    {
      "cell_type": "code",
      "source": [
        "agerdd = ibmrdd.map(lambda x: x.split(\",\")[0])"
      ],
      "metadata": {
        "id": "eZrVe_dd2baX"
      },
      "execution_count": 10,
      "outputs": []
    },
    {
      "cell_type": "code",
      "source": [
        "agerdd.top(5)"
      ],
      "metadata": {
        "colab": {
          "base_uri": "https://localhost:8080/"
        },
        "id": "3N-cueiH3TaZ",
        "outputId": "1250048c-fc08-4600-faef-1fe5019deb3c"
      },
      "execution_count": 11,
      "outputs": [
        {
          "output_type": "execute_result",
          "data": {
            "text/plain": [
              "['Age', '60', '60', '60', '60']"
            ]
          },
          "metadata": {},
          "execution_count": 11
        }
      ]
    },
    {
      "cell_type": "code",
      "source": [
        "above60agerdd = agerdd.filter(lambda x: x>60)"
      ],
      "metadata": {
        "id": "oz-W6d9-3WlB"
      },
      "execution_count": 12,
      "outputs": []
    },
    {
      "cell_type": "code",
      "source": [
        "above60agerdd.top(5)"
      ],
      "metadata": {
        "colab": {
          "base_uri": "https://localhost:8080/",
          "height": 1000
        },
        "id": "tThEcWxm4L9T",
        "outputId": "8ce3e063-16cd-4fec-fd3c-46bef9a23bda"
      },
      "execution_count": 13,
      "outputs": [
        {
          "output_type": "error",
          "ename": "Py4JJavaError",
          "evalue": "ignored",
          "traceback": [
            "\u001b[0;31m---------------------------------------------------------------------------\u001b[0m",
            "\u001b[0;31mPy4JJavaError\u001b[0m                             Traceback (most recent call last)",
            "\u001b[0;32m<ipython-input-13-5aba047f9ecb>\u001b[0m in \u001b[0;36m<module>\u001b[0;34m()\u001b[0m\n\u001b[0;32m----> 1\u001b[0;31m \u001b[0mabove60agerdd\u001b[0m\u001b[0;34m.\u001b[0m\u001b[0mtop\u001b[0m\u001b[0;34m(\u001b[0m\u001b[0;36m5\u001b[0m\u001b[0;34m)\u001b[0m\u001b[0;34m\u001b[0m\u001b[0;34m\u001b[0m\u001b[0m\n\u001b[0m",
            "\u001b[0;32m/usr/local/lib/python3.7/dist-packages/pyspark/rdd.py\u001b[0m in \u001b[0;36mtop\u001b[0;34m(self, num, key)\u001b[0m\n\u001b[1;32m   1483\u001b[0m             \u001b[0;32mreturn\u001b[0m \u001b[0mheapq\u001b[0m\u001b[0;34m.\u001b[0m\u001b[0mnlargest\u001b[0m\u001b[0;34m(\u001b[0m\u001b[0mnum\u001b[0m\u001b[0;34m,\u001b[0m \u001b[0ma\u001b[0m \u001b[0;34m+\u001b[0m \u001b[0mb\u001b[0m\u001b[0;34m,\u001b[0m \u001b[0mkey\u001b[0m\u001b[0;34m=\u001b[0m\u001b[0mkey\u001b[0m\u001b[0;34m)\u001b[0m\u001b[0;34m\u001b[0m\u001b[0;34m\u001b[0m\u001b[0m\n\u001b[1;32m   1484\u001b[0m \u001b[0;34m\u001b[0m\u001b[0m\n\u001b[0;32m-> 1485\u001b[0;31m         \u001b[0;32mreturn\u001b[0m \u001b[0mself\u001b[0m\u001b[0;34m.\u001b[0m\u001b[0mmapPartitions\u001b[0m\u001b[0;34m(\u001b[0m\u001b[0mtopIterator\u001b[0m\u001b[0;34m)\u001b[0m\u001b[0;34m.\u001b[0m\u001b[0mreduce\u001b[0m\u001b[0;34m(\u001b[0m\u001b[0mmerge\u001b[0m\u001b[0;34m)\u001b[0m\u001b[0;34m\u001b[0m\u001b[0;34m\u001b[0m\u001b[0m\n\u001b[0m\u001b[1;32m   1486\u001b[0m \u001b[0;34m\u001b[0m\u001b[0m\n\u001b[1;32m   1487\u001b[0m     \u001b[0;32mdef\u001b[0m \u001b[0mtakeOrdered\u001b[0m\u001b[0;34m(\u001b[0m\u001b[0mself\u001b[0m\u001b[0;34m,\u001b[0m \u001b[0mnum\u001b[0m\u001b[0;34m,\u001b[0m \u001b[0mkey\u001b[0m\u001b[0;34m=\u001b[0m\u001b[0;32mNone\u001b[0m\u001b[0;34m)\u001b[0m\u001b[0;34m:\u001b[0m\u001b[0;34m\u001b[0m\u001b[0;34m\u001b[0m\u001b[0m\n",
            "\u001b[0;32m/usr/local/lib/python3.7/dist-packages/pyspark/rdd.py\u001b[0m in \u001b[0;36mreduce\u001b[0;34m(self, f)\u001b[0m\n\u001b[1;32m    997\u001b[0m             \u001b[0;32myield\u001b[0m \u001b[0mreduce\u001b[0m\u001b[0;34m(\u001b[0m\u001b[0mf\u001b[0m\u001b[0;34m,\u001b[0m \u001b[0miterator\u001b[0m\u001b[0;34m,\u001b[0m \u001b[0minitial\u001b[0m\u001b[0;34m)\u001b[0m\u001b[0;34m\u001b[0m\u001b[0;34m\u001b[0m\u001b[0m\n\u001b[1;32m    998\u001b[0m \u001b[0;34m\u001b[0m\u001b[0m\n\u001b[0;32m--> 999\u001b[0;31m         \u001b[0mvals\u001b[0m \u001b[0;34m=\u001b[0m \u001b[0mself\u001b[0m\u001b[0;34m.\u001b[0m\u001b[0mmapPartitions\u001b[0m\u001b[0;34m(\u001b[0m\u001b[0mfunc\u001b[0m\u001b[0;34m)\u001b[0m\u001b[0;34m.\u001b[0m\u001b[0mcollect\u001b[0m\u001b[0;34m(\u001b[0m\u001b[0;34m)\u001b[0m\u001b[0;34m\u001b[0m\u001b[0;34m\u001b[0m\u001b[0m\n\u001b[0m\u001b[1;32m   1000\u001b[0m         \u001b[0;32mif\u001b[0m \u001b[0mvals\u001b[0m\u001b[0;34m:\u001b[0m\u001b[0;34m\u001b[0m\u001b[0;34m\u001b[0m\u001b[0m\n\u001b[1;32m   1001\u001b[0m             \u001b[0;32mreturn\u001b[0m \u001b[0mreduce\u001b[0m\u001b[0;34m(\u001b[0m\u001b[0mf\u001b[0m\u001b[0;34m,\u001b[0m \u001b[0mvals\u001b[0m\u001b[0;34m)\u001b[0m\u001b[0;34m\u001b[0m\u001b[0;34m\u001b[0m\u001b[0m\n",
            "\u001b[0;32m/usr/local/lib/python3.7/dist-packages/pyspark/rdd.py\u001b[0m in \u001b[0;36mcollect\u001b[0;34m(self)\u001b[0m\n\u001b[1;32m    948\u001b[0m         \"\"\"\n\u001b[1;32m    949\u001b[0m         \u001b[0;32mwith\u001b[0m \u001b[0mSCCallSiteSync\u001b[0m\u001b[0;34m(\u001b[0m\u001b[0mself\u001b[0m\u001b[0;34m.\u001b[0m\u001b[0mcontext\u001b[0m\u001b[0;34m)\u001b[0m \u001b[0;32mas\u001b[0m \u001b[0mcss\u001b[0m\u001b[0;34m:\u001b[0m\u001b[0;34m\u001b[0m\u001b[0;34m\u001b[0m\u001b[0m\n\u001b[0;32m--> 950\u001b[0;31m             \u001b[0msock_info\u001b[0m \u001b[0;34m=\u001b[0m \u001b[0mself\u001b[0m\u001b[0;34m.\u001b[0m\u001b[0mctx\u001b[0m\u001b[0;34m.\u001b[0m\u001b[0m_jvm\u001b[0m\u001b[0;34m.\u001b[0m\u001b[0mPythonRDD\u001b[0m\u001b[0;34m.\u001b[0m\u001b[0mcollectAndServe\u001b[0m\u001b[0;34m(\u001b[0m\u001b[0mself\u001b[0m\u001b[0;34m.\u001b[0m\u001b[0m_jrdd\u001b[0m\u001b[0;34m.\u001b[0m\u001b[0mrdd\u001b[0m\u001b[0;34m(\u001b[0m\u001b[0;34m)\u001b[0m\u001b[0;34m)\u001b[0m\u001b[0;34m\u001b[0m\u001b[0;34m\u001b[0m\u001b[0m\n\u001b[0m\u001b[1;32m    951\u001b[0m         \u001b[0;32mreturn\u001b[0m \u001b[0mlist\u001b[0m\u001b[0;34m(\u001b[0m\u001b[0m_load_from_socket\u001b[0m\u001b[0;34m(\u001b[0m\u001b[0msock_info\u001b[0m\u001b[0;34m,\u001b[0m \u001b[0mself\u001b[0m\u001b[0;34m.\u001b[0m\u001b[0m_jrdd_deserializer\u001b[0m\u001b[0;34m)\u001b[0m\u001b[0;34m)\u001b[0m\u001b[0;34m\u001b[0m\u001b[0;34m\u001b[0m\u001b[0m\n\u001b[1;32m    952\u001b[0m \u001b[0;34m\u001b[0m\u001b[0m\n",
            "\u001b[0;32m/usr/local/lib/python3.7/dist-packages/py4j/java_gateway.py\u001b[0m in \u001b[0;36m__call__\u001b[0;34m(self, *args)\u001b[0m\n\u001b[1;32m   1320\u001b[0m         \u001b[0manswer\u001b[0m \u001b[0;34m=\u001b[0m \u001b[0mself\u001b[0m\u001b[0;34m.\u001b[0m\u001b[0mgateway_client\u001b[0m\u001b[0;34m.\u001b[0m\u001b[0msend_command\u001b[0m\u001b[0;34m(\u001b[0m\u001b[0mcommand\u001b[0m\u001b[0;34m)\u001b[0m\u001b[0;34m\u001b[0m\u001b[0;34m\u001b[0m\u001b[0m\n\u001b[1;32m   1321\u001b[0m         return_value = get_return_value(\n\u001b[0;32m-> 1322\u001b[0;31m             answer, self.gateway_client, self.target_id, self.name)\n\u001b[0m\u001b[1;32m   1323\u001b[0m \u001b[0;34m\u001b[0m\u001b[0m\n\u001b[1;32m   1324\u001b[0m         \u001b[0;32mfor\u001b[0m \u001b[0mtemp_arg\u001b[0m \u001b[0;32min\u001b[0m \u001b[0mtemp_args\u001b[0m\u001b[0;34m:\u001b[0m\u001b[0;34m\u001b[0m\u001b[0;34m\u001b[0m\u001b[0m\n",
            "\u001b[0;32m/usr/local/lib/python3.7/dist-packages/py4j/protocol.py\u001b[0m in \u001b[0;36mget_return_value\u001b[0;34m(answer, gateway_client, target_id, name)\u001b[0m\n\u001b[1;32m    326\u001b[0m                 raise Py4JJavaError(\n\u001b[1;32m    327\u001b[0m                     \u001b[0;34m\"An error occurred while calling {0}{1}{2}.\\n\"\u001b[0m\u001b[0;34m.\u001b[0m\u001b[0;34m\u001b[0m\u001b[0;34m\u001b[0m\u001b[0m\n\u001b[0;32m--> 328\u001b[0;31m                     format(target_id, \".\", name), value)\n\u001b[0m\u001b[1;32m    329\u001b[0m             \u001b[0;32melse\u001b[0m\u001b[0;34m:\u001b[0m\u001b[0;34m\u001b[0m\u001b[0;34m\u001b[0m\u001b[0m\n\u001b[1;32m    330\u001b[0m                 raise Py4JError(\n",
            "\u001b[0;31mPy4JJavaError\u001b[0m: An error occurred while calling z:org.apache.spark.api.python.PythonRDD.collectAndServe.\n: org.apache.spark.SparkException: Job aborted due to stage failure: Task 0 in stage 6.0 failed 1 times, most recent failure: Lost task 0.0 in stage 6.0 (TID 9) (05e58323b532 executor driver): org.apache.spark.api.python.PythonException: Traceback (most recent call last):\n  File \"/usr/local/lib/python3.7/dist-packages/pyspark/python/lib/pyspark.zip/pyspark/worker.py\", line 619, in main\n    process()\n  File \"/usr/local/lib/python3.7/dist-packages/pyspark/python/lib/pyspark.zip/pyspark/worker.py\", line 611, in process\n    serializer.dump_stream(out_iter, outfile)\n  File \"/usr/local/lib/python3.7/dist-packages/pyspark/python/lib/pyspark.zip/pyspark/serializers.py\", line 259, in dump_stream\n    vs = list(itertools.islice(iterator, batch))\n  File \"/usr/local/lib/python3.7/dist-packages/pyspark/rdd.py\", line 994, in func\n    initial = next(iterator)\n  File \"/usr/local/lib/python3.7/dist-packages/pyspark/rdd.py\", line 1480, in topIterator\n    yield heapq.nlargest(num, iterator, key=key)\n  File \"/usr/lib/python3.7/heapq.py\", line 552, in nlargest\n    result = [(elem, i) for i, elem in zip(range(0, -n, -1), it)]\n  File \"/usr/lib/python3.7/heapq.py\", line 552, in <listcomp>\n    result = [(elem, i) for i, elem in zip(range(0, -n, -1), it)]\n  File \"/usr/local/lib/python3.7/dist-packages/pyspark/python/lib/pyspark.zip/pyspark/util.py\", line 74, in wrapper\n    return f(*args, **kwargs)\n  File \"<ipython-input-12-5d00a42d393d>\", line 1, in <lambda>\nTypeError: '>' not supported between instances of 'str' and 'int'\n\n\tat org.apache.spark.api.python.BasePythonRunner$ReaderIterator.handlePythonException(PythonRunner.scala:555)\n\tat org.apache.spark.api.python.PythonRunner$$anon$3.read(PythonRunner.scala:713)\n\tat org.apache.spark.api.python.PythonRunner$$anon$3.read(PythonRunner.scala:695)\n\tat org.apache.spark.api.python.BasePythonRunner$ReaderIterator.hasNext(PythonRunner.scala:508)\n\tat org.apache.spark.InterruptibleIterator.hasNext(InterruptibleIterator.scala:37)\n\tat scala.collection.Iterator.foreach(Iterator.scala:943)\n\tat scala.collection.Iterator.foreach$(Iterator.scala:943)\n\tat org.apache.spark.InterruptibleIterator.foreach(InterruptibleIterator.scala:28)\n\tat scala.collection.generic.Growable.$plus$plus$eq(Growable.scala:62)\n\tat scala.collection.generic.Growable.$plus$plus$eq$(Growable.scala:53)\n\tat scala.collection.mutable.ArrayBuffer.$plus$plus$eq(ArrayBuffer.scala:105)\n\tat scala.collection.mutable.ArrayBuffer.$plus$plus$eq(ArrayBuffer.scala:49)\n\tat scala.collection.TraversableOnce.to(TraversableOnce.scala:366)\n\tat scala.collection.TraversableOnce.to$(TraversableOnce.scala:364)\n\tat org.apache.spark.InterruptibleIterator.to(InterruptibleIterator.scala:28)\n\tat scala.collection.TraversableOnce.toBuffer(TraversableOnce.scala:358)\n\tat scala.collection.TraversableOnce.toBuffer$(TraversableOnce.scala:358)\n\tat org.apache.spark.InterruptibleIterator.toBuffer(InterruptibleIterator.scala:28)\n\tat scala.collection.TraversableOnce.toArray(TraversableOnce.scala:345)\n\tat scala.collection.TraversableOnce.toArray$(TraversableOnce.scala:339)\n\tat org.apache.spark.InterruptibleIterator.toArray(InterruptibleIterator.scala:28)\n\tat org.apache.spark.rdd.RDD.$anonfun$collect$2(RDD.scala:1030)\n\tat org.apache.spark.SparkContext.$anonfun$runJob$5(SparkContext.scala:2254)\n\tat org.apache.spark.scheduler.ResultTask.runTask(ResultTask.scala:90)\n\tat org.apache.spark.scheduler.Task.run(Task.scala:131)\n\tat org.apache.spark.executor.Executor$TaskRunner.$anonfun$run$3(Executor.scala:506)\n\tat org.apache.spark.util.Utils$.tryWithSafeFinally(Utils.scala:1462)\n\tat org.apache.spark.executor.Executor$TaskRunner.run(Executor.scala:509)\n\tat java.base/java.util.concurrent.ThreadPoolExecutor.runWorker(ThreadPoolExecutor.java:1128)\n\tat java.base/java.util.concurrent.ThreadPoolExecutor$Worker.run(ThreadPoolExecutor.java:628)\n\tat java.base/java.lang.Thread.run(Thread.java:829)\n\nDriver stacktrace:\n\tat org.apache.spark.scheduler.DAGScheduler.failJobAndIndependentStages(DAGScheduler.scala:2454)\n\tat org.apache.spark.scheduler.DAGScheduler.$anonfun$abortStage$2(DAGScheduler.scala:2403)\n\tat org.apache.spark.scheduler.DAGScheduler.$anonfun$abortStage$2$adapted(DAGScheduler.scala:2402)\n\tat scala.collection.mutable.ResizableArray.foreach(ResizableArray.scala:62)\n\tat scala.collection.mutable.ResizableArray.foreach$(ResizableArray.scala:55)\n\tat scala.collection.mutable.ArrayBuffer.foreach(ArrayBuffer.scala:49)\n\tat org.apache.spark.scheduler.DAGScheduler.abortStage(DAGScheduler.scala:2402)\n\tat org.apache.spark.scheduler.DAGScheduler.$anonfun$handleTaskSetFailed$1(DAGScheduler.scala:1160)\n\tat org.apache.spark.scheduler.DAGScheduler.$anonfun$handleTaskSetFailed$1$adapted(DAGScheduler.scala:1160)\n\tat scala.Option.foreach(Option.scala:407)\n\tat org.apache.spark.scheduler.DAGScheduler.handleTaskSetFailed(DAGScheduler.scala:1160)\n\tat org.apache.spark.scheduler.DAGSchedulerEventProcessLoop.doOnReceive(DAGScheduler.scala:2642)\n\tat org.apache.spark.scheduler.DAGSchedulerEventProcessLoop.onReceive(DAGScheduler.scala:2584)\n\tat org.apache.spark.scheduler.DAGSchedulerEventProcessLoop.onReceive(DAGScheduler.scala:2573)\n\tat org.apache.spark.util.EventLoop$$anon$1.run(EventLoop.scala:49)\n\tat org.apache.spark.scheduler.DAGScheduler.runJob(DAGScheduler.scala:938)\n\tat org.apache.spark.SparkContext.runJob(SparkContext.scala:2214)\n\tat org.apache.spark.SparkContext.runJob(SparkContext.scala:2235)\n\tat org.apache.spark.SparkContext.runJob(SparkContext.scala:2254)\n\tat org.apache.spark.SparkContext.runJob(SparkContext.scala:2279)\n\tat org.apache.spark.rdd.RDD.$anonfun$collect$1(RDD.scala:1030)\n\tat org.apache.spark.rdd.RDDOperationScope$.withScope(RDDOperationScope.scala:151)\n\tat org.apache.spark.rdd.RDDOperationScope$.withScope(RDDOperationScope.scala:112)\n\tat org.apache.spark.rdd.RDD.withScope(RDD.scala:414)\n\tat org.apache.spark.rdd.RDD.collect(RDD.scala:1029)\n\tat org.apache.spark.api.python.PythonRDD$.collectAndServe(PythonRDD.scala:180)\n\tat org.apache.spark.api.python.PythonRDD.collectAndServe(PythonRDD.scala)\n\tat java.base/jdk.internal.reflect.NativeMethodAccessorImpl.invoke0(Native Method)\n\tat java.base/jdk.internal.reflect.NativeMethodAccessorImpl.invoke(NativeMethodAccessorImpl.java:62)\n\tat java.base/jdk.internal.reflect.DelegatingMethodAccessorImpl.invoke(DelegatingMethodAccessorImpl.java:43)\n\tat java.base/java.lang.reflect.Method.invoke(Method.java:566)\n\tat py4j.reflection.MethodInvoker.invoke(MethodInvoker.java:244)\n\tat py4j.reflection.ReflectionEngine.invoke(ReflectionEngine.java:357)\n\tat py4j.Gateway.invoke(Gateway.java:282)\n\tat py4j.commands.AbstractCommand.invokeMethod(AbstractCommand.java:132)\n\tat py4j.commands.CallCommand.execute(CallCommand.java:79)\n\tat py4j.ClientServerConnection.waitForCommands(ClientServerConnection.java:182)\n\tat py4j.ClientServerConnection.run(ClientServerConnection.java:106)\n\tat java.base/java.lang.Thread.run(Thread.java:829)\nCaused by: org.apache.spark.api.python.PythonException: Traceback (most recent call last):\n  File \"/usr/local/lib/python3.7/dist-packages/pyspark/python/lib/pyspark.zip/pyspark/worker.py\", line 619, in main\n    process()\n  File \"/usr/local/lib/python3.7/dist-packages/pyspark/python/lib/pyspark.zip/pyspark/worker.py\", line 611, in process\n    serializer.dump_stream(out_iter, outfile)\n  File \"/usr/local/lib/python3.7/dist-packages/pyspark/python/lib/pyspark.zip/pyspark/serializers.py\", line 259, in dump_stream\n    vs = list(itertools.islice(iterator, batch))\n  File \"/usr/local/lib/python3.7/dist-packages/pyspark/rdd.py\", line 994, in func\n    initial = next(iterator)\n  File \"/usr/local/lib/python3.7/dist-packages/pyspark/rdd.py\", line 1480, in topIterator\n    yield heapq.nlargest(num, iterator, key=key)\n  File \"/usr/lib/python3.7/heapq.py\", line 552, in nlargest\n    result = [(elem, i) for i, elem in zip(range(0, -n, -1), it)]\n  File \"/usr/lib/python3.7/heapq.py\", line 552, in <listcomp>\n    result = [(elem, i) for i, elem in zip(range(0, -n, -1), it)]\n  File \"/usr/local/lib/python3.7/dist-packages/pyspark/python/lib/pyspark.zip/pyspark/util.py\", line 74, in wrapper\n    return f(*args, **kwargs)\n  File \"<ipython-input-12-5d00a42d393d>\", line 1, in <lambda>\nTypeError: '>' not supported between instances of 'str' and 'int'\n\n\tat org.apache.spark.api.python.BasePythonRunner$ReaderIterator.handlePythonException(PythonRunner.scala:555)\n\tat org.apache.spark.api.python.PythonRunner$$anon$3.read(PythonRunner.scala:713)\n\tat org.apache.spark.api.python.PythonRunner$$anon$3.read(PythonRunner.scala:695)\n\tat org.apache.spark.api.python.BasePythonRunner$ReaderIterator.hasNext(PythonRunner.scala:508)\n\tat org.apache.spark.InterruptibleIterator.hasNext(InterruptibleIterator.scala:37)\n\tat scala.collection.Iterator.foreach(Iterator.scala:943)\n\tat scala.collection.Iterator.foreach$(Iterator.scala:943)\n\tat org.apache.spark.InterruptibleIterator.foreach(InterruptibleIterator.scala:28)\n\tat scala.collection.generic.Growable.$plus$plus$eq(Growable.scala:62)\n\tat scala.collection.generic.Growable.$plus$plus$eq$(Growable.scala:53)\n\tat scala.collection.mutable.ArrayBuffer.$plus$plus$eq(ArrayBuffer.scala:105)\n\tat scala.collection.mutable.ArrayBuffer.$plus$plus$eq(ArrayBuffer.scala:49)\n\tat scala.collection.TraversableOnce.to(TraversableOnce.scala:366)\n\tat scala.collection.TraversableOnce.to$(TraversableOnce.scala:364)\n\tat org.apache.spark.InterruptibleIterator.to(InterruptibleIterator.scala:28)\n\tat scala.collection.TraversableOnce.toBuffer(TraversableOnce.scala:358)\n\tat scala.collection.TraversableOnce.toBuffer$(TraversableOnce.scala:358)\n\tat org.apache.spark.InterruptibleIterator.toBuffer(InterruptibleIterator.scala:28)\n\tat scala.collection.TraversableOnce.toArray(TraversableOnce.scala:345)\n\tat scala.collection.TraversableOnce.toArray$(TraversableOnce.scala:339)\n\tat org.apache.spark.InterruptibleIterator.toArray(InterruptibleIterator.scala:28)\n\tat org.apache.spark.rdd.RDD.$anonfun$collect$2(RDD.scala:1030)\n\tat org.apache.spark.SparkContext.$anonfun$runJob$5(SparkContext.scala:2254)\n\tat org.apache.spark.scheduler.ResultTask.runTask(ResultTask.scala:90)\n\tat org.apache.spark.scheduler.Task.run(Task.scala:131)\n\tat org.apache.spark.executor.Executor$TaskRunner.$anonfun$run$3(Executor.scala:506)\n\tat org.apache.spark.util.Utils$.tryWithSafeFinally(Utils.scala:1462)\n\tat org.apache.spark.executor.Executor$TaskRunner.run(Executor.scala:509)\n\tat java.base/java.util.concurrent.ThreadPoolExecutor.runWorker(ThreadPoolExecutor.java:1128)\n\tat java.base/java.util.concurrent.ThreadPoolExecutor$Worker.run(ThreadPoolExecutor.java:628)\n\t... 1 more\n"
          ]
        }
      ]
    },
    {
      "cell_type": "code",
      "source": [
        "header = ibmrdd.first()"
      ],
      "metadata": {
        "id": "pMc-iKYd4hlG"
      },
      "execution_count": 14,
      "outputs": []
    },
    {
      "cell_type": "code",
      "source": [
        "header"
      ],
      "metadata": {
        "colab": {
          "base_uri": "https://localhost:8080/",
          "height": 87
        },
        "id": "hvDeyq3v4578",
        "outputId": "a88e00d8-517b-43f4-bbed-fad11a5eb2cd"
      },
      "execution_count": 15,
      "outputs": [
        {
          "output_type": "execute_result",
          "data": {
            "text/plain": [
              "'Age,Attrition,BusinessTravel,DailyRate,Department,DistanceFromHome,Education,EducationField,EmployeeCount,EmployeeNumber,EnvironmentSatisfaction,Gender,HourlyRate,JobInvolvement,JobLevel,JobRole,JobSatisfaction,MaritalStatus,MonthlyIncome,MonthlyRate,NumCompaniesWorked,Over18,OverTime,PercentSalaryHike,PerformanceRating,RelationshipSatisfaction,StandardHours,StockOptionLevel,TotalWorkingYears,TrainingTimesLastYear,WorkLifeBalance,YearsAtCompany,YearsInCurrentRole,YearsSinceLastPromotion,YearsWithCurrManager'"
            ],
            "application/vnd.google.colaboratory.intrinsic+json": {
              "type": "string"
            }
          },
          "metadata": {},
          "execution_count": 15
        }
      ]
    },
    {
      "cell_type": "code",
      "source": [
        "newibmrdd = ibmrdd.filter(lambda x:x != header)"
      ],
      "metadata": {
        "id": "tzPbfhMJ4730"
      },
      "execution_count": 16,
      "outputs": []
    },
    {
      "cell_type": "code",
      "source": [
        "newibmrdd.take(5)"
      ],
      "metadata": {
        "colab": {
          "base_uri": "https://localhost:8080/"
        },
        "id": "PYkQI2DR53LR",
        "outputId": "7fc5dca9-93e3-4559-84dc-3650795ec125"
      },
      "execution_count": 17,
      "outputs": [
        {
          "output_type": "execute_result",
          "data": {
            "text/plain": [
              "['41,Yes,Travel_Rarely,1102,Sales,1,2,Life Sciences,1,1,2,Female,94,3,2,Sales Executive,4,Single,5993,19479,8,Y,Yes,11,3,1,80,0,8,0,1,6,4,0,5',\n",
              " '49,No,Travel_Frequently,279,Research & Development,8,1,Life Sciences,1,2,3,Male,61,2,2,Research Scientist,2,Married,5130,24907,1,Y,No,23,4,4,80,1,10,3,3,10,7,1,7',\n",
              " '37,Yes,Travel_Rarely,1373,Research & Development,2,2,Other,1,4,4,Male,92,2,1,Laboratory Technician,3,Single,2090,2396,6,Y,Yes,15,3,2,80,0,7,3,3,0,0,0,0',\n",
              " '33,No,Travel_Frequently,1392,Research & Development,3,4,Life Sciences,1,5,4,Female,56,3,1,Research Scientist,3,Married,2909,23159,1,Y,Yes,11,3,3,80,0,8,3,3,8,7,3,0',\n",
              " '27,No,Travel_Rarely,591,Research & Development,2,1,Medical,1,7,1,Male,40,3,1,Laboratory Technician,2,Married,3468,16632,9,Y,No,12,3,4,80,1,6,3,3,2,2,2,2']"
            ]
          },
          "metadata": {},
          "execution_count": 17
        }
      ]
    },
    {
      "cell_type": "code",
      "source": [
        "newibmrdd.count()"
      ],
      "metadata": {
        "colab": {
          "base_uri": "https://localhost:8080/"
        },
        "id": "h43R8qJt56Ka",
        "outputId": "589b98ef-7614-4f93-bf23-fa6faad85aa7"
      },
      "execution_count": 18,
      "outputs": [
        {
          "output_type": "execute_result",
          "data": {
            "text/plain": [
              "1470"
            ]
          },
          "metadata": {},
          "execution_count": 18
        }
      ]
    },
    {
      "cell_type": "code",
      "source": [
        "agerdd1 = newibmrdd.map(lambda x: x.split(\",\")[0])"
      ],
      "metadata": {
        "id": "FpCm0hK16Ejm"
      },
      "execution_count": 21,
      "outputs": []
    },
    {
      "cell_type": "code",
      "source": [
        "agerdd1.top(5)"
      ],
      "metadata": {
        "colab": {
          "base_uri": "https://localhost:8080/"
        },
        "id": "qzeF9hH06Y7T",
        "outputId": "2e4ccbb8-2360-43a6-c5d9-acffc52057eb"
      },
      "execution_count": 27,
      "outputs": [
        {
          "output_type": "execute_result",
          "data": {
            "text/plain": [
              "['60', '60', '60', '60', '60']"
            ]
          },
          "metadata": {},
          "execution_count": 27
        }
      ]
    },
    {
      "cell_type": "code",
      "source": [
        "above60 = agerdd1.filter(lambda x:int(x)>40)"
      ],
      "metadata": {
        "id": "F5R-lsK065kw"
      },
      "execution_count": 34,
      "outputs": []
    },
    {
      "cell_type": "code",
      "source": [
        "above60.top(10)"
      ],
      "metadata": {
        "colab": {
          "base_uri": "https://localhost:8080/"
        },
        "id": "M25Kty7Z7BuE",
        "outputId": "5c4a25b9-97f4-496f-94a1-40268924a6b5"
      },
      "execution_count": 36,
      "outputs": [
        {
          "output_type": "execute_result",
          "data": {
            "text/plain": [
              "['60', '60', '60', '60', '60', '59', '59', '59', '59', '59']"
            ]
          },
          "metadata": {},
          "execution_count": 36
        }
      ]
    },
    {
      "cell_type": "code",
      "source": [
        "above60.count()"
      ],
      "metadata": {
        "colab": {
          "base_uri": "https://localhost:8080/"
        },
        "id": "EQ_G0Bn26bID",
        "outputId": "b0b85767-e40e-462e-a848-7fb2a4820281"
      },
      "execution_count": 37,
      "outputs": [
        {
          "output_type": "execute_result",
          "data": {
            "text/plain": [
              "465"
            ]
          },
          "metadata": {},
          "execution_count": 37
        }
      ]
    },
    {
      "cell_type": "code",
      "source": [
        "def myfun(x):\n",
        "  a = int(x.split(\",\")[19])    #monthly income\n",
        "  b = int(x.split(\",\")[3])     # dailyrate\n",
        "  c = b*3\n",
        "  result = a-c    # monthly income - dailyrate X 3\n",
        "  return result"
      ],
      "metadata": {
        "id": "TPaKWPPg6ppp"
      },
      "execution_count": 38,
      "outputs": []
    },
    {
      "cell_type": "code",
      "source": [
        "dailyrate = newibmrdd.map(myfun)"
      ],
      "metadata": {
        "id": "3eUCi60o8JnO"
      },
      "execution_count": 39,
      "outputs": []
    },
    {
      "cell_type": "code",
      "source": [
        "dailyrate.top(4)"
      ],
      "metadata": {
        "colab": {
          "base_uri": "https://localhost:8080/"
        },
        "id": "nf-itvBD9ZP9",
        "outputId": "926d1ffc-e6b3-4aae-fdb0-99c2180f057d"
      },
      "execution_count": 40,
      "outputs": [
        {
          "output_type": "execute_result",
          "data": {
            "text/plain": [
              "[23499, 22967, 22455, 21631]"
            ]
          },
          "metadata": {},
          "execution_count": 40
        }
      ]
    },
    {
      "cell_type": "code",
      "source": [
        "dailyrate.collect()"
      ],
      "metadata": {
        "colab": {
          "base_uri": "https://localhost:8080/"
        },
        "id": "9NGXl1yr9bxp",
        "outputId": "e5939703-5d1a-4208-972f-934f88a5d990"
      },
      "execution_count": 41,
      "outputs": [
        {
          "output_type": "execute_result",
          "data": {
            "text/plain": [
              "[-13581,\n",
              " 16537,\n",
              " -38794,\n",
              " -18601,\n",
              " -1098,\n",
              " -18286,\n",
              " -29756,\n",
              " -27405,\n",
              " 2307,\n",
              " -22393,\n",
              " -7791,\n",
              " 8092,\n",
              " -4930,\n",
              " -31622,\n",
              " 9857,\n",
              " -31475,\n",
              " 5033,\n",
              " -26366,\n",
              " -14549,\n",
              " -6824,\n",
              " -11958,\n",
              " -29554,\n",
              " 8723,\n",
              " 7551,\n",
              " -3868,\n",
              " -27725,\n",
              " -29069,\n",
              " 443,\n",
              " -12216,\n",
              " 1672,\n",
              " -21050,\n",
              " -24649,\n",
              " 12367,\n",
              " -23515,\n",
              " -21370,\n",
              " -16267,\n",
              " -22260,\n",
              " -17013,\n",
              " -12488,\n",
              " -31037,\n",
              " -3010,\n",
              " -17485,\n",
              " -30152,\n",
              " -26845,\n",
              " -10849,\n",
              " -24520,\n",
              " -21916,\n",
              " -2013,\n",
              " -15885,\n",
              " -31978,\n",
              " 514,\n",
              " -31841,\n",
              " -40631,\n",
              " -24608,\n",
              " -21854,\n",
              " -304,\n",
              " -14559,\n",
              " -18258,\n",
              " -10122,\n",
              " -30761,\n",
              " -1933,\n",
              " -14134,\n",
              " -12969,\n",
              " -40696,\n",
              " -28488,\n",
              " -5350,\n",
              " -13194,\n",
              " -21383,\n",
              " -14052,\n",
              " 12237,\n",
              " -12082,\n",
              " -34884,\n",
              " -13685,\n",
              " -9094,\n",
              " 18042,\n",
              " -1698,\n",
              " -264,\n",
              " 9277,\n",
              " 13348,\n",
              " -17925,\n",
              " -9562,\n",
              " -10142,\n",
              " 14762,\n",
              " -1473,\n",
              " -16854,\n",
              " -20302,\n",
              " -6712,\n",
              " 5765,\n",
              " 7190,\n",
              " -6474,\n",
              " -1785,\n",
              " -10537,\n",
              " -20260,\n",
              " -15998,\n",
              " -8489,\n",
              " -12509,\n",
              " -23071,\n",
              " 5263,\n",
              " 3949,\n",
              " 10373,\n",
              " -562,\n",
              " -9632,\n",
              " -6347,\n",
              " -7468,\n",
              " -15350,\n",
              " -20678,\n",
              " -23695,\n",
              " 19759,\n",
              " -11503,\n",
              " 7765,\n",
              " -17884,\n",
              " 3147,\n",
              " 9611,\n",
              " -20553,\n",
              " -15930,\n",
              " -21164,\n",
              " -35005,\n",
              " -21058,\n",
              " -25099,\n",
              " 7674,\n",
              " -17050,\n",
              " -7020,\n",
              " -8720,\n",
              " -14058,\n",
              " 13269,\n",
              " -1930,\n",
              " -945,\n",
              " 10980,\n",
              " 1479,\n",
              " -8551,\n",
              " -12620,\n",
              " -17625,\n",
              " 8528,\n",
              " -2864,\n",
              " -31734,\n",
              " -3661,\n",
              " -9350,\n",
              " -25280,\n",
              " -3935,\n",
              " -23218,\n",
              " -20766,\n",
              " -29728,\n",
              " -8618,\n",
              " 10770,\n",
              " 2142,\n",
              " 4385,\n",
              " -31648,\n",
              " -12822,\n",
              " -21029,\n",
              " -19328,\n",
              " -33346,\n",
              " -8421,\n",
              " -27033,\n",
              " 5081,\n",
              " -13421,\n",
              " -18597,\n",
              " -21087,\n",
              " -22477,\n",
              " -10348,\n",
              " 2224,\n",
              " -25688,\n",
              " -14760,\n",
              " -6528,\n",
              " 13382,\n",
              " -18174,\n",
              " -26507,\n",
              " -9341,\n",
              " -32117,\n",
              " -8130,\n",
              " 8830,\n",
              " -21346,\n",
              " 2929,\n",
              " -29338,\n",
              " 7682,\n",
              " -31721,\n",
              " -7451,\n",
              " 6495,\n",
              " 151,\n",
              " -13643,\n",
              " -35081,\n",
              " 2784,\n",
              " -13159,\n",
              " -18952,\n",
              " -6415,\n",
              " -6270,\n",
              " -23257,\n",
              " -23171,\n",
              " -7421,\n",
              " -17996,\n",
              " -2198,\n",
              " -15292,\n",
              " -15039,\n",
              " -1183,\n",
              " -35092,\n",
              " -15388,\n",
              " 14277,\n",
              " 11846,\n",
              " -11341,\n",
              " -30571,\n",
              " -28335,\n",
              " -4481,\n",
              " -6267,\n",
              " -20368,\n",
              " -10627,\n",
              " -24046,\n",
              " 20895,\n",
              " -21688,\n",
              " -11347,\n",
              " -20288,\n",
              " -6952,\n",
              " -5538,\n",
              " -3945,\n",
              " -24344,\n",
              " -28334,\n",
              " -21594,\n",
              " -12206,\n",
              " 12947,\n",
              " -10003,\n",
              " -14720,\n",
              " -17399,\n",
              " -31935,\n",
              " 8838,\n",
              " -9834,\n",
              " 6077,\n",
              " -24989,\n",
              " 4196,\n",
              " -7031,\n",
              " -35791,\n",
              " -19224,\n",
              " -11919,\n",
              " -36390,\n",
              " -11027,\n",
              " 1117,\n",
              " -1502,\n",
              " -2241,\n",
              " -23276,\n",
              " 7559,\n",
              " -2100,\n",
              " -21040,\n",
              " -5879,\n",
              " -27513,\n",
              " -17211,\n",
              " -22453,\n",
              " -14553,\n",
              " 8410,\n",
              " -26287,\n",
              " -10184,\n",
              " 9587,\n",
              " -11813,\n",
              " -30852,\n",
              " 7453,\n",
              " -8730,\n",
              " 2723,\n",
              " -4464,\n",
              " -26678,\n",
              " -13045,\n",
              " -63,\n",
              " -36531,\n",
              " -1759,\n",
              " 2442,\n",
              " -13268,\n",
              " -20128,\n",
              " 15897,\n",
              " 337,\n",
              " -935,\n",
              " -32613,\n",
              " -29482,\n",
              " -1866,\n",
              " -34049,\n",
              " -21839,\n",
              " 5378,\n",
              " -9712,\n",
              " -32127,\n",
              " 15985,\n",
              " -19349,\n",
              " -10163,\n",
              " -20350,\n",
              " 9531,\n",
              " -17603,\n",
              " -8095,\n",
              " -11084,\n",
              " 5482,\n",
              " 7000,\n",
              " 11562,\n",
              " 7842,\n",
              " -25279,\n",
              " -7680,\n",
              " -1741,\n",
              " -29290,\n",
              " -29022,\n",
              " 6514,\n",
              " 11105,\n",
              " -9411,\n",
              " -20050,\n",
              " -15259,\n",
              " -1786,\n",
              " 18333,\n",
              " -31860,\n",
              " -9858,\n",
              " -22739,\n",
              " 5876,\n",
              " -14636,\n",
              " -39456,\n",
              " 5701,\n",
              " -23018,\n",
              " -26223,\n",
              " -10195,\n",
              " 1237,\n",
              " 5356,\n",
              " -10653,\n",
              " 14642,\n",
              " -17162,\n",
              " 1987,\n",
              " 6774,\n",
              " 1845,\n",
              " 5125,\n",
              " -14920,\n",
              " -3943,\n",
              " -15662,\n",
              " 6984,\n",
              " -36068,\n",
              " -13587,\n",
              " -19983,\n",
              " -9973,\n",
              " -26316,\n",
              " -9906,\n",
              " 981,\n",
              " -17082,\n",
              " -10923,\n",
              " -28085,\n",
              " -10543,\n",
              " 15807,\n",
              " -10955,\n",
              " -20768,\n",
              " -7192,\n",
              " -20447,\n",
              " -4781,\n",
              " -14519,\n",
              " -11669,\n",
              " -30485,\n",
              " -12583,\n",
              " 5392,\n",
              " -11247,\n",
              " 7546,\n",
              " -20616,\n",
              " -23178,\n",
              " -4380,\n",
              " -13519,\n",
              " -8399,\n",
              " -5452,\n",
              " 7697,\n",
              " -27904,\n",
              " 8078,\n",
              " -22569,\n",
              " -13161,\n",
              " -7834,\n",
              " -22882,\n",
              " -13530,\n",
              " -10074,\n",
              " -8984,\n",
              " -14823,\n",
              " -12635,\n",
              " -23999,\n",
              " -1350,\n",
              " -9967,\n",
              " -18276,\n",
              " 5268,\n",
              " -28625,\n",
              " -11140,\n",
              " -4689,\n",
              " 20742,\n",
              " -20322,\n",
              " -3256,\n",
              " -26189,\n",
              " 11630,\n",
              " -25764,\n",
              " -20478,\n",
              " 1998,\n",
              " -36208,\n",
              " -16072,\n",
              " -35215,\n",
              " 11374,\n",
              " -10668,\n",
              " 16850,\n",
              " -1111,\n",
              " -10493,\n",
              " -6296,\n",
              " -217,\n",
              " 14460,\n",
              " -18027,\n",
              " -25115,\n",
              " -3214,\n",
              " -16121,\n",
              " -28690,\n",
              " -10244,\n",
              " 5848,\n",
              " -41963,\n",
              " -14640,\n",
              " -8024,\n",
              " 6323,\n",
              " -28327,\n",
              " -8924,\n",
              " -12902,\n",
              " 216,\n",
              " -25465,\n",
              " -11244,\n",
              " 10039,\n",
              " 3895,\n",
              " -34390,\n",
              " -3028,\n",
              " 15283,\n",
              " -8806,\n",
              " -18236,\n",
              " -36654,\n",
              " -21468,\n",
              " 3373,\n",
              " -32594,\n",
              " -28918,\n",
              " -37438,\n",
              " -25266,\n",
              " -8054,\n",
              " 6060,\n",
              " 3767,\n",
              " -39050,\n",
              " 15802,\n",
              " -23656,\n",
              " -26299,\n",
              " -42125,\n",
              " -22101,\n",
              " -27982,\n",
              " 14905,\n",
              " 6988,\n",
              " -30674,\n",
              " -22187,\n",
              " -23826,\n",
              " -13691,\n",
              " -10905,\n",
              " 6008,\n",
              " -23985,\n",
              " 6888,\n",
              " -18107,\n",
              " -34960,\n",
              " -3732,\n",
              " -31911,\n",
              " 14768,\n",
              " -23637,\n",
              " 5420,\n",
              " 89,\n",
              " 11304,\n",
              " 4582,\n",
              " -16494,\n",
              " -2620,\n",
              " -653,\n",
              " 10028,\n",
              " 15685,\n",
              " -5082,\n",
              " 4651,\n",
              " -31121,\n",
              " -21447,\n",
              " -13158,\n",
              " -18983,\n",
              " 848,\n",
              " 12181,\n",
              " 9083,\n",
              " -122,\n",
              " -22036,\n",
              " -32654,\n",
              " 20406,\n",
              " -6593,\n",
              " -20306,\n",
              " -10520,\n",
              " -22676,\n",
              " 2321,\n",
              " -35225,\n",
              " 900,\n",
              " -13662,\n",
              " -15590,\n",
              " -29381,\n",
              " 7716,\n",
              " -24442,\n",
              " 1030,\n",
              " 15174,\n",
              " -29438,\n",
              " -2136,\n",
              " -9531,\n",
              " -18927,\n",
              " -13730,\n",
              " -17013,\n",
              " -12942,\n",
              " -20789,\n",
              " 3701,\n",
              " -10403,\n",
              " -19083,\n",
              " -6466,\n",
              " -3208,\n",
              " -26254,\n",
              " -15846,\n",
              " -30092,\n",
              " -5975,\n",
              " -16049,\n",
              " -1291,\n",
              " 17853,\n",
              " 367,\n",
              " -34250,\n",
              " -3550,\n",
              " -11971,\n",
              " -4854,\n",
              " -31793,\n",
              " -11142,\n",
              " -33545,\n",
              " -5181,\n",
              " -13456,\n",
              " -18276,\n",
              " -13861,\n",
              " -29116,\n",
              " -4910,\n",
              " -18006,\n",
              " -8622,\n",
              " 501,\n",
              " -5221,\n",
              " -5913,\n",
              " -25627,\n",
              " -21518,\n",
              " -32913,\n",
              " -25606,\n",
              " 3995,\n",
              " 8738,\n",
              " -6167,\n",
              " 6592,\n",
              " -5427,\n",
              " -12231,\n",
              " -11167,\n",
              " -9265,\n",
              " 6372,\n",
              " -15586,\n",
              " -3949,\n",
              " -23446,\n",
              " -4011,\n",
              " 10142,\n",
              " 503,\n",
              " -15748,\n",
              " 7525,\n",
              " 10357,\n",
              " -9326,\n",
              " 3715,\n",
              " 10245,\n",
              " -39125,\n",
              " -7624,\n",
              " 433,\n",
              " -21740,\n",
              " -15156,\n",
              " 14537,\n",
              " -4540,\n",
              " -1191,\n",
              " -5852,\n",
              " -14733,\n",
              " 539,\n",
              " -31989,\n",
              " 8246,\n",
              " 12431,\n",
              " -823,\n",
              " -8546,\n",
              " -10603,\n",
              " -3683,\n",
              " -16232,\n",
              " 10330,\n",
              " -11231,\n",
              " 9566,\n",
              " -551,\n",
              " -28791,\n",
              " 5139,\n",
              " -11962,\n",
              " 5839,\n",
              " -31316,\n",
              " 8091,\n",
              " 11390,\n",
              " -862,\n",
              " 2775,\n",
              " 18885,\n",
              " 3900,\n",
              " 8797,\n",
              " -3255,\n",
              " -13799,\n",
              " -20025,\n",
              " -875,\n",
              " -33845,\n",
              " -6209,\n",
              " -17929,\n",
              " -13849,\n",
              " -17461,\n",
              " 19605,\n",
              " 22967,\n",
              " 6922,\n",
              " 3081,\n",
              " -13781,\n",
              " 17181,\n",
              " -24439,\n",
              " -23909,\n",
              " -10326,\n",
              " -5703,\n",
              " -6646,\n",
              " -9617,\n",
              " -8146,\n",
              " -1407,\n",
              " -16184,\n",
              " -9846,\n",
              " -12754,\n",
              " -29660,\n",
              " 8439,\n",
              " -12470,\n",
              " 772,\n",
              " -9631,\n",
              " -19102,\n",
              " -22627,\n",
              " -5712,\n",
              " 3281,\n",
              " -33946,\n",
              " -13553,\n",
              " 16232,\n",
              " 4236,\n",
              " -22438,\n",
              " -25017,\n",
              " 5740,\n",
              " -27987,\n",
              " 885,\n",
              " -8661,\n",
              " 3022,\n",
              " -7672,\n",
              " 14298,\n",
              " -11105,\n",
              " -17754,\n",
              " -24536,\n",
              " -29062,\n",
              " -29705,\n",
              " 10133,\n",
              " 5247,\n",
              " 12712,\n",
              " 148,\n",
              " 664,\n",
              " -31986,\n",
              " -27292,\n",
              " -2479,\n",
              " 252,\n",
              " -14224,\n",
              " -21789,\n",
              " 13292,\n",
              " -3251,\n",
              " -11031,\n",
              " -15708,\n",
              " 17146,\n",
              " 9122,\n",
              " 10313,\n",
              " -32746,\n",
              " -21886,\n",
              " -33700,\n",
              " -9600,\n",
              " 6796,\n",
              " -26526,\n",
              " -12322,\n",
              " -378,\n",
              " -10046,\n",
              " 18504,\n",
              " 7052,\n",
              " -33940,\n",
              " -37929,\n",
              " -30483,\n",
              " -8488,\n",
              " -14825,\n",
              " -20016,\n",
              " -29357,\n",
              " -732,\n",
              " -9484,\n",
              " -6036,\n",
              " -32601,\n",
              " -28905,\n",
              " 7117,\n",
              " -14940,\n",
              " 6667,\n",
              " -38527,\n",
              " -11234,\n",
              " 17653,\n",
              " -23698,\n",
              " -31546,\n",
              " -7212,\n",
              " 912,\n",
              " -27342,\n",
              " -4771,\n",
              " -15853,\n",
              " -2623,\n",
              " 9138,\n",
              " -1111,\n",
              " -19007,\n",
              " -1386,\n",
              " -10382,\n",
              " -19779,\n",
              " -3828,\n",
              " -987,\n",
              " -23917,\n",
              " -30391,\n",
              " -17761,\n",
              " 17557,\n",
              " -27342,\n",
              " 3047,\n",
              " 15339,\n",
              " -19648,\n",
              " -24530,\n",
              " -27299,\n",
              " -34611,\n",
              " -10918,\n",
              " 272,\n",
              " -1171,\n",
              " -15701,\n",
              " 3411,\n",
              " -18215,\n",
              " -27165,\n",
              " -4649,\n",
              " -21465,\n",
              " -21934,\n",
              " 6599,\n",
              " -20079,\n",
              " 7399,\n",
              " -24009,\n",
              " -29603,\n",
              " 7228,\n",
              " -12063,\n",
              " -8586,\n",
              " -14315,\n",
              " 4883,\n",
              " -29287,\n",
              " -10515,\n",
              " 13212,\n",
              " -14635,\n",
              " 22455,\n",
              " -28646,\n",
              " 371,\n",
              " 4809,\n",
              " -18405,\n",
              " 6901,\n",
              " -6920,\n",
              " -26992,\n",
              " -14519,\n",
              " -180,\n",
              " -3955,\n",
              " 379,\n",
              " -19848,\n",
              " 8942,\n",
              " 12874,\n",
              " -26069,\n",
              " 13863,\n",
              " 17866,\n",
              " -31703,\n",
              " 20570,\n",
              " -18281,\n",
              " -23267,\n",
              " -9703,\n",
              " -31616,\n",
              " -22135,\n",
              " 5798,\n",
              " -21632,\n",
              " -15322,\n",
              " 19817,\n",
              " -11942,\n",
              " 5086,\n",
              " -21580,\n",
              " -10936,\n",
              " -32583,\n",
              " -31067,\n",
              " 10128,\n",
              " 13217,\n",
              " -2365,\n",
              " 8545,\n",
              " -24068,\n",
              " -25046,\n",
              " -8211,\n",
              " 4003,\n",
              " -7182,\n",
              " -5865,\n",
              " -22762,\n",
              " -9061,\n",
              " -29358,\n",
              " -28625,\n",
              " 5381,\n",
              " -26184,\n",
              " 3593,\n",
              " 14708,\n",
              " -18218,\n",
              " -32441,\n",
              " -16917,\n",
              " -17801,\n",
              " -38954,\n",
              " 1594,\n",
              " -25787,\n",
              " -21681,\n",
              " -4368,\n",
              " 3726,\n",
              " 14953,\n",
              " -31965,\n",
              " -20527,\n",
              " -27517,\n",
              " 329,\n",
              " -23110,\n",
              " -11519,\n",
              " -15699,\n",
              " 1568,\n",
              " -21706,\n",
              " -13530,\n",
              " -14498,\n",
              " -17531,\n",
              " -6242,\n",
              " -20461,\n",
              " 3416,\n",
              " 16719,\n",
              " -20925,\n",
              " 7457,\n",
              " -21696,\n",
              " -4194,\n",
              " -4400,\n",
              " 16728,\n",
              " -1809,\n",
              " -23619,\n",
              " -16960,\n",
              " 6659,\n",
              " -14256,\n",
              " 3240,\n",
              " 3918,\n",
              " -3851,\n",
              " -6986,\n",
              " -1102,\n",
              " 6146,\n",
              " 295,\n",
              " 4041,\n",
              " -19987,\n",
              " 6161,\n",
              " 1980,\n",
              " -36171,\n",
              " -8732,\n",
              " -1078,\n",
              " -4008,\n",
              " -11983,\n",
              " -17157,\n",
              " -13120,\n",
              " -7901,\n",
              " -21595,\n",
              " -28099,\n",
              " -22854,\n",
              " -5857,\n",
              " -4982,\n",
              " 5685,\n",
              " 7457,\n",
              " -31671,\n",
              " -10913,\n",
              " -2965,\n",
              " -15688,\n",
              " -12178,\n",
              " -23610,\n",
              " -19349,\n",
              " -11322,\n",
              " -22084,\n",
              " -18050,\n",
              " -1327,\n",
              " -33457,\n",
              " -17963,\n",
              " 949,\n",
              " 4019,\n",
              " -6887,\n",
              " -26678,\n",
              " -10080,\n",
              " -33140,\n",
              " -22921,\n",
              " -32651,\n",
              " -19804,\n",
              " -26148,\n",
              " -29475,\n",
              " -20645,\n",
              " -14281,\n",
              " 1744,\n",
              " -14570,\n",
              " 12933,\n",
              " 7488,\n",
              " -9987,\n",
              " 3851,\n",
              " -37142,\n",
              " -6655,\n",
              " 2801,\n",
              " 8381,\n",
              " -20057,\n",
              " -34581,\n",
              " 9541,\n",
              " -22605,\n",
              " -18713,\n",
              " -19321,\n",
              " -13528,\n",
              " -8972,\n",
              " -24702,\n",
              " 2924,\n",
              " -22871,\n",
              " -14662,\n",
              " 6710,\n",
              " -8975,\n",
              " -20816,\n",
              " -4814,\n",
              " -12450,\n",
              " -31802,\n",
              " -35666,\n",
              " -12717,\n",
              " -17397,\n",
              " -17957,\n",
              " -24219,\n",
              " 5628,\n",
              " 13271,\n",
              " 5711,\n",
              " -9930,\n",
              " -7517,\n",
              " -40977,\n",
              " 20282,\n",
              " 17778,\n",
              " 4906,\n",
              " 2109,\n",
              " 12086,\n",
              " -22868,\n",
              " 18484,\n",
              " -16888,\n",
              " -18493,\n",
              " 2393,\n",
              " -16030,\n",
              " -12462,\n",
              " 4434,\n",
              " -10547,\n",
              " -4555,\n",
              " 8432,\n",
              " -24783,\n",
              " -13512,\n",
              " -6895,\n",
              " -14468,\n",
              " 10850,\n",
              " -6427,\n",
              " 2115,\n",
              " 4974,\n",
              " 636,\n",
              " -9825,\n",
              " 11354,\n",
              " -10509,\n",
              " -4003,\n",
              " -6773,\n",
              " -27888,\n",
              " -17238,\n",
              " 8265,\n",
              " -9366,\n",
              " 6907,\n",
              " -2368,\n",
              " -8675,\n",
              " 14394,\n",
              " -23481,\n",
              " -13381,\n",
              " 11732,\n",
              " -1468,\n",
              " -2158,\n",
              " -5208,\n",
              " -22796,\n",
              " 6765,\n",
              " -26243,\n",
              " -11770,\n",
              " -5512,\n",
              " -10809,\n",
              " 8343,\n",
              " -17385,\n",
              " -6007,\n",
              " -3108,\n",
              " -15949,\n",
              " -6944,\n",
              " -32203,\n",
              " -17711,\n",
              " -14415,\n",
              " -13664,\n",
              " -3398,\n",
              " 1267,\n",
              " -22835,\n",
              " -14079,\n",
              " -22172,\n",
              " 8941,\n",
              " -9208,\n",
              " 3428,\n",
              " -5042,\n",
              " -5957,\n",
              " 2152,\n",
              " 11157,\n",
              " -41373,\n",
              " -835,\n",
              " -22047,\n",
              " -37988,\n",
              " -14037,\n",
              " 5527,\n",
              " -41101,\n",
              " -28683,\n",
              " 71,\n",
              " -7897,\n",
              " 950,\n",
              " 21631,\n",
              " -16440,\n",
              " -17794,\n",
              " ...]"
            ]
          },
          "metadata": {},
          "execution_count": 41
        }
      ]
    },
    {
      "cell_type": "code",
      "source": [
        "dailyrate.count()"
      ],
      "metadata": {
        "colab": {
          "base_uri": "https://localhost:8080/"
        },
        "id": "XCghWf3I9mRJ",
        "outputId": "c64e2791-f85e-47fe-dd6e-8ff15f7af84d"
      },
      "execution_count": 42,
      "outputs": [
        {
          "output_type": "execute_result",
          "data": {
            "text/plain": [
              "1470"
            ]
          },
          "metadata": {},
          "execution_count": 42
        }
      ]
    },
    {
      "cell_type": "code",
      "source": [
        "# the result of transformation is always an RDD\n",
        "\n",
        "# the result of action function may be anything"
      ],
      "metadata": {
        "id": "jJIW94Ij9rKV"
      },
      "execution_count": null,
      "outputs": []
    }
  ]
}