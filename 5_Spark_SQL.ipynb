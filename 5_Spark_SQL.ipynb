{
  "nbformat": 4,
  "nbformat_minor": 0,
  "metadata": {
    "colab": {
      "name": "Spark6.ipynb",
      "provenance": []
    },
    "kernelspec": {
      "name": "python3",
      "display_name": "Python 3"
    },
    "language_info": {
      "name": "python"
    }
  },
  "cells": [
    {
      "cell_type": "code",
      "execution_count": null,
      "metadata": {
        "colab": {
          "base_uri": "https://localhost:8080/"
        },
        "id": "jpEWVQvYnIaZ",
        "outputId": "40257d5b-b5d0-48c0-e254-af1908e96b79"
      },
      "outputs": [
        {
          "output_type": "stream",
          "name": "stdout",
          "text": [
            "Collecting pyspark\n",
            "  Downloading pyspark-3.2.1.tar.gz (281.4 MB)\n",
            "\u001b[K     |████████████████████████████████| 281.4 MB 32 kB/s \n",
            "\u001b[?25hCollecting py4j==0.10.9.3\n",
            "  Downloading py4j-0.10.9.3-py2.py3-none-any.whl (198 kB)\n",
            "\u001b[K     |████████████████████████████████| 198 kB 52.3 MB/s \n",
            "\u001b[?25hBuilding wheels for collected packages: pyspark\n",
            "  Building wheel for pyspark (setup.py) ... \u001b[?25l\u001b[?25hdone\n",
            "  Created wheel for pyspark: filename=pyspark-3.2.1-py2.py3-none-any.whl size=281853642 sha256=8ceecd4bc355fcff08ed645b1cd467c616c98618f5db47cb417443c283cdfa3a\n",
            "  Stored in directory: /root/.cache/pip/wheels/9f/f5/07/7cd8017084dce4e93e84e92efd1e1d5334db05f2e83bcef74f\n",
            "Successfully built pyspark\n",
            "Installing collected packages: py4j, pyspark\n",
            "Successfully installed py4j-0.10.9.3 pyspark-3.2.1\n"
          ]
        }
      ],
      "source": [
        "!pip install pyspark"
      ]
    },
    {
      "cell_type": "code",
      "source": [
        "from pyspark.sql import SparkSession"
      ],
      "metadata": {
        "id": "anFDVijGnMh3"
      },
      "execution_count": null,
      "outputs": []
    },
    {
      "cell_type": "code",
      "source": [
        "if __name__ == \"__main__\":\n",
        "  session = SparkSession.builder.appName(\"firstsql\").master(\"local[2]\").getOrCreate()\n",
        "  readdata = session.read"
      ],
      "metadata": {
        "id": "TCGo_catnUcX"
      },
      "execution_count": null,
      "outputs": []
    },
    {
      "cell_type": "code",
      "source": [
        "ibmdata = readdata.option(\"header\", True).option(\"inferSchema\", True).csv(\"IBMdata.csv\")"
      ],
      "metadata": {
        "id": "yBF-fTK8oTVJ"
      },
      "execution_count": null,
      "outputs": []
    },
    {
      "cell_type": "code",
      "source": [
        "ibmdata.printSchema()"
      ],
      "metadata": {
        "colab": {
          "base_uri": "https://localhost:8080/"
        },
        "id": "2TyinQm3poZ8",
        "outputId": "c8c3a248-5f0b-4724-be1f-f706c50560a6"
      },
      "execution_count": null,
      "outputs": [
        {
          "output_type": "stream",
          "name": "stdout",
          "text": [
            "root\n",
            " |-- Age: integer (nullable = true)\n",
            " |-- Attrition: string (nullable = true)\n",
            " |-- BusinessTravel: string (nullable = true)\n",
            " |-- DailyRate: integer (nullable = true)\n",
            " |-- Department: string (nullable = true)\n",
            " |-- DistanceFromHome: integer (nullable = true)\n",
            " |-- Education: integer (nullable = true)\n",
            " |-- EducationField: string (nullable = true)\n",
            " |-- EmployeeCount: integer (nullable = true)\n",
            " |-- EmployeeNumber: integer (nullable = true)\n",
            " |-- EnvironmentSatisfaction: integer (nullable = true)\n",
            " |-- Gender: string (nullable = true)\n",
            " |-- HourlyRate: integer (nullable = true)\n",
            " |-- JobInvolvement: integer (nullable = true)\n",
            " |-- JobLevel: integer (nullable = true)\n",
            " |-- JobRole: string (nullable = true)\n",
            " |-- JobSatisfaction: integer (nullable = true)\n",
            " |-- MaritalStatus: string (nullable = true)\n",
            " |-- MonthlyIncome: integer (nullable = true)\n",
            " |-- MonthlyRate: integer (nullable = true)\n",
            " |-- NumCompaniesWorked: integer (nullable = true)\n",
            " |-- Over18: string (nullable = true)\n",
            " |-- OverTime: string (nullable = true)\n",
            " |-- PercentSalaryHike: integer (nullable = true)\n",
            " |-- PerformanceRating: integer (nullable = true)\n",
            " |-- RelationshipSatisfaction: integer (nullable = true)\n",
            " |-- StandardHours: integer (nullable = true)\n",
            " |-- StockOptionLevel: integer (nullable = true)\n",
            " |-- TotalWorkingYears: integer (nullable = true)\n",
            " |-- TrainingTimesLastYear: integer (nullable = true)\n",
            " |-- WorkLifeBalance: integer (nullable = true)\n",
            " |-- YearsAtCompany: integer (nullable = true)\n",
            " |-- YearsInCurrentRole: integer (nullable = true)\n",
            " |-- YearsSinceLastPromotion: integer (nullable = true)\n",
            " |-- YearsWithCurrManager: integer (nullable = true)\n",
            "\n"
          ]
        }
      ]
    },
    {
      "cell_type": "code",
      "source": [
        "result1 = ibmdata.select(\"Gender\", \"Age\")"
      ],
      "metadata": {
        "id": "AVPGgRLWprXI"
      },
      "execution_count": null,
      "outputs": []
    },
    {
      "cell_type": "code",
      "source": [
        "result1.show()"
      ],
      "metadata": {
        "colab": {
          "base_uri": "https://localhost:8080/"
        },
        "id": "e6AXnaFiqePb",
        "outputId": "52e29657-5204-4abe-9b8e-6c902d4579da"
      },
      "execution_count": null,
      "outputs": [
        {
          "output_type": "stream",
          "name": "stdout",
          "text": [
            "+------+---+\n",
            "|Gender|Age|\n",
            "+------+---+\n",
            "|Female| 41|\n",
            "|  Male| 49|\n",
            "|  Male| 37|\n",
            "|Female| 33|\n",
            "|  Male| 27|\n",
            "|  Male| 32|\n",
            "|Female| 59|\n",
            "|  Male| 30|\n",
            "|  Male| 38|\n",
            "|  Male| 36|\n",
            "|  Male| 35|\n",
            "|Female| 29|\n",
            "|  Male| 31|\n",
            "|  Male| 34|\n",
            "|  Male| 28|\n",
            "|Female| 29|\n",
            "|  Male| 32|\n",
            "|  Male| 22|\n",
            "|Female| 53|\n",
            "|  Male| 38|\n",
            "+------+---+\n",
            "only showing top 20 rows\n",
            "\n"
          ]
        }
      ]
    },
    {
      "cell_type": "code",
      "source": [
        "result2 = ibmdata.select(\"Age\", \"DailyRate\", ibmdata.Department.like(\"S%\"))\n",
        "result2.show()"
      ],
      "metadata": {
        "colab": {
          "base_uri": "https://localhost:8080/"
        },
        "id": "lwoSL3rtqkCM",
        "outputId": "117f3a31-fecd-467f-d5e7-e8b97a49d8e3"
      },
      "execution_count": null,
      "outputs": [
        {
          "output_type": "stream",
          "name": "stdout",
          "text": [
            "+---+---------+------------------+\n",
            "|Age|DailyRate|Department LIKE S%|\n",
            "+---+---------+------------------+\n",
            "| 41|     1102|              true|\n",
            "| 49|      279|             false|\n",
            "| 37|     1373|             false|\n",
            "| 33|     1392|             false|\n",
            "| 27|      591|             false|\n",
            "| 32|     1005|             false|\n",
            "| 59|     1324|             false|\n",
            "| 30|     1358|             false|\n",
            "| 38|      216|             false|\n",
            "| 36|     1299|             false|\n",
            "| 35|      809|             false|\n",
            "| 29|      153|             false|\n",
            "| 31|      670|             false|\n",
            "| 34|     1346|             false|\n",
            "| 28|      103|             false|\n",
            "| 29|     1389|             false|\n",
            "| 32|      334|             false|\n",
            "| 22|     1123|             false|\n",
            "| 53|     1219|              true|\n",
            "| 38|      371|             false|\n",
            "+---+---------+------------------+\n",
            "only showing top 20 rows\n",
            "\n"
          ]
        }
      ]
    },
    {
      "cell_type": "code",
      "source": [
        "result4 = ibmdata.select(\"Gender\", ibmdata.JobRole.stratswith(\"Sales\"))\n",
        "result4.show()"
      ],
      "metadata": {
        "colab": {
          "base_uri": "https://localhost:8080/",
          "height": 183
        },
        "id": "k5r6Xqslrye7",
        "outputId": "eeedcc03-c208-49d2-9a07-1721d3c7d8f2"
      },
      "execution_count": null,
      "outputs": [
        {
          "output_type": "error",
          "ename": "TypeError",
          "evalue": "ignored",
          "traceback": [
            "\u001b[0;31m---------------------------------------------------------------------------\u001b[0m",
            "\u001b[0;31mTypeError\u001b[0m                                 Traceback (most recent call last)",
            "\u001b[0;32m<ipython-input-11-705143622cc3>\u001b[0m in \u001b[0;36m<module>\u001b[0;34m()\u001b[0m\n\u001b[0;32m----> 1\u001b[0;31m \u001b[0mresult4\u001b[0m \u001b[0;34m=\u001b[0m \u001b[0mibmdata\u001b[0m\u001b[0;34m.\u001b[0m\u001b[0mselect\u001b[0m\u001b[0;34m(\u001b[0m\u001b[0;34m\"Gender\"\u001b[0m\u001b[0;34m,\u001b[0m \u001b[0mibmdata\u001b[0m\u001b[0;34m.\u001b[0m\u001b[0mJobRole\u001b[0m\u001b[0;34m.\u001b[0m\u001b[0mstratswith\u001b[0m\u001b[0;34m(\u001b[0m\u001b[0;34m\"Sales\"\u001b[0m\u001b[0;34m)\u001b[0m\u001b[0;34m)\u001b[0m\u001b[0;34m\u001b[0m\u001b[0;34m\u001b[0m\u001b[0m\n\u001b[0m\u001b[1;32m      2\u001b[0m \u001b[0mresult4\u001b[0m\u001b[0;34m.\u001b[0m\u001b[0mshow\u001b[0m\u001b[0;34m(\u001b[0m\u001b[0;34m)\u001b[0m\u001b[0;34m\u001b[0m\u001b[0;34m\u001b[0m\u001b[0m\n",
            "\u001b[0;31mTypeError\u001b[0m: 'Column' object is not callable"
          ]
        }
      ]
    },
    {
      "cell_type": "code",
      "source": [
        "result5 = ibmdata.select(\"Department\", ibmdata.Age.between(80,90))\n",
        "result5.show()"
      ],
      "metadata": {
        "colab": {
          "base_uri": "https://localhost:8080/"
        },
        "id": "ddxhe1Rxsd4f",
        "outputId": "240da377-9225-45c4-c935-2b965680cfa7"
      },
      "execution_count": null,
      "outputs": [
        {
          "output_type": "stream",
          "name": "stdout",
          "text": [
            "+--------------------+-----------------------------+\n",
            "|          Department|((Age >= 80) AND (Age <= 90))|\n",
            "+--------------------+-----------------------------+\n",
            "|               Sales|                        false|\n",
            "|Research & Develo...|                        false|\n",
            "|Research & Develo...|                        false|\n",
            "|Research & Develo...|                        false|\n",
            "|Research & Develo...|                        false|\n",
            "|Research & Develo...|                        false|\n",
            "|Research & Develo...|                        false|\n",
            "|Research & Develo...|                        false|\n",
            "|Research & Develo...|                        false|\n",
            "|Research & Develo...|                        false|\n",
            "|Research & Develo...|                        false|\n",
            "|Research & Develo...|                        false|\n",
            "|Research & Develo...|                        false|\n",
            "|Research & Develo...|                        false|\n",
            "|Research & Develo...|                        false|\n",
            "|Research & Develo...|                        false|\n",
            "|Research & Develo...|                        false|\n",
            "|Research & Develo...|                        false|\n",
            "|               Sales|                        false|\n",
            "|Research & Develo...|                        false|\n",
            "+--------------------+-----------------------------+\n",
            "only showing top 20 rows\n",
            "\n"
          ]
        }
      ]
    },
    {
      "cell_type": "code",
      "source": [
        "result6 = ibmdata.select(\"Gender\", ibmdata.Department.isin(\"Sales\", \"Human Resources\"))\n",
        "result6.show()"
      ],
      "metadata": {
        "colab": {
          "base_uri": "https://localhost:8080/"
        },
        "id": "uSlrlYzUswDY",
        "outputId": "441d72fc-1ba7-4e69-cf74-d09eed8a27cd"
      },
      "execution_count": null,
      "outputs": [
        {
          "output_type": "stream",
          "name": "stdout",
          "text": [
            "+------+----------------------------------------+\n",
            "|Gender|(Department IN (Sales, Human Resources))|\n",
            "+------+----------------------------------------+\n",
            "|Female|                                    true|\n",
            "|  Male|                                   false|\n",
            "|  Male|                                   false|\n",
            "|Female|                                   false|\n",
            "|  Male|                                   false|\n",
            "|  Male|                                   false|\n",
            "|Female|                                   false|\n",
            "|  Male|                                   false|\n",
            "|  Male|                                   false|\n",
            "|  Male|                                   false|\n",
            "|  Male|                                   false|\n",
            "|Female|                                   false|\n",
            "|  Male|                                   false|\n",
            "|  Male|                                   false|\n",
            "|  Male|                                   false|\n",
            "|Female|                                   false|\n",
            "|  Male|                                   false|\n",
            "|  Male|                                   false|\n",
            "|Female|                                    true|\n",
            "|  Male|                                   false|\n",
            "+------+----------------------------------------+\n",
            "only showing top 20 rows\n",
            "\n"
          ]
        }
      ]
    },
    {
      "cell_type": "code",
      "source": [
        "result8 = ibmdata.select(\"Attrition\", ibmdata.JobRole.endswith(\"Manager\"), \"JobRole\", \"Department\")\n",
        "result8.show()"
      ],
      "metadata": {
        "colab": {
          "base_uri": "https://localhost:8080/"
        },
        "id": "xc_JA4VdtFbc",
        "outputId": "361e12f8-d0ad-4f90-fd51-17dcfed8b009"
      },
      "execution_count": null,
      "outputs": [
        {
          "output_type": "stream",
          "name": "stdout",
          "text": [
            "+---------+--------------------------+--------------------+--------------------+\n",
            "|Attrition|endswith(JobRole, Manager)|             JobRole|          Department|\n",
            "+---------+--------------------------+--------------------+--------------------+\n",
            "|      Yes|                     false|     Sales Executive|               Sales|\n",
            "|       No|                     false|  Research Scientist|Research & Develo...|\n",
            "|      Yes|                     false|Laboratory Techni...|Research & Develo...|\n",
            "|       No|                     false|  Research Scientist|Research & Develo...|\n",
            "|       No|                     false|Laboratory Techni...|Research & Develo...|\n",
            "|       No|                     false|Laboratory Techni...|Research & Develo...|\n",
            "|       No|                     false|Laboratory Techni...|Research & Develo...|\n",
            "|       No|                     false|Laboratory Techni...|Research & Develo...|\n",
            "|       No|                     false|Manufacturing Dir...|Research & Develo...|\n",
            "|       No|                     false|Healthcare Repres...|Research & Develo...|\n",
            "|       No|                     false|Laboratory Techni...|Research & Develo...|\n",
            "|       No|                     false|Laboratory Techni...|Research & Develo...|\n",
            "|       No|                     false|  Research Scientist|Research & Develo...|\n",
            "|       No|                     false|Laboratory Techni...|Research & Develo...|\n",
            "|      Yes|                     false|Laboratory Techni...|Research & Develo...|\n",
            "|       No|                     false|Manufacturing Dir...|Research & Develo...|\n",
            "|       No|                     false|  Research Scientist|Research & Develo...|\n",
            "|       No|                     false|Laboratory Techni...|Research & Develo...|\n",
            "|       No|                      true|             Manager|               Sales|\n",
            "|       No|                     false|  Research Scientist|Research & Develo...|\n",
            "+---------+--------------------------+--------------------+--------------------+\n",
            "only showing top 20 rows\n",
            "\n"
          ]
        }
      ]
    },
    {
      "cell_type": "code",
      "source": [
        "result9 = ibmdata.select(\"Gender\", ibmdata.JobAge.substr(1,4), ibmdata.Age.when( col(\"Age\") == 60, \"Senior\" ))"
      ],
      "metadata": {
        "colab": {
          "base_uri": "https://localhost:8080/",
          "height": 287
        },
        "id": "pM2qq4XXt0V-",
        "outputId": "79cb1b8f-78d9-4f40-b29b-2224679fb8f4"
      },
      "execution_count": null,
      "outputs": [
        {
          "output_type": "error",
          "ename": "AttributeError",
          "evalue": "ignored",
          "traceback": [
            "\u001b[0;31m---------------------------------------------------------------------------\u001b[0m",
            "\u001b[0;31mAttributeError\u001b[0m                            Traceback (most recent call last)",
            "\u001b[0;32m<ipython-input-16-1c49a8d8e793>\u001b[0m in \u001b[0;36m<module>\u001b[0;34m()\u001b[0m\n\u001b[0;32m----> 1\u001b[0;31m \u001b[0mresult9\u001b[0m \u001b[0;34m=\u001b[0m \u001b[0mibmdata\u001b[0m\u001b[0;34m.\u001b[0m\u001b[0mselect\u001b[0m\u001b[0;34m(\u001b[0m\u001b[0;34m\"Gender\"\u001b[0m\u001b[0;34m,\u001b[0m \u001b[0mibmdata\u001b[0m\u001b[0;34m.\u001b[0m\u001b[0mJobAge\u001b[0m\u001b[0;34m.\u001b[0m\u001b[0msubstr\u001b[0m\u001b[0;34m(\u001b[0m\u001b[0;36m1\u001b[0m\u001b[0;34m,\u001b[0m\u001b[0;36m4\u001b[0m\u001b[0;34m)\u001b[0m\u001b[0;34m,\u001b[0m \u001b[0mibmdata\u001b[0m\u001b[0;34m.\u001b[0m\u001b[0mAge\u001b[0m\u001b[0;34m.\u001b[0m\u001b[0mwhen\u001b[0m\u001b[0;34m(\u001b[0m \u001b[0mcol\u001b[0m\u001b[0;34m(\u001b[0m\u001b[0;34m\"Age\"\u001b[0m\u001b[0;34m)\u001b[0m \u001b[0;34m==\u001b[0m \u001b[0;36m60\u001b[0m\u001b[0;34m,\u001b[0m \u001b[0;34m\"Senior\"\u001b[0m \u001b[0;34m)\u001b[0m\u001b[0;34m)\u001b[0m\u001b[0;34m\u001b[0m\u001b[0;34m\u001b[0m\u001b[0m\n\u001b[0m",
            "\u001b[0;32m/usr/local/lib/python3.7/dist-packages/pyspark/sql/dataframe.py\u001b[0m in \u001b[0;36m__getattr__\u001b[0;34m(self, name)\u001b[0m\n\u001b[1;32m   1658\u001b[0m         \u001b[0;32mif\u001b[0m \u001b[0mname\u001b[0m \u001b[0;32mnot\u001b[0m \u001b[0;32min\u001b[0m \u001b[0mself\u001b[0m\u001b[0;34m.\u001b[0m\u001b[0mcolumns\u001b[0m\u001b[0;34m:\u001b[0m\u001b[0;34m\u001b[0m\u001b[0;34m\u001b[0m\u001b[0m\n\u001b[1;32m   1659\u001b[0m             raise AttributeError(\n\u001b[0;32m-> 1660\u001b[0;31m                 \"'%s' object has no attribute '%s'\" % (self.__class__.__name__, name))\n\u001b[0m\u001b[1;32m   1661\u001b[0m         \u001b[0mjc\u001b[0m \u001b[0;34m=\u001b[0m \u001b[0mself\u001b[0m\u001b[0;34m.\u001b[0m\u001b[0m_jdf\u001b[0m\u001b[0;34m.\u001b[0m\u001b[0mapply\u001b[0m\u001b[0;34m(\u001b[0m\u001b[0mname\u001b[0m\u001b[0;34m)\u001b[0m\u001b[0;34m\u001b[0m\u001b[0;34m\u001b[0m\u001b[0m\n\u001b[1;32m   1662\u001b[0m         \u001b[0;32mreturn\u001b[0m \u001b[0mColumn\u001b[0m\u001b[0;34m(\u001b[0m\u001b[0mjc\u001b[0m\u001b[0;34m)\u001b[0m\u001b[0;34m\u001b[0m\u001b[0;34m\u001b[0m\u001b[0m\n",
            "\u001b[0;31mAttributeError\u001b[0m: 'DataFrame' object has no attribute 'JobAge'"
          ]
        }
      ]
    },
    {
      "cell_type": "code",
      "source": [
        "result9 = ibmdata.filter((ibmdata[\"Gender\"] == \"Male\") & (ibmdata[\"MaritalStatus\"] == \"Married\"))\n",
        "result9.show()"
      ],
      "metadata": {
        "colab": {
          "base_uri": "https://localhost:8080/"
        },
        "id": "VlA77T5evgcr",
        "outputId": "163f539a-ac66-4797-ab3c-31fd07d769a3"
      },
      "execution_count": null,
      "outputs": [
        {
          "output_type": "stream",
          "name": "stdout",
          "text": [
            "+---+---------+-----------------+---------+--------------------+----------------+---------+----------------+-------------+--------------+-----------------------+------+----------+--------------+--------+--------------------+---------------+-------------+-------------+-----------+------------------+------+--------+-----------------+-----------------+------------------------+-------------+----------------+-----------------+---------------------+---------------+--------------+------------------+-----------------------+--------------------+\n",
            "|Age|Attrition|   BusinessTravel|DailyRate|          Department|DistanceFromHome|Education|  EducationField|EmployeeCount|EmployeeNumber|EnvironmentSatisfaction|Gender|HourlyRate|JobInvolvement|JobLevel|             JobRole|JobSatisfaction|MaritalStatus|MonthlyIncome|MonthlyRate|NumCompaniesWorked|Over18|OverTime|PercentSalaryHike|PerformanceRating|RelationshipSatisfaction|StandardHours|StockOptionLevel|TotalWorkingYears|TrainingTimesLastYear|WorkLifeBalance|YearsAtCompany|YearsInCurrentRole|YearsSinceLastPromotion|YearsWithCurrManager|\n",
            "+---+---------+-----------------+---------+--------------------+----------------+---------+----------------+-------------+--------------+-----------------------+------+----------+--------------+--------+--------------------+---------------+-------------+-------------+-----------+------------------+------+--------+-----------------+-----------------+------------------------+-------------+----------------+-----------------+---------------------+---------------+--------------+------------------+-----------------------+--------------------+\n",
            "| 49|       No|Travel_Frequently|      279|Research & Develo...|               8|        1|   Life Sciences|            1|             2|                      3|  Male|        61|             2|       2|  Research Scientist|              2|      Married|         5130|      24907|                 1|     Y|      No|               23|                4|                       4|           80|               1|               10|                    3|              3|            10|                 7|                      1|                   7|\n",
            "| 27|       No|    Travel_Rarely|      591|Research & Develo...|               2|        1|         Medical|            1|             7|                      1|  Male|        40|             3|       1|Laboratory Techni...|              2|      Married|         3468|      16632|                 9|     Y|      No|               12|                3|                       4|           80|               1|                6|                    3|              3|             2|                 2|                      2|                   2|\n",
            "| 36|       No|    Travel_Rarely|     1299|Research & Develo...|              27|        3|         Medical|            1|            13|                      3|  Male|        94|             3|       2|Healthcare Repres...|              3|      Married|         5237|      16577|                 6|     Y|      No|               13|                3|                       2|           80|               2|               17|                    3|              2|             7|                 7|                      7|                   7|\n",
            "| 35|       No|    Travel_Rarely|      809|Research & Develo...|              16|        3|         Medical|            1|            14|                      1|  Male|        84|             4|       1|Laboratory Techni...|              2|      Married|         2426|      16479|                 0|     Y|      No|               13|                3|                       3|           80|               1|                6|                    5|              3|             5|                 4|                      0|                   3|\n",
            "| 42|       No|    Travel_Rarely|      691|               Sales|               8|        4|       Marketing|            1|            35|                      3|  Male|        48|             3|       2|     Sales Executive|              2|      Married|         6825|      21173|                 0|     Y|      No|               11|                3|                       4|           80|               1|               10|                    2|              3|             9|                 7|                      4|                   2|\n",
            "| 44|       No|    Travel_Rarely|     1459|Research & Develo...|              10|        4|           Other|            1|            40|                      4|  Male|        41|             3|       2|Healthcare Repres...|              4|      Married|         6465|      19121|                 2|     Y|     Yes|               13|                3|                       4|           80|               0|                9|                    5|              4|             4|                 2|                      1|                   3|\n",
            "| 39|      Yes|    Travel_Rarely|      895|               Sales|               5|        3|Technical Degree|            1|            42|                      4|  Male|        56|             3|       2|Sales Representative|              4|      Married|         2086|       3335|                 3|     Y|      No|               14|                3|                       3|           80|               1|               19|                    6|              4|             1|                 0|                      0|                   0|\n",
            "| 24|      Yes|    Travel_Rarely|      813|Research & Develo...|               1|        3|         Medical|            1|            45|                      2|  Male|        61|             3|       1|  Research Scientist|              4|      Married|         2293|       3020|                 2|     Y|     Yes|               16|                3|                       1|           80|               1|                6|                    2|              2|             2|                 0|                      2|                   0|\n",
            "| 50|      Yes|    Travel_Rarely|      869|               Sales|               3|        2|       Marketing|            1|            47|                      1|  Male|        86|             2|       1|Sales Representative|              3|      Married|         2683|       3810|                 1|     Y|     Yes|               14|                3|                       3|           80|               0|                3|                    2|              3|             3|                 2|                      0|                   2|\n",
            "| 37|       No|    Travel_Rarely|      408|Research & Develo...|              19|        2|   Life Sciences|            1|            61|                      2|  Male|        73|             3|       1|  Research Scientist|              2|      Married|         3022|      10227|                 4|     Y|      No|               21|                4|                       1|           80|               0|                8|                    1|              3|             1|                 0|                      0|                   0|\n",
            "| 35|       No|    Travel_Rarely|     1229|Research & Develo...|               8|        1|   Life Sciences|            1|            63|                      4|  Male|        36|             4|       1|Laboratory Techni...|              4|      Married|         2269|       4892|                 1|     Y|      No|               19|                3|                       4|           80|               0|                1|                    2|              3|             1|                 0|                      0|                   1|\n",
            "| 35|       No|       Non-Travel|     1097|Research & Develo...|              11|        2|         Medical|            1|            70|                      3|  Male|        79|             2|       3|Healthcare Repres...|              1|      Married|         9884|       8302|                 2|     Y|     Yes|               13|                3|                       3|           80|               1|               10|                    3|              3|             4|                 0|                      2|                   3|\n",
            "| 35|       No|Travel_Frequently|      853|               Sales|              18|        5|   Life Sciences|            1|            74|                      2|  Male|        71|             3|       3|     Sales Executive|              1|      Married|         9069|      11031|                 1|     Y|      No|               22|                4|                       4|           80|               1|                9|                    3|              2|             9|                 8|                      1|                   8|\n",
            "| 32|       No|    Travel_Rarely|      427|Research & Develo...|               1|        3|         Medical|            1|            78|                      1|  Male|        33|             3|       2|Manufacturing Dir...|              4|      Married|         6162|      10877|                 1|     Y|     Yes|               22|                4|                       2|           80|               1|                9|                    3|              3|             9|                 8|                      7|                   8|\n",
            "| 35|       No|Travel_Frequently|      664|Research & Develo...|               1|        3|         Medical|            1|            88|                      2|  Male|        79|             3|       1|  Research Scientist|              1|      Married|         2194|       5868|                 4|     Y|      No|               13|                3|                       4|           80|               1|                5|                    2|              2|             3|                 2|                      1|                   2|\n",
            "| 36|      Yes|    Travel_Rarely|      318|Research & Develo...|               9|        3|         Medical|            1|            90|                      4|  Male|        79|             2|       1|  Research Scientist|              3|      Married|         3388|      21777|                 0|     Y|     Yes|               17|                3|                       1|           80|               1|                2|                    0|              2|             1|                 0|                      0|                   0|\n",
            "| 29|       No|    Travel_Rarely|     1328|Research & Develo...|               2|        3|   Life Sciences|            1|            94|                      3|  Male|        76|             3|       1|  Research Scientist|              2|      Married|         2703|       4956|                 0|     Y|      No|               23|                4|                       4|           80|               1|                6|                    3|              3|             5|                 4|                      0|                   4|\n",
            "| 32|       No|    Travel_Rarely|      548|Research & Develo...|               1|        3|   Life Sciences|            1|            96|                      2|  Male|        66|             3|       2|  Research Scientist|              2|      Married|         6220|       7346|                 1|     Y|      No|               17|                3|                       2|           80|               2|               10|                    3|              3|            10|                 4|                      0|                   9|\n",
            "| 45|       No|    Travel_Rarely|      193|Research & Develo...|               6|        4|           Other|            1|           101|                      4|  Male|        52|             3|       3|   Research Director|              1|      Married|        13245|      15067|                 4|     Y|     Yes|               14|                3|                       2|           80|               0|               17|                    3|              4|             0|                 0|                      0|                   0|\n",
            "| 30|       No|    Travel_Rarely|      852|Research & Develo...|               1|        1|   Life Sciences|            1|           104|                      4|  Male|        55|             2|       2|Laboratory Techni...|              4|      Married|         5126|      15998|                 1|     Y|     Yes|               12|                3|                       3|           80|               2|               10|                    1|              2|            10|                 8|                      3|                   0|\n",
            "+---+---------+-----------------+---------+--------------------+----------------+---------+----------------+-------------+--------------+-----------------------+------+----------+--------------+--------+--------------------+---------------+-------------+-------------+-----------+------------------+------+--------+-----------------+-----------------+------------------------+-------------+----------------+-----------------+---------------------+---------------+--------------+------------------+-----------------------+--------------------+\n",
            "only showing top 20 rows\n",
            "\n"
          ]
        }
      ]
    },
    {
      "cell_type": "code",
      "source": [
        "result9 = ibmdata.filter((ibmdata[\"Gender\"] == \"Male\") & (ibmdata[\"MaritalStatus\"] == \"Married\"))\n",
        "result9.select(\"Gender\", \"MaritalStatus\", \"Department\", \"Age\").show()"
      ],
      "metadata": {
        "colab": {
          "base_uri": "https://localhost:8080/"
        },
        "id": "8g3a3OVQv8Wr",
        "outputId": "4cc32725-825c-43fc-f99a-f8cf988d23af"
      },
      "execution_count": null,
      "outputs": [
        {
          "output_type": "stream",
          "name": "stdout",
          "text": [
            "+------+-------------+--------------------+---+\n",
            "|Gender|MaritalStatus|          Department|Age|\n",
            "+------+-------------+--------------------+---+\n",
            "|  Male|      Married|Research & Develo...| 49|\n",
            "|  Male|      Married|Research & Develo...| 27|\n",
            "|  Male|      Married|Research & Develo...| 36|\n",
            "|  Male|      Married|Research & Develo...| 35|\n",
            "|  Male|      Married|               Sales| 42|\n",
            "|  Male|      Married|Research & Develo...| 44|\n",
            "|  Male|      Married|               Sales| 39|\n",
            "|  Male|      Married|Research & Develo...| 24|\n",
            "|  Male|      Married|               Sales| 50|\n",
            "|  Male|      Married|Research & Develo...| 37|\n",
            "|  Male|      Married|Research & Develo...| 35|\n",
            "|  Male|      Married|Research & Develo...| 35|\n",
            "|  Male|      Married|               Sales| 35|\n",
            "|  Male|      Married|Research & Develo...| 32|\n",
            "|  Male|      Married|Research & Develo...| 35|\n",
            "|  Male|      Married|Research & Develo...| 36|\n",
            "|  Male|      Married|Research & Develo...| 29|\n",
            "|  Male|      Married|Research & Develo...| 32|\n",
            "|  Male|      Married|Research & Develo...| 45|\n",
            "|  Male|      Married|Research & Develo...| 30|\n",
            "+------+-------------+--------------------+---+\n",
            "only showing top 20 rows\n",
            "\n"
          ]
        }
      ]
    },
    {
      "cell_type": "code",
      "source": [
        "ibmdata.filter(ibmdata[\"Age\"] > 58).select(\"Age\", \"Gender\").show()"
      ],
      "metadata": {
        "colab": {
          "base_uri": "https://localhost:8080/"
        },
        "id": "iai6EbLFzpav",
        "outputId": "5c105799-47db-4251-9ac0-67564c63f012"
      },
      "execution_count": null,
      "outputs": [
        {
          "output_type": "stream",
          "name": "stdout",
          "text": [
            "+---+------+\n",
            "|Age|Gender|\n",
            "+---+------+\n",
            "| 59|Female|\n",
            "| 59|Female|\n",
            "| 59|Female|\n",
            "| 59|Female|\n",
            "| 59|  Male|\n",
            "| 59|  Male|\n",
            "| 60|Female|\n",
            "| 60|Female|\n",
            "| 60|  Male|\n",
            "| 59|Female|\n",
            "| 59|  Male|\n",
            "| 60|  Male|\n",
            "| 59|Female|\n",
            "| 59|  Male|\n",
            "| 60|  Male|\n",
            "+---+------+\n",
            "\n"
          ]
        }
      ]
    },
    {
      "cell_type": "code",
      "source": [
        "#display DailyRate, Gender, Department, JonRole, of male employees belonging to Sales Departments"
      ],
      "metadata": {
        "id": "BBDfn0VF0Ha9"
      },
      "execution_count": null,
      "outputs": []
    },
    {
      "cell_type": "code",
      "source": [
        "ibmdata.select(\"DailyRate\", \"Gender\", \"Department\", \"JobRole\")"
      ],
      "metadata": {
        "id": "f9GET7p72aue"
      },
      "execution_count": null,
      "outputs": []
    },
    {
      "cell_type": "code",
      "source": [
        "ibmdata.filter((ibmdata[\"MaritalStatus\"] == \"Married\") & (ibmdata[\"Gender\"]== \"Female\") & (ibmdata[\"Age\"] > 18)).select(\"Age\", \"Attrition\", \"JobRole\", \"MaritalStatus\").show()"
      ],
      "metadata": {
        "colab": {
          "base_uri": "https://localhost:8080/"
        },
        "id": "5RZIgYEC24t8",
        "outputId": "2021ae43-e5b8-471a-e5ae-5ba01457ae49"
      },
      "execution_count": null,
      "outputs": [
        {
          "output_type": "stream",
          "name": "stdout",
          "text": [
            "+---+---------+--------------------+-------------+\n",
            "|Age|Attrition|             JobRole|MaritalStatus|\n",
            "+---+---------+--------------------+-------------+\n",
            "| 33|       No|  Research Scientist|      Married|\n",
            "| 59|       No|Laboratory Techni...|      Married|\n",
            "| 53|       No|             Manager|      Married|\n",
            "| 44|       No|Healthcare Repres...|      Married|\n",
            "| 35|       No|Sales Representative|      Married|\n",
            "| 36|       No|  Research Scientist|      Married|\n",
            "| 33|       No|     Sales Executive|      Married|\n",
            "| 41|      Yes|   Research Director|      Married|\n",
            "| 26|       No|     Sales Executive|      Married|\n",
            "| 35|       No|Laboratory Techni...|      Married|\n",
            "| 36|       No|Laboratory Techni...|      Married|\n",
            "| 54|       No|   Research Director|      Married|\n",
            "| 24|       No|     Sales Executive|      Married|\n",
            "| 59|       No|             Manager|      Married|\n",
            "| 50|       No|   Research Director|      Married|\n",
            "| 36|       No|     Sales Executive|      Married|\n",
            "| 56|      Yes|  Research Scientist|      Married|\n",
            "| 26|       No|  Research Scientist|      Married|\n",
            "| 58|      Yes|Healthcare Repres...|      Married|\n",
            "| 49|       No|Manufacturing Dir...|      Married|\n",
            "+---+---------+--------------------+-------------+\n",
            "only showing top 20 rows\n",
            "\n"
          ]
        }
      ]
    },
    {
      "cell_type": "code",
      "source": [
        ""
      ],
      "metadata": {
        "id": "FetBXNao3gTi"
      },
      "execution_count": null,
      "outputs": []
    }
  ]
}