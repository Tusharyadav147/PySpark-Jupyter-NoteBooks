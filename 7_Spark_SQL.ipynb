{
  "nbformat": 4,
  "nbformat_minor": 0,
  "metadata": {
    "colab": {
      "name": "Spark7.ipynb",
      "provenance": []
    },
    "kernelspec": {
      "name": "python3",
      "display_name": "Python 3"
    },
    "language_info": {
      "name": "python"
    }
  },
  "cells": [
    {
      "cell_type": "code",
      "execution_count": null,
      "metadata": {
        "colab": {
          "base_uri": "https://localhost:8080/"
        },
        "id": "9C-FMIKovaeN",
        "outputId": "0c48d73d-1ee6-47dc-acab-bb23d0bcf259"
      },
      "outputs": [
        {
          "output_type": "stream",
          "name": "stdout",
          "text": [
            "Collecting pyspark\n",
            "  Downloading pyspark-3.2.1.tar.gz (281.4 MB)\n",
            "\u001b[K     |████████████████████████████████| 281.4 MB 36 kB/s \n",
            "\u001b[?25hCollecting py4j==0.10.9.3\n",
            "  Downloading py4j-0.10.9.3-py2.py3-none-any.whl (198 kB)\n",
            "\u001b[K     |████████████████████████████████| 198 kB 57.3 MB/s \n",
            "\u001b[?25hBuilding wheels for collected packages: pyspark\n",
            "  Building wheel for pyspark (setup.py) ... \u001b[?25l\u001b[?25hdone\n",
            "  Created wheel for pyspark: filename=pyspark-3.2.1-py2.py3-none-any.whl size=281853642 sha256=05409dc3439f6a7cd902968ed4e40fa213c71c7dc27991b038c8f7ec6eb1619b\n",
            "  Stored in directory: /root/.cache/pip/wheels/9f/f5/07/7cd8017084dce4e93e84e92efd1e1d5334db05f2e83bcef74f\n",
            "Successfully built pyspark\n",
            "Installing collected packages: py4j, pyspark\n",
            "Successfully installed py4j-0.10.9.3 pyspark-3.2.1\n"
          ]
        }
      ],
      "source": [
        "!pip install pyspark"
      ]
    },
    {
      "cell_type": "code",
      "source": [
        "from pyspark.sql import SparkSession\n"
      ],
      "metadata": {
        "id": "EgKqRhYnvrOP"
      },
      "execution_count": null,
      "outputs": []
    },
    {
      "cell_type": "code",
      "source": [
        "if __name__ == \"__main__\":\n",
        "  session = SparkSession.builder.appName(\"secondsql\").master(\"local\").getOrCreate()\n",
        "  ibmdata = session.read.csv(\"IBMdata.csv\", header = True, inferSchema=True)"
      ],
      "metadata": {
        "id": "mgWsnHeUwStp"
      },
      "execution_count": null,
      "outputs": []
    },
    {
      "cell_type": "code",
      "source": [
        "ibmdata.count()"
      ],
      "metadata": {
        "colab": {
          "base_uri": "https://localhost:8080/"
        },
        "id": "W-nh8CHFwzza",
        "outputId": "67c67918-0dd8-4b83-c3d1-425a7412e9e9"
      },
      "execution_count": null,
      "outputs": [
        {
          "output_type": "execute_result",
          "data": {
            "text/plain": [
              "1470"
            ]
          },
          "metadata": {},
          "execution_count": 7
        }
      ]
    },
    {
      "cell_type": "code",
      "source": [
        "result1 = ibmdata.select(\"Gender\", \"Age\")\n",
        "result1.show(5)"
      ],
      "metadata": {
        "colab": {
          "base_uri": "https://localhost:8080/"
        },
        "id": "Ayh5Lo-hxLd0",
        "outputId": "a3b85ce1-f440-4848-d15d-c0d3d10394ce"
      },
      "execution_count": null,
      "outputs": [
        {
          "output_type": "stream",
          "name": "stdout",
          "text": [
            "+------+---+\n",
            "|Gender|Age|\n",
            "+------+---+\n",
            "|Female| 41|\n",
            "|  Male| 49|\n",
            "|  Male| 37|\n",
            "|Female| 33|\n",
            "|  Male| 27|\n",
            "+------+---+\n",
            "only showing top 5 rows\n",
            "\n"
          ]
        }
      ]
    },
    {
      "cell_type": "code",
      "source": [
        "result1 = ibmdata.select(\"*\")\n",
        "result1.show(5)"
      ],
      "metadata": {
        "colab": {
          "base_uri": "https://localhost:8080/"
        },
        "id": "pXYJkQVTxf8l",
        "outputId": "fcc84637-19b6-4c85-815e-f8893f327d59"
      },
      "execution_count": null,
      "outputs": [
        {
          "output_type": "stream",
          "name": "stdout",
          "text": [
            "+---+---------+-----------------+---------+--------------------+----------------+---------+--------------+-------------+--------------+-----------------------+------+----------+--------------+--------+--------------------+---------------+-------------+-------------+-----------+------------------+------+--------+-----------------+-----------------+------------------------+-------------+----------------+-----------------+---------------------+---------------+--------------+------------------+-----------------------+--------------------+\n",
            "|Age|Attrition|   BusinessTravel|DailyRate|          Department|DistanceFromHome|Education|EducationField|EmployeeCount|EmployeeNumber|EnvironmentSatisfaction|Gender|HourlyRate|JobInvolvement|JobLevel|             JobRole|JobSatisfaction|MaritalStatus|MonthlyIncome|MonthlyRate|NumCompaniesWorked|Over18|OverTime|PercentSalaryHike|PerformanceRating|RelationshipSatisfaction|StandardHours|StockOptionLevel|TotalWorkingYears|TrainingTimesLastYear|WorkLifeBalance|YearsAtCompany|YearsInCurrentRole|YearsSinceLastPromotion|YearsWithCurrManager|\n",
            "+---+---------+-----------------+---------+--------------------+----------------+---------+--------------+-------------+--------------+-----------------------+------+----------+--------------+--------+--------------------+---------------+-------------+-------------+-----------+------------------+------+--------+-----------------+-----------------+------------------------+-------------+----------------+-----------------+---------------------+---------------+--------------+------------------+-----------------------+--------------------+\n",
            "| 41|      Yes|    Travel_Rarely|     1102|               Sales|               1|        2| Life Sciences|            1|             1|                      2|Female|        94|             3|       2|     Sales Executive|              4|       Single|         5993|      19479|                 8|     Y|     Yes|               11|                3|                       1|           80|               0|                8|                    0|              1|             6|                 4|                      0|                   5|\n",
            "| 49|       No|Travel_Frequently|      279|Research & Develo...|               8|        1| Life Sciences|            1|             2|                      3|  Male|        61|             2|       2|  Research Scientist|              2|      Married|         5130|      24907|                 1|     Y|      No|               23|                4|                       4|           80|               1|               10|                    3|              3|            10|                 7|                      1|                   7|\n",
            "| 37|      Yes|    Travel_Rarely|     1373|Research & Develo...|               2|        2|         Other|            1|             4|                      4|  Male|        92|             2|       1|Laboratory Techni...|              3|       Single|         2090|       2396|                 6|     Y|     Yes|               15|                3|                       2|           80|               0|                7|                    3|              3|             0|                 0|                      0|                   0|\n",
            "| 33|       No|Travel_Frequently|     1392|Research & Develo...|               3|        4| Life Sciences|            1|             5|                      4|Female|        56|             3|       1|  Research Scientist|              3|      Married|         2909|      23159|                 1|     Y|     Yes|               11|                3|                       3|           80|               0|                8|                    3|              3|             8|                 7|                      3|                   0|\n",
            "| 27|       No|    Travel_Rarely|      591|Research & Develo...|               2|        1|       Medical|            1|             7|                      1|  Male|        40|             3|       1|Laboratory Techni...|              2|      Married|         3468|      16632|                 9|     Y|      No|               12|                3|                       4|           80|               1|                6|                    3|              3|             2|                 2|                      2|                   2|\n",
            "+---+---------+-----------------+---------+--------------------+----------------+---------+--------------+-------------+--------------+-----------------------+------+----------+--------------+--------+--------------------+---------------+-------------+-------------+-----------+------------------+------+--------+-----------------+-----------------+------------------------+-------------+----------------+-----------------+---------------------+---------------+--------------+------------------+-----------------------+--------------------+\n",
            "only showing top 5 rows\n",
            "\n"
          ]
        }
      ]
    },
    {
      "cell_type": "code",
      "source": [
        "ibmdata.printSchema()"
      ],
      "metadata": {
        "colab": {
          "base_uri": "https://localhost:8080/"
        },
        "id": "C7RWYdfbxrN2",
        "outputId": "6380571d-8e83-4470-d084-718b5e0a2eea"
      },
      "execution_count": null,
      "outputs": [
        {
          "output_type": "stream",
          "name": "stdout",
          "text": [
            "root\n",
            " |-- Age: integer (nullable = true)\n",
            " |-- Attrition: string (nullable = true)\n",
            " |-- BusinessTravel: string (nullable = true)\n",
            " |-- DailyRate: integer (nullable = true)\n",
            " |-- Department: string (nullable = true)\n",
            " |-- DistanceFromHome: integer (nullable = true)\n",
            " |-- Education: integer (nullable = true)\n",
            " |-- EducationField: string (nullable = true)\n",
            " |-- EmployeeCount: integer (nullable = true)\n",
            " |-- EmployeeNumber: integer (nullable = true)\n",
            " |-- EnvironmentSatisfaction: integer (nullable = true)\n",
            " |-- Gender: string (nullable = true)\n",
            " |-- HourlyRate: integer (nullable = true)\n",
            " |-- JobInvolvement: integer (nullable = true)\n",
            " |-- JobLevel: integer (nullable = true)\n",
            " |-- JobRole: string (nullable = true)\n",
            " |-- JobSatisfaction: integer (nullable = true)\n",
            " |-- MaritalStatus: string (nullable = true)\n",
            " |-- MonthlyIncome: integer (nullable = true)\n",
            " |-- MonthlyRate: integer (nullable = true)\n",
            " |-- NumCompaniesWorked: integer (nullable = true)\n",
            " |-- Over18: string (nullable = true)\n",
            " |-- OverTime: string (nullable = true)\n",
            " |-- PercentSalaryHike: integer (nullable = true)\n",
            " |-- PerformanceRating: integer (nullable = true)\n",
            " |-- RelationshipSatisfaction: integer (nullable = true)\n",
            " |-- StandardHours: integer (nullable = true)\n",
            " |-- StockOptionLevel: integer (nullable = true)\n",
            " |-- TotalWorkingYears: integer (nullable = true)\n",
            " |-- TrainingTimesLastYear: integer (nullable = true)\n",
            " |-- WorkLifeBalance: integer (nullable = true)\n",
            " |-- YearsAtCompany: integer (nullable = true)\n",
            " |-- YearsInCurrentRole: integer (nullable = true)\n",
            " |-- YearsSinceLastPromotion: integer (nullable = true)\n",
            " |-- YearsWithCurrManager: integer (nullable = true)\n",
            "\n"
          ]
        }
      ]
    },
    {
      "cell_type": "code",
      "source": [
        "ibmdata.columns"
      ],
      "metadata": {
        "colab": {
          "base_uri": "https://localhost:8080/"
        },
        "id": "5B4mRC00x7lJ",
        "outputId": "2f3720d8-7324-4cd3-bf0f-a6de7fa36795"
      },
      "execution_count": null,
      "outputs": [
        {
          "output_type": "execute_result",
          "data": {
            "text/plain": [
              "['Age',\n",
              " 'Attrition',\n",
              " 'BusinessTravel',\n",
              " 'DailyRate',\n",
              " 'Department',\n",
              " 'DistanceFromHome',\n",
              " 'Education',\n",
              " 'EducationField',\n",
              " 'EmployeeCount',\n",
              " 'EmployeeNumber',\n",
              " 'EnvironmentSatisfaction',\n",
              " 'Gender',\n",
              " 'HourlyRate',\n",
              " 'JobInvolvement',\n",
              " 'JobLevel',\n",
              " 'JobRole',\n",
              " 'JobSatisfaction',\n",
              " 'MaritalStatus',\n",
              " 'MonthlyIncome',\n",
              " 'MonthlyRate',\n",
              " 'NumCompaniesWorked',\n",
              " 'Over18',\n",
              " 'OverTime',\n",
              " 'PercentSalaryHike',\n",
              " 'PerformanceRating',\n",
              " 'RelationshipSatisfaction',\n",
              " 'StandardHours',\n",
              " 'StockOptionLevel',\n",
              " 'TotalWorkingYears',\n",
              " 'TrainingTimesLastYear',\n",
              " 'WorkLifeBalance',\n",
              " 'YearsAtCompany',\n",
              " 'YearsInCurrentRole',\n",
              " 'YearsSinceLastPromotion',\n",
              " 'YearsWithCurrManager']"
            ]
          },
          "metadata": {},
          "execution_count": 12
        }
      ]
    },
    {
      "cell_type": "code",
      "source": [
        "ibmdata.head(2)"
      ],
      "metadata": {
        "colab": {
          "base_uri": "https://localhost:8080/"
        },
        "id": "S0pH1fJGyEXn",
        "outputId": "ab5196d0-1f25-4329-c541-8238e26853a4"
      },
      "execution_count": null,
      "outputs": [
        {
          "output_type": "execute_result",
          "data": {
            "text/plain": [
              "[Row(Age=41, Attrition='Yes', BusinessTravel='Travel_Rarely', DailyRate=1102, Department='Sales', DistanceFromHome=1, Education=2, EducationField='Life Sciences', EmployeeCount=1, EmployeeNumber=1, EnvironmentSatisfaction=2, Gender='Female', HourlyRate=94, JobInvolvement=3, JobLevel=2, JobRole='Sales Executive', JobSatisfaction=4, MaritalStatus='Single', MonthlyIncome=5993, MonthlyRate=19479, NumCompaniesWorked=8, Over18='Y', OverTime='Yes', PercentSalaryHike=11, PerformanceRating=3, RelationshipSatisfaction=1, StandardHours=80, StockOptionLevel=0, TotalWorkingYears=8, TrainingTimesLastYear=0, WorkLifeBalance=1, YearsAtCompany=6, YearsInCurrentRole=4, YearsSinceLastPromotion=0, YearsWithCurrManager=5),\n",
              " Row(Age=49, Attrition='No', BusinessTravel='Travel_Frequently', DailyRate=279, Department='Research & Development', DistanceFromHome=8, Education=1, EducationField='Life Sciences', EmployeeCount=1, EmployeeNumber=2, EnvironmentSatisfaction=3, Gender='Male', HourlyRate=61, JobInvolvement=2, JobLevel=2, JobRole='Research Scientist', JobSatisfaction=2, MaritalStatus='Married', MonthlyIncome=5130, MonthlyRate=24907, NumCompaniesWorked=1, Over18='Y', OverTime='No', PercentSalaryHike=23, PerformanceRating=4, RelationshipSatisfaction=4, StandardHours=80, StockOptionLevel=1, TotalWorkingYears=10, TrainingTimesLastYear=3, WorkLifeBalance=3, YearsAtCompany=10, YearsInCurrentRole=7, YearsSinceLastPromotion=1, YearsWithCurrManager=7)]"
            ]
          },
          "metadata": {},
          "execution_count": 13
        }
      ]
    },
    {
      "cell_type": "code",
      "source": [
        "type(ibmdata)"
      ],
      "metadata": {
        "colab": {
          "base_uri": "https://localhost:8080/"
        },
        "id": "P-Av4P3myLBv",
        "outputId": "d67b2b29-169b-42ec-a7fb-4a4b92a0cb4d"
      },
      "execution_count": null,
      "outputs": [
        {
          "output_type": "execute_result",
          "data": {
            "text/plain": [
              "pyspark.sql.dataframe.DataFrame"
            ]
          },
          "metadata": {},
          "execution_count": 14
        }
      ]
    },
    {
      "cell_type": "code",
      "source": [
        "ibmdata.take(2)"
      ],
      "metadata": {
        "colab": {
          "base_uri": "https://localhost:8080/"
        },
        "id": "OEXbxc9UyQ6f",
        "outputId": "f2e63075-d77a-405b-da80-edf1bc2005ef"
      },
      "execution_count": null,
      "outputs": [
        {
          "output_type": "execute_result",
          "data": {
            "text/plain": [
              "[Row(Age=41, Attrition='Yes', BusinessTravel='Travel_Rarely', DailyRate=1102, Department='Sales', DistanceFromHome=1, Education=2, EducationField='Life Sciences', EmployeeCount=1, EmployeeNumber=1, EnvironmentSatisfaction=2, Gender='Female', HourlyRate=94, JobInvolvement=3, JobLevel=2, JobRole='Sales Executive', JobSatisfaction=4, MaritalStatus='Single', MonthlyIncome=5993, MonthlyRate=19479, NumCompaniesWorked=8, Over18='Y', OverTime='Yes', PercentSalaryHike=11, PerformanceRating=3, RelationshipSatisfaction=1, StandardHours=80, StockOptionLevel=0, TotalWorkingYears=8, TrainingTimesLastYear=0, WorkLifeBalance=1, YearsAtCompany=6, YearsInCurrentRole=4, YearsSinceLastPromotion=0, YearsWithCurrManager=5),\n",
              " Row(Age=49, Attrition='No', BusinessTravel='Travel_Frequently', DailyRate=279, Department='Research & Development', DistanceFromHome=8, Education=1, EducationField='Life Sciences', EmployeeCount=1, EmployeeNumber=2, EnvironmentSatisfaction=3, Gender='Male', HourlyRate=61, JobInvolvement=2, JobLevel=2, JobRole='Research Scientist', JobSatisfaction=2, MaritalStatus='Married', MonthlyIncome=5130, MonthlyRate=24907, NumCompaniesWorked=1, Over18='Y', OverTime='No', PercentSalaryHike=23, PerformanceRating=4, RelationshipSatisfaction=4, StandardHours=80, StockOptionLevel=1, TotalWorkingYears=10, TrainingTimesLastYear=3, WorkLifeBalance=3, YearsAtCompany=10, YearsInCurrentRole=7, YearsSinceLastPromotion=1, YearsWithCurrManager=7)]"
            ]
          },
          "metadata": {},
          "execution_count": 15
        }
      ]
    },
    {
      "cell_type": "code",
      "source": [
        "ibmdata.describe().show()"
      ],
      "metadata": {
        "colab": {
          "base_uri": "https://localhost:8080/"
        },
        "id": "qKSbGg4pyj8R",
        "outputId": "d5e9bbdb-76ec-426e-88fe-6f05c4102b78"
      },
      "execution_count": null,
      "outputs": [
        {
          "output_type": "stream",
          "name": "stdout",
          "text": [
            "+-------+------------------+---------+--------------+------------------+---------------+----------------+------------------+----------------+-------------+-----------------+-----------------------+------+------------------+------------------+------------------+--------------------+------------------+-------------+-----------------+------------------+------------------+------+--------+------------------+-------------------+------------------------+-------------+------------------+------------------+---------------------+------------------+------------------+------------------+-----------------------+--------------------+\n",
            "|summary|               Age|Attrition|BusinessTravel|         DailyRate|     Department|DistanceFromHome|         Education|  EducationField|EmployeeCount|   EmployeeNumber|EnvironmentSatisfaction|Gender|        HourlyRate|    JobInvolvement|          JobLevel|             JobRole|   JobSatisfaction|MaritalStatus|    MonthlyIncome|       MonthlyRate|NumCompaniesWorked|Over18|OverTime| PercentSalaryHike|  PerformanceRating|RelationshipSatisfaction|StandardHours|  StockOptionLevel| TotalWorkingYears|TrainingTimesLastYear|   WorkLifeBalance|    YearsAtCompany|YearsInCurrentRole|YearsSinceLastPromotion|YearsWithCurrManager|\n",
            "+-------+------------------+---------+--------------+------------------+---------------+----------------+------------------+----------------+-------------+-----------------+-----------------------+------+------------------+------------------+------------------+--------------------+------------------+-------------+-----------------+------------------+------------------+------+--------+------------------+-------------------+------------------------+-------------+------------------+------------------+---------------------+------------------+------------------+------------------+-----------------------+--------------------+\n",
            "|  count|              1470|     1470|          1470|              1470|           1470|            1470|              1470|            1470|         1470|             1470|                   1470|  1470|              1470|              1470|              1470|                1470|              1470|         1470|             1470|              1470|              1470|  1470|    1470|              1470|               1470|                    1470|         1470|              1470|              1470|                 1470|              1470|              1470|              1470|                   1470|                1470|\n",
            "|   mean|36.923809523809524|     null|          null| 802.4857142857143|           null|9.19251700680272| 2.912925170068027|            null|          1.0|1024.865306122449|      2.721768707482993|  null| 65.89115646258503|2.7299319727891156|2.0639455782312925|                null|2.7285714285714286|         null|6502.931292517007|14313.103401360544|2.6931972789115646|  null|    null|15.209523809523809| 3.1537414965986397|      2.7122448979591836|         80.0|0.7938775510204081|11.279591836734694|   2.7993197278911564|2.7612244897959184|7.0081632653061225| 4.229251700680272|     2.1877551020408164|    4.12312925170068|\n",
            "| stddev| 9.135373489136729|     null|          null|403.50909994352804|           null|8.10686443566608|1.0241649445978718|            null|          0.0|602.0243348474752|     1.0930822146350003|  null|20.329427593996176|0.7115611429632297|1.1069398989351202|                null|1.1028461230547213|         null|4707.956783097992| 7117.786044059972|2.4980090060707463|  null|    null|3.6599377165396385|0.36082352460434397|      1.0812088864403517|          0.0|0.8520766679308381| 7.780781675514995|   1.2892706207958466|0.7064758297141507| 6.126525152403571| 3.623137034670627|     3.2224302791379693|  3.5681361205404363|\n",
            "|    min|                18|       No|    Non-Travel|               102|Human Resources|               1|                 1| Human Resources|            1|                1|                      1|Female|                30|                 1|                 1|Healthcare Repres...|                 1|     Divorced|             1009|              2094|                 0|     Y|      No|                11|                  3|                       1|           80|                 0|                 0|                    0|                 1|                 0|                 0|                      0|                   0|\n",
            "|    max|                60|      Yes| Travel_Rarely|              1499|          Sales|              29|                 5|Technical Degree|            1|             2068|                      4|  Male|               100|                 4|                 5|Sales Representative|                 4|       Single|            19999|             26999|                 9|     Y|     Yes|                25|                  4|                       4|           80|                 3|                40|                    6|                 4|                40|                18|                     15|                  17|\n",
            "+-------+------------------+---------+--------------+------------------+---------------+----------------+------------------+----------------+-------------+-----------------+-----------------------+------+------------------+------------------+------------------+--------------------+------------------+-------------+-----------------+------------------+------------------+------+--------+------------------+-------------------+------------------------+-------------+------------------+------------------+---------------------+------------------+------------------+------------------+-----------------------+--------------------+\n",
            "\n"
          ]
        }
      ]
    },
    {
      "cell_type": "code",
      "source": [
        "ibmdata.distinct().show()"
      ],
      "metadata": {
        "colab": {
          "base_uri": "https://localhost:8080/"
        },
        "id": "48njFy1Ny5K4",
        "outputId": "968e9c28-6f77-4f81-d482-41577773b293"
      },
      "execution_count": null,
      "outputs": [
        {
          "output_type": "stream",
          "name": "stdout",
          "text": [
            "+---+---------+-----------------+---------+--------------------+----------------+---------+----------------+-------------+--------------+-----------------------+------+----------+--------------+--------+--------------------+---------------+-------------+-------------+-----------+------------------+------+--------+-----------------+-----------------+------------------------+-------------+----------------+-----------------+---------------------+---------------+--------------+------------------+-----------------------+--------------------+\n",
            "|Age|Attrition|   BusinessTravel|DailyRate|          Department|DistanceFromHome|Education|  EducationField|EmployeeCount|EmployeeNumber|EnvironmentSatisfaction|Gender|HourlyRate|JobInvolvement|JobLevel|             JobRole|JobSatisfaction|MaritalStatus|MonthlyIncome|MonthlyRate|NumCompaniesWorked|Over18|OverTime|PercentSalaryHike|PerformanceRating|RelationshipSatisfaction|StandardHours|StockOptionLevel|TotalWorkingYears|TrainingTimesLastYear|WorkLifeBalance|YearsAtCompany|YearsInCurrentRole|YearsSinceLastPromotion|YearsWithCurrManager|\n",
            "+---+---------+-----------------+---------+--------------------+----------------+---------+----------------+-------------+--------------+-----------------------+------+----------+--------------+--------+--------------------+---------------+-------------+-------------+-----------+------------------+------+--------+-----------------+-----------------+------------------------+-------------+----------------+-----------------+---------------------+---------------+--------------+------------------+-----------------------+--------------------+\n",
            "| 27|       No|    Travel_Rarely|      608|Research & Develo...|               1|        2|   Life Sciences|            1|           725|                      3|Female|        68|             3|       3|Manufacturing Dir...|              1|      Married|         7412|       6009|                 1|     Y|      No|               11|                3|                       4|           80|               0|                9|                    3|              3|             9|                 7|                      0|                   7|\n",
            "| 41|       No|    Travel_Rarely|      314|     Human Resources|               1|        3| Human Resources|            1|           734|                      4|  Male|        59|             2|       5|             Manager|              3|      Married|        19189|      19562|                 1|     Y|      No|               12|                3|                       2|           80|               1|               22|                    3|              3|            22|                 7|                      2|                  10|\n",
            "| 25|       No|    Travel_Rarely|      141|               Sales|               3|        1|           Other|            1|           879|                      3|  Male|        98|             3|       2|     Sales Executive|              1|      Married|         4194|      14363|                 1|     Y|     Yes|               18|                3|                       4|           80|               0|                5|                    3|              3|             5|                 3|                      0|                   3|\n",
            "| 21|      Yes|    Travel_Rarely|     1427|Research & Develo...|              18|        1|           Other|            1|           923|                      4|Female|        65|             3|       1|  Research Scientist|              4|       Single|         2693|       8870|                 1|     Y|      No|               19|                3|                       1|           80|               0|                1|                    3|              2|             1|                 0|                      0|                   0|\n",
            "| 56|       No|    Travel_Rarely|      718|Research & Develo...|               4|        4|Technical Degree|            1|          1191|                      4|Female|        92|             3|       5|             Manager|              1|     Divorced|        19943|      18575|                 4|     Y|      No|               13|                3|                       4|           80|               1|               28|                    2|              3|             5|                 2|                      4|                   2|\n",
            "| 25|       No|    Travel_Rarely|      949|Research & Develo...|               1|        3|Technical Degree|            1|          1415|                      1|  Male|        81|             3|       1|Laboratory Techni...|              4|      Married|         3229|       4910|                 4|     Y|      No|               11|                3|                       2|           80|               1|                7|                    2|              2|             3|                 2|                      0|                   2|\n",
            "| 27|       No|    Travel_Rarely|      591|Research & Develo...|               2|        1|         Medical|            1|             7|                      1|  Male|        40|             3|       1|Laboratory Techni...|              2|      Married|         3468|      16632|                 9|     Y|      No|               12|                3|                       4|           80|               1|                6|                    3|              3|             2|                 2|                      2|                   2|\n",
            "| 34|       No|       Non-Travel|     1065|               Sales|              23|        4|       Marketing|            1|            60|                      2|  Male|        72|             3|       2|     Sales Executive|              3|       Single|         4568|      10034|                 0|     Y|      No|               20|                4|                       3|           80|               0|               10|                    2|              3|             9|                 5|                      8|                   7|\n",
            "| 50|       No|    Travel_Rarely|      328|Research & Develo...|               1|        3|         Medical|            1|           249|                      3|  Male|        86|             2|       1|Laboratory Techni...|              3|      Married|         3690|       3425|                 2|     Y|      No|               15|                3|                       4|           80|               1|                5|                    2|              2|             3|                 2|                      0|                   2|\n",
            "| 25|       No|       Non-Travel|      675|Research & Develo...|               5|        2|   Life Sciences|            1|           369|                      2|  Male|        85|             4|       2|Healthcare Repres...|              1|     Divorced|         4000|      18384|                 1|     Y|      No|               12|                3|                       4|           80|               2|                6|                    2|              3|             6|                 3|                      1|                   5|\n",
            "| 18|      Yes|Travel_Frequently|     1306|               Sales|               5|        3|       Marketing|            1|           614|                      2|  Male|        69|             3|       1|Sales Representative|              2|       Single|         1878|       8059|                 1|     Y|     Yes|               14|                3|                       4|           80|               0|                0|                    3|              3|             0|                 0|                      0|                   0|\n",
            "| 36|       No|    Travel_Rarely|     1425|Research & Develo...|              14|        1|   Life Sciences|            1|           924|                      3|  Male|        68|             3|       2|Healthcare Repres...|              4|      Married|         6586|       4821|                 0|     Y|     Yes|               17|                3|                       1|           80|               1|               17|                    2|              2|            16|                 8|                      4|                  11|\n",
            "| 28|       No|    Travel_Rarely|      950|Research & Develo...|               3|        3|         Medical|            1|          1121|                      4|Female|        93|             3|       3|Manufacturing Dir...|              2|     Divorced|         7655|       8039|                 0|     Y|      No|               17|                3|                       2|           80|               3|               10|                    3|              2|             9|                 7|                      1|                   7|\n",
            "| 30|       No|    Travel_Rarely|      634|Research & Develo...|              17|        4|         Medical|            1|          1321|                      2|Female|        95|             3|       3|             Manager|              1|      Married|        11916|      25927|                 1|     Y|     Yes|               23|                4|                       4|           80|               2|                9|                    2|              3|             9|                 1|                      0|                   8|\n",
            "| 28|       No|    Travel_Rarely|      736|               Sales|              26|        3|   Life Sciences|            1|          1387|                      3|  Male|        48|             2|       2|     Sales Executive|              1|      Married|         4724|      24232|                 1|     Y|      No|               11|                3|                       3|           80|               1|                5|                    0|              3|             5|                 3|                      0|                   4|\n",
            "| 37|       No|    Travel_Rarely|      589|               Sales|               9|        2|       Marketing|            1|          1787|                      2|  Male|        46|             2|       2|     Sales Executive|              2|      Married|         4189|       8800|                 1|     Y|      No|               14|                3|                       1|           80|               2|                5|                    2|              3|             5|                 2|                      0|                   3|\n",
            "| 32|      Yes|Travel_Frequently|      238|Research & Develo...|               5|        2|   Life Sciences|            1|          1939|                      1|Female|        47|             4|       1|  Research Scientist|              3|       Single|         2432|      15318|                 3|     Y|     Yes|               14|                3|                       1|           80|               0|                8|                    2|              3|             4|                 1|                      0|                   3|\n",
            "| 33|       No|Travel_Frequently|      515|Research & Develo...|               1|        2|   Life Sciences|            1|            73|                      1|Female|        98|             3|       3|   Research Director|              4|       Single|        13458|      15146|                 1|     Y|     Yes|               12|                3|                       3|           80|               0|               15|                    1|              3|            15|                14|                      8|                  12|\n",
            "| 45|       No|    Travel_Rarely|     1268|               Sales|               4|        2|   Life Sciences|            1|           240|                      3|Female|        30|             3|       2|     Sales Executive|              1|     Divorced|         5006|       6319|                 4|     Y|     Yes|               11|                3|                       1|           80|               1|                9|                    3|              4|             5|                 4|                      0|                   3|\n",
            "| 29|       No|    Travel_Rarely|     1107|Research & Develo...|              28|        4|   Life Sciences|            1|          1120|                      3|Female|        93|             3|       1|  Research Scientist|              4|     Divorced|         2514|      26968|                 4|     Y|      No|               22|                4|                       1|           80|               1|               11|                    1|              3|             7|                 5|                      1|                   7|\n",
            "+---+---------+-----------------+---------+--------------------+----------------+---------+----------------+-------------+--------------+-----------------------+------+----------+--------------+--------+--------------------+---------------+-------------+-------------+-----------+------------------+------+--------+-----------------+-----------------+------------------------+-------------+----------------+-----------------+---------------------+---------------+--------------+------------------+-----------------------+--------------------+\n",
            "only showing top 20 rows\n",
            "\n"
          ]
        }
      ]
    },
    {
      "cell_type": "code",
      "source": [
        "ibmdata.distinct().count()"
      ],
      "metadata": {
        "colab": {
          "base_uri": "https://localhost:8080/"
        },
        "id": "5tOtF7jZzJC3",
        "outputId": "16184d60-5672-4b64-d1bc-015a1b7608d7"
      },
      "execution_count": null,
      "outputs": [
        {
          "output_type": "execute_result",
          "data": {
            "text/plain": [
              "1470"
            ]
          },
          "metadata": {},
          "execution_count": 18
        }
      ]
    },
    {
      "cell_type": "code",
      "source": [
        "from pyspark.sql.functions import stddev, substring, sum, max, min, mean, skewness, variance, rank, countDistinct, first, last, kurtosis"
      ],
      "metadata": {
        "id": "kAdVZzK2zzVA"
      },
      "execution_count": null,
      "outputs": []
    },
    {
      "cell_type": "code",
      "source": [
        "ibmdata.select(min(\"age\")).show()\n",
        "ibmdata.filter(ibmdata[\"Gender\"] == \"Male\").select(min(\"age\")).show()"
      ],
      "metadata": {
        "colab": {
          "base_uri": "https://localhost:8080/"
        },
        "id": "nckNX3wR1IxI",
        "outputId": "2114b84d-7230-47ee-e8ec-1bb0e80e14db"
      },
      "execution_count": null,
      "outputs": [
        {
          "output_type": "stream",
          "name": "stdout",
          "text": [
            "+--------+\n",
            "|min(age)|\n",
            "+--------+\n",
            "|      18|\n",
            "+--------+\n",
            "\n",
            "+--------+\n",
            "|min(age)|\n",
            "+--------+\n",
            "|      18|\n",
            "+--------+\n",
            "\n"
          ]
        }
      ]
    },
    {
      "cell_type": "code",
      "source": [
        "ibmdata.select(max(\"DailyRate\")).show()\n",
        "ibmdata.filter(ibmdata[\"Gender\"] == \"Male\").select(max(\"DailyRate\")).show()"
      ],
      "metadata": {
        "colab": {
          "base_uri": "https://localhost:8080/"
        },
        "id": "E4KOm2de1qWB",
        "outputId": "f4e965a5-a481-4e2b-f73a-97b049e4188d"
      },
      "execution_count": null,
      "outputs": [
        {
          "output_type": "stream",
          "name": "stdout",
          "text": [
            "+--------------+\n",
            "|max(DailyRate)|\n",
            "+--------------+\n",
            "|          1499|\n",
            "+--------------+\n",
            "\n",
            "+--------------+\n",
            "|max(DailyRate)|\n",
            "+--------------+\n",
            "|          1498|\n",
            "+--------------+\n",
            "\n"
          ]
        }
      ]
    },
    {
      "cell_type": "code",
      "source": [
        "ibmdata.select(sum(\"MonthlyRate\")).show()\n",
        "ibmdata.filter(ibmdata[\"Gender\"] == \"Male\").select(sum(\"MonthlyRate\")).show()"
      ],
      "metadata": {
        "colab": {
          "base_uri": "https://localhost:8080/"
        },
        "id": "_qE2AR081_xo",
        "outputId": "36cb52ab-84b7-47a8-ea16-075a02541ab1"
      },
      "execution_count": null,
      "outputs": [
        {
          "output_type": "stream",
          "name": "stdout",
          "text": [
            "+----------------+\n",
            "|sum(MonthlyRate)|\n",
            "+----------------+\n",
            "|        21040262|\n",
            "+----------------+\n",
            "\n",
            "+----------------+\n",
            "|sum(MonthlyRate)|\n",
            "+----------------+\n",
            "|        12411597|\n",
            "+----------------+\n",
            "\n"
          ]
        }
      ]
    },
    {
      "cell_type": "code",
      "source": [
        "ibmdata.select(skewness(\"Dailyrate\"), kurtosis(\"Dailyrate\")).show()\n",
        "ibmdata.filter(ibmdata[\"Gender\"] == \"Male\").select(skewness(\"Dailyrate\"), kurtosis(\"Dailyrate\")).show()"
      ],
      "metadata": {
        "colab": {
          "base_uri": "https://localhost:8080/"
        },
        "id": "T0Lu_B1X2Y3f",
        "outputId": "0cf9dcc3-dde5-42fe-b717-7153b6113297"
      },
      "execution_count": null,
      "outputs": [
        {
          "output_type": "stream",
          "name": "stdout",
          "text": [
            "+--------------------+-------------------+\n",
            "| skewness(Dailyrate)|kurtosis(Dailyrate)|\n",
            "+--------------------+-------------------+\n",
            "|-0.00351497695829...|-1.2038109279028495|\n",
            "+--------------------+-------------------+\n",
            "\n",
            "+--------------------+-------------------+\n",
            "| skewness(Dailyrate)|kurtosis(Dailyrate)|\n",
            "+--------------------+-------------------+\n",
            "|0.036694660988628655|-1.2035820780347832|\n",
            "+--------------------+-------------------+\n",
            "\n"
          ]
        }
      ]
    },
    {
      "cell_type": "code",
      "source": [
        "ibmdata.select(stddev(\"HourlyRate\"), variance(\"HourlyRate\")).show()\n",
        "ibmdata.filter(ibmdata[\"Gender\"] == \"Male\").select(stddev(\"HourlyRate\"), variance(\"HourlyRate\")).show()"
      ],
      "metadata": {
        "colab": {
          "base_uri": "https://localhost:8080/"
        },
        "id": "m-WQBALr2lov",
        "outputId": "071f7822-cf76-4a5b-8231-75b45a348ecf"
      },
      "execution_count": null,
      "outputs": [
        {
          "output_type": "stream",
          "name": "stdout",
          "text": [
            "+-----------------------+--------------------+\n",
            "|stddev_samp(HourlyRate)|var_samp(HourlyRate)|\n",
            "+-----------------------+--------------------+\n",
            "|     20.329427593996176|  413.28562629953313|\n",
            "+-----------------------+--------------------+\n",
            "\n",
            "+-----------------------+--------------------+\n",
            "|stddev_samp(HourlyRate)|var_samp(HourlyRate)|\n",
            "+-----------------------+--------------------+\n",
            "|      20.17232715404153|   406.9227828096812|\n",
            "+-----------------------+--------------------+\n",
            "\n"
          ]
        }
      ]
    },
    {
      "cell_type": "code",
      "source": [
        "ibmdata.select(first(\"Age\"), last(\"Age\")).show()"
      ],
      "metadata": {
        "colab": {
          "base_uri": "https://localhost:8080/"
        },
        "id": "bUSIKzhz3LzN",
        "outputId": "096711c3-7eb4-4d9d-876d-5ca35f2ce995"
      },
      "execution_count": null,
      "outputs": [
        {
          "output_type": "stream",
          "name": "stdout",
          "text": [
            "+----------+---------+\n",
            "|first(Age)|last(Age)|\n",
            "+----------+---------+\n",
            "|        41|       34|\n",
            "+----------+---------+\n",
            "\n"
          ]
        }
      ]
    },
    {
      "cell_type": "code",
      "source": [
        "ibmdata.select(first(\"Age\").alias(\"First_Age\"), last(\"Age\").alias(\"Last_Age\")).show()"
      ],
      "metadata": {
        "colab": {
          "base_uri": "https://localhost:8080/"
        },
        "id": "g3xbXIj45tH3",
        "outputId": "852b067f-8bcf-4773-f8e4-4208b34489ec"
      },
      "execution_count": null,
      "outputs": [
        {
          "output_type": "stream",
          "name": "stdout",
          "text": [
            "+---------+--------+\n",
            "|First_Age|Last_Age|\n",
            "+---------+--------+\n",
            "|       41|      34|\n",
            "+---------+--------+\n",
            "\n"
          ]
        }
      ]
    },
    {
      "cell_type": "code",
      "source": [
        "print(ibmdata.select(substring(\"JobRole\",1,5)).show(5))"
      ],
      "metadata": {
        "colab": {
          "base_uri": "https://localhost:8080/"
        },
        "id": "qpXMuRqO5_W1",
        "outputId": "adde70b9-13a8-439f-a143-c37c78adcf67"
      },
      "execution_count": null,
      "outputs": [
        {
          "output_type": "stream",
          "name": "stdout",
          "text": [
            "+------------------------+\n",
            "|substring(JobRole, 1, 5)|\n",
            "+------------------------+\n",
            "|                   Sales|\n",
            "|                   Resea|\n",
            "|                   Labor|\n",
            "|                   Resea|\n",
            "|                   Labor|\n",
            "+------------------------+\n",
            "only showing top 5 rows\n",
            "\n",
            "None\n"
          ]
        }
      ]
    },
    {
      "cell_type": "code",
      "source": [
        "ibmdata.filter((ibmdata['Department']==\"Sales\")&(ibmdata[\"Age\"]> 58)).select(countDistinct(\"Department\")).show()"
      ],
      "metadata": {
        "colab": {
          "base_uri": "https://localhost:8080/"
        },
        "id": "L0sjzVaV6U_Q",
        "outputId": "831073d3-8ea6-479e-cb52-37794b49cbce"
      },
      "execution_count": null,
      "outputs": [
        {
          "output_type": "stream",
          "name": "stdout",
          "text": [
            "+--------------------------+\n",
            "|count(DISTINCT Department)|\n",
            "+--------------------------+\n",
            "|                         1|\n",
            "+--------------------------+\n",
            "\n"
          ]
        }
      ]
    },
    {
      "cell_type": "code",
      "source": [
        "ibmdata.select(countDistinct(\"JobRole\")).show()"
      ],
      "metadata": {
        "colab": {
          "base_uri": "https://localhost:8080/"
        },
        "id": "UJVpBfIp6wYZ",
        "outputId": "8237a100-7a3f-409c-86c9-5845fc96e3f6"
      },
      "execution_count": null,
      "outputs": [
        {
          "output_type": "stream",
          "name": "stdout",
          "text": [
            "+-----------------------+\n",
            "|count(DISTINCT JobRole)|\n",
            "+-----------------------+\n",
            "|                      9|\n",
            "+-----------------------+\n",
            "\n"
          ]
        }
      ]
    },
    {
      "cell_type": "code",
      "source": [
        "from pyspark.sql.functions import sumDistinct, collect_list, coll"
      ],
      "metadata": {
        "id": "X0cVdeOv78sQ"
      },
      "execution_count": null,
      "outputs": []
    },
    {
      "cell_type": "code",
      "source": [
        "print(ibmdata.select(collect_list(\"Department\")).show(truncate=False))"
      ],
      "metadata": {
        "colab": {
          "base_uri": "https://localhost:8080/"
        },
        "id": "rWB9KTrk8K2H",
        "outputId": "be4b987b-d6ec-47c9-d778-80d5b893c7ed"
      },
      "execution_count": null,
      "outputs": [
        {
          "output_type": "stream",
          "name": "stdout",
          "text": [
            "+-----------------------------------------------------------------------------------------------------------------------------------------------------------------------------------------------------------------------------------------------------------------------------------------------------------------------------------------------------------------------------------------------------------------------------------------------------------------------------------------------------------------------------------------------------------------------------------------------------------------------------------------------------------------------------------------------------------------------------------------------------------------------------------------------------------------------------------------------------------------------------------------------------------------------------------------------------------------------------------------------------------------------------------------------------------------------------------------------------------------------------------------------------------------------------------------------------------------------------------------------------------------------------------------------------------------------------------------------------------------------------------------------------------------------------------------------------------------------------------------------------------------------------------------------------------------------------------------------------------------------------------------------------------------------------------------------------------------------------------------------------------------------------------------------------------------------------------------------------------------------------------------------------------------------------------------------------------------------------------------------------------------------------------------------------------------------------------------------------------------------------------------------------------------------------------------------------------------------------------------------------------------------------------------------------------------------------------------------------------------------------------------------------------------------------------------------------------------------------------------------------------------------------------------------------------------------------------------------------------------------------------------------------------------------------------------------------------------------------------------------------------------------------------------------------------------------------------------------------------------------------------------------------------------------------------------------------------------------------------------------------------------------------------------------------------------------------------------------------------------------------------------------------------------------------------------------------------------------------------------------------------------------------------------------------------------------------------------------------------------------------------------------------------------------------------------------------------------------------------------------------------------------------------------------------------------------------------------------------------------------------------------------------------------------------------------------------------------------------------------------------------------------------------------------------------------------------------------------------------------------------------------------------------------------------------------------------------------------------------------------------------------------------------------------------------------------------------------------------------------------------------------------------------------------------------------------------------------------------------------------------------------------------------------------------------------------------------------------------------------------------------------------------------------------------------------------------------------------------------------------------------------------------------------------------------------------------------------------------------------------------------------------------------------------------------------------------------------------------------------------------------------------------------------------------------------------------------------------------------------------------------------------------------------------------------------------------------------------------------------------------------------------------------------------------------------------------------------------------------------------------------------------------------------------------------------------------------------------------------------------------------------------------------------------------------------------------------------------------------------------------------------------------------------------------------------------------------------------------------------------------------------------------------------------------------------------------------------------------------------------------------------------------------------------------------------------------------------------------------------------------------------------------------------------------------------------------------------------------------------------------------------------------------------------------------------------------------------------------------------------------------------------------------------------------------------------------------------------------------------------------------------------------------------------------------------------------------------------------------------------------------------------------------------------------------------------------------------------------------------------------------------------------------------------------------------------------------------------------------------------------------------------------------------------------------------------------------------------------------------------------------------------------------------------------------------------------------------------------------------------------------------------------------------------------------------------------------------------------------------------------------------------------------------------------------------------------------------------------------------------------------------------------------------------------------------------------------------------------------------------------------------------------------------------------------------------------------------------------------------------------------------------------------------------------------------------------------------------------------------------------------------------------------------------------------------------------------------------------------------------------------------------------------------------------------------------------------------------------------------------------------------------------------------------------------------------------------------------------------------------------------------------------------------------------------------------------------------------------------------------------------------------------------------------------------------------------------------------------------------------------------------------------------------------------------------------------------------------------------------------------------------------------------------------------------------------------------------------------------------------------------------------------------------------------------------------------------------------------------------------------------------------------------------------------------------------------------------------------------------------------------------------------------------------------------------------------------------------------------------------------------------------------------------------------------------------------------------------------------------------------------------------------------------------------------------------------------------------------------------------------------------------------------------------------------------------------------------------------------------------------------------------------------------------------------------------------------------------------------------------------------------------------------------------------------------------------------------------------------------------------------------------------------------------------------------------------------------------------------------------------------------------------------------------------------------------------------------------------------------------------------------------------------------------------------------------------------------------------------------------------------------------------------------------------------------------------------------------------------------------------------------------------------------------------------------------------------------------------------------------------------------------------------------------------------------------------------------------------------------------------------------------------------------------------------------------------------------------------------------------------------------------------------------------------------------------------------------------------------------------------------------------------------------------------------------------------------------------------------------------------------------------------------------------------------------------------------------------------------------------------------------------------------------------------------------------------------------------------------------------------------------------------------------------------------------------------------------------------------------------------------------------------------------------------------------------------------------------------------------------------------------------------------------------------------------------------------------------------------------------------------------------------------------------------------------------------------------------------------------------------------------------------------------------------------------------------------------------------------------------------------------------------------------------------------------------------------------------------------------------------------------------------------------------------------------------------------------------------------------------------------------------------------------------------------------------------------------------------------------------------------------------------------------------------------------------------------------------------------------------------------------------------------------------------------------------------------------------------------------------------------------------------------------------------------------------------------------------------------------------------------------------------------------------------------------------------------------------------------------------------------------------------------------------------------------------------------------------------------------------------------------------------------------------------------------------------------------------------------------------------------------------------------------------------------------------------------------------------------------------------------------------------------------------------------------------------------------------------------------------------------------------------------------------------------------------------------------------------------------------------------------------------------------------------------------------------------------------------------------------------------------------------------------------------------------------------------------------------------------------------------------------------------------------------------------------------------------------------------------------------------------------------------------------------------------------------------------------------------------------------------------------------------------------------------------------------------------------------------------------------------------------------------------------------------------------------------------------------------------------------------------------------------------------------------------------------------------------------------------------------------------------------------------------------------------------------------------------------------------------------------------------------------------------------------------------------------------------------------------------------------------------------------------------------------------------------------------------------------------------------------------------------------------------------------------------------------------------------------------------------------------------------------------------------------------------------------------------------------------------------------------------------------------------------------------------------------------------------------------------------------------------------------------------------------------------------------------------------------------------------------------------------------------------------------------------------------------------------------------------------------------------------------------------------------------------------------------------------------------------------------------------------------------------------------------------------------------------------------------------------------------------------------------------------------------------------------------------------------------------------------------------------------------------------------------------------------------------------------------------------------------------------------------------------------------------------------------------------------------------------------------------------------------------------------------------------------------------------------------------------------------------------------------------------------------------------------------------------------------------------------------------------------------------------------------------------------------------------------------------------------------------------------------------------------------------------------------------------------------------------------------------------------------------------------------------------------------------------------------------------------------------------------------------------------------------------------------------------------------------------------------------------------------------------------------------------------------------------------------------------------------------------------------------------------------------------------------------------------------------------------------------------------------------------------------------------------------------------------------------------------------------------------------------------------------------------------------------------------------------------------------------------------------------------------------------------------------------------------------------------------------------------------------------------------------------------------------------------------------------------------------------------------------------------------------------------------------------------------------------------------------------------------------------------------------------------------------------------------------------------------------------------------------------------------------------------------------------------------------------------------------------------------------------------------------------------------------------------------------------------------------------------------------------------------------------------------------------------------------------------------------------------------------------------------------------------------------------------------------------------------------------------------------------------------------------------------------------------------------------------------------------------------------------------------------------------------------------------------------------------------------------------------------------------------------------------------------------------------------------------------------------------------------------------------------------------------------------------------------------------------------------------------------------------------------------------------------------------------------------------------------------------------------------------------------------------------------------------------------------------------------------------------------------------------------------------------------------------------------------------------------------------------------------------------------------------------------------------------------------------------------------------------------------------------------------------------------------------------------------------------------------------------------------------------------------------------------------------------------------------------------------------------------------------------------------------------------------------------------------------------------------------------------------------------------------------------------------------------------------------------------------------------------------------------------------------------------------------------------------------------------------------------------------------------------------------------------------------------------------------------------------------------------------------------------------------------------------------------------------------------------------------------------------------------------------------------------------------------------------------------------------------------------------------------------------------------------------------------------------------------------------------------------------------------------------------------------------------------------------------------------------------------------------------------------------------------------------------------------------------------------------------------------------------------------------------------------------------------------------------------------------------------------------------------------------------------------------------------------------------------------------------------------------------------------------------------------------------------------------------------------------------------------------------------------------------------------------------------------------------------------------------------------------------------------------------------------------------------------------------------------------------------------------------------------------------------------------------------------------------------------------------------------------------------------------------------------------------------------------------------------------------------------------------------------------------------------------------------------------------------------------------------------------------------------------------------------------------------------------------------------------------------------------------------------------------------------------------------------------------------------------------------------------------------------------------------------------------------------------------------------------------------------------------------------------------------------------------------------------------------------------------------------------------------------------------------------------------------------------------------------------------------------------------------------------------------------------------------------------------------------------------------------------------------------------------------------------------------------------------------------------------------------------------------------------------------------------------------------------------------------------------------------------------------------------------------------------------------------------------------------------------------------------------------------------------------------------------------------------------------------------------------------------------------------------------------------------------------------------------------------------------------------------------------------------------------------------------------------------------------------------------------------------------------------------------------------------------------------------------------------------------------------------------------------------------------------------------------------------------------------------------------------------------------------------------------------------------------------------------------------------------------------------------------------------------------------------------------------------------------------------------------------------------------------------------------------------------------------------------------------------------------------------------------------------------------------------------------------------------------------------------------------------------------------------------------------------------------------------------------------------------------------------------------------------------------------------------------------------------------------------------------------------------------------------------------------------------------------------------------------------------------------------------------------------------------------------------------------------------------------------------------------------------------------------------------------------------------------------------------------------------------------------------------------------------------------------------------------------------------------------------------------------------------------------------------------------------------------------------------------------------------------------------------------------------------------------------------------------------------------------------------------------------------------------------------------------------------------------------------------------------------------------------------------------------------------------------------------------------------------------------------------------------------------------------------------------------------------------------------------------------------------------------------------------------------------------------------------------------------------------------------------------------------------------------------------------------------------------------------------------------------------------------------------------------------------------------------------------------------------------------------------------------------------------------------------------------------------------------------------------------------------------------------------------------------------------------------------------------------------------------------------------------------------------------------------------------------------------------------------------------------------------------------------------------------------------------------------------------------------------------------------------------------------------------------------------------------------------------------------------------------------------------------------------------------------------------------------------------------------------------------------------------------------------------------------------------------------------------------------------------------------------------------------------------------------------------------------------------------------------------------------------------------------------------------------------------------------------------------------------------------------------------------------------------------------------------------------------------------------------------------------------------------------------------------------------------------------------------------------------------------------------------------------------------------------------------------------------------------------------------------------------------------------------------------------------------------------------------------------------------------------------------------------------------------------------------------------------------------------------------------------------------------------------------------------------------------------------------------------------------------------------------------------------------------------------------------------------------------------------------------------------------------------------------------------------------------------------------------------------------------------------------------------------------------------------------------------------------------------------------------------------------------------------------------------------------------------------------------------------------------------------------------------------------------------------------------------------------------------------------------------------------------------------------------------------------------------------------------------------------------------------------------------------------------------------------------------------------------------------------------------------------------------------------------------------------------------------------------------------------------------------------------------------------------------------------------------------------------------------------------------------------------------------------------------------------------------------------------------------------------------------------------------------------------------------------------------------------------------------------------------------------------------------------------------------------------------------------------------------------------------------------------------------------------------------------------------------------------------+\n",
            "|collect_list(Department)                                                                                                                                                                                                                                                                                                                                                                                                                                                                                                                                                                                                                                                                                                                                                                                                                                                                                                                                                                                                                                                                                                                                                                                                                                                                                                                                                                                                                                                                                                                                                                                                                                                                                                                                                                                                                                                                                                                                                                                                                                                                                                                                                                                                                                                                                                                                                                                                                                                                                                                                                                                                                                                                                                                                                                                                                                                                                                                                                                                                                                                                                                                                                                                                                                                                                                                                                                                                                                                                                                                                                                                                                                                                                                                                                                                                                                                                                                                                                                                                                                                                                                                                                                                                                                                                                                                                                                                                                                                                                                                                                                                                                                                                                                                                                                                                                                                                                                                                                                                                                                                                                                                                                                                                                                                                                                                                                                                                                                                                                                                                                                                                                                                                                                                                                                                                                                                                                                                                                                                                                                                                                                                                                                                                                                                                                                                                                                                                                                                                                                                                                                                                                                                                                                                                                                                                                                                                                                                                                                                                                                                                                                                                                                                                                                                                                                                                                                                                                                                                                                                                                                                                                                                                                                                                                                                                                                                                                                                                                                                                                                                                                                                                                                                                                                                                                                                                                                                                                                                                                                                                                                                                                                                                                                                                                                                                                                                                                                                                                                                                                                                                                                                                                                                                                                                                                                                                                                                                                                                                                                                                                                                                                                                                                                                                                                                                                                                                                                                                                                                                                                                                                                                                                                                                                                                                                                                                                                                                                                                                                                                                                                                                                                                                                                                                                                                                                                                                                                                                                                                                                                                                                                                                                                                                                                                                                                                                                                                                                                                                                                                                                                                                                                                                                                                                                                                                                                                                                                                                                                                                                                                                                                                                                                                                                                                                                                                                                                                                                                                                                                                                                                                                                                                                                                                                                                                                                                                                                                                                                                                                                                                                                                                                                                                                                                                                                                                                                                                                                                                                                                                                                                                                                                                                                                                                                                                                                                                                                                                                                                                                                                                                                                                                                                                                                                                                                                                                                                                                                                                                                                                                                                                                                                                                                                                                                                                                                                                                                                                                                                                                                                                                                                                                                                                                                                                                                                                                                                                                                                                                                                                                                                                                                                                                                                                                                                                                                                                                                                                                                                                                                                                                                                                                                                                                                                                                                                                                                                                                                                                                                                                                                                                                                                                                                                                                                                                                                                                                                                                                                                                                                                                                                                                                                                                                                                                                                                                                                                                                                                                                                                                                                                                                                                                                                                                                                                                                                                                                                                                                                                                                                                                                                                                                                                                                                                                                                                                                                                                                                                                                                                                                                                                                                                                                                                                                                                                                                                                                                                                                                                                                                                                                                                                                                                                                                                                                                                                                                                                                                                                                                                                                                                                                                                                                                                                                                                                                                                                                                                                                                                                                                                                                                                                                                                                                                                                                                                                                                                                                                                                                                                                                                                                                                                                                                                                                                                                                                                                                                                                                                                                                                                                                                                                                                                                                                                                                                                                                                                                                                                                                                                                                                                                                                                                                                                                                                                                                                                                                                                                                                                                                                                                                                                                                                                                                                                                                                                                                                                                                                                                                                                                                                                                                                                                                                                                                                                                                                                                                                                                                                                                                                                                                                                                                                                                                                                                                                                                                                                                                                                                                                                                                                                                                                                                                                                                                                                                                                                                                                                                                                                                                                                                                                                                                                                                                                                                                                                                                                                                                                                                                                                                                                                                                                                                                                                                                                                                                                                                                                                                                                                                                                                                                                                                                                                                                                                                                                                                                                                                                                                                                                                                                                                                                                                                                                                                                                                                                                                                                                                                                                                                                                                                                                                                                                                                                                                                                                                                                                                                                                                                                                                                                                                                                                                                                                                                                                                                                                                                                                                                                                                                                                                                                                                                                                                                                                                                                                                                                                                                                                                                                                                                                                                                                                                                                                                                                                                                                                                                                                                                                                                                                                                                                                                                                                                                                                                                                                                                                                                 |\n",
            "+-----------------------------------------------------------------------------------------------------------------------------------------------------------------------------------------------------------------------------------------------------------------------------------------------------------------------------------------------------------------------------------------------------------------------------------------------------------------------------------------------------------------------------------------------------------------------------------------------------------------------------------------------------------------------------------------------------------------------------------------------------------------------------------------------------------------------------------------------------------------------------------------------------------------------------------------------------------------------------------------------------------------------------------------------------------------------------------------------------------------------------------------------------------------------------------------------------------------------------------------------------------------------------------------------------------------------------------------------------------------------------------------------------------------------------------------------------------------------------------------------------------------------------------------------------------------------------------------------------------------------------------------------------------------------------------------------------------------------------------------------------------------------------------------------------------------------------------------------------------------------------------------------------------------------------------------------------------------------------------------------------------------------------------------------------------------------------------------------------------------------------------------------------------------------------------------------------------------------------------------------------------------------------------------------------------------------------------------------------------------------------------------------------------------------------------------------------------------------------------------------------------------------------------------------------------------------------------------------------------------------------------------------------------------------------------------------------------------------------------------------------------------------------------------------------------------------------------------------------------------------------------------------------------------------------------------------------------------------------------------------------------------------------------------------------------------------------------------------------------------------------------------------------------------------------------------------------------------------------------------------------------------------------------------------------------------------------------------------------------------------------------------------------------------------------------------------------------------------------------------------------------------------------------------------------------------------------------------------------------------------------------------------------------------------------------------------------------------------------------------------------------------------------------------------------------------------------------------------------------------------------------------------------------------------------------------------------------------------------------------------------------------------------------------------------------------------------------------------------------------------------------------------------------------------------------------------------------------------------------------------------------------------------------------------------------------------------------------------------------------------------------------------------------------------------------------------------------------------------------------------------------------------------------------------------------------------------------------------------------------------------------------------------------------------------------------------------------------------------------------------------------------------------------------------------------------------------------------------------------------------------------------------------------------------------------------------------------------------------------------------------------------------------------------------------------------------------------------------------------------------------------------------------------------------------------------------------------------------------------------------------------------------------------------------------------------------------------------------------------------------------------------------------------------------------------------------------------------------------------------------------------------------------------------------------------------------------------------------------------------------------------------------------------------------------------------------------------------------------------------------------------------------------------------------------------------------------------------------------------------------------------------------------------------------------------------------------------------------------------------------------------------------------------------------------------------------------------------------------------------------------------------------------------------------------------------------------------------------------------------------------------------------------------------------------------------------------------------------------------------------------------------------------------------------------------------------------------------------------------------------------------------------------------------------------------------------------------------------------------------------------------------------------------------------------------------------------------------------------------------------------------------------------------------------------------------------------------------------------------------------------------------------------------------------------------------------------------------------------------------------------------------------------------------------------------------------------------------------------------------------------------------------------------------------------------------------------------------------------------------------------------------------------------------------------------------------------------------------------------------------------------------------------------------------------------------------------------------------------------------------------------------------------------------------------------------------------------------------------------------------------------------------------------------------------------------------------------------------------------------------------------------------------------------------------------------------------------------------------------------------------------------------------------------------------------------------------------------------------------------------------------------------------------------------------------------------------------------------------------------------------------------------------------------------------------------------------------------------------------------------------------------------------------------------------------------------------------------------------------------------------------------------------------------------------------------------------------------------------------------------------------------------------------------------------------------------------------------------------------------------------------------------------------------------------------------------------------------------------------------------------------------------------------------------------------------------------------------------------------------------------------------------------------------------------------------------------------------------------------------------------------------------------------------------------------------------------------------------------------------------------------------------------------------------------------------------------------------------------------------------------------------------------------------------------------------------------------------------------------------------------------------------------------------------------------------------------------------------------------------------------------------------------------------------------------------------------------------------------------------------------------------------------------------------------------------------------------------------------------------------------------------------------------------------------------------------------------------------------------------------------------------------------------------------------------------------------------------------------------------------------------------------------------------------------------------------------------------------------------------------------------------------------------------------------------------------------------------------------------------------------------------------------------------------------------------------------------------------------------------------------------------------------------------------------------------------------------------------------------------------------------------------------------------------------------------------------------------------------------------------------------------------------------------------------------------------------------------------------------------------------------------------------------------------------------------------------------------------------------------------------------------------------------------------------------------------------------------------------------------------------------------------------------------------------------------------------------------------------------------------------------------------------------------------------------------------------------------------------------------------------------------------------------------------------------------------------------------------------------------------------------------------------------------------------------------------------------------------------------------------------------------------------------------------------------------------------------------------------------------------------------------------------------------------------------------------------------------------------------------------------------------------------------------------------------------------------------------------------------------------------------------------------------------------------------------------------------------------------------------------------------------------------------------------------------------------------------------------------------------------------------------------------------------------------------------------------------------------------------------------------------------------------------------------------------------------------------------------------------------------------------------------------------------------------------------------------------------------------------------------------------------------------------------------------------------------------------------------------------------------------------------------------------------------------------------------------------------------------------------------------------------------------------------------------------------------------------------------------------------------------------------------------------------------------------------------------------------------------------------------------------------------------------------------------------------------------------------------------------------------------------------------------------------------------------------------------------------------------------------------------------------------------------------------------------------------------------------------------------------------------------------------------------------------------------------------------------------------------------------------------------------------------------------------------------------------------------------------------------------------------------------------------------------------------------------------------------------------------------------------------------------------------------------------------------------------------------------------------------------------------------------------------------------------------------------------------------------------------------------------------------------------------------------------------------------------------------------------------------------------------------------------------------------------------------------------------------------------------------------------------------------------------------------------------------------------------------------------------------------------------------------------------------------------------------------------------------------------------------------------------------------------------------------------------------------------------------------------------------------------------------------------------------------------------------------------------------------------------------------------------------------------------------------------------------------------------------------------------------------------------------------------------------------------------------------------------------------------------------------------------------------------------------------------------------------------------------------------------------------------------------------------------------------------------------------------------------------------------------------------------------------------------------------------------------------------------------------------------------------------------------------------------------------------------------------------------------------------------------------------------------------------------------------------------------------------------------------------------------------------------------------------------------------------------------------------------------------------------------------------------------------------------------------------------------------------------------------------------------------------------------------------------------------------------------------------------------------------------------------------------------------------------------------------------------------------------------------------------------------------------------------------------------------------------------------------------------------------------------------------------------------------------------------------------------------------------------------------------------------------------------------------------------------------------------------------------------------------------------------------------------------------------------------------------------------------------------------------------------------------------------------------------------------------------------------------------------------------------------------------------------------------------------------------------------------------------------------------------------------------------------------------------------------------------------------------------------------------------------------------------------------------------------------------------------------------------------------------------------------------------------------------------------------------------------------------------------------------------------------------------------------------------------------------------------------------------------------------------------------------------------------------------------------------------------------------------------------------------------------------------------------------------------------------------------------------------------------------------------------------------------------------------------------------------------------------------------------------------------------------------------------------------------------------------------------------------------------------------------------------------------------------------------------------------------------------------------------------------------------------------------------------------------------------------------------------------------------------------------------------------------------------------------------------------------------------------------------------------------------------------------------------------------------------------------------------------------------------------------------------------------------------------------------------------------------------------------------------------------------------------------------------------------------------------------------------------------------------------------------------------------------------------------------------------------------------------------------------------------------------------------------------------------------------------------------------------------------------------------------------------------------------------------------------------------------------------------------------------------------------------------------------------------------------------------------------------------------------------------------------------------------------------------------------------------------------------------------------------------------------------------------------------------------------------------------------------------------------------------------------------------------------------------------------------------------------------------------------------------------------------------------------------------------------------------------------------------------------------------------------------------------------------------------------------------------------------------------------------------------------------------------------------------------------------------------------------------------------------------------------------------------------------------------------------------------------------------------------------------------------------------------------------------------------------------------------------------------------------------------------------------------------------------------------------------------------------------------------------------------------------------------------------------------------------------------------------------------------------------------------------------------------------------------------------------------------------------------------------------------------------------------------------------------------------------------------------------------------------------------------------------------------------------------------------------------------------------------------------------------------------------------------------------------------------------------------------------------------------------------------------------------------------------------------------------------------------------------------------------------------------------------------------------------------------------------------------------------------------------------------------------------------------------------------------------------------------------------------------------------------------------------------------------------------------------------------------------------------------------------------------------------------------------------------------------------------------------------------------------------------------------------------------------------------------------------------------------------------------------------------------------------------------------------------------------------------------------------------------------------------------------------------------------------------------------------------------------------------------------------------------------------------------------------------------------------------------------------------------------------------------------------------------------------------------------------------------------------------------------------------------------------------------------------------------------------------------------------------------------------------------------------------------------------------------------------------------------------------------------------------------------------------------------------------------------------------------------------------------------------------------------------------------------------------------------------------------------------------------------------------------------------------------------------------------------------------------------------------------------------------------------------------------------------------------------------------------------------------------------------------------------------------------------------------------------------------------------------------------------------------------------------------------------------------------------------------------------------------------------------------------------------------------------------------------------------------------------------------------------------------------------------------------------------------------------------------------------------------------------------------------------------------------------------------------------------------------------------------------------------------------------------------------------------------------------------------------------------------------------------------------------------------------------------------------------------------------------------------------------------------------------------------------------------------------------------------------------------------------------------------------------------------------------------------------------------------------------------------------------------------------------------------------------------------------------------------------------------------------------------------------------------------------------------------------------------------------------------------------------------------------------------------------------------------------------------------------------------------------------------------------------------------------------------------------------------------------------------------------------------------------------------------------------------------------------------------------------------------------------------------------------------------------------------------------------------------------------------------------------------------------------------------------------------------------------------------------------------------------------------------------------------------------------------------------------------------------------------------------------------------------------------------------------------------------------------------------------------------------------------------------------------------------------------------------------------------------------------------------------------------------------------------------------------------------------------------------------------------------------------------------------------------------------------------------------------------------------------------------------------------------------------------------------------------------------------------------------------------------------------------------------------------------------------------------------------------------------------------------------------------------------------------------------------------------------------------------------------------------------------------------------------------------------------------------------------------------------------------------------------------------------------------------------------------------------------------------------------------------------------------------------------------------------------------------------------------------------------------------------------------------------------------------------------------------------------------------------------------------------------------------------------------------------------------------------------------------------------------------------------------------------------------------------------------------------------------------------------------------------------------------------------------------------------------------------------------------------------------------------------------------------------------------------------------------------------------------------------------------------------------------------------------------------------------------------------------------------------------------------------------------------------------------------------------------------------------------------------------------------------------------------------------------------------------------------------------------------------------------------------------------------------------------------------------------------------------------------------------------------------------------------------------------------------------------------------------------------------------------------------------------------------------------------------------------------------------------------------------------------------------------------------------------------------------------------------------------------------------------------------------------------------------------------------------------------------------------------------------------------------------------------------------------------------------------------------------------------------------------------------------------------------------------------------------------------------------------------------------------------------------------------------------------------------------------------------------------------------------------------------------------------------------------------------------------------------------------------------------------------------------------------------+\n",
            "|[Sales, Research & Development, Research & Development, Research & Development, Research & Development, Research & Development, Research & Development, Research & Development, Research & Development, Research & Development, Research & Development, Research & Development, Research & Development, Research & Development, Research & Development, Research & Development, Research & Development, Research & Development, Sales, Research & Development, Research & Development, Sales, Research & Development, Research & Development, Research & Development, Research & Development, Research & Development, Sales, Research & Development, Sales, Research & Development, Research & Development, Research & Development, Sales, Research & Development, Research & Development, Sales, Sales, Research & Development, Sales, Research & Development, Research & Development, Research & Development, Sales, Research & Development, Research & Development, Sales, Research & Development, Sales, Research & Development, Research & Development, Research & Development, Sales, Research & Development, Sales, Research & Development, Sales, Research & Development, Research & Development, Research & Development, Research & Development, Research & Development, Research & Development, Sales, Research & Development, Research & Development, Research & Development, Research & Development, Research & Development, Research & Development, Sales, Research & Development, Research & Development, Research & Development, Research & Development, Research & Development, Sales, Research & Development, Research & Development, Human Resources, Research & Development, Research & Development, Sales, Research & Development, Research & Development, Research & Development, Sales, Research & Development, Research & Development, Sales, Research & Development, Sales, Sales, Research & Development, Sales, Research & Development, Sales, Sales, Sales, Research & Development, Human Resources, Research & Development, Research & Development, Research & Development, Research & Development, Human Resources, Research & Development, Sales, Research & Development, Research & Development, Research & Development, Research & Development, Human Resources, Research & Development, Research & Development, Sales, Research & Development, Sales, Research & Development, Sales, Research & Development, Sales, Research & Development, Research & Development, Sales, Research & Development, Research & Development, Sales, Research & Development, Research & Development, Research & Development, Sales, Sales, Sales, Human Resources, Research & Development, Research & Development, Sales, Sales, Human Resources, Research & Development, Research & Development, Research & Development, Research & Development, Sales, Research & Development, Research & Development, Research & Development, Research & Development, Research & Development, Research & Development, Sales, Sales, Research & Development, Sales, Research & Development, Research & Development, Research & Development, Sales, Sales, Research & Development, Research & Development, Research & Development, Research & Development, Research & Development, Research & Development, Research & Development, Sales, Sales, Research & Development, Research & Development, Sales, Research & Development, Research & Development, Sales, Research & Development, Research & Development, Research & Development, Sales, Research & Development, Research & Development, Research & Development, Sales, Research & Development, Research & Development, Research & Development, Research & Development, Research & Development, Research & Development, Research & Development, Research & Development, Research & Development, Research & Development, Research & Development, Research & Development, Research & Development, Research & Development, Research & Development, Research & Development, Research & Development, Research & Development, Research & Development, Research & Development, Research & Development, Research & Development, Sales, Research & Development, Research & Development, Research & Development, Research & Development, Sales, Research & Development, Sales, Research & Development, Research & Development, Sales, Sales, Research & Development, Sales, Sales, Research & Development, Research & Development, Research & Development, Sales, Research & Development, Research & Development, Sales, Sales, Sales, Research & Development, Research & Development, Research & Development, Human Resources, Sales, Research & Development, Sales, Research & Development, Sales, Sales, Research & Development, Research & Development, Sales, Research & Development, Research & Development, Research & Development, Research & Development, Research & Development, Research & Development, Research & Development, Research & Development, Research & Development, Research & Development, Research & Development, Research & Development, Sales, Research & Development, Research & Development, Research & Development, Research & Development, Research & Development, Research & Development, Sales, Research & Development, Sales, Research & Development, Sales, Research & Development, Research & Development, Research & Development, Research & Development, Research & Development, Research & Development, Research & Development, Sales, Research & Development, Research & Development, Research & Development, Sales, Research & Development, Research & Development, Research & Development, Sales, Sales, Research & Development, Research & Development, Research & Development, Research & Development, Research & Development, Research & Development, Research & Development, Research & Development, Research & Development, Sales, Sales, Research & Development, Sales, Research & Development, Sales, Research & Development, Research & Development, Sales, Sales, Research & Development, Sales, Research & Development, Research & Development, Sales, Research & Development, Research & Development, Research & Development, Human Resources, Research & Development, Research & Development, Research & Development, Research & Development, Research & Development, Research & Development, Research & Development, Research & Development, Sales, Sales, Sales, Research & Development, Research & Development, Research & Development, Research & Development, Research & Development, Sales, Sales, Research & Development, Research & Development, Sales, Research & Development, Research & Development, Research & Development, Sales, Research & Development, Research & Development, Sales, Sales, Research & Development, Research & Development, Research & Development, Sales, Research & Development, Research & Development, Research & Development, Sales, Research & Development, Sales, Human Resources, Research & Development, Sales, Research & Development, Sales, Sales, Research & Development, Sales, Sales, Sales, Research & Development, Research & Development, Sales, Sales, Research & Development, Research & Development, Sales, Research & Development, Sales, Research & Development, Sales, Research & Development, Research & Development, Research & Development, Sales, Research & Development, Sales, Research & Development, Sales, Research & Development, Sales, Sales, Research & Development, Research & Development, Sales, Research & Development, Research & Development, Sales, Research & Development, Research & Development, Research & Development, Research & Development, Research & Development, Sales, Research & Development, Research & Development, Research & Development, Sales, Research & Development, Research & Development, Research & Development, Sales, Sales, Sales, Research & Development, Research & Development, Research & Development, Research & Development, Research & Development, Research & Development, Research & Development, Research & Development, Research & Development, Research & Development, Sales, Sales, Research & Development, Sales, Research & Development, Research & Development, Research & Development, Research & Development, Human Resources, Sales, Sales, Research & Development, Research & Development, Sales, Research & Development, Research & Development, Research & Development, Research & Development, Research & Development, Sales, Research & Development, Research & Development, Research & Development, Sales, Research & Development, Research & Development, Human Resources, Research & Development, Sales, Research & Development, Sales, Sales, Sales, Sales, Research & Development, Research & Development, Sales, Research & Development, Sales, Human Resources, Research & Development, Research & Development, Sales, Sales, Sales, Research & Development, Sales, Sales, Sales, Research & Development, Research & Development, Research & Development, Sales, Sales, Research & Development, Sales, Sales, Research & Development, Research & Development, Research & Development, Research & Development, Sales, Research & Development, Human Resources, Sales, Research & Development, Sales, Research & Development, Sales, Research & Development, Sales, Research & Development, Sales, Research & Development, Research & Development, Research & Development, Research & Development, Research & Development, Research & Development, Human Resources, Sales, Sales, Sales, Research & Development, Research & Development, Sales, Research & Development, Research & Development, Sales, Research & Development, Sales, Research & Development, Research & Development, Sales, Research & Development, Research & Development, Human Resources, Research & Development, Research & Development, Research & Development, Research & Development, Research & Development, Research & Development, Sales, Sales, Research & Development, Sales, Sales, Research & Development, Research & Development, Research & Development, Sales, Research & Development, Sales, Sales, Research & Development, Research & Development, Research & Development, Sales, Sales, Research & Development, Human Resources, Sales, Research & Development, Human Resources, Sales, Research & Development, Research & Development, Research & Development, Research & Development, Sales, Sales, Sales, Research & Development, Sales, Research & Development, Research & Development, Human Resources, Research & Development, Research & Development, Research & Development, Sales, Research & Development, Research & Development, Research & Development, Research & Development, Research & Development, Sales, Research & Development, Sales, Sales, Research & Development, Sales, Sales, Research & Development, Sales, Research & Development, Research & Development, Research & Development, Sales, Research & Development, Research & Development, Sales, Research & Development, Research & Development, Research & Development, Sales, Research & Development, Research & Development, Sales, Research & Development, Research & Development, Research & Development, Research & Development, Research & Development, Research & Development, Research & Development, Sales, Research & Development, Research & Development, Research & Development, Research & Development, Research & Development, Research & Development, Research & Development, Human Resources, Research & Development, Research & Development, Research & Development, Research & Development, Research & Development, Research & Development, Research & Development, Sales, Sales, Research & Development, Research & Development, Research & Development, Sales, Human Resources, Research & Development, Research & Development, Sales, Research & Development, Research & Development, Sales, Research & Development, Sales, Sales, Research & Development, Sales, Sales, Research & Development, Research & Development, Sales, Human Resources, Research & Development, Research & Development, Research & Development, Human Resources, Sales, Research & Development, Research & Development, Research & Development, Sales, Research & Development, Research & Development, Sales, Sales, Research & Development, Research & Development, Sales, Sales, Research & Development, Sales, Research & Development, Research & Development, Sales, Sales, Research & Development, Human Resources, Human Resources, Research & Development, Research & Development, Research & Development, Sales, Research & Development, Research & Development, Sales, Research & Development, Research & Development, Sales, Research & Development, Research & Development, Research & Development, Research & Development, Research & Development, Research & Development, Sales, Research & Development, Research & Development, Sales, Research & Development, Research & Development, Research & Development, Sales, Research & Development, Research & Development, Research & Development, Sales, Sales, Sales, Research & Development, Research & Development, Sales, Research & Development, Research & Development, Research & Development, Research & Development, Sales, Research & Development, Sales, Research & Development, Sales, Sales, Research & Development, Research & Development, Sales, Sales, Sales, Sales, Sales, Sales, Research & Development, Sales, Research & Development, Sales, Research & Development, Research & Development, Research & Development, Research & Development, Research & Development, Research & Development, Research & Development, Research & Development, Sales, Research & Development, Research & Development, Research & Development, Research & Development, Research & Development, Research & Development, Research & Development, Research & Development, Research & Development, Research & Development, Research & Development, Research & Development, Research & Development, Research & Development, Research & Development, Research & Development, Research & Development, Research & Development, Research & Development, Research & Development, Research & Development, Sales, Research & Development, Research & Development, Research & Development, Research & Development, Research & Development, Sales, Sales, Sales, Sales, Sales, Research & Development, Research & Development, Sales, Sales, Research & Development, Sales, Sales, Human Resources, Sales, Research & Development, Research & Development, Sales, Sales, Research & Development, Research & Development, Research & Development, Sales, Research & Development, Research & Development, Sales, Research & Development, Research & Development, Research & Development, Sales, Sales, Research & Development, Research & Development, Research & Development, Research & Development, Research & Development, Research & Development, Research & Development, Research & Development, Research & Development, Research & Development, Research & Development, Research & Development, Human Resources, Research & Development, Sales, Research & Development, Research & Development, Research & Development, Sales, Research & Development, Research & Development, Research & Development, Research & Development, Research & Development, Sales, Sales, Research & Development, Research & Development, Sales, Research & Development, Sales, Research & Development, Research & Development, Sales, Sales, Research & Development, Research & Development, Research & Development, Research & Development, Research & Development, Research & Development, Sales, Research & Development, Sales, Sales, Research & Development, Research & Development, Research & Development, Research & Development, Human Resources, Research & Development, Research & Development, Sales, Research & Development, Research & Development, Research & Development, Research & Development, Sales, Human Resources, Sales, Research & Development, Sales, Sales, Research & Development, Research & Development, Research & Development, Research & Development, Sales, Research & Development, Research & Development, Research & Development, Research & Development, Sales, Sales, Research & Development, Research & Development, Research & Development, Research & Development, Research & Development, Research & Development, Research & Development, Research & Development, Research & Development, Research & Development, Sales, Research & Development, Human Resources, Research & Development, Sales, Sales, Research & Development, Research & Development, Research & Development, Sales, Research & Development, Sales, Research & Development, Research & Development, Research & Development, Sales, Research & Development, Human Resources, Sales, Research & Development, Research & Development, Research & Development, Research & Development, Sales, Sales, Research & Development, Research & Development, Sales, Research & Development, Research & Development, Research & Development, Research & Development, Research & Development, Research & Development, Research & Development, Research & Development, Sales, Research & Development, Research & Development, Research & Development, Research & Development, Research & Development, Research & Development, Research & Development, Research & Development, Research & Development, Sales, Sales, Research & Development, Research & Development, Sales, Research & Development, Sales, Research & Development, Research & Development, Sales, Sales, Sales, Research & Development, Research & Development, Research & Development, Research & Development, Human Resources, Research & Development, Research & Development, Sales, Research & Development, Research & Development, Research & Development, Research & Development, Research & Development, Research & Development, Research & Development, Research & Development, Sales, Research & Development, Research & Development, Research & Development, Research & Development, Research & Development, Research & Development, Research & Development, Human Resources, Research & Development, Research & Development, Sales, Sales, Research & Development, Research & Development, Sales, Sales, Sales, Research & Development, Research & Development, Research & Development, Human Resources, Research & Development, Research & Development, Research & Development, Sales, Research & Development, Human Resources, Sales, Sales, Research & Development, Research & Development, Research & Development, Sales, Research & Development, Sales, Research & Development, Research & Development, Research & Development, Sales, Sales, Research & Development, Research & Development, Research & Development, Research & Development, Sales, Sales, Research & Development, Research & Development, Sales, Research & Development, Sales, Sales, Research & Development, Research & Development, Sales, Sales, Research & Development, Sales, Research & Development, Research & Development, Sales, Research & Development, Research & Development, Human Resources, Research & Development, Research & Development, Research & Development, Research & Development, Research & Development, Human Resources, Research & Development, Research & Development, Research & Development, Research & Development, Research & Development, Sales, Sales, Sales, Research & Development, Research & Development, Research & Development, Research & Development, Research & Development, Sales, Research & Development, Sales, Research & Development, Research & Development, Research & Development, Sales, Sales, Research & Development, Research & Development, Research & Development, Sales, Sales, Research & Development, Research & Development, Research & Development, Human Resources, Research & Development, Research & Development, Sales, Human Resources, Research & Development, Sales, Research & Development, Research & Development, Research & Development, Research & Development, Research & Development, Sales, Sales, Sales, Research & Development, Sales, Research & Development, Research & Development, Research & Development, Research & Development, Sales, Sales, Sales, Sales, Research & Development, Sales, Research & Development, Sales, Human Resources, Research & Development, Research & Development, Sales, Research & Development, Research & Development, Sales, Research & Development, Research & Development, Research & Development, Research & Development, Research & Development, Research & Development, Research & Development, Research & Development, Research & Development, Sales, Research & Development, Research & Development, Research & Development, Sales, Research & Development, Research & Development, Sales, Research & Development, Research & Development, Research & Development, Research & Development, Research & Development, Research & Development, Sales, Research & Development, Human Resources, Research & Development, Research & Development, Research & Development, Sales, Research & Development, Sales, Sales, Research & Development, Sales, Sales, Human Resources, Research & Development, Sales, Research & Development, Research & Development, Research & Development, Research & Development, Research & Development, Research & Development, Sales, Research & Development, Research & Development, Sales, Sales, Sales, Research & Development, Research & Development, Sales, Research & Development, Sales, Research & Development, Research & Development, Research & Development, Research & Development, Research & Development, Sales, Research & Development, Research & Development, Sales, Research & Development, Research & Development, Research & Development, Research & Development, Research & Development, Research & Development, Research & Development, Sales, Sales, Research & Development, Research & Development, Research & Development, Research & Development, Research & Development, Research & Development, Research & Development, Research & Development, Sales, Human Resources, Research & Development, Research & Development, Research & Development, Research & Development, Research & Development, Research & Development, Research & Development, Sales, Research & Development, Research & Development, Human Resources, Research & Development, Sales, Research & Development, Research & Development, Research & Development, Research & Development, Sales, Research & Development, Research & Development, Research & Development, Research & Development, Research & Development, Sales, Research & Development, Research & Development, Research & Development, Research & Development, Research & Development, Research & Development, Research & Development, Sales, Research & Development, Sales, Sales, Research & Development, Sales, Research & Development, Research & Development, Sales, Research & Development, Sales, Sales, Sales, Research & Development, Human Resources, Research & Development, Research & Development, Research & Development, Sales, Research & Development, Research & Development, Research & Development, Research & Development, Research & Development, Research & Development, Sales, Research & Development, Sales, Research & Development, Research & Development, Sales, Research & Development, Sales, Research & Development, Sales, Research & Development, Human Resources, Sales, Research & Development, Research & Development, Research & Development, Research & Development, Human Resources, Research & Development, Research & Development, Research & Development, Research & Development, Research & Development, Sales, Sales, Sales, Sales, Research & Development, Research & Development, Research & Development, Sales, Sales, Human Resources, Research & Development, Human Resources, Human Resources, Sales, Research & Development, Sales, Research & Development, Sales, Research & Development, Sales, Sales, Sales, Research & Development, Sales, Research & Development, Research & Development, Research & Development, Research & Development, Research & Development, Research & Development, Research & Development, Research & Development, Research & Development, Sales, Research & Development, Human Resources, Sales, Sales, Research & Development, Research & Development, Sales, Research & Development, Sales, Research & Development, Research & Development, Research & Development, Human Resources, Sales, Research & Development, Research & Development, Research & Development, Sales, Research & Development, Research & Development, Research & Development, Human Resources, Research & Development, Research & Development, Sales, Research & Development, Research & Development, Sales, Research & Development, Human Resources, Research & Development, Research & Development, Sales, Sales, Research & Development, Research & Development, Research & Development, Research & Development, Sales, Research & Development, Sales, Sales, Research & Development, Research & Development, Human Resources, Human Resources, Sales, Research & Development, Sales, Research & Development, Research & Development, Sales, Research & Development, Research & Development, Research & Development, Human Resources, Research & Development, Research & Development, Sales, Sales, Sales, Human Resources, Research & Development, Research & Development, Research & Development, Sales, Research & Development, Research & Development, Research & Development, Sales, Sales, Research & Development, Sales, Research & Development, Sales, Research & Development, Research & Development, Research & Development, Research & Development, Human Resources, Research & Development, Research & Development, Sales, Research & Development, Research & Development, Research & Development, Research & Development, Sales, Sales, Research & Development, Sales, Sales, Research & Development, Research & Development, Research & Development, Sales, Sales, Sales, Sales, Research & Development, Research & Development, Sales, Research & Development, Sales, Research & Development, Research & Development, Sales, Research & Development, Research & Development, Research & Development, Sales, Human Resources, Sales, Research & Development, Research & Development, Research & Development, Sales, Sales, Research & Development, Research & Development, Research & Development, Research & Development, Research & Development, Sales, Sales, Sales, Research & Development, Sales, Sales, Research & Development, Research & Development, Research & Development, Human Resources, Human Resources, Research & Development, Sales, Research & Development, Research & Development, Research & Development, Research & Development, Research & Development, Research & Development, Sales, Human Resources, Research & Development, Research & Development, Research & Development, Research & Development, Sales, Sales, Research & Development, Research & Development, Research & Development, Research & Development, Research & Development, Research & Development, Research & Development, Research & Development, Research & Development, Research & Development, Sales, Research & Development, Research & Development, Sales, Research & Development, Sales, Sales, Research & Development, Sales, Research & Development, Sales, Sales, Research & Development, Research & Development, Research & Development, Research & Development, Research & Development, Research & Development, Sales, Sales, Sales, Research & Development, Human Resources, Sales, Sales, Sales, Sales, Research & Development, Research & Development, Research & Development, Research & Development, Research & Development, Research & Development, Sales, Sales, Research & Development, Sales, Research & Development, Research & Development, Research & Development, Sales, Research & Development]|\n",
            "+-----------------------------------------------------------------------------------------------------------------------------------------------------------------------------------------------------------------------------------------------------------------------------------------------------------------------------------------------------------------------------------------------------------------------------------------------------------------------------------------------------------------------------------------------------------------------------------------------------------------------------------------------------------------------------------------------------------------------------------------------------------------------------------------------------------------------------------------------------------------------------------------------------------------------------------------------------------------------------------------------------------------------------------------------------------------------------------------------------------------------------------------------------------------------------------------------------------------------------------------------------------------------------------------------------------------------------------------------------------------------------------------------------------------------------------------------------------------------------------------------------------------------------------------------------------------------------------------------------------------------------------------------------------------------------------------------------------------------------------------------------------------------------------------------------------------------------------------------------------------------------------------------------------------------------------------------------------------------------------------------------------------------------------------------------------------------------------------------------------------------------------------------------------------------------------------------------------------------------------------------------------------------------------------------------------------------------------------------------------------------------------------------------------------------------------------------------------------------------------------------------------------------------------------------------------------------------------------------------------------------------------------------------------------------------------------------------------------------------------------------------------------------------------------------------------------------------------------------------------------------------------------------------------------------------------------------------------------------------------------------------------------------------------------------------------------------------------------------------------------------------------------------------------------------------------------------------------------------------------------------------------------------------------------------------------------------------------------------------------------------------------------------------------------------------------------------------------------------------------------------------------------------------------------------------------------------------------------------------------------------------------------------------------------------------------------------------------------------------------------------------------------------------------------------------------------------------------------------------------------------------------------------------------------------------------------------------------------------------------------------------------------------------------------------------------------------------------------------------------------------------------------------------------------------------------------------------------------------------------------------------------------------------------------------------------------------------------------------------------------------------------------------------------------------------------------------------------------------------------------------------------------------------------------------------------------------------------------------------------------------------------------------------------------------------------------------------------------------------------------------------------------------------------------------------------------------------------------------------------------------------------------------------------------------------------------------------------------------------------------------------------------------------------------------------------------------------------------------------------------------------------------------------------------------------------------------------------------------------------------------------------------------------------------------------------------------------------------------------------------------------------------------------------------------------------------------------------------------------------------------------------------------------------------------------------------------------------------------------------------------------------------------------------------------------------------------------------------------------------------------------------------------------------------------------------------------------------------------------------------------------------------------------------------------------------------------------------------------------------------------------------------------------------------------------------------------------------------------------------------------------------------------------------------------------------------------------------------------------------------------------------------------------------------------------------------------------------------------------------------------------------------------------------------------------------------------------------------------------------------------------------------------------------------------------------------------------------------------------------------------------------------------------------------------------------------------------------------------------------------------------------------------------------------------------------------------------------------------------------------------------------------------------------------------------------------------------------------------------------------------------------------------------------------------------------------------------------------------------------------------------------------------------------------------------------------------------------------------------------------------------------------------------------------------------------------------------------------------------------------------------------------------------------------------------------------------------------------------------------------------------------------------------------------------------------------------------------------------------------------------------------------------------------------------------------------------------------------------------------------------------------------------------------------------------------------------------------------------------------------------------------------------------------------------------------------------------------------------------------------------------------------------------------------------------------------------------------------------------------------------------------------------------------------------------------------------------------------------------------------------------------------------------------------------------------------------------------------------------------------------------------------------------------------------------------------------------------------------------------------------------------------------------------------------------------------------------------------------------------------------------------------------------------------------------------------------------------------------------------------------------------------------------------------------------------------------------------------------------------------------------------------------------------------------------------------------------------------------------------------------------------------------------------------------------------------------------------------------------------------------------------------------------------------------------------------------------------------------------------------------------------------------------------------------------------------------------------------------------------------------------------------------------------------------------------------------------------------------------------------------------------------------------------------------------------------------------------------------------------------------------------------------------------------------------------------------------------------------------------------------------------------------------------------------------------------------------------------------------------------------------------------------------------------------------------------------------------------------------------------------------------------------------------------------------------------------------------------------------------------------------------------------------------------------------------------------------------------------------------------------------------------------------------------------------------------------------------------------------------------------------------------------------------------------------------------------------------------------------------------------------------------------------------------------------------------------------------------------------------------------------------------------------------------------------------------------------------------------------------------------------------------------------------------------------------------------------------------------------------------------------------------------------------------------------------------------------------------------------------------------------------------------------------------------------------------------------------------------------------------------------------------------------------------------------------------------------------------------------------------------------------------------------------------------------------------------------------------------------------------------------------------------------------------------------------------------------------------------------------------------------------------------------------------------------------------------------------------------------------------------------------------------------------------------------------------------------------------------------------------------------------------------------------------------------------------------------------------------------------------------------------------------------------------------------------------------------------------------------------------------------------------------------------------------------------------------------------------------------------------------------------------------------------------------------------------------------------------------------------------------------------------------------------------------------------------------------------------------------------------------------------------------------------------------------------------------------------------------------------------------------------------------------------------------------------------------------------------------------------------------------------------------------------------------------------------------------------------------------------------------------------------------------------------------------------------------------------------------------------------------------------------------------------------------------------------------------------------------------------------------------------------------------------------------------------------------------------------------------------------------------------------------------------------------------------------------------------------------------------------------------------------------------------------------------------------------------------------------------------------------------------------------------------------------------------------------------------------------------------------------------------------------------------------------------------------------------------------------------------------------------------------------------------------------------------------------------------------------------------------------------------------------------------------------------------------------------------------------------------------------------------------------------------------------------------------------------------------------------------------------------------------------------------------------------------------------------------------------------------------------------------------------------------------------------------------------------------------------------------------------------------------------------------------------------------------------------------------------------------------------------------------------------------------------------------------------------------------------------------------------------------------------------------------------------------------------------------------------------------------------------------------------------------------------------------------------------------------------------------------------------------------------------------------------------------------------------------------------------------------------------------------------------------------------------------------------------------------------------------------------------------------------------------------------------------------------------------------------------------------------------------------------------------------------------------------------------------------------------------------------------------------------------------------------------------------------------------------------------------------------------------------------------------------------------------------------------------------------------------------------------------------------------------------------------------------------------------------------------------------------------------------------------------------------------------------------------------------------------------------------------------------------------------------------------------------------------------------------------------------------------------------------------------------------------------------------------------------------------------------------------------------------------------------------------------------------------------------------------------------------------------------------------------------------------------------------------------------------------------------------------------------------------------------------------------------------------------------------------------------------------------------------------------------------------------------------------------------------------------------------------------------------------------------------------------------------------------------------------------------------------------------------------------------------------------------------------------------------------------------------------------------------------------------------------------------------------------------------------------------------------------------------------------------------------------------------------------------------------------------------------------------------------------------------------------------------------------------------------------------------------------------------------------------------------------------------------------------------------------------------------------------------------------------------------------------------------------------------------------------------------------------------------------------------------------------------------------------------------------------------------------------------------------------------------------------------------------------------------------------------------------------------------------------------------------------------------------------------------------------------------------------------------------------------------------------------------------------------------------------------------------------------------------------------------------------------------------------------------------------------------------------------------------------------------------------------------------------------------------------------------------------------------------------------------------------------------------------------------------------------------------------------------------------------------------------------------------------------------------------------------------------------------------------------------------------------------------------------------------------------------------------------------------------------------------------------------------------------------------------------------------------------------------------------------------------------------------------------------------------------------------------------------------------------------------------------------------------------------------------------------------------------------------------------------------------------------------------------------------------------------------------------------------------------------------------------------------------------------------------------------------------------------------------------------------------------------------------------------------------------------------------------------------------------------------------------------------------------------------------------------------------------------------------------------------------------------------------------------------------------------------------------------------------------------------------------------------------------------------------------------------------------------------------------------------------------------------------------------------------------------------------------------------------------------------------------------------------------------------------------------------------------------------------------------------------------------------------------------------------------------------------------------------------------------------------------------------------------------------------------------------------------------------------------------------------------------------------------------------------------------------------------------------------------------------------------------------------------------------------------------------------------------------------------------------------------------------------------------------------------------------------------------------------------------------------------------------------------------------------------------------------------------------------------------------------------------------------------------------------------------------------------------------------------------------------------------------------------------------------------------------------------------------------------------------------------------------------------------------------------------------------------------------------------------------------------------------------------------------------------------------------------------------------------------------------------------------------------------------------------------------------------------------------------------------------------------------------------------------------------------------------------------------------------------------------------------------------------------------------------------------------------------------------------------------------------------------------------------------------------------------------------------------------------------------------------------------------------------------------------------------------------------------------------------------------------------------------------------------------------------------------------------------------------------------------------------------------------------------------------------------------------------------------------------------------------------------------------------------------------------------------------------------------------------------------------------------------------------------------------------------------------------------------------------------------------------------------------------------------------------------------------------------------------------------------------------------------------------------------------------------------------------------------------------------------------------------------------------------------------------------------------------------------------------------------------------------------------------------------------------------------------------------------------------------------------------------------------------------------------------------------------------------------------------------------------------------------------------------------------------------------------------------------------------------------------------------------------------------------------------------------------------------------------------------------------------------------------------------------------------------------------------------------------------------------------------------------------------------------------------------------------------------------------------------------------------------------------------------------------------------------------------------------------------------------------------------------------------------------------------------------------------------------------------------------------------------------------------------------------------------------------------------------------------------------------------------------------------------------------------------------------------------------------------------------------------------------------------------------------------------------------------------------------------------------------------------------------------------------------------------------------------------------------------------------------------------------------------------------------------------------------------------------------------------------------------------------------------------------------------------------------------------------------------------------------------------------------------------------------------------------------------------------------------------------------------------------------------------------------------------------------------------------------------------------------------------------------------------------------------------------------------------------------------------------------------------------------------------------------------------------------------------------------------------------------------------------------------------------------------------------------------------------------------------------------------------------------------------------------------------------------------------------------------------------------------------------------------------------------------------------------------------------------------------------------------------------------------------------------------------------------------------------------------------------------------------------------------------------------------------------------------------------------------------------------------------------------------------------------------------------------------------------------------------------------------------------------------------------------------------------------------------------------------------------------------------------------------------------------------------------------------------------------------------------------------------------------------------------------------------------------------------------------------------------------------------------------------------------------------------------------------------------------------------------------------------------------------------------------------------------------------------------------------------------------------------------------------------------------------------------------------------------------------------------------------------------------------------------------------------------------------------------------------------------------------------------------------------------------------------------------------------------------------------------------------------------------------------------------------------------------------------------------------------------------------------------------------------------------------------------------------------------------------------------------------------------------------------------------------------------------------------------------------------------------------------------------------------------------------------------------------------------------------------------------------------------------------------------------------------------------------------------------------------------------------------------------------------------------------------------------------------------------------------------------------------------------------------------------------------------------------------------------------------------------------------------------------------------------------------------------------------------------------------------------------------------------------------------------------------------------------------------------------------------------------------------------------------------------------------------------------------------------------------------------------------------------------------------------------------------------------------------------------------------------------------------------------------------------------------------------------------------------------------------------------------------------------------------------------------------------------------------------------------------------------------------------------------------------------------------+\n",
            "\n",
            "None\n"
          ]
        }
      ]
    },
    {
      "cell_type": "code",
      "source": [
        "ibmdata.select(\"Department\").distinct().show(truncate=False)"
      ],
      "metadata": {
        "colab": {
          "base_uri": "https://localhost:8080/"
        },
        "id": "63dIXwJV8wvS",
        "outputId": "c907bad9-090b-4692-9eb6-3f3b64f52ed7"
      },
      "execution_count": null,
      "outputs": [
        {
          "output_type": "stream",
          "name": "stdout",
          "text": [
            "+----------------------+\n",
            "|Department            |\n",
            "+----------------------+\n",
            "|Sales                 |\n",
            "|Research & Development|\n",
            "|Human Resources       |\n",
            "+----------------------+\n",
            "\n"
          ]
        }
      ]
    },
    {
      "cell_type": "code",
      "source": [
        "ibmdata.select(sumDistinct(\"Age\")).show(truncate=False)"
      ],
      "metadata": {
        "colab": {
          "base_uri": "https://localhost:8080/"
        },
        "id": "F8Xj7UU7-EHV",
        "outputId": "4c84ddaa-ea7d-49e7-c026-add27e9fc5ab"
      },
      "execution_count": null,
      "outputs": [
        {
          "output_type": "stream",
          "name": "stderr",
          "text": [
            "/usr/local/lib/python3.7/dist-packages/pyspark/sql/functions.py:214: FutureWarning: Deprecated in 3.2, use sum_distinct instead.\n",
            "  warnings.warn(\"Deprecated in 3.2, use sum_distinct instead.\", FutureWarning)\n"
          ]
        },
        {
          "output_type": "stream",
          "name": "stdout",
          "text": [
            "+-----------------+\n",
            "|sum(DISTINCT Age)|\n",
            "+-----------------+\n",
            "|1677             |\n",
            "+-----------------+\n",
            "\n"
          ]
        }
      ]
    },
    {
      "cell_type": "markdown",
      "source": [
        "### use aggregate function"
      ],
      "metadata": {
        "id": "c_GgPt-3--N_"
      }
    },
    {
      "cell_type": "code",
      "source": [
        "print(ibmdata.agg({\"Age\": \"min\"}).show())\n",
        "print(ibmdata.agg({\"Age\": \"max\"}).show())"
      ],
      "metadata": {
        "colab": {
          "base_uri": "https://localhost:8080/"
        },
        "id": "jOI0P9Gg-5SG",
        "outputId": "6dba72d0-16a4-4555-f412-baee3a3f0268"
      },
      "execution_count": null,
      "outputs": [
        {
          "output_type": "stream",
          "name": "stdout",
          "text": [
            "+--------+\n",
            "|min(Age)|\n",
            "+--------+\n",
            "|      18|\n",
            "+--------+\n",
            "\n",
            "None\n",
            "+--------+\n",
            "|max(Age)|\n",
            "+--------+\n",
            "|      60|\n",
            "+--------+\n",
            "\n",
            "None\n"
          ]
        }
      ]
    },
    {
      "cell_type": "code",
      "source": [
        "ibmdata.agg({\"DailyRate\":\"max\", \"MonthlyRate\": \"mean\", \"Department\":\"count\", \"DailyRate\": \"sum\" }).show()"
      ],
      "metadata": {
        "colab": {
          "base_uri": "https://localhost:8080/"
        },
        "id": "Qbo6_pwk_NtX",
        "outputId": "7b09e470-fa85-4cd3-a990-3840681cf7b7"
      },
      "execution_count": null,
      "outputs": [
        {
          "output_type": "stream",
          "name": "stdout",
          "text": [
            "+--------------+-----------------+------------------+\n",
            "|sum(DailyRate)|count(Department)|  avg(MonthlyRate)|\n",
            "+--------------+-----------------+------------------+\n",
            "|       1179654|             1470|14313.103401360544|\n",
            "+--------------+-----------------+------------------+\n",
            "\n"
          ]
        }
      ]
    },
    {
      "cell_type": "code",
      "source": [
        "ibmdata.groupBy(\"Department\").agg({\"DailyRate\": \"sum\", \"Age\": \"min\", \"MonthlyRate\": \"max\"}).show(truncate=False)"
      ],
      "metadata": {
        "colab": {
          "base_uri": "https://localhost:8080/"
        },
        "id": "YcqZ0wUP_wA7",
        "outputId": "38864e2a-fac0-4e7e-d64c-c1e08611a96b"
      },
      "execution_count": null,
      "outputs": [
        {
          "output_type": "stream",
          "name": "stdout",
          "text": [
            "+----------------------+--------------+----------------+--------+\n",
            "|Department            |sum(DailyRate)|max(MonthlyRate)|min(Age)|\n",
            "+----------------------+--------------+----------------+--------+\n",
            "|Sales                 |356923        |26997           |18      |\n",
            "|Research & Development|775384        |26999           |18      |\n",
            "|Human Resources       |47347         |26894           |19      |\n",
            "+----------------------+--------------+----------------+--------+\n",
            "\n"
          ]
        }
      ]
    },
    {
      "cell_type": "code",
      "source": [
        "ibmdata.orderBy(\"DailyRate\").show(4)"
      ],
      "metadata": {
        "colab": {
          "base_uri": "https://localhost:8080/"
        },
        "id": "18GSqCuABHyI",
        "outputId": "656a1917-6bfd-4c37-8e99-dab54a25a178"
      },
      "execution_count": null,
      "outputs": [
        {
          "output_type": "stream",
          "name": "stdout",
          "text": [
            "+---+---------+--------------+---------+--------------------+----------------+---------+--------------+-------------+--------------+-----------------------+------+----------+--------------+--------+--------------------+---------------+-------------+-------------+-----------+------------------+------+--------+-----------------+-----------------+------------------------+-------------+----------------+-----------------+---------------------+---------------+--------------+------------------+-----------------------+--------------------+\n",
            "|Age|Attrition|BusinessTravel|DailyRate|          Department|DistanceFromHome|Education|EducationField|EmployeeCount|EmployeeNumber|EnvironmentSatisfaction|Gender|HourlyRate|JobInvolvement|JobLevel|             JobRole|JobSatisfaction|MaritalStatus|MonthlyIncome|MonthlyRate|NumCompaniesWorked|Over18|OverTime|PercentSalaryHike|PerformanceRating|RelationshipSatisfaction|StandardHours|StockOptionLevel|TotalWorkingYears|TrainingTimesLastYear|WorkLifeBalance|YearsAtCompany|YearsInCurrentRole|YearsSinceLastPromotion|YearsWithCurrManager|\n",
            "+---+---------+--------------+---------+--------------------+----------------+---------+--------------+-------------+--------------+-----------------------+------+----------+--------------+--------+--------------------+---------------+-------------+-------------+-----------+------------------+------+--------+-----------------+-----------------+------------------------+-------------+----------------+-----------------+---------------------+---------------+--------------+------------------+-----------------------+--------------------+\n",
            "| 53|       No| Travel_Rarely|      102|Research & Develo...|              23|        4| Life Sciences|            1|           901|                      4|Female|        72|             3|       4|   Research Director|              4|       Single|        14275|      20206|                 6|     Y|      No|               18|                3|                       3|           80|               0|               33|                    0|              3|            12|                 9|                      3|                   8|\n",
            "| 28|      Yes| Travel_Rarely|      103|Research & Develo...|              24|        3| Life Sciences|            1|            19|                      3|  Male|        50|             2|       1|Laboratory Techni...|              3|       Single|         2028|      12947|                 5|     Y|     Yes|               14|                3|                       2|           80|               0|                6|                    4|              3|             4|                 2|                      0|                   3|\n",
            "| 35|      Yes| Travel_Rarely|      104|Research & Develo...|               2|        3| Life Sciences|            1|          1569|                      1|Female|        69|             3|       1|Laboratory Techni...|              1|     Divorced|         2074|      26619|                 1|     Y|     Yes|               12|                3|                       4|           80|               1|                1|                    2|              3|             1|                 0|                      0|                   0|\n",
            "| 39|       No|    Non-Travel|      105|Research & Develo...|               9|        3| Life Sciences|            1|          2022|                      4|  Male|        87|             3|       5|             Manager|              4|       Single|        19431|      15302|                 2|     Y|      No|               13|                3|                       3|           80|               0|               21|                    3|              2|             6|                 0|                      1|                   3|\n",
            "+---+---------+--------------+---------+--------------------+----------------+---------+--------------+-------------+--------------+-----------------------+------+----------+--------------+--------+--------------------+---------------+-------------+-------------+-----------+------------------+------+--------+-----------------+-----------------+------------------------+-------------+----------------+-----------------+---------------------+---------------+--------------+------------------+-----------------------+--------------------+\n",
            "only showing top 4 rows\n",
            "\n"
          ]
        }
      ]
    },
    {
      "cell_type": "code",
      "source": [
        "data2 = session.read."
      ],
      "metadata": {
        "id": "8n0QFh7NCOOk"
      },
      "execution_count": null,
      "outputs": []
    },
    {
      "cell_type": "code",
      "source": [
        "data2.na.drop()"
      ],
      "metadata": {
        "id": "jJTw8LYVDYZW"
      },
      "execution_count": null,
      "outputs": []
    },
    {
      "cell_type": "code",
      "source": [
        "data2.na.fill(\"xx\")"
      ],
      "metadata": {
        "id": "6TYBKBwCDpyf"
      },
      "execution_count": null,
      "outputs": []
    },
    {
      "cell_type": "code",
      "source": [
        "data2.na.fill(60)"
      ],
      "metadata": {
        "id": "ocE61ddiDwf6"
      },
      "execution_count": null,
      "outputs": []
    },
    {
      "cell_type": "code",
      "source": [
        "data2.na.fil(\"CC\", subset = [\"Name\"])"
      ],
      "metadata": {
        "id": "1saBzrlOEgH8"
      },
      "execution_count": null,
      "outputs": []
    },
    {
      "cell_type": "code",
      "source": [
        "data2.na.drop(subset= [\"Name\"])"
      ],
      "metadata": {
        "id": "IK64jdV8EuYK"
      },
      "execution_count": null,
      "outputs": []
    }
  ]
}