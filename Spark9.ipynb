{
  "nbformat": 4,
  "nbformat_minor": 0,
  "metadata": {
    "colab": {
      "name": "Spark8.ipynb",
      "provenance": []
    },
    "kernelspec": {
      "name": "python3",
      "display_name": "Python 3"
    },
    "language_info": {
      "name": "python"
    }
  },
  "cells": [
    {
      "cell_type": "code",
      "execution_count": null,
      "metadata": {
        "colab": {
          "base_uri": "https://localhost:8080/"
        },
        "id": "XGTRLrLxDPf3",
        "outputId": "d0396746-5978-42f2-f715-68b8107d9025"
      },
      "outputs": [
        {
          "output_type": "stream",
          "name": "stdout",
          "text": [
            "Collecting pyspark\n",
            "  Downloading pyspark-3.2.1.tar.gz (281.4 MB)\n",
            "\u001b[K     |████████████████████████████████| 281.4 MB 34 kB/s \n",
            "\u001b[?25hCollecting py4j==0.10.9.3\n",
            "  Downloading py4j-0.10.9.3-py2.py3-none-any.whl (198 kB)\n",
            "\u001b[K     |████████████████████████████████| 198 kB 30.5 MB/s \n",
            "\u001b[?25hBuilding wheels for collected packages: pyspark\n",
            "  Building wheel for pyspark (setup.py) ... \u001b[?25l\u001b[?25hdone\n",
            "  Created wheel for pyspark: filename=pyspark-3.2.1-py2.py3-none-any.whl size=281853642 sha256=8b445d832afa31f07298ba43a3335a6553e5ca075d1cb1a9f00ce9c6599f3eb7\n",
            "  Stored in directory: /root/.cache/pip/wheels/9f/f5/07/7cd8017084dce4e93e84e92efd1e1d5334db05f2e83bcef74f\n",
            "Successfully built pyspark\n",
            "Installing collected packages: py4j, pyspark\n",
            "Successfully installed py4j-0.10.9.3 pyspark-3.2.1\n"
          ]
        }
      ],
      "source": [
        "!pip install pyspark"
      ]
    },
    {
      "cell_type": "code",
      "source": [
        "from pyspark.sql import SparkSession\n",
        "session = SparkSession.builder.appName(\"facebook\").getOrCreate()\n",
        "data = session.read.csv(\"Facebook_data.csv\", header = True, inferSchema = True)"
      ],
      "metadata": {
        "id": "VtsQcDhxDebQ"
      },
      "execution_count": null,
      "outputs": []
    },
    {
      "cell_type": "code",
      "source": [
        "data.show(4)"
      ],
      "metadata": {
        "colab": {
          "base_uri": "https://localhost:8080/"
        },
        "id": "Z6pt6XPFEaYA",
        "outputId": "2a98e180-2470-4847-d7d8-becdd7201567"
      },
      "execution_count": null,
      "outputs": [
        {
          "output_type": "stream",
          "name": "stdout",
          "text": [
            "+----+----------+--------+------------+---------+------+---+-----------------+---------------------+--------+-------------+----------------+-----------------+------------+\n",
            "|S.No|FacebookId| Surname|FBValueScore|Geography|Gender|Age|On FB Since Years|Spend on FB Till Date|NumOfAds|HasCreditCard|IsActiveBusiness|EstimatedTurnover|ExitedFromFB|\n",
            "+----+----------+--------+------------+---------+------+---+-----------------+---------------------+--------+-------------+----------------+-----------------+------------+\n",
            "|   1|  15565701|   Ferri|         698|    Spain|Female| 39|                9|            161993.89|       1|            0|               0|         90212.38|           0|\n",
            "|   2|  15565706|Akobundu|         612|    Spain|  Male| 35|                1|                  0.0|       1|            1|               1|         83256.26|           1|\n",
            "|   3|  15565714|Cattaneo|         601|   France|  Male| 47|                1|             64430.06|       2|            0|               1|         96517.97|           0|\n",
            "|   4|  15565779|    Kent|         627|  Germany|Female| 30|                6|             57809.32|       1|            1|               0|        188258.49|           0|\n",
            "+----+----------+--------+------------+---------+------+---+-----------------+---------------------+--------+-------------+----------------+-----------------+------------+\n",
            "only showing top 4 rows\n",
            "\n"
          ]
        }
      ]
    },
    {
      "cell_type": "code",
      "source": [
        "from pyspark.ml.feature import StringIndexer\n",
        "str_indx = StringIndexer(inputCols=[\"Geography\", \"Gender\"], outputCols = [\"newGeography\", \"newGender\"])"
      ],
      "metadata": {
        "id": "56XeP6shEcgh"
      },
      "execution_count": null,
      "outputs": []
    },
    {
      "cell_type": "code",
      "source": [
        "from pyspark.ml.feature import VectorAssembler\n",
        "assembler = VectorAssembler(inputCols = [\"newGeography\", \"newGender\", 'FacebookId','FBValueScore','Age','On FB Since Years','Spend on FB Till Date','NumOfAds','HasCreditCard','IsActiveBusiness','EstimatedTurnover','ExitedFromFB'], outputCol=\"allfeatures\")\n"
      ],
      "metadata": {
        "id": "db_U0DzmFns0"
      },
      "execution_count": null,
      "outputs": []
    },
    {
      "cell_type": "code",
      "source": [
        "from pyspark.ml.classification import LogisticRegression\n",
        "model = LogisticRegression(featuresCol = 'allfeatures', labelCol = 'ExitedFromFB')"
      ],
      "metadata": {
        "id": "ZOt_di6IGy9e"
      },
      "execution_count": null,
      "outputs": []
    },
    {
      "cell_type": "code",
      "source": [
        "from pyspark.ml import Pipeline\n",
        "mypipline = Pipeline(stages = [str_indx, assembler, model])"
      ],
      "metadata": {
        "id": "qaEa3CdWHFK-"
      },
      "execution_count": null,
      "outputs": []
    },
    {
      "cell_type": "code",
      "source": [
        "training, test = data.randomSplit([0.8, 0.2])"
      ],
      "metadata": {
        "id": "tNETpZf1HSnX"
      },
      "execution_count": null,
      "outputs": []
    },
    {
      "cell_type": "code",
      "source": [
        "fitmodel = mypipline.fit(training)"
      ],
      "metadata": {
        "id": "l0TACfu0H750"
      },
      "execution_count": null,
      "outputs": []
    },
    {
      "cell_type": "code",
      "source": [
        "result = fitmodel.transform(test)"
      ],
      "metadata": {
        "id": "UTqeBDuWJuyZ"
      },
      "execution_count": null,
      "outputs": []
    },
    {
      "cell_type": "code",
      "source": [
        "result.show()"
      ],
      "metadata": {
        "colab": {
          "base_uri": "https://localhost:8080/"
        },
        "id": "rMKA6ykdKC-K",
        "outputId": "e4822d53-f330-4389-c155-0cb5e63928d9"
      },
      "execution_count": null,
      "outputs": [
        {
          "output_type": "stream",
          "name": "stdout",
          "text": [
            "+----+----------+---------------+------------+---------+------+---+-----------------+---------------------+--------+-------------+----------------+-----------------+------------+------------+---------+--------------------+--------------------+--------------------+----------+\n",
            "|S.No|FacebookId|        Surname|FBValueScore|Geography|Gender|Age|On FB Since Years|Spend on FB Till Date|NumOfAds|HasCreditCard|IsActiveBusiness|EstimatedTurnover|ExitedFromFB|newGeography|newGender|         allfeatures|       rawPrediction|         probability|prediction|\n",
            "+----+----------+---------------+------------+---------+------+---+-----------------+---------------------+--------+-------------+----------------+-----------------+------------+------------+---------+--------------------+--------------------+--------------------+----------+\n",
            "|  17|  15566251|        Ferrari|         618|   France|Female| 37|                5|             96652.86|       1|            1|               0|          98686.4|           1|         0.0|      1.0|[0.0,1.0,1.556625...|[-18.329962914445...|[1.09495998427273...|       1.0|\n",
            "|  22|  15566312|          Jolly|         660|    Spain|Female| 42|                5|                  0.0|       3|            1|               1|        189016.24|           1|         2.0|      1.0|[2.0,1.0,1.556631...|[-17.977969608415...|[1.55692250554851...|       1.0|\n",
            "|  23|  15566378|        Tillman|         515|   France|  Male| 48|                5|            129387.94|       1|            0|               1|        147955.91|           1|         0.0|      0.0|[0.0,0.0,1.556637...|[-18.175955704749...|[1.27727004940729...|       1.0|\n",
            "|  28|  15566531|       Iloerika|         724|  Germany|  Male| 33|                4|             88046.88|       1|            0|               1|        186942.49|           1|         1.0|      0.0|[1.0,0.0,1.556653...|[-17.743717102176...|[1.96789338347123...|       1.0|\n",
            "|  32|  15566633|        Freeman|         698|  Germany|  Male| 55|                8|             155059.1|       2|            1|               1|        144584.29|           0|         1.0|      0.0|[1.0,0.0,1.556663...|[18.3389695290042...|[0.99999998914857...|       0.0|\n",
            "|  40|  15566891|         Kinder|         584|  Germany|Female| 41|                3|             88594.93|       1|            1|               0|        178997.89|           0|         1.0|      1.0|[1.0,1.0,1.556689...|[18.2047891908713...|[0.99999998759032...|       0.0|\n",
            "|  45|  15567063|          Manna|         766|  Germany|Female| 34|                6|            106434.94|       1|            0|               1|        137995.66|           1|         1.0|      1.0|[1.0,1.0,1.556706...|[-17.958586259973...|[1.58739525436444...|       1.0|\n",
            "|  58|  15567431|Kodilinyechukwu|         773|   France|  Male| 64|                2|            145578.28|       1|            0|               1|        186172.85|           0|         0.0|      0.0|[0.0,0.0,1.556743...|[18.1144044787646...|[0.99999998641642...|       0.0|\n",
            "|  60|  15567442|      Ibezimako|         656|   France|Female| 75|                3|                  0.0|       2|            1|               1|          1276.87|           0|         0.0|      1.0|[0.0,1.0,1.556744...|[17.9250149021067...|[0.99999998358409...|       0.0|\n",
            "|  61|  15567446|        Coffman|         646|  Germany|  Male| 39|                9|            111574.41|       1|            1|               1|         30838.51|           0|         1.0|      0.0|[1.0,0.0,1.556744...|[18.7684184667752...|[0.99999999293715...|       0.0|\n",
            "|  62|  15567486|             Li|         634|    Spain|Female| 41|                4|                  0.0|       2|            1|               1|        164549.74|           0|         2.0|      1.0|[2.0,1.0,1.556748...|[18.6800869203897...|[0.99999999228490...|       0.0|\n",
            "|  70|  15567834|         Nieves|         719|   France|  Male| 49|                5|             105918.1|       1|            1|               1|         16246.59|           0|         0.0|      0.0|[0.0,0.0,1.556783...|[18.5648723343486...|[0.99999999134278...|       0.0|\n",
            "|  71|  15567839|         Gordon|         501|   France|  Male| 42|                9|            114631.23|       1|            0|               1|         91429.74|           0|         0.0|      0.0|[0.0,0.0,1.556783...|[18.6669446122963...|[0.99999999218284...|       0.0|\n",
            "|  86|  15568088|       Jamieson|         481|  Germany|  Male| 44|                3|            163714.52|       1|            1|               0|         96123.72|           0|         1.0|      0.0|[1.0,0.0,1.556808...|[18.1833800865480...|[0.99999998732177...|       0.0|\n",
            "|  89|  15568120|        Lacross|         681|   France|Female| 37|                7|             69609.85|       1|            1|               1|         72127.83|           0|         0.0|      1.0|[0.0,1.0,1.556812...|[18.7248204173231...|[0.99999999262242...|       0.0|\n",
            "|  91|  15568164|        Istomin|         850|   France|Female| 34|                4|             71379.53|       2|            1|               1|        154000.99|           0|         0.0|      1.0|[0.0,1.0,1.556816...|[18.8343349117494...|[0.99999999338770...|       0.0|\n",
            "|  96|  15568360|          Rolon|         569|    Spain|Female| 41|                4|            139840.36|       1|            1|               1|         163524.7|           0|         2.0|      1.0|[2.0,1.0,1.556836...|[18.4325570521848...|[0.99999999011806...|       0.0|\n",
            "| 106|  15568742|         Parkes|         536|   France|Female| 41|                9|                  0.0|       1|            1|               0|        121299.14|           0|         0.0|      1.0|[0.0,1.0,1.556874...|[18.3794164520464...|[0.99999998957872...|       0.0|\n",
            "| 111|  15568876|         Hughes|         496|   France|Female| 34|                1|            102723.35|       2|            1|               0|        180844.81|           0|         0.0|      1.0|[0.0,1.0,1.556887...|[18.3770124725771...|[0.99999998955364...|       0.0|\n",
            "| 115|  15568915|         Bailey|         681|   France|  Male| 38|                6|            153722.47|       1|            1|               0|        101319.76|           0|         0.0|      0.0|[0.0,0.0,1.556891...|[18.4167356894571...|[0.99999998996047...|       0.0|\n",
            "+----+----------+---------------+------------+---------+------+---+-----------------+---------------------+--------+-------------+----------------+-----------------+------------+------------+---------+--------------------+--------------------+--------------------+----------+\n",
            "only showing top 20 rows\n",
            "\n"
          ]
        }
      ]
    },
    {
      "cell_type": "code",
      "source": [
        "from pyspark.ml.evaluation import BinaryClassificationEvaluator\n",
        "eval_obj = BinaryClassificationEvaluator(rawPredictionCol = 'rawPrediction', labelCol = \"ExitedFromFB\")\n",
        "accuracy = eval_obj.evaluate(result)\n",
        "print(accuracy)"
      ],
      "metadata": {
        "colab": {
          "base_uri": "https://localhost:8080/"
        },
        "id": "tjRyz1i7KFue",
        "outputId": "4468b53e-b73b-4eff-fc93-3b28c4d53e37"
      },
      "execution_count": null,
      "outputs": [
        {
          "output_type": "stream",
          "name": "stdout",
          "text": [
            "0.9999992798087172\n"
          ]
        }
      ]
    },
    {
      "cell_type": "code",
      "source": [
        ""
      ],
      "metadata": {
        "id": "0AIQewPlKIIy"
      },
      "execution_count": null,
      "outputs": []
    }
  ]
}