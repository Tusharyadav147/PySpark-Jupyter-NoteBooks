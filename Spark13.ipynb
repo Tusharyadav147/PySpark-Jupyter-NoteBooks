{
  "nbformat": 4,
  "nbformat_minor": 0,
  "metadata": {
    "colab": {
      "name": "Spark13.ipynb",
      "provenance": []
    },
    "kernelspec": {
      "name": "python3",
      "display_name": "Python 3"
    },
    "language_info": {
      "name": "python"
    }
  },
  "cells": [
    {
      "cell_type": "code",
      "execution_count": 1,
      "metadata": {
        "colab": {
          "base_uri": "https://localhost:8080/"
        },
        "id": "y4C5Dpt474G4",
        "outputId": "47b45594-07e4-42dc-e92f-66eb5c5d577f"
      },
      "outputs": [
        {
          "output_type": "stream",
          "name": "stdout",
          "text": [
            "Collecting pyspark\n",
            "  Downloading pyspark-3.2.1.tar.gz (281.4 MB)\n",
            "\u001b[K     |████████████████████████████████| 281.4 MB 32 kB/s \n",
            "\u001b[?25hCollecting py4j==0.10.9.3\n",
            "  Downloading py4j-0.10.9.3-py2.py3-none-any.whl (198 kB)\n",
            "\u001b[K     |████████████████████████████████| 198 kB 58.8 MB/s \n",
            "\u001b[?25hBuilding wheels for collected packages: pyspark\n",
            "  Building wheel for pyspark (setup.py) ... \u001b[?25l\u001b[?25hdone\n",
            "  Created wheel for pyspark: filename=pyspark-3.2.1-py2.py3-none-any.whl size=281853642 sha256=03585554dce9ab578f51f3c5c2b201a06b616109890bef523ff23f14b09ea70e\n",
            "  Stored in directory: /root/.cache/pip/wheels/9f/f5/07/7cd8017084dce4e93e84e92efd1e1d5334db05f2e83bcef74f\n",
            "Successfully built pyspark\n",
            "Installing collected packages: py4j, pyspark\n",
            "Successfully installed py4j-0.10.9.3 pyspark-3.2.1\n"
          ]
        }
      ],
      "source": [
        "pip install pyspark"
      ]
    },
    {
      "cell_type": "code",
      "source": [
        "from pyspark.sql import SparkSession"
      ],
      "metadata": {
        "id": "9lsESZA87796"
      },
      "execution_count": 2,
      "outputs": []
    },
    {
      "cell_type": "code",
      "source": [
        "session = SparkSession.builder.appName(\"multiclass\").master(\"local\").getOrCreate()\n",
        "data = session.read.csv(\"energy_cooling.csv\", header = True, inferSchema = True)"
      ],
      "metadata": {
        "id": "wq78lgL27-NM"
      },
      "execution_count": 4,
      "outputs": []
    },
    {
      "cell_type": "code",
      "source": [
        "data.show()"
      ],
      "metadata": {
        "colab": {
          "base_uri": "https://localhost:8080/"
        },
        "id": "Upw3lai87_1y",
        "outputId": "72a341dc-005d-4945-82db-ae2e1956a99f"
      },
      "execution_count": 5,
      "outputs": [
        {
          "output_type": "stream",
          "name": "stdout",
          "text": [
            "+----+-----+-----+------+---+---+---+---+-----+\n",
            "|  X1|   X2|   X3|    X4| X5| X6| X7| X8|   Y2|\n",
            "+----+-----+-----+------+---+---+---+---+-----+\n",
            "|0.98|514.5|294.0|110.25|7.0|  2|0.0|  0|21.33|\n",
            "|0.98|514.5|294.0|110.25|7.0|  3|0.0|  0|21.33|\n",
            "|0.98|514.5|294.0|110.25|7.0|  4|0.0|  0|21.33|\n",
            "|0.98|514.5|294.0|110.25|7.0|  5|0.0|  0|21.33|\n",
            "| 0.9|563.5|318.5| 122.5|7.0|  2|0.0|  0|28.28|\n",
            "| 0.9|563.5|318.5| 122.5|7.0|  3|0.0|  0|25.38|\n",
            "| 0.9|563.5|318.5| 122.5|7.0|  4|0.0|  0|25.16|\n",
            "| 0.9|563.5|318.5| 122.5|7.0|  5|0.0|  0| 29.6|\n",
            "|0.86|588.0|294.0| 147.0|7.0|  2|0.0|  0| 27.3|\n",
            "|0.86|588.0|294.0| 147.0|7.0|  3|0.0|  0|21.97|\n",
            "|0.86|588.0|294.0| 147.0|7.0|  4|0.0|  0|23.49|\n",
            "|0.86|588.0|294.0| 147.0|7.0|  5|0.0|  0|27.87|\n",
            "|0.82|612.5|318.5| 147.0|7.0|  2|0.0|  0|23.77|\n",
            "|0.82|612.5|318.5| 147.0|7.0|  3|0.0|  0|21.46|\n",
            "|0.82|612.5|318.5| 147.0|7.0|  4|0.0|  0|21.16|\n",
            "|0.82|612.5|318.5| 147.0|7.0|  5|0.0|  0|24.93|\n",
            "|0.79|637.0|343.0| 147.0|7.0|  2|0.0|  0|37.73|\n",
            "|0.79|637.0|343.0| 147.0|7.0|  3|0.0|  0|31.27|\n",
            "|0.79|637.0|343.0| 147.0|7.0|  4|0.0|  0|30.93|\n",
            "|0.79|637.0|343.0| 147.0|7.0|  5|0.0|  0|39.44|\n",
            "+----+-----+-----+------+---+---+---+---+-----+\n",
            "only showing top 20 rows\n",
            "\n"
          ]
        }
      ]
    },
    {
      "cell_type": "code",
      "source": [
        "data.describe()"
      ],
      "metadata": {
        "colab": {
          "base_uri": "https://localhost:8080/"
        },
        "id": "noOmuj8U8Vl_",
        "outputId": "636c80bc-8bc0-4ba6-9020-447f0776f654"
      },
      "execution_count": 6,
      "outputs": [
        {
          "output_type": "execute_result",
          "data": {
            "text/plain": [
              "DataFrame[summary: string, X1: string, X2: string, X3: string, X4: string, X5: string, X6: string, X7: string, X8: string, Y2: string]"
            ]
          },
          "metadata": {},
          "execution_count": 6
        }
      ]
    },
    {
      "cell_type": "code",
      "source": [
        "data.columns"
      ],
      "metadata": {
        "colab": {
          "base_uri": "https://localhost:8080/"
        },
        "id": "K6EpL8jD8iZU",
        "outputId": "da919f35-195d-43d1-928e-099ec1db505e"
      },
      "execution_count": 7,
      "outputs": [
        {
          "output_type": "execute_result",
          "data": {
            "text/plain": [
              "['X1', 'X2', 'X3', 'X4', 'X5', 'X6', 'X7', 'X8', 'Y2']"
            ]
          },
          "metadata": {},
          "execution_count": 7
        }
      ]
    },
    {
      "cell_type": "code",
      "source": [
        "data.dtypes"
      ],
      "metadata": {
        "colab": {
          "base_uri": "https://localhost:8080/"
        },
        "id": "VN2B01H-8kMa",
        "outputId": "2638bad0-0dec-4ec9-cc3a-27348a5686eb"
      },
      "execution_count": 9,
      "outputs": [
        {
          "output_type": "execute_result",
          "data": {
            "text/plain": [
              "[('X1', 'double'),\n",
              " ('X2', 'double'),\n",
              " ('X3', 'double'),\n",
              " ('X4', 'double'),\n",
              " ('X5', 'double'),\n",
              " ('X6', 'int'),\n",
              " ('X7', 'double'),\n",
              " ('X8', 'int'),\n",
              " ('Y2', 'double')]"
            ]
          },
          "metadata": {},
          "execution_count": 9
        }
      ]
    },
    {
      "cell_type": "code",
      "source": [
        "data.printSchema()"
      ],
      "metadata": {
        "colab": {
          "base_uri": "https://localhost:8080/"
        },
        "id": "CsGHJ8lf8n4c",
        "outputId": "70260a7a-de49-4662-cb5e-d2c89aa56460"
      },
      "execution_count": 10,
      "outputs": [
        {
          "output_type": "stream",
          "name": "stdout",
          "text": [
            "root\n",
            " |-- X1: double (nullable = true)\n",
            " |-- X2: double (nullable = true)\n",
            " |-- X3: double (nullable = true)\n",
            " |-- X4: double (nullable = true)\n",
            " |-- X5: double (nullable = true)\n",
            " |-- X6: integer (nullable = true)\n",
            " |-- X7: double (nullable = true)\n",
            " |-- X8: integer (nullable = true)\n",
            " |-- Y2: double (nullable = true)\n",
            "\n"
          ]
        }
      ]
    },
    {
      "cell_type": "code",
      "source": [
        "from pyspark.ml.feature import VectorAssembler"
      ],
      "metadata": {
        "id": "rr3NxXgI84U4"
      },
      "execution_count": 11,
      "outputs": []
    },
    {
      "cell_type": "code",
      "source": [
        "vec_ass = VectorAssembler(inputCols = [\"X1\", \"X2\", \"X3\", \"X4\", \"X5\", \"X6\", \"X7\", \"X8\"], outputCol = \"allfeatures\")"
      ],
      "metadata": {
        "id": "hkw1L-l19W56"
      },
      "execution_count": 12,
      "outputs": []
    },
    {
      "cell_type": "markdown",
      "source": [
        "# Linear Regression"
      ],
      "metadata": {
        "id": "UuPtHUC9B_7K"
      }
    },
    {
      "cell_type": "code",
      "source": [
        "from pyspark.ml.regression import LinearRegression\n",
        "model = LinearRegression(featuresCol = \"allfeatures\", labelCol=\"Y2\")"
      ],
      "metadata": {
        "id": "kfFg02hV9nmG"
      },
      "execution_count": 15,
      "outputs": []
    },
    {
      "cell_type": "code",
      "source": [
        "from pyspark.ml import Pipeline"
      ],
      "metadata": {
        "id": "8a0T8CP89v5P"
      },
      "execution_count": 16,
      "outputs": []
    },
    {
      "cell_type": "code",
      "source": [
        "mypipeline = Pipeline(stages = [vec_ass, model])"
      ],
      "metadata": {
        "id": "whEnzanm-FTJ"
      },
      "execution_count": 17,
      "outputs": []
    },
    {
      "cell_type": "code",
      "source": [
        "training, test = data.randomSplit([.8,.2])"
      ],
      "metadata": {
        "id": "DGzj5lcU-MZ8"
      },
      "execution_count": 18,
      "outputs": []
    },
    {
      "cell_type": "code",
      "source": [
        "model1 = mypipeline.fit(training)"
      ],
      "metadata": {
        "id": "FK2EphDw-T9U"
      },
      "execution_count": 19,
      "outputs": []
    },
    {
      "cell_type": "code",
      "source": [
        "result = model1.transform(test)\n",
        "result.show(2)"
      ],
      "metadata": {
        "colab": {
          "base_uri": "https://localhost:8080/"
        },
        "id": "6BngbWaZ-Z7f",
        "outputId": "5a19e655-e1b3-4816-aa58-90e748482b63"
      },
      "execution_count": 20,
      "outputs": [
        {
          "output_type": "stream",
          "name": "stdout",
          "text": [
            "+----+-----+-----+-----+---+---+---+---+-----+--------------------+------------------+\n",
            "|  X1|   X2|   X3|   X4| X5| X6| X7| X8|   Y2|         allfeatures|        prediction|\n",
            "+----+-----+-----+-----+---+---+---+---+-----+--------------------+------------------+\n",
            "|0.62|808.5|367.5|220.5|3.5|  2|0.1|  1|14.34|[0.62,808.5,367.5...|15.452197410952223|\n",
            "|0.62|808.5|367.5|220.5|3.5|  2|0.1|  5|14.24|[0.62,808.5,367.5...|15.567381596829804|\n",
            "+----+-----+-----+-----+---+---+---+---+-----+--------------------+------------------+\n",
            "only showing top 2 rows\n",
            "\n"
          ]
        }
      ]
    },
    {
      "cell_type": "code",
      "source": [
        "from pyspark.ml.evaluation import RegressionEvaluator\n",
        "eval = RegressionEvaluator(predictionCol=\"prediction\", labelCol=\"Y2\")\n",
        "eval.evaluate(result)"
      ],
      "metadata": {
        "colab": {
          "base_uri": "https://localhost:8080/"
        },
        "id": "8uso6pjz-eyO",
        "outputId": "fc41e0b1-f1e2-4db7-f525-4630a2906083"
      },
      "execution_count": 22,
      "outputs": [
        {
          "output_type": "execute_result",
          "data": {
            "text/plain": [
              "2.890978875110251"
            ]
          },
          "metadata": {},
          "execution_count": 22
        }
      ]
    },
    {
      "cell_type": "code",
      "source": [
        "from pyspark.ml.evaluation import RegressionEvaluator\n",
        "eval = RegressionEvaluator(predictionCol=\"prediction\", labelCol=\"Y2\", metricName=\"rmse\")\n",
        "eval.evaluate(result)"
      ],
      "metadata": {
        "colab": {
          "base_uri": "https://localhost:8080/"
        },
        "id": "l8R5Iro7ArcM",
        "outputId": "f837d08f-fa54-4dc9-fead-78b7e614a4b2"
      },
      "execution_count": 23,
      "outputs": [
        {
          "output_type": "execute_result",
          "data": {
            "text/plain": [
              "2.890978875110251"
            ]
          },
          "metadata": {},
          "execution_count": 23
        }
      ]
    },
    {
      "cell_type": "code",
      "source": [
        "from pyspark.ml.evaluation import RegressionEvaluator\n",
        "eval = RegressionEvaluator(predictionCol=\"prediction\", labelCol=\"Y2\", metricName = \"mae\")\n",
        "eval.evaluate(result)"
      ],
      "metadata": {
        "colab": {
          "base_uri": "https://localhost:8080/"
        },
        "id": "HBv5FVfaBd9o",
        "outputId": "68416c76-7b75-4fea-ddf6-f067ec6cbce0"
      },
      "execution_count": 24,
      "outputs": [
        {
          "output_type": "execute_result",
          "data": {
            "text/plain": [
              "2.118836785750091"
            ]
          },
          "metadata": {},
          "execution_count": 24
        }
      ]
    },
    {
      "cell_type": "code",
      "source": [
        "from pyspark.ml.evaluation import RegressionEvaluator\n",
        "eval = RegressionEvaluator(predictionCol=\"prediction\", labelCol=\"Y2\", metricName = \"r2\")\n",
        "eval.evaluate(result)"
      ],
      "metadata": {
        "colab": {
          "base_uri": "https://localhost:8080/"
        },
        "id": "K6H3asz9BkQH",
        "outputId": "e8681a1a-ddbd-45c8-c9a9-df01d4a5b4a3"
      },
      "execution_count": 25,
      "outputs": [
        {
          "output_type": "execute_result",
          "data": {
            "text/plain": [
              "0.9095707612732573"
            ]
          },
          "metadata": {},
          "execution_count": 25
        }
      ]
    },
    {
      "cell_type": "code",
      "source": [
        "from pyspark.ml.evaluation import RegressionEvaluator\n",
        "eval = RegressionEvaluator(predictionCol=\"prediction\", labelCol=\"Y2\", metricName = \"mse\")\n",
        "eval.evaluate(result)"
      ],
      "metadata": {
        "colab": {
          "base_uri": "https://localhost:8080/"
        },
        "id": "YvWAFRG7Bmoe",
        "outputId": "6bec067a-57d4-4f9d-fb91-bf78ebaae9a8"
      },
      "execution_count": 26,
      "outputs": [
        {
          "output_type": "execute_result",
          "data": {
            "text/plain": [
              "8.357758856333732"
            ]
          },
          "metadata": {},
          "execution_count": 26
        }
      ]
    },
    {
      "cell_type": "markdown",
      "source": [
        "# Decision Tree Regressor"
      ],
      "metadata": {
        "id": "Y8dLdweyB7Oz"
      }
    },
    {
      "cell_type": "code",
      "source": [
        "from pyspark.ml.regression import DecisionTreeRegressor\n",
        "tree = DecisionTreeRegressor(featuresCol = \"allfeatures\", labelCol=\"Y2\")"
      ],
      "metadata": {
        "id": "9KrgZWX8Bvsi"
      },
      "execution_count": 41,
      "outputs": []
    },
    {
      "cell_type": "code",
      "source": [
        "from pyspark.ml import Pipeline"
      ],
      "metadata": {
        "id": "qr7oXNr6CFq8"
      },
      "execution_count": 42,
      "outputs": []
    },
    {
      "cell_type": "code",
      "source": [
        "mypipeline1 = Pipeline(stages = [vec_ass, tree])"
      ],
      "metadata": {
        "id": "Eg6ezv9XCGRj"
      },
      "execution_count": 43,
      "outputs": []
    },
    {
      "cell_type": "code",
      "source": [
        "training, test = data.randomSplit([.8,.2])"
      ],
      "metadata": {
        "id": "fLJreLo5CKo9"
      },
      "execution_count": 44,
      "outputs": []
    },
    {
      "cell_type": "code",
      "source": [
        "model2 = mypipeline1.fit(training)"
      ],
      "metadata": {
        "id": "BFV2UEDcCOLP"
      },
      "execution_count": 45,
      "outputs": []
    },
    {
      "cell_type": "code",
      "source": [
        "result1 = model2.transform(test)\n",
        "result1.show(2)"
      ],
      "metadata": {
        "colab": {
          "base_uri": "https://localhost:8080/"
        },
        "id": "0RxgJoIPCQox",
        "outputId": "59fdece1-e719-4197-d594-c6ea5e1a9103"
      },
      "execution_count": 46,
      "outputs": [
        {
          "output_type": "stream",
          "name": "stdout",
          "text": [
            "+----+-----+-----+-----+---+---+----+---+-----+--------------------+------------------+\n",
            "|  X1|   X2|   X3|   X4| X5| X6|  X7| X8|   Y2|         allfeatures|        prediction|\n",
            "+----+-----+-----+-----+---+---+----+---+-----+--------------------+------------------+\n",
            "|0.62|808.5|367.5|220.5|3.5|  2| 0.1|  2|14.37|[0.62,808.5,367.5...|14.268750000000002|\n",
            "|0.62|808.5|367.5|220.5|3.5|  2|0.25|  2|15.32|[0.62,808.5,367.5...|15.370714285714286|\n",
            "+----+-----+-----+-----+---+---+----+---+-----+--------------------+------------------+\n",
            "only showing top 2 rows\n",
            "\n"
          ]
        }
      ]
    },
    {
      "cell_type": "code",
      "source": [
        "from pyspark.ml.evaluation import RegressionEvaluator\n",
        "eval = RegressionEvaluator(predictionCol=\"prediction\", labelCol=\"Y2\")\n",
        "eval.evaluate(result1)"
      ],
      "metadata": {
        "colab": {
          "base_uri": "https://localhost:8080/"
        },
        "id": "GSfPwxncCS31",
        "outputId": "5b75c0d9-87ff-455a-c5dd-62f4ead0eaf5"
      },
      "execution_count": 47,
      "outputs": [
        {
          "output_type": "execute_result",
          "data": {
            "text/plain": [
              "2.1093686213366194"
            ]
          },
          "metadata": {},
          "execution_count": 47
        }
      ]
    },
    {
      "cell_type": "code",
      "source": [
        "from pyspark.ml.evaluation import RegressionEvaluator\n",
        "eval = RegressionEvaluator(predictionCol=\"prediction\", labelCol=\"Y2\", metricName = \"r2\")\n",
        "eval.evaluate(result1)"
      ],
      "metadata": {
        "colab": {
          "base_uri": "https://localhost:8080/"
        },
        "id": "WMt-AqUxClC_",
        "outputId": "365182b2-e428-4591-a30b-cd6b731c6e40"
      },
      "execution_count": 48,
      "outputs": [
        {
          "output_type": "execute_result",
          "data": {
            "text/plain": [
              "0.9555068667755069"
            ]
          },
          "metadata": {},
          "execution_count": 48
        }
      ]
    },
    {
      "cell_type": "code",
      "source": [
        ""
      ],
      "metadata": {
        "id": "obZ4UKz5Co0I"
      },
      "execution_count": null,
      "outputs": []
    }
  ]
}