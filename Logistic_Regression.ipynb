{
  "nbformat": 4,
  "nbformat_minor": 0,
  "metadata": {
    "colab": {
      "name": "Logistic Regression.ipynb",
      "provenance": [],
      "collapsed_sections": []
    },
    "kernelspec": {
      "name": "python3",
      "display_name": "Python 3"
    },
    "language_info": {
      "name": "python"
    }
  },
  "cells": [
    {
      "cell_type": "code",
      "execution_count": null,
      "metadata": {
        "colab": {
          "base_uri": "https://localhost:8080/"
        },
        "id": "9Xd-dBzw71AV",
        "outputId": "e97feb73-56c3-46b3-d348-f216a26c6f34"
      },
      "outputs": [
        {
          "output_type": "stream",
          "name": "stdout",
          "text": [
            "Collecting pyspark\n",
            "  Downloading pyspark-3.2.1.tar.gz (281.4 MB)\n",
            "\u001b[K     |████████████████████████████████| 281.4 MB 35 kB/s \n",
            "\u001b[?25hCollecting py4j==0.10.9.3\n",
            "  Downloading py4j-0.10.9.3-py2.py3-none-any.whl (198 kB)\n",
            "\u001b[K     |████████████████████████████████| 198 kB 51.6 MB/s \n",
            "\u001b[?25hBuilding wheels for collected packages: pyspark\n",
            "  Building wheel for pyspark (setup.py) ... \u001b[?25l\u001b[?25hdone\n",
            "  Created wheel for pyspark: filename=pyspark-3.2.1-py2.py3-none-any.whl size=281853642 sha256=2f7fc4f4b2b5848ff18530e7ec1e8200d56ef8f8118f3d39ccf4cf0e0a73adf4\n",
            "  Stored in directory: /root/.cache/pip/wheels/9f/f5/07/7cd8017084dce4e93e84e92efd1e1d5334db05f2e83bcef74f\n",
            "Successfully built pyspark\n",
            "Installing collected packages: py4j, pyspark\n",
            "Successfully installed py4j-0.10.9.3 pyspark-3.2.1\n"
          ]
        }
      ],
      "source": [
        "!pip install pyspark"
      ]
    },
    {
      "cell_type": "code",
      "source": [
        "from pyspark.sql import SparkSession"
      ],
      "metadata": {
        "id": "er1ziofp74H9"
      },
      "execution_count": null,
      "outputs": []
    },
    {
      "cell_type": "code",
      "source": [
        "session = SparkSession.builder.appName(\"MyCode\").getOrCreate()"
      ],
      "metadata": {
        "id": "1IdbsdBS7_Wo"
      },
      "execution_count": null,
      "outputs": []
    },
    {
      "cell_type": "code",
      "source": [
        "data = session.read.csv(\"loan_data.csv\", header = True, inferSchema = True)"
      ],
      "metadata": {
        "id": "-fezxRzj8A3D"
      },
      "execution_count": null,
      "outputs": []
    },
    {
      "cell_type": "code",
      "source": [
        "data.show(4)"
      ],
      "metadata": {
        "colab": {
          "base_uri": "https://localhost:8080/"
        },
        "id": "LAqNwTc78CGR",
        "outputId": "1fa6913d-e3af-41df-b34c-1154141ea18b"
      },
      "execution_count": null,
      "outputs": [
        {
          "output_type": "stream",
          "name": "stdout",
          "text": [
            "+-------------+------------------+--------+-----------+--------------+-----+----+-----------------+---------+----------+--------------+-----------+-------+--------------+\n",
            "|credit_policy|           purpose|int_rate|installment|log_annual_inc|  dti|fico|days_with_cr_line|revol_bal|revol_util|inq_last_6mths|delinq_2yrs|pub_rec|not_fully_paid|\n",
            "+-------------+------------------+--------+-----------+--------------+-----+----+-----------------+---------+----------+--------------+-----------+-------+--------------+\n",
            "|            1|debt_consolidation|  0.1189|      829.1|   11.35040654|19.48| 737|      5639.958333|    28854|      52.1|             0|          0|      0|             0|\n",
            "|            1|       credit_card|  0.1071|     228.22|   11.08214255|14.29| 707|           2760.0|    33623|      76.7|             0|          0|      0|             0|\n",
            "|            1|debt_consolidation|  0.1357|     366.86|   10.37349118|11.63| 682|           4710.0|     3511|      25.6|             1|          0|      0|             0|\n",
            "|            1|debt_consolidation|  0.1008|     162.34|   11.35040654|  8.1| 712|      2699.958333|    33667|      73.2|             1|          0|      0|             0|\n",
            "+-------------+------------------+--------+-----------+--------------+-----+----+-----------------+---------+----------+--------------+-----------+-------+--------------+\n",
            "only showing top 4 rows\n",
            "\n"
          ]
        }
      ]
    },
    {
      "cell_type": "code",
      "source": [
        "data.columns"
      ],
      "metadata": {
        "colab": {
          "base_uri": "https://localhost:8080/"
        },
        "id": "Gl2Tpv9r8D6B",
        "outputId": "03310604-b80c-4c8b-c1c4-026f78934288"
      },
      "execution_count": null,
      "outputs": [
        {
          "output_type": "execute_result",
          "data": {
            "text/plain": [
              "['credit_policy',\n",
              " 'purpose',\n",
              " 'int_rate',\n",
              " 'installment',\n",
              " 'log_annual_inc',\n",
              " 'dti',\n",
              " 'fico',\n",
              " 'days_with_cr_line',\n",
              " 'revol_bal',\n",
              " 'revol_util',\n",
              " 'inq_last_6mths',\n",
              " 'delinq_2yrs',\n",
              " 'pub_rec',\n",
              " 'not_fully_paid']"
            ]
          },
          "metadata": {},
          "execution_count": 101
        }
      ]
    },
    {
      "cell_type": "code",
      "source": [
        "from pyspark.ml.feature import VectorAssembler, StringIndexer, OneHotEncoder"
      ],
      "metadata": {
        "id": "7M51GRfi8Fjg"
      },
      "execution_count": null,
      "outputs": []
    },
    {
      "cell_type": "code",
      "source": [
        "str_index = StringIndexer(inputCols = [\"credit_policy\", \"purpose\", \"int_rate\", \"installment\", \"log_annual_inc\", \"dti\", \"fico\", \"days_with_cr_line\", \"revol_bal\", \"revol_util\", \"inq_last_6mths\", \"delinq_2yrs\", \"pub_rec\", \"not_fully_paid\"], outputCols = [\"newcredit_policy\", \"newpurpose\", \"newint_rate\", \"newinstallment\", \"newlog_annual_inc\", \"newdti\", \"newfico\", \"newdays_with_cr_line\", \"newrevol_bal\", \"newrevol_util\", \"newinq_last_6mths\", \"newdeling_2yrs\", \"newpub_rec\", \"newnot_fully_paid\"], handleInvalid = \"skip\", stringOrderType= \"frequencyDesc\")"
      ],
      "metadata": {
        "id": "x84BQ-R78Hib"
      },
      "execution_count": null,
      "outputs": []
    },
    {
      "cell_type": "code",
      "source": [
        "one_hot = OneHotEncoder(inputCols =[\"newpurpose\"],  outputCols=[\"newpurpose1\"] )"
      ],
      "metadata": {
        "id": "MJs-Ksf58I3c"
      },
      "execution_count": null,
      "outputs": []
    },
    {
      "cell_type": "code",
      "source": [
        "vector_ass = VectorAssembler(inputCols = [\"newcredit_policy\",\"newint_rate\", \"newinstallment\", \"newdays_with_cr_line\", \"newrevol_bal\", \"newrevol_util\", \"newinq_last_6mths\", \"newdeling_2yrs\", \"newpub_rec\"], outputCol = \"allfeatures\")"
      ],
      "metadata": {
        "id": "PpUqQ1Qr8KNm"
      },
      "execution_count": null,
      "outputs": []
    },
    {
      "cell_type": "code",
      "source": [
        "from pyspark.ml.classification import LogisticRegression"
      ],
      "metadata": {
        "id": "KuYlMrHj8L5o"
      },
      "execution_count": null,
      "outputs": []
    },
    {
      "cell_type": "code",
      "source": [
        "log_reg = LogisticRegression(featuresCol=\"allfeatures\", labelCol = \"newnot_fully_paid\")"
      ],
      "metadata": {
        "id": "ALxEzI1t8NnM"
      },
      "execution_count": null,
      "outputs": []
    },
    {
      "cell_type": "code",
      "source": [
        "from pyspark.ml import Pipeline"
      ],
      "metadata": {
        "id": "0bdOp3408O3T"
      },
      "execution_count": null,
      "outputs": []
    },
    {
      "cell_type": "code",
      "source": [
        "mypipeline = Pipeline(stages = [str_index, one_hot, vector_ass, log_reg])"
      ],
      "metadata": {
        "id": "yvuzUbjw8Qe4"
      },
      "execution_count": null,
      "outputs": []
    },
    {
      "cell_type": "code",
      "source": [
        "training, test = data.randomSplit([0.8, 0.2])"
      ],
      "metadata": {
        "id": "PGtavDxy8R_k"
      },
      "execution_count": null,
      "outputs": []
    },
    {
      "cell_type": "code",
      "source": [
        "log_reg_model = mypipeline.fit(training)"
      ],
      "metadata": {
        "id": "BCr4pj7H8TZb"
      },
      "execution_count": null,
      "outputs": []
    },
    {
      "cell_type": "code",
      "source": [
        "result = log_reg_model.transform(test)"
      ],
      "metadata": {
        "id": "XQdIow558WMG"
      },
      "execution_count": null,
      "outputs": []
    },
    {
      "cell_type": "code",
      "source": [
        "result.show()"
      ],
      "metadata": {
        "colab": {
          "base_uri": "https://localhost:8080/"
        },
        "id": "F1dg4eKs9E4o",
        "outputId": "b29bb8d0-1f72-447e-84f2-89656f4c8b4f"
      },
      "execution_count": null,
      "outputs": [
        {
          "output_type": "stream",
          "name": "stdout",
          "text": [
            "+-------------+------------------+--------+-----------+--------------+-----+----+-----------------+---------+----------+--------------+-----------+-------+--------------+----------------+----------+-----------+--------------+-----------------+------+-------+--------------------+------------+-------------+-----------------+--------------+----------+-----------------+-------------+--------------------+--------------------+--------------------+----------+\n",
            "|credit_policy|           purpose|int_rate|installment|log_annual_inc|  dti|fico|days_with_cr_line|revol_bal|revol_util|inq_last_6mths|delinq_2yrs|pub_rec|not_fully_paid|newcredit_policy|newpurpose|newint_rate|newinstallment|newlog_annual_inc|newdti|newfico|newdays_with_cr_line|newrevol_bal|newrevol_util|newinq_last_6mths|newdeling_2yrs|newpub_rec|newnot_fully_paid|  newpurpose1|         allfeatures|       rawPrediction|         probability|prediction|\n",
            "+-------------+------------------+--------+-----------+--------------+-----+----+-----------------+---------+----------+--------------+-----------+-------+--------------+----------------+----------+-----------+--------------+-----------------+------+-------+--------------------+------------+-------------+-----------------+--------------+----------+-----------------+-------------+--------------------+--------------------+--------------------+----------+\n",
            "|            0|         all_other|  0.0743|      93.23|   11.28978191| 0.39| 797|           4441.0|        0|       0.5|             0|          0|      0|             0|             1.0|       1.0|       68.0|         671.0|             11.0|  56.0|   30.0|               584.0|         0.0|          6.0|              0.0|           0.0|       0.0|              0.0|(6,[1],[1.0])|[1.0,68.0,671.0,5...|[1.44018696164874...|[0.80848360185112...|       0.0|\n",
            "|            0|         all_other|  0.0775|     156.11|   12.61153775| 5.38| 757|           5641.0|        0|      23.5|             4|          0|      0|             0|             1.0|       1.0|       90.0|         445.0|            116.0| 431.0|   19.0|              1917.0|         0.0|        240.0|              4.0|           0.0|       0.0|              0.0|(6,[1],[1.0])|[1.0,90.0,445.0,1...|[1.24869986786956...|[0.77707472094189...|       0.0|\n",
            "|            0|         all_other|  0.0775|     218.55|   11.39075783|  1.0| 802|      3570.041667|        0|       0.0|             1|          0|      0|             0|             1.0|       1.0|       90.0|        1987.0|            199.0| 120.0|   32.0|               297.0|         0.0|          0.0|              1.0|           0.0|       0.0|              0.0|(6,[1],[1.0])|[1.0,90.0,1987.0,...|[1.12218210506292...|[0.75439325016681...|       0.0|\n",
            "|            0|         all_other|  0.1071|     195.61|   10.55581274|12.28| 687|           2550.0|      364|      28.0|             5|          0|      0|             0|             1.0|       1.0|       42.0|         306.0|            103.0| 275.0|    0.0|                 3.0|      4145.0|        931.0|              5.0|           0.0|       0.0|              0.0|(6,[1],[1.0])|[1.0,42.0,306.0,3...|[1.05244415188985...|[0.74124396715637...|       0.0|\n",
            "|            0|         all_other|  0.1221|     239.87|   10.34174248| 0.46| 722|           3510.0|      495|       8.2|             5|          1|      0|             0|             1.0|       1.0|       10.0|        2115.0|             67.0|1960.0|   12.0|               171.0|      4790.0|        409.0|              5.0|           1.0|       0.0|              0.0|(6,[1],[1.0])|[1.0,10.0,2115.0,...|[1.04604759585146...|[0.74001520713618...|       0.0|\n",
            "|            0|         all_other|  0.1229|     667.06|   11.26446411| 2.38| 692|           1650.0|     4361|      42.3|             5|          1|      0|             0|             1.0|       1.0|       45.0|        3608.0|             32.0| 380.0|    2.0|               330.0|       484.0|        482.0|              5.0|           1.0|       0.0|              0.0|(6,[1],[1.0])|[1.0,45.0,3608.0,...|[0.77923497926494...|[0.68551521103820...|       0.0|\n",
            "|            0|         all_other|  0.1316|     135.09|   10.49127422| 3.67| 677|           3870.0|     1048|      49.9|             4|          0|      0|             0|             1.0|       1.0|       20.0|        1435.0|              9.0|1803.0|    7.0|               220.0|       855.0|        491.0|              4.0|           0.0|       0.0|              0.0|(6,[1],[1.0])|[1.0,20.0,1435.0,...|[1.11274997419665...|[0.75264143609231...|       0.0|\n",
            "|            0|         all_other|   0.138|     170.41|   10.30895266|17.88| 657|      509.9583333|     2229|      34.8|             2|          0|      0|             0|             1.0|       1.0|      151.0|         460.0|              3.0|2084.0|   25.0|               826.0|      2927.0|        464.0|              2.0|           0.0|       0.0|              0.0|(6,[1],[1.0])|[1.0,151.0,460.0,...|[1.08353098110683...|[0.74716160696084...|       0.0|\n",
            "|            0|         all_other|  0.1411|     171.15|    10.6454249|13.71| 692|      4650.041667|     1064|      11.1|             5|          1|      1|             0|             1.0|       1.0|       28.0|         300.0|             14.0| 574.0|    2.0|               492.0|       890.0|        227.0|              5.0|           1.0|       1.0|              0.0|(6,[1],[1.0])|[1.0,28.0,300.0,4...|[0.90058840974112...|[0.71107040599706...|       0.0|\n",
            "|            0|         all_other|  0.1418|     342.66|   10.37349118| 7.76| 657|           1860.0|     4105|      82.1|            11|          0|      0|             0|             1.0|       1.0|       71.0|         346.0|             27.0|1912.0|   25.0|                18.0|      4400.0|        899.0|             11.0|           0.0|       0.0|              0.0|(6,[1],[1.0])|[1.0,71.0,346.0,1...|[0.52631709680493...|[0.62862372441996...|       0.0|\n",
            "|            0|         all_other|  0.1482|      79.53|   11.22524339|16.05| 652|      3029.958333|      894|      89.4|             1|          0|      0|             1|             1.0|       1.0|       72.0|        3811.0|              5.0|1505.0|   24.0|               164.0|       711.0|        556.0|              1.0|           0.0|       0.0|              1.0|(6,[1],[1.0])|[1.0,72.0,3811.0,...|[0.90969980684973...|[0.71293873002094...|       0.0|\n",
            "|            0|         all_other|  0.1482|     242.05|    10.6454249|11.14| 642|           1260.0|    14902|      80.1|             1|          0|      0|             0|             1.0|       1.0|       72.0|         502.0|             14.0| 908.0|   29.0|               207.0|      1807.0|        540.0|              1.0|           0.0|       0.0|              0.0|(6,[1],[1.0])|[1.0,72.0,502.0,2...|[1.29117314649843...|[0.78434569020125...|       0.0|\n",
            "|            0|         all_other|  0.1488|     276.86|    10.9331784| 5.34| 642|      2430.041667|     1697|      60.6|             2|          1|      0|             0|             1.0|       1.0|      204.0|        2309.0|            132.0|2373.0|   29.0|               158.0|      2186.0|        388.0|              2.0|           1.0|       0.0|              0.0|(6,[1],[1.0])|[1.0,204.0,2309.0...|[0.69211595515460...|[0.66643746609288...|       0.0|\n",
            "|            0|         all_other|  0.1507|     260.25|   11.69524702|14.84| 652|           7260.0|    21881|      82.5|             2|          4|      0|             1|             1.0|       1.0|      173.0|        2224.0|             17.0| 593.0|   24.0|               244.0|       319.0|        412.0|              2.0|           4.0|       0.0|              1.0|(6,[1],[1.0])|[1.0,173.0,2224.0...|[0.91810797950876...|[0.71465643668481...|       0.0|\n",
            "|            0|debt_consolidation|  0.1062|     390.72|   11.58988651|13.68| 737|      7470.041667|    17042|      46.7|             5|          1|      0|             0|             1.0|       0.0|       47.0|        2828.0|             74.0|  34.0|   16.0|               449.0|      2196.0|         21.0|              5.0|           1.0|       0.0|              0.0|(6,[0],[1.0])|[1.0,47.0,2828.0,...|[0.91810170081584...|[0.71465515631561...|       0.0|\n",
            "|            0|debt_consolidation|  0.1166|      247.9|   11.05089001| 17.5| 682|           3540.0|     2535|      19.1|             6|          0|      0|             0|             1.0|       0.0|       49.0|         508.0|             29.0| 181.0|    1.0|                75.0|      3275.0|        599.0|              6.0|           0.0|       0.0|              0.0|(6,[0],[1.0])|[1.0,49.0,508.0,7...|[0.96841047724139...|[0.72480255884318...|       0.0|\n",
            "|            0|debt_consolidation|  0.1178|     165.55|   9.998615898| 2.07| 702|      3720.041667|     1312|      17.0|             4|          0|      0|             0|             1.0|       0.0|       93.0|         773.0|            183.0|2107.0|    3.0|               218.0|       188.0|        595.0|              4.0|           0.0|       0.0|              0.0|(6,[0],[1.0])|[1.0,93.0,773.0,2...|[0.97068990238050...|[0.72525698860905...|       0.0|\n",
            "|            0|debt_consolidation|   0.128|     161.27|   10.02127059|10.29| 652|           3180.0|     5070|      72.4|             3|          1|      0|             0|             1.0|       0.0|      123.0|        1621.0|            306.0| 510.0|   24.0|                45.0|      4841.0|        121.0|              3.0|           1.0|       0.0|              0.0|(6,[0],[1.0])|[1.0,123.0,1621.0...|[0.93973308623015...|[0.71904573892578...|       0.0|\n",
            "|            0|debt_consolidation|   0.128|     503.97|   12.52815614|17.87| 672|      6989.041667|   275925|      84.8|             0|          1|      0|             0|             1.0|       0.0|      123.0|        3207.0|           1556.0|1056.0|   10.0|              2084.0|      3492.0|        547.0|              0.0|           1.0|       0.0|              0.0|(6,[0],[1.0])|[1.0,123.0,3207.0...|[1.19146533858202...|[0.76700303642559...|       0.0|\n",
            "|            0|debt_consolidation|  0.1292|     100.97|   10.54534144|19.52| 672|      4529.958333|     8443|      33.2|             4|          1|      0|             0|             1.0|       0.0|       61.0|         682.0|             26.0| 374.0|   10.0|               263.0|      6025.0|         15.0|              4.0|           1.0|       0.0|              0.0|(6,[0],[1.0])|[1.0,61.0,682.0,2...|[1.18421185011446...|[0.76570426035961...|       0.0|\n",
            "+-------------+------------------+--------+-----------+--------------+-----+----+-----------------+---------+----------+--------------+-----------+-------+--------------+----------------+----------+-----------+--------------+-----------------+------+-------+--------------------+------------+-------------+-----------------+--------------+----------+-----------------+-------------+--------------------+--------------------+--------------------+----------+\n",
            "only showing top 20 rows\n",
            "\n"
          ]
        }
      ]
    },
    {
      "cell_type": "code",
      "source": [
        "from pyspark.ml.evaluation import BinaryClassificationEvaluator\n",
        "eval = BinaryClassificationEvaluator(rawPredictionCol=\"rawPrediction\", labelCol = \"newnot_fully_paid\")"
      ],
      "metadata": {
        "id": "Exn81zdN9Heg"
      },
      "execution_count": null,
      "outputs": []
    },
    {
      "cell_type": "code",
      "source": [
        "eval.evaluate(result)"
      ],
      "metadata": {
        "colab": {
          "base_uri": "https://localhost:8080/"
        },
        "id": "_Dh5maqF9JjZ",
        "outputId": "9ce9e19a-7fb6-42a9-ce3d-bee1819ad566"
      },
      "execution_count": null,
      "outputs": [
        {
          "output_type": "execute_result",
          "data": {
            "text/plain": [
              "0.6340782122905027"
            ]
          },
          "metadata": {},
          "execution_count": 177
        }
      ]
    },
    {
      "cell_type": "code",
      "source": [
        ""
      ],
      "metadata": {
        "id": "nD8bEUpc9LIL"
      },
      "execution_count": null,
      "outputs": []
    }
  ]
}