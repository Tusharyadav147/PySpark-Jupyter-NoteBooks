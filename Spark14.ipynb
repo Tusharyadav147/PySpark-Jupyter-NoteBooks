{
  "nbformat": 4,
  "nbformat_minor": 0,
  "metadata": {
    "colab": {
      "name": "Spark14.ipynb",
      "provenance": []
    },
    "kernelspec": {
      "name": "python3",
      "display_name": "Python 3"
    },
    "language_info": {
      "name": "python"
    }
  },
  "cells": [
    {
      "cell_type": "code",
      "execution_count": 1,
      "metadata": {
        "colab": {
          "base_uri": "https://localhost:8080/"
        },
        "id": "HXE1ojQYtjjx",
        "outputId": "c67a4b41-a691-4eea-87e4-7f575fa62ffa"
      },
      "outputs": [
        {
          "output_type": "stream",
          "name": "stdout",
          "text": [
            "Collecting pyspark\n",
            "  Downloading pyspark-3.2.1.tar.gz (281.4 MB)\n",
            "\u001b[K     |████████████████████████████████| 281.4 MB 28 kB/s \n",
            "\u001b[?25hCollecting py4j==0.10.9.3\n",
            "  Downloading py4j-0.10.9.3-py2.py3-none-any.whl (198 kB)\n",
            "\u001b[K     |████████████████████████████████| 198 kB 44.0 MB/s \n",
            "\u001b[?25hBuilding wheels for collected packages: pyspark\n",
            "  Building wheel for pyspark (setup.py) ... \u001b[?25l\u001b[?25hdone\n",
            "  Created wheel for pyspark: filename=pyspark-3.2.1-py2.py3-none-any.whl size=281853642 sha256=30eb7f3120182520f59e4b9dd93208adc820d61195129a65454a6bf1a47cf029\n",
            "  Stored in directory: /root/.cache/pip/wheels/9f/f5/07/7cd8017084dce4e93e84e92efd1e1d5334db05f2e83bcef74f\n",
            "Successfully built pyspark\n",
            "Installing collected packages: py4j, pyspark\n",
            "Successfully installed py4j-0.10.9.3 pyspark-3.2.1\n"
          ]
        }
      ],
      "source": [
        "!pip install pyspark"
      ]
    },
    {
      "cell_type": "code",
      "source": [
        "pip install wget"
      ],
      "metadata": {
        "colab": {
          "base_uri": "https://localhost:8080/"
        },
        "id": "XWqfdNQZt0hK",
        "outputId": "1822dd11-a695-44e2-b598-6895dc57ff2b"
      },
      "execution_count": 2,
      "outputs": [
        {
          "output_type": "stream",
          "name": "stdout",
          "text": [
            "Collecting wget\n",
            "  Downloading wget-3.2.zip (10 kB)\n",
            "Building wheels for collected packages: wget\n",
            "  Building wheel for wget (setup.py) ... \u001b[?25l\u001b[?25hdone\n",
            "  Created wheel for wget: filename=wget-3.2-py3-none-any.whl size=9675 sha256=c3210edc001ee94d826763d615763eccbf0489b9ee164b037661c05b90228d83\n",
            "  Stored in directory: /root/.cache/pip/wheels/a1/b6/7c/0e63e34eb06634181c63adacca38b79ff8f35c37e3c13e3c02\n",
            "Successfully built wget\n",
            "Installing collected packages: wget\n",
            "Successfully installed wget-3.2\n"
          ]
        }
      ]
    },
    {
      "cell_type": "code",
      "source": [
        "import wget\n",
        "wget.download('https://files.grouplens.org/datasets/movielens/ml-25m.zip','ml25.zip')"
      ],
      "metadata": {
        "colab": {
          "base_uri": "https://localhost:8080/",
          "height": 35
        },
        "id": "ygtbvS3quXYk",
        "outputId": "57199d83-05c5-4fd5-e70d-18e715302477"
      },
      "execution_count": 4,
      "outputs": [
        {
          "output_type": "execute_result",
          "data": {
            "text/plain": [
              "'ml25.zip'"
            ],
            "application/vnd.google.colaboratory.intrinsic+json": {
              "type": "string"
            }
          },
          "metadata": {},
          "execution_count": 4
        }
      ]
    },
    {
      "cell_type": "code",
      "source": [
        "from zipfile import ZipFile"
      ],
      "metadata": {
        "id": "RbF0E2JVueyc"
      },
      "execution_count": 5,
      "outputs": []
    },
    {
      "cell_type": "code",
      "source": [
        "with ZipFile(\"ml25.zip\", \"r\") as zip:\n",
        "  zip.printdir()\n",
        "  zip.extractall()"
      ],
      "metadata": {
        "colab": {
          "base_uri": "https://localhost:8080/"
        },
        "id": "aYBTvY29u-T3",
        "outputId": "1555015c-d315-4c33-f986-0d9e2ba404d6"
      },
      "execution_count": 8,
      "outputs": [
        {
          "output_type": "stream",
          "name": "stdout",
          "text": [
            "File Name                                             Modified             Size\n",
            "ml-25m/                                        2019-11-21 16:41:38            0\n",
            "ml-25m/tags.csv                                2019-11-21 15:55:50     38810332\n",
            "ml-25m/links.csv                               2019-11-21 16:40:20      1368578\n",
            "ml-25m/README.txt                              2019-11-21 16:41:38        10460\n",
            "ml-25m/ratings.csv                             2019-11-21 16:26:42    678260987\n",
            "ml-25m/genome-tags.csv                         2019-11-21 16:35:38        18103\n",
            "ml-25m/genome-scores.csv                       2019-11-21 16:35:38    435164157\n",
            "ml-25m/movies.csv                              2019-11-21 16:32:10      3038099\n"
          ]
        }
      ]
    },
    {
      "cell_type": "code",
      "source": [
        "from pyspark.sql import SparkSession\n",
        "session = SparkSession.builder.appName('recom').getOrCreate()"
      ],
      "metadata": {
        "id": "0giFfqVAvPIu"
      },
      "execution_count": 9,
      "outputs": []
    },
    {
      "cell_type": "code",
      "source": [
        "data = session.read.csv(\"ml-25m/ratings.csv\", header = True, inferSchema = True)"
      ],
      "metadata": {
        "id": "ZaA60DTQxlVf"
      },
      "execution_count": 10,
      "outputs": []
    },
    {
      "cell_type": "code",
      "source": [
        "data.show(5)"
      ],
      "metadata": {
        "colab": {
          "base_uri": "https://localhost:8080/"
        },
        "id": "g5WwdLb9x5qJ",
        "outputId": "97e9d827-5949-4544-b890-e732114ef0e5"
      },
      "execution_count": 11,
      "outputs": [
        {
          "output_type": "stream",
          "name": "stdout",
          "text": [
            "+------+-------+------+----------+\n",
            "|userId|movieId|rating| timestamp|\n",
            "+------+-------+------+----------+\n",
            "|     1|    296|   5.0|1147880044|\n",
            "|     1|    306|   3.5|1147868817|\n",
            "|     1|    307|   5.0|1147868828|\n",
            "|     1|    665|   5.0|1147878820|\n",
            "|     1|    899|   3.5|1147868510|\n",
            "+------+-------+------+----------+\n",
            "only showing top 5 rows\n",
            "\n"
          ]
        }
      ]
    },
    {
      "cell_type": "code",
      "source": [
        "data.count()"
      ],
      "metadata": {
        "colab": {
          "base_uri": "https://localhost:8080/"
        },
        "id": "vlQMTzPcx-Ne",
        "outputId": "1fc22858-2683-4896-b1b3-ea0e44650d21"
      },
      "execution_count": 12,
      "outputs": [
        {
          "output_type": "execute_result",
          "data": {
            "text/plain": [
              "25000095"
            ]
          },
          "metadata": {},
          "execution_count": 12
        }
      ]
    },
    {
      "cell_type": "code",
      "source": [
        "from pyspark.sql.functions import countDistinct\n",
        "data.select(countDistinct('userId')).show()"
      ],
      "metadata": {
        "colab": {
          "base_uri": "https://localhost:8080/"
        },
        "id": "6KNSgw1KyIVc",
        "outputId": "b1d4e6a1-b967-40d2-8d2d-19c5b607d6de"
      },
      "execution_count": 16,
      "outputs": [
        {
          "output_type": "stream",
          "name": "stdout",
          "text": [
            "+----------------------+\n",
            "|count(DISTINCT userId)|\n",
            "+----------------------+\n",
            "|                162541|\n",
            "+----------------------+\n",
            "\n"
          ]
        }
      ]
    },
    {
      "cell_type": "code",
      "source": [
        "data.select(countDistinct(\"movieId\")).show()"
      ],
      "metadata": {
        "colab": {
          "base_uri": "https://localhost:8080/"
        },
        "id": "YcDSXFNwyVU5",
        "outputId": "b5ae74f2-5ed0-496c-fc26-e3919e7633df"
      },
      "execution_count": 17,
      "outputs": [
        {
          "output_type": "stream",
          "name": "stdout",
          "text": [
            "+-----------------------+\n",
            "|count(DISTINCT movieId)|\n",
            "+-----------------------+\n",
            "|                  59047|\n",
            "+-----------------------+\n",
            "\n"
          ]
        }
      ]
    },
    {
      "cell_type": "code",
      "source": [
        "from pyspark.sql.functions import min, max\n",
        "data.select(min(\"rating\"), max('rating')).show()"
      ],
      "metadata": {
        "colab": {
          "base_uri": "https://localhost:8080/"
        },
        "id": "M6OEcYe-0LkI",
        "outputId": "1fb84575-5fd3-4cc7-e443-1090ec15247f"
      },
      "execution_count": 18,
      "outputs": [
        {
          "output_type": "stream",
          "name": "stdout",
          "text": [
            "+-----------+-----------+\n",
            "|min(rating)|max(rating)|\n",
            "+-----------+-----------+\n",
            "|        0.5|        5.0|\n",
            "+-----------+-----------+\n",
            "\n"
          ]
        }
      ]
    },
    {
      "cell_type": "code",
      "source": [
        "training, test = data.randomSplit([.75, .25])\n",
        "print(training.count())\n",
        "print(test.count())"
      ],
      "metadata": {
        "colab": {
          "base_uri": "https://localhost:8080/"
        },
        "id": "WqK0zbHt0dsK",
        "outputId": "21b373e8-c48b-430d-e74d-2e678e396c19"
      },
      "execution_count": 19,
      "outputs": [
        {
          "output_type": "stream",
          "name": "stdout",
          "text": [
            "18752739\n",
            "6247356\n"
          ]
        }
      ]
    },
    {
      "cell_type": "code",
      "source": [
        "from pyspark.ml.recommendation import ALS\n",
        "model = ALS(userCol = \"userId\", itemCol = \"movieId\", ratingCol = \"rating\")\n",
        "newmodel = model.fit(training)\n",
        "results = newmodel.transform(test)\n",
        "results.show()"
      ],
      "metadata": {
        "colab": {
          "base_uri": "https://localhost:8080/"
        },
        "id": "1-HPeiPv0tkC",
        "outputId": "1a2d013c-1c4d-47f5-d536-12ab2324ce33"
      },
      "execution_count": 20,
      "outputs": [
        {
          "output_type": "stream",
          "name": "stdout",
          "text": [
            "+------+-------+------+----------+----------+\n",
            "|userId|movieId|rating| timestamp|prediction|\n",
            "+------+-------+------+----------+----------+\n",
            "|     1|    306|   3.5|1147868817|  4.075927|\n",
            "|     1|   1237|   5.0|1147868839|  3.951597|\n",
            "|     1|   2692|   5.0|1147869100|  4.002228|\n",
            "|     1|   3569|   5.0|1147879603| 3.6241555|\n",
            "|     1|   3949|   5.0|1147868678| 3.8945453|\n",
            "|     1|   5684|   2.0|1147879797| 3.5936627|\n",
            "|     1|   7234|   4.5|1147868869| 3.8987718|\n",
            "|     1|   7327|   3.5|1147868855| 3.9351058|\n",
            "|     1|   7361|   5.0|1147880055|  4.097943|\n",
            "|     1|   7365|   4.0|1147869033| 3.8021004|\n",
            "|     1|   7939|   2.5|1147869183|  3.822856|\n",
            "|     1|   8360|   4.0|1147868682| 3.2438219|\n",
            "| 32906|   1193|   5.0| 965802125|  4.873412|\n",
            "| 32906|   1198|   5.0| 965801230|  4.916242|\n",
            "| 32906|   1203|   5.0| 965802215| 4.9936147|\n",
            "| 32906|   1204|   5.0| 965798677|  4.980528|\n",
            "| 32906|   1209|   5.0| 965799052|  4.682129|\n",
            "| 32906|   1225|   4.0| 965802278| 4.8169355|\n",
            "| 32906|   1269|   4.0| 965799388| 4.8350167|\n",
            "| 32906|   1276|   5.0| 965802112| 4.8119617|\n",
            "+------+-------+------+----------+----------+\n",
            "only showing top 20 rows\n",
            "\n"
          ]
        }
      ]
    },
    {
      "cell_type": "code",
      "source": [
        "# in a test dataset rating columns is not consider\n",
        "# the values is predicted in the basis of userid and movie id\n",
        "results.filter(results['movieId']== 1217).orderBy('prediction', ascending = False).show(5)"
      ],
      "metadata": {
        "colab": {
          "base_uri": "https://localhost:8080/"
        },
        "id": "JqqBMJ2Y1HU4",
        "outputId": "774846f3-6335-4ec7-95f2-e32de8b3ed48"
      },
      "execution_count": 21,
      "outputs": [
        {
          "output_type": "stream",
          "name": "stdout",
          "text": [
            "+------+-------+------+----------+----------+\n",
            "|userId|movieId|rating| timestamp|prediction|\n",
            "+------+-------+------+----------+----------+\n",
            "|140038|   1217|   5.0|1018348499|  5.062324|\n",
            "| 49998|   1217|   5.0|1303171174|  5.014899|\n",
            "| 35911|   1217|   5.0|1150793847|  4.987176|\n",
            "|136967|   1217|   5.0| 962374039|  4.976087|\n",
            "|  5420|   1217|   5.0|1453484404| 4.9728584|\n",
            "+------+-------+------+----------+----------+\n",
            "only showing top 5 rows\n",
            "\n"
          ]
        }
      ]
    },
    {
      "cell_type": "code",
      "source": [
        "results.filter(results['userId'] == 4377).orderBy('prediction', ascending = False).show()"
      ],
      "metadata": {
        "colab": {
          "base_uri": "https://localhost:8080/"
        },
        "id": "S3nmGiRa23sK",
        "outputId": "d5baba8a-b57d-4204-eb6c-e4aadfd7c609"
      },
      "execution_count": 22,
      "outputs": [
        {
          "output_type": "stream",
          "name": "stdout",
          "text": [
            "+------+-------+------+----------+----------+\n",
            "|userId|movieId|rating| timestamp|prediction|\n",
            "+------+-------+------+----------+----------+\n",
            "|  4377|   1212|   5.0| 974760416|  5.169819|\n",
            "|  4377|    923|   5.0| 974760495|  5.141238|\n",
            "|  4377|   1260|   5.0| 974760725| 5.1149497|\n",
            "|  4377|   3022|   5.0|1071474623| 5.0955753|\n",
            "|  4377|   1233|   5.0| 974761512|  5.080318|\n",
            "|  4377|   1219|   5.0| 974760891| 5.0516453|\n",
            "|  4377|    111|   5.0| 974761309|  5.045123|\n",
            "|  4377|    924|   5.0| 974760753| 5.0211706|\n",
            "|  4377|   1228|   5.0| 974761612| 5.0163136|\n",
            "|  4377|   1213|   5.0| 974804074|  4.990537|\n",
            "|  4377|   1267|   5.0| 974760970| 4.9730606|\n",
            "|  4377|   3470|   5.0| 974760330| 4.9635687|\n",
            "|  4377|   1230|   5.0| 974761512| 4.9611435|\n",
            "|  4377|   6787|   5.0|1070504398| 4.9382296|\n",
            "|  4377|   2010|   5.0| 974761674|  4.925714|\n",
            "|  4377|   1244|   5.0| 974762049|  4.922358|\n",
            "|  4377|    928|   5.0| 974761309|   4.91721|\n",
            "|  4377|   1283|   5.0| 974762262| 4.8887625|\n",
            "|  4377|   1262|   5.0| 974761560| 4.8877563|\n",
            "|  4377|   3819|   5.0| 974761955| 4.8866296|\n",
            "+------+-------+------+----------+----------+\n",
            "only showing top 20 rows\n",
            "\n"
          ]
        }
      ]
    },
    {
      "cell_type": "code",
      "source": [
        ""
      ],
      "metadata": {
        "id": "fbs-KANR4d8K"
      },
      "execution_count": null,
      "outputs": []
    }
  ]
}