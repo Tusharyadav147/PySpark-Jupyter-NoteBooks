{
  "cells": [
    {
      "cell_type": "code",
      "execution_count": 1,
      "metadata": {
        "colab": {
          "base_uri": "https://localhost:8080/"
        },
        "id": "Cs22dNmjB42t",
        "outputId": "8517b8ee-cbaf-453e-e138-ae9309639420"
      },
      "outputs": [
        {
          "name": "stdout",
          "output_type": "stream",
          "text": [
            "Collecting pyspark\n",
            "  Downloading pyspark-3.2.1.tar.gz (281.4 MB)\n",
            "\u001b[K     |████████████████████████████████| 281.4 MB 34 kB/s \n",
            "\u001b[?25hCollecting py4j==0.10.9.3\n",
            "  Downloading py4j-0.10.9.3-py2.py3-none-any.whl (198 kB)\n",
            "\u001b[K     |████████████████████████████████| 198 kB 59.1 MB/s \n",
            "\u001b[?25hBuilding wheels for collected packages: pyspark\n",
            "  Building wheel for pyspark (setup.py) ... \u001b[?25l\u001b[?25hdone\n",
            "  Created wheel for pyspark: filename=pyspark-3.2.1-py2.py3-none-any.whl size=281853642 sha256=7a661213f2be5214f1e094c3ac2829217f35e4bb9d98ad851db7b3d9cf3a3df1\n",
            "  Stored in directory: /root/.cache/pip/wheels/9f/f5/07/7cd8017084dce4e93e84e92efd1e1d5334db05f2e83bcef74f\n",
            "Successfully built pyspark\n",
            "Installing collected packages: py4j, pyspark\n",
            "Successfully installed py4j-0.10.9.3 pyspark-3.2.1\n"
          ]
        }
      ],
      "source": [
        "!pip install pyspark"
      ]
    },
    {
      "cell_type": "code",
      "execution_count": 3,
      "metadata": {
        "colab": {
          "base_uri": "https://localhost:8080/"
        },
        "id": "9z5_NrKwB72Y",
        "outputId": "e68bfee9-fd7b-4876-d9d5-a8a04787c490"
      },
      "outputs": [
        {
          "name": "stdout",
          "output_type": "stream",
          "text": [
            "+----------+------+-------------+-------+----------+------+------------+----------------+---------------+--------------+------------+----------------+-----------+-----------+---------------+--------------+----------------+--------------------+--------------+------------+-----+\n",
            "|customerID|gender|SeniorCitizen|Partner|Dependents|tenure|PhoneService|   MultipleLines|InternetService|OnlineSecurity|OnlineBackup|DeviceProtection|TechSupport|StreamingTV|StreamingMovies|      Contract|PaperlessBilling|       PaymentMethod|MonthlyCharges|TotalCharges|Churn|\n",
            "+----------+------+-------------+-------+----------+------+------------+----------------+---------------+--------------+------------+----------------+-----------+-----------+---------------+--------------+----------------+--------------------+--------------+------------+-----+\n",
            "|7590-VHVEG|Female|            0|    Yes|        No|     1|          No|No phone service|            DSL|            No|         Yes|              No|         No|         No|             No|Month-to-month|             Yes|    Electronic check|         29.85|       29.85|   No|\n",
            "|5575-GNVDE|  Male|            0|     No|        No|    34|         Yes|              No|            DSL|           Yes|          No|             Yes|         No|         No|             No|      One year|              No|        Mailed check|         56.95|      1889.5|   No|\n",
            "|3668-QPYBK|  Male|            0|     No|        No|     2|         Yes|              No|            DSL|           Yes|         Yes|              No|         No|         No|             No|Month-to-month|             Yes|        Mailed check|         53.85|      108.15|  Yes|\n",
            "|7795-CFOCW|  Male|            0|     No|        No|    45|          No|No phone service|            DSL|           Yes|          No|             Yes|        Yes|         No|             No|      One year|              No|Bank transfer (au...|          42.3|     1840.75|   No|\n",
            "+----------+------+-------------+-------+----------+------+------------+----------------+---------------+--------------+------------+----------------+-----------+-----------+---------------+--------------+----------------+--------------------+--------------+------------+-----+\n",
            "only showing top 4 rows\n",
            "\n"
          ]
        }
      ],
      "source": [
        "from pyspark.sql import SparkSession\n",
        "session=SparkSession.builder.appName(\"customer\").getOrCreate()\n",
        "data= session.read.csv(\"customer_churn.csv\",header=True,inferSchema=True)\n",
        "data.show(4)"
      ]
    },
    {
      "cell_type": "code",
      "execution_count": 4,
      "metadata": {
        "colab": {
          "base_uri": "https://localhost:8080/"
        },
        "id": "YcRrEbhUEVhz",
        "outputId": "0bd2cf9c-4782-46e2-a847-c175e4261f92"
      },
      "outputs": [
        {
          "data": {
            "text/plain": [
              "['customerID',\n",
              " 'gender',\n",
              " 'SeniorCitizen',\n",
              " 'Partner',\n",
              " 'Dependents',\n",
              " 'tenure',\n",
              " 'PhoneService',\n",
              " 'MultipleLines',\n",
              " 'InternetService',\n",
              " 'OnlineSecurity',\n",
              " 'OnlineBackup',\n",
              " 'DeviceProtection',\n",
              " 'TechSupport',\n",
              " 'StreamingTV',\n",
              " 'StreamingMovies',\n",
              " 'Contract',\n",
              " 'PaperlessBilling',\n",
              " 'PaymentMethod',\n",
              " 'MonthlyCharges',\n",
              " 'TotalCharges',\n",
              " 'Churn']"
            ]
          },
          "execution_count": 4,
          "metadata": {},
          "output_type": "execute_result"
        }
      ],
      "source": [
        "data.columns"
      ]
    },
    {
      "cell_type": "code",
      "execution_count": 16,
      "metadata": {
        "id": "Vly40ofpB8tv"
      },
      "outputs": [],
      "source": [
        "from pyspark.ml.feature import VectorAssembler, StringIndexer, OneHotEncoder\n",
        "str_idx = StringIndexer(inputCols = [\"gender\", \"Partner\",\"MultipleLines\", \"PhoneService\",\"Churn\"], outputCols = [\"newgender\", \"newPartner\",\"newMultipleLines\", \"newPhoneServices\",\"newChurn\"])"
      ]
    },
    {
      "cell_type": "code",
      "execution_count": 23,
      "metadata": {
        "id": "w-mt142c3wTB"
      },
      "outputs": [],
      "source": [
        "one_hot = OneHotEncoder(inputCols = [\"newgender\", \"newPartner\",\"newMultipleLines\", \"newPhoneServices\"], outputCols = [\"newgender1\", \"newPartner1\",\"newMultipleLines1\", \"newPhoneServices1\"])"
      ]
    },
    {
      "cell_type": "code",
      "execution_count": 24,
      "metadata": {
        "id": "cfiXH5LtU5ES"
      },
      "outputs": [],
      "source": [
        "vec_ass = VectorAssembler(inputCols = [\"newgender1\", \"newPartner1\", \"MonthlyCharges\",\"newMultipleLines1\", \"newPhoneServices1\"], outputCol = \"all_features\")"
      ]
    },
    {
      "cell_type": "code",
      "execution_count": 25,
      "metadata": {
        "id": "Eu_Btpk-FBcx"
      },
      "outputs": [],
      "source": [
        "from pyspark.ml.classification import LogisticRegression\n",
        "lr = LogisticRegression(featuresCol= \"all_features\", labelCol = \"newChurn\")"
      ]
    },
    {
      "cell_type": "code",
      "execution_count": 26,
      "metadata": {
        "id": "b9Fcfn-ISMNA"
      },
      "outputs": [],
      "source": [
        "from pyspark.ml import Pipeline\n",
        "mypipeline = Pipeline(stages = [str_idx, one_hot, vec_ass, lr])"
      ]
    },
    {
      "cell_type": "code",
      "execution_count": 27,
      "metadata": {
        "id": "SWJZYWVoVl4h"
      },
      "outputs": [],
      "source": [
        "training, test = data.randomSplit([0.8, 0.2])"
      ]
    },
    {
      "cell_type": "code",
      "execution_count": 28,
      "metadata": {
        "id": "PcEXxZ8MV8FI"
      },
      "outputs": [],
      "source": [
        "lr_model = mypipeline.fit(training)"
      ]
    },
    {
      "cell_type": "code",
      "execution_count": 29,
      "metadata": {
        "id": "RPzUggF7YZyn"
      },
      "outputs": [],
      "source": [
        "result = lr_model.transform(test)"
      ]
    },
    {
      "cell_type": "code",
      "execution_count": 30,
      "metadata": {
        "colab": {
          "base_uri": "https://localhost:8080/"
        },
        "id": "TJjpSq1ZdpmB",
        "outputId": "9837d093-961a-457b-9c36-93067ef82fbe"
      },
      "outputs": [
        {
          "name": "stdout",
          "output_type": "stream",
          "text": [
            "+----------+------+-------------+-------+----------+------+------------+----------------+---------------+-------------------+-------------------+-------------------+-------------------+-------------------+-------------------+--------------+----------------+-----------------------+--------------+------------+-----+---------+----------+----------------+----------------+--------+-------------+-------------+-----------------+-----------------+---------------------------+----------------------------------------+----------------------------------------+----------+\n",
            "|customerID|gender|SeniorCitizen|Partner|Dependents|tenure|PhoneService|MultipleLines   |InternetService|OnlineSecurity     |OnlineBackup       |DeviceProtection   |TechSupport        |StreamingTV        |StreamingMovies    |Contract      |PaperlessBilling|PaymentMethod          |MonthlyCharges|TotalCharges|Churn|newgender|newPartner|newMultipleLines|newPhoneServices|newChurn|newgender1   |newPartner1  |newMultipleLines1|newPhoneServices1|all_features               |rawPrediction                           |probability                             |prediction|\n",
            "+----------+------+-------------+-------+----------+------+------------+----------------+---------------+-------------------+-------------------+-------------------+-------------------+-------------------+-------------------+--------------+----------------+-----------------------+--------------+------------+-----+---------+----------+----------------+----------------+--------+-------------+-------------+-----------------+-----------------+---------------------------+----------------------------------------+----------------------------------------+----------+\n",
            "|0017-DINOC|Male  |0            |No     |No        |54    |No          |No phone service|DSL            |Yes                |No                 |No                 |Yes                |Yes                |No                 |Two year      |No              |Credit card (automatic)|45.2          |2460.55     |No   |1.0      |0.0       |2.0             |1.0             |0.0     |(1,[],[])    |(1,[0],[1.0])|(2,[],[])        |(1,[],[])        |(6,[1,2],[1.0,45.2])       |[0.7159792486306786,-0.7159792486306786]|[0.6717210064976531,0.3282789935023469] |0.0       |\n",
            "|0023-HGHWL|Male  |1            |No     |No        |1     |No          |No phone service|DSL            |No                 |No                 |No                 |No                 |No                 |No                 |Month-to-month|Yes             |Electronic check       |25.1          |25.1        |Yes  |1.0      |0.0       |2.0             |1.0             |1.0     |(1,[],[])    |(1,[0],[1.0])|(2,[],[])        |(1,[],[])        |(6,[1,2],[1.0,25.1])       |[1.1166333551897267,-1.1166333551897267]|[0.7533637045546792,0.24663629544532084]|0.0       |\n",
            "|0023-UYUPN|Female|1            |Yes    |No        |50    |Yes         |Yes             |No             |No internet service|No internet service|No internet service|No internet service|No internet service|No internet service|One year      |No              |Electronic check       |25.2          |1306.3      |No   |0.0      |1.0       |1.0             |0.0             |0.0     |(1,[0],[1.0])|(1,[],[])    |(2,[1],[1.0])    |(1,[0],[1.0])    |[1.0,0.0,25.2,0.0,1.0,1.0] |[2.49933600966508,-2.49933600966508]    |[0.924095258677363,0.07590474132263703] |0.0       |\n",
            "|0030-FNXPP|Female|0            |No     |No        |3     |Yes         |No              |No             |No internet service|No internet service|No internet service|No internet service|No internet service|No internet service|Month-to-month|No              |Mailed check           |19.85         |57.2        |No   |0.0      |0.0       |0.0             |0.0             |0.0     |(1,[0],[1.0])|(1,[0],[1.0])|(2,[0],[1.0])    |(1,[0],[1.0])    |[1.0,1.0,19.85,1.0,0.0,1.0]|[1.553040548905604,-1.553040548905604]  |[0.8253524478056921,0.17464755219430794]|0.0       |\n",
            "+----------+------+-------------+-------+----------+------+------------+----------------+---------------+-------------------+-------------------+-------------------+-------------------+-------------------+-------------------+--------------+----------------+-----------------------+--------------+------------+-----+---------+----------+----------------+----------------+--------+-------------+-------------+-----------------+-----------------+---------------------------+----------------------------------------+----------------------------------------+----------+\n",
            "only showing top 4 rows\n",
            "\n"
          ]
        }
      ],
      "source": [
        "result.show(4, truncate = False)"
      ]
    },
    {
      "cell_type": "code",
      "execution_count": 31,
      "metadata": {
        "id": "iKQXzD2Ndr0t"
      },
      "outputs": [],
      "source": [
        "from pyspark.ml.evaluation import BinaryClassificationEvaluator\n",
        "eval = BinaryClassificationEvaluator(rawPredictionCol=\"rawPrediction\", labelCol = \"newChurn\")"
      ]
    },
    {
      "cell_type": "code",
      "execution_count": 32,
      "metadata": {
        "colab": {
          "base_uri": "https://localhost:8080/"
        },
        "id": "QCX4H1p-wUIC",
        "outputId": "0bc61951-342c-4673-9e95-34d6fd3d215f"
      },
      "outputs": [
        {
          "data": {
            "text/plain": [
              "0.685856602147736"
            ]
          },
          "execution_count": 32,
          "metadata": {},
          "output_type": "execute_result"
        }
      ],
      "source": [
        "eval.evaluate(result)"
      ]
    },
    {
      "cell_type": "code",
      "execution_count": null,
      "metadata": {
        "id": "veSTdj3HwX03"
      },
      "outputs": [],
      "source": []
    }
  ],
  "metadata": {
    "colab": {
      "name": "Spark11.ipynb",
      "provenance": []
    },
    "kernelspec": {
      "display_name": "Python 3",
      "name": "python3"
    },
    "language_info": {
      "name": "python"
    }
  },
  "nbformat": 4,
  "nbformat_minor": 0
}
