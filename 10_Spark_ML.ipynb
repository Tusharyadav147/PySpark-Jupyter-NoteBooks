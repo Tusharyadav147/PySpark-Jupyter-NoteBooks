{
  "nbformat": 4,
  "nbformat_minor": 0,
  "metadata": {
    "colab": {
      "name": "Untitled6.ipynb",
      "provenance": [],
      "collapsed_sections": []
    },
    "kernelspec": {
      "name": "python3",
      "display_name": "Python 3"
    },
    "language_info": {
      "name": "python"
    }
  },
  "cells": [
    {
      "cell_type": "code",
      "execution_count": null,
      "metadata": {
        "colab": {
          "base_uri": "https://localhost:8080/"
        },
        "id": "P_ujK-oQcV9e",
        "outputId": "cd1446eb-2303-4e49-9325-937470ebe0ff"
      },
      "outputs": [
        {
          "output_type": "stream",
          "name": "stdout",
          "text": [
            "Requirement already satisfied: pyspark in /usr/local/lib/python3.7/dist-packages (3.2.1)\n",
            "Requirement already satisfied: py4j==0.10.9.3 in /usr/local/lib/python3.7/dist-packages (from pyspark) (0.10.9.3)\n"
          ]
        }
      ],
      "source": [
        "!pip install pyspark"
      ]
    },
    {
      "cell_type": "code",
      "source": [
        "from pyspark.sql import SparkSession\n",
        "session = SparkSession.builder.appName(\"classification\").getOrCreate()"
      ],
      "metadata": {
        "id": "RxgaUXRKczzc"
      },
      "execution_count": null,
      "outputs": []
    },
    {
      "cell_type": "code",
      "source": [
        "data = session.read.csv(\"LiverPatientDisease.csv\", header = True, inferSchema = True)"
      ],
      "metadata": {
        "id": "2qNZk6JKc76P"
      },
      "execution_count": null,
      "outputs": []
    },
    {
      "cell_type": "code",
      "source": [
        "data.show(3)"
      ],
      "metadata": {
        "colab": {
          "base_uri": "https://localhost:8080/"
        },
        "id": "y_9Tyiq1c8Dc",
        "outputId": "51ed1911-a974-4ff5-fd02-49578b163fde"
      },
      "execution_count": null,
      "outputs": [
        {
          "output_type": "stream",
          "name": "stdout",
          "text": [
            "+---+------+----+---+-------+----+----+---+---+----+------------+\n",
            "|Age|Gender|  TB| DB|Alkphos|Sgpt|Sgot| TP|ALB|  AG|LiverPatient|\n",
            "+---+------+----+---+-------+----+----+---+---+----+------------+\n",
            "| 65|     1| 0.7|0.1|    187|  16|  18|6.8|3.3| 0.9|           1|\n",
            "| 62|     2|10.9|5.5|    699|  64| 100|7.5|3.2|0.74|           1|\n",
            "| 62|     2| 7.3|4.1|    490|  60|  68|7.0|3.3|0.89|           1|\n",
            "+---+------+----+---+-------+----+----+---+---+----+------------+\n",
            "only showing top 3 rows\n",
            "\n"
          ]
        }
      ]
    },
    {
      "cell_type": "code",
      "source": [
        "\n",
        "from pyspark.ml.feature import VectorAssembler\n",
        "#pyspark machine learning models takes only one indep. and one depe. variable\n",
        "#But, we have multiple independent variables \n",
        "#We will group all the independent variables into one variable \n",
        "assembler_obj = VectorAssembler(inputCols = ['Age', 'Gender', 'TB', 'DB'], outputCol = \"allfeatures\")\n"
      ],
      "metadata": {
        "id": "8B3oYp1Qc8LV"
      },
      "execution_count": null,
      "outputs": []
    },
    {
      "cell_type": "code",
      "source": [
        "from pyspark.ml.classification import LogisticRegression\n",
        "model = LogisticRegression(featuresCol = 'allfeatures', labelCol = 'LiverPatient')\n"
      ],
      "metadata": {
        "id": "lEbQEipkc8TB"
      },
      "execution_count": null,
      "outputs": []
    },
    {
      "cell_type": "code",
      "source": [
        "from pyspark.ml import  Pipeline\n",
        "\n",
        "mypipeline = Pipeline(stages = [assembler_obj, model])"
      ],
      "metadata": {
        "id": "ckYuxO4Ic8a5"
      },
      "execution_count": null,
      "outputs": []
    },
    {
      "cell_type": "code",
      "source": [
        "training, test = data.randomSplit([0.7,0.3])\n"
      ],
      "metadata": {
        "id": "NIisdmb-c8iz"
      },
      "execution_count": null,
      "outputs": []
    },
    {
      "cell_type": "code",
      "source": [
        "#Training the model\n",
        "fitmodel = mypipeline.fit(training)"
      ],
      "metadata": {
        "id": "H_f2SoYreUZu"
      },
      "execution_count": null,
      "outputs": []
    },
    {
      "cell_type": "code",
      "source": [
        "#Predict the values of the test dataset\n",
        "result = fitmodel.transform(test)\n",
        "result.show(5)\n",
        "\n",
        "#1. Split the data\n",
        "#2. Creating the model\n",
        "#3. Train the model\n",
        "#4. Predicting the model\n",
        "#5 Evaluating the model\n",
        "\n"
      ],
      "metadata": {
        "colab": {
          "base_uri": "https://localhost:8080/"
        },
        "id": "xYqbWY2peWdu",
        "outputId": "d1137a8c-7c16-4ad3-bcb1-ac9bf78cb0d7"
      },
      "execution_count": null,
      "outputs": [
        {
          "output_type": "stream",
          "name": "stdout",
          "text": [
            "+---+------+---+---+-------+----+----+---+---+---+------------+------------------+--------------------+--------------------+----------+\n",
            "|Age|Gender| TB| DB|Alkphos|Sgpt|Sgot| TP|ALB| AG|LiverPatient|       allfeatures|       rawPrediction|         probability|prediction|\n",
            "+---+------+---+---+-------+----+----+---+---+---+------------+------------------+--------------------+--------------------+----------+\n",
            "|  7|     2|0.5|0.1|    352|  28|  51|7.9|4.2|1.1|           0| [7.0,2.0,0.5,0.1]|[0.09589930914720...|[0.52395647010624...|       0.0|\n",
            "| 10|     1|0.8|0.1|    395|  25|  75|7.6|3.6|0.9|           1|[10.0,1.0,0.8,0.1]|[0.29451444620622...|[0.57310098312999...|       0.0|\n",
            "| 12|     2|0.8|0.2|    302|  47|  67|6.7|3.5|1.1|           0|[12.0,2.0,0.8,0.2]|[-0.1155927303751...|[0.47113395182397...|       1.0|\n",
            "| 13|     1|0.7|0.1|    182|  24|  19|8.9|4.9|1.2|           1|[13.0,1.0,0.7,0.1]|[0.27136268145030...|[0.56742741064049...|       0.0|\n",
            "| 16|     2|0.7|0.2|    418|  28|  35|7.2|4.1|1.3|           0|[16.0,2.0,0.7,0.2]|[-0.1541237319690...|[0.46154515864625...|       1.0|\n",
            "+---+------+---+---+-------+----+----+---+---+---+------------+------------------+--------------------+--------------------+----------+\n",
            "only showing top 5 rows\n",
            "\n"
          ]
        }
      ]
    },
    {
      "cell_type": "code",
      "source": [
        "from pyspark.ml.evaluation import BinaryClassificationEvaluator\n",
        "eval_obj = BinaryClassificationEvaluator(rawPredictionCol ='prediction', labelCol= 'LiverPatient')\n",
        "accuracy = eval_obj.evaluate(result)\n",
        "print(accuracy)"
      ],
      "metadata": {
        "colab": {
          "base_uri": "https://localhost:8080/"
        },
        "id": "6qThJtureo-Q",
        "outputId": "65c1f3d7-1e0b-40db-9a59-d196d24ef512"
      },
      "execution_count": null,
      "outputs": [
        {
          "output_type": "stream",
          "name": "stdout",
          "text": [
            "0.5003246753246753\n"
          ]
        }
      ]
    },
    {
      "cell_type": "code",
      "source": [
        "assembler_obj = VectorAssembler(inputCols = ['X1', 'X2', 'X3,'X4',\n",
        "\n",
        " 'DB'], outputCol = \"allfeatures\")\n"
      ],
      "metadata": {
        "colab": {
          "base_uri": "https://localhost:8080/",
          "height": 130
        },
        "id": "eTwk6bj2epFg",
        "outputId": "fecc5d08-e17e-4fba-f49c-f019a803bb0e"
      },
      "execution_count": null,
      "outputs": [
        {
          "output_type": "error",
          "ename": "SyntaxError",
          "evalue": "ignored",
          "traceback": [
            "\u001b[0;36m  File \u001b[0;32m\"<ipython-input-46-c4f3caa83a4b>\"\u001b[0;36m, line \u001b[0;32m1\u001b[0m\n\u001b[0;31m    assembler_obj = VectorAssembler(inputCols = ['X1', 'X2', 'X3,'X4',\u001b[0m\n\u001b[0m                                                                   ^\u001b[0m\n\u001b[0;31mSyntaxError\u001b[0m\u001b[0;31m:\u001b[0m invalid syntax\n"
          ]
        }
      ]
    },
    {
      "cell_type": "code",
      "source": [
        "!pip install pyspark"
      ],
      "metadata": {
        "colab": {
          "base_uri": "https://localhost:8080/"
        },
        "id": "WsJ1vzapepMF",
        "outputId": "d422ca12-bf42-4c51-82e8-779648d83b54"
      },
      "execution_count": null,
      "outputs": [
        {
          "output_type": "stream",
          "name": "stdout",
          "text": [
            "Requirement already satisfied: pyspark in /usr/local/lib/python3.7/dist-packages (3.2.1)\n",
            "Requirement already satisfied: py4j==0.10.9.3 in /usr/local/lib/python3.7/dist-packages (from pyspark) (0.10.9.3)\n"
          ]
        }
      ]
    },
    {
      "cell_type": "code",
      "source": [
        "from pyspark.sql import SparkSession\n",
        "session = SparkSession.builder.appName(\"facebook\").getOrCreate()\n",
        "data = session.read.csv(\"Facebook_data.csv\", header = True, inferSchema= True)\n",
        "data.show(4)"
      ],
      "metadata": {
        "colab": {
          "base_uri": "https://localhost:8080/"
        },
        "id": "0GpGco82DM4E",
        "outputId": "a16d079f-58ac-47f7-c034-286ffb58b402"
      },
      "execution_count": null,
      "outputs": [
        {
          "output_type": "stream",
          "name": "stdout",
          "text": [
            "+----+----------+--------+------------+---------+------+---+-----------------+---------------------+--------+-------------+----------------+-----------------+------------+\n",
            "|S.No|FacebookId| Surname|FBValueScore|Geography|Gender|Age|On FB Since Years|Spend on FB Till Date|NumOfAds|HasCreditCard|IsActiveBusiness|EstimatedTurnover|ExitedFromFB|\n",
            "+----+----------+--------+------------+---------+------+---+-----------------+---------------------+--------+-------------+----------------+-----------------+------------+\n",
            "|   1|  15565701|   Ferri|         698|    Spain|Female| 39|                9|            161993.89|       1|            0|               0|         90212.38|           0|\n",
            "|   2|  15565706|Akobundu|         612|    Spain|  Male| 35|                1|                  0.0|       1|            1|               1|         83256.26|           1|\n",
            "|   3|  15565714|Cattaneo|         601|   France|  Male| 47|                1|             64430.06|       2|            0|               1|         96517.97|           0|\n",
            "|   4|  15565779|    Kent|         627|  Germany|Female| 30|                6|             57809.32|       1|            1|               0|        188258.49|           0|\n",
            "+----+----------+--------+------------+---------+------+---+-----------------+---------------------+--------+-------------+----------------+-----------------+------------+\n",
            "only showing top 4 rows\n",
            "\n"
          ]
        }
      ]
    },
    {
      "cell_type": "code",
      "source": [
        "from pyspark.ml import classification\n",
        "\n",
        "from pyspark.ml.feature import StringIndexer\n",
        "str_idx = StringIndexer(inputCols= ['Geography', 'Gender'], outputCols= ['newGeography', 'newGender'])\n",
        "from pyspark.ml.feature import VectorAssembler\n",
        "assembler = VectorAssembler(inputCols = ['newGeography', 'newGender','FBValueScore','Age','On FB Since Years','Spend on FB Till Date','NumOfAds','HasCreditCard','IsActiveBusiness','EstimatedTurnover'])\n",
        "from pyspark.ml.classification import LogisticRegression\n",
        "\n",
        "model = LogisticRegression(featureCol = 'allfeatures',  labelCol = 'ExitedFromFB')\n"
      ],
      "metadata": {
        "colab": {
          "base_uri": "https://localhost:8080/",
          "height": 373
        },
        "id": "jxT1c1_IDNeC",
        "outputId": "eeab06d1-7e61-46b5-dbc5-9025a1b916bc"
      },
      "execution_count": null,
      "outputs": [
        {
          "output_type": "error",
          "ename": "TypeError",
          "evalue": "ignored",
          "traceback": [
            "\u001b[0;31m---------------------------------------------------------------------------\u001b[0m",
            "\u001b[0;31mTypeError\u001b[0m                                 Traceback (most recent call last)",
            "\u001b[0;32m<ipython-input-122-16048defad8f>\u001b[0m in \u001b[0;36m<module>\u001b[0;34m()\u001b[0m\n\u001b[1;32m      7\u001b[0m \u001b[0;32mfrom\u001b[0m \u001b[0mpyspark\u001b[0m\u001b[0;34m.\u001b[0m\u001b[0mml\u001b[0m\u001b[0;34m.\u001b[0m\u001b[0mclassification\u001b[0m \u001b[0;32mimport\u001b[0m \u001b[0mLogisticRegression\u001b[0m\u001b[0;34m\u001b[0m\u001b[0;34m\u001b[0m\u001b[0m\n\u001b[1;32m      8\u001b[0m \u001b[0;34m\u001b[0m\u001b[0m\n\u001b[0;32m----> 9\u001b[0;31m \u001b[0mmodel\u001b[0m \u001b[0;34m=\u001b[0m \u001b[0mLogisticRegression\u001b[0m\u001b[0;34m(\u001b[0m\u001b[0mfeatureCol\u001b[0m \u001b[0;34m=\u001b[0m \u001b[0;34m'allfeatures'\u001b[0m\u001b[0;34m,\u001b[0m  \u001b[0mlabelCol\u001b[0m \u001b[0;34m=\u001b[0m \u001b[0;34m'ExitedFromFB'\u001b[0m\u001b[0;34m)\u001b[0m\u001b[0;34m\u001b[0m\u001b[0;34m\u001b[0m\u001b[0m\n\u001b[0m",
            "\u001b[0;32m/usr/local/lib/python3.7/dist-packages/pyspark/__init__.py\u001b[0m in \u001b[0;36mwrapper\u001b[0;34m(self, *args, **kwargs)\u001b[0m\n\u001b[1;32m    112\u001b[0m             \u001b[0;32mraise\u001b[0m \u001b[0mTypeError\u001b[0m\u001b[0;34m(\u001b[0m\u001b[0;34m\"Method %s forces keyword arguments.\"\u001b[0m \u001b[0;34m%\u001b[0m \u001b[0mfunc\u001b[0m\u001b[0;34m.\u001b[0m\u001b[0m__name__\u001b[0m\u001b[0;34m)\u001b[0m\u001b[0;34m\u001b[0m\u001b[0;34m\u001b[0m\u001b[0m\n\u001b[1;32m    113\u001b[0m         \u001b[0mself\u001b[0m\u001b[0;34m.\u001b[0m\u001b[0m_input_kwargs\u001b[0m \u001b[0;34m=\u001b[0m \u001b[0mkwargs\u001b[0m\u001b[0;34m\u001b[0m\u001b[0;34m\u001b[0m\u001b[0m\n\u001b[0;32m--> 114\u001b[0;31m         \u001b[0;32mreturn\u001b[0m \u001b[0mfunc\u001b[0m\u001b[0;34m(\u001b[0m\u001b[0mself\u001b[0m\u001b[0;34m,\u001b[0m \u001b[0;34m**\u001b[0m\u001b[0mkwargs\u001b[0m\u001b[0;34m)\u001b[0m\u001b[0;34m\u001b[0m\u001b[0;34m\u001b[0m\u001b[0m\n\u001b[0m\u001b[1;32m    115\u001b[0m     \u001b[0;32mreturn\u001b[0m \u001b[0mwrapper\u001b[0m\u001b[0;34m\u001b[0m\u001b[0;34m\u001b[0m\u001b[0m\n\u001b[1;32m    116\u001b[0m \u001b[0;34m\u001b[0m\u001b[0m\n",
            "\u001b[0;31mTypeError\u001b[0m: __init__() got an unexpected keyword argument 'featureCol'"
          ]
        }
      ]
    },
    {
      "cell_type": "code",
      "source": [
        "from pyspark.ml import Pipeline\n",
        "mypipeline = Pipeline(stages = [str_idx, assembler, model])"
      ],
      "metadata": {
        "id": "3U9AwxlCDNns"
      },
      "execution_count": null,
      "outputs": []
    },
    {
      "cell_type": "code",
      "source": [
        "training, test = data.randomSplit([0.8,0.2])"
      ],
      "metadata": {
        "id": "lU3dgAtSDNx2"
      },
      "execution_count": null,
      "outputs": []
    },
    {
      "cell_type": "code",
      "source": [
        "result = fitmodel.transform(test)\n",
        "result.show(5)"
      ],
      "metadata": {
        "colab": {
          "base_uri": "https://localhost:8080/",
          "height": 380
        },
        "id": "htt_x3w4DN71",
        "outputId": "10dc3041-f0b3-42ad-8a9b-bfccb24a8811"
      },
      "execution_count": null,
      "outputs": [
        {
          "output_type": "error",
          "ename": "IllegalArgumentException",
          "evalue": "ignored",
          "traceback": [
            "\u001b[0;31m---------------------------------------------------------------------------\u001b[0m",
            "\u001b[0;31mIllegalArgumentException\u001b[0m                  Traceback (most recent call last)",
            "\u001b[0;32m<ipython-input-62-66a5c035262e>\u001b[0m in \u001b[0;36m<module>\u001b[0;34m()\u001b[0m\n\u001b[0;32m----> 1\u001b[0;31m \u001b[0mresult\u001b[0m \u001b[0;34m=\u001b[0m \u001b[0mfitmodel\u001b[0m\u001b[0;34m.\u001b[0m\u001b[0mtransform\u001b[0m\u001b[0;34m(\u001b[0m\u001b[0mtest\u001b[0m\u001b[0;34m)\u001b[0m\u001b[0;34m\u001b[0m\u001b[0;34m\u001b[0m\u001b[0m\n\u001b[0m\u001b[1;32m      2\u001b[0m \u001b[0mresult\u001b[0m\u001b[0;34m.\u001b[0m\u001b[0mshow\u001b[0m\u001b[0;34m(\u001b[0m\u001b[0;36m5\u001b[0m\u001b[0;34m)\u001b[0m\u001b[0;34m\u001b[0m\u001b[0;34m\u001b[0m\u001b[0m\n",
            "\u001b[0;32m/usr/local/lib/python3.7/dist-packages/pyspark/ml/base.py\u001b[0m in \u001b[0;36mtransform\u001b[0;34m(self, dataset, params)\u001b[0m\n\u001b[1;32m    215\u001b[0m                 \u001b[0;32mreturn\u001b[0m \u001b[0mself\u001b[0m\u001b[0;34m.\u001b[0m\u001b[0mcopy\u001b[0m\u001b[0;34m(\u001b[0m\u001b[0mparams\u001b[0m\u001b[0;34m)\u001b[0m\u001b[0;34m.\u001b[0m\u001b[0m_transform\u001b[0m\u001b[0;34m(\u001b[0m\u001b[0mdataset\u001b[0m\u001b[0;34m)\u001b[0m\u001b[0;34m\u001b[0m\u001b[0;34m\u001b[0m\u001b[0m\n\u001b[1;32m    216\u001b[0m             \u001b[0;32melse\u001b[0m\u001b[0;34m:\u001b[0m\u001b[0;34m\u001b[0m\u001b[0;34m\u001b[0m\u001b[0m\n\u001b[0;32m--> 217\u001b[0;31m                 \u001b[0;32mreturn\u001b[0m \u001b[0mself\u001b[0m\u001b[0;34m.\u001b[0m\u001b[0m_transform\u001b[0m\u001b[0;34m(\u001b[0m\u001b[0mdataset\u001b[0m\u001b[0;34m)\u001b[0m\u001b[0;34m\u001b[0m\u001b[0;34m\u001b[0m\u001b[0m\n\u001b[0m\u001b[1;32m    218\u001b[0m         \u001b[0;32melse\u001b[0m\u001b[0;34m:\u001b[0m\u001b[0;34m\u001b[0m\u001b[0;34m\u001b[0m\u001b[0m\n\u001b[1;32m    219\u001b[0m             \u001b[0;32mraise\u001b[0m \u001b[0mTypeError\u001b[0m\u001b[0;34m(\u001b[0m\u001b[0;34m\"Params must be a param map but got %s.\"\u001b[0m \u001b[0;34m%\u001b[0m \u001b[0mtype\u001b[0m\u001b[0;34m(\u001b[0m\u001b[0mparams\u001b[0m\u001b[0;34m)\u001b[0m\u001b[0;34m)\u001b[0m\u001b[0;34m\u001b[0m\u001b[0;34m\u001b[0m\u001b[0m\n",
            "\u001b[0;32m/usr/local/lib/python3.7/dist-packages/pyspark/ml/pipeline.py\u001b[0m in \u001b[0;36m_transform\u001b[0;34m(self, dataset)\u001b[0m\n\u001b[1;32m    276\u001b[0m     \u001b[0;32mdef\u001b[0m \u001b[0m_transform\u001b[0m\u001b[0;34m(\u001b[0m\u001b[0mself\u001b[0m\u001b[0;34m,\u001b[0m \u001b[0mdataset\u001b[0m\u001b[0;34m)\u001b[0m\u001b[0;34m:\u001b[0m\u001b[0;34m\u001b[0m\u001b[0;34m\u001b[0m\u001b[0m\n\u001b[1;32m    277\u001b[0m         \u001b[0;32mfor\u001b[0m \u001b[0mt\u001b[0m \u001b[0;32min\u001b[0m \u001b[0mself\u001b[0m\u001b[0;34m.\u001b[0m\u001b[0mstages\u001b[0m\u001b[0;34m:\u001b[0m\u001b[0;34m\u001b[0m\u001b[0;34m\u001b[0m\u001b[0m\n\u001b[0;32m--> 278\u001b[0;31m             \u001b[0mdataset\u001b[0m \u001b[0;34m=\u001b[0m \u001b[0mt\u001b[0m\u001b[0;34m.\u001b[0m\u001b[0mtransform\u001b[0m\u001b[0;34m(\u001b[0m\u001b[0mdataset\u001b[0m\u001b[0;34m)\u001b[0m\u001b[0;34m\u001b[0m\u001b[0;34m\u001b[0m\u001b[0m\n\u001b[0m\u001b[1;32m    279\u001b[0m         \u001b[0;32mreturn\u001b[0m \u001b[0mdataset\u001b[0m\u001b[0;34m\u001b[0m\u001b[0;34m\u001b[0m\u001b[0m\n\u001b[1;32m    280\u001b[0m \u001b[0;34m\u001b[0m\u001b[0m\n",
            "\u001b[0;32m/usr/local/lib/python3.7/dist-packages/pyspark/ml/base.py\u001b[0m in \u001b[0;36mtransform\u001b[0;34m(self, dataset, params)\u001b[0m\n\u001b[1;32m    215\u001b[0m                 \u001b[0;32mreturn\u001b[0m \u001b[0mself\u001b[0m\u001b[0;34m.\u001b[0m\u001b[0mcopy\u001b[0m\u001b[0;34m(\u001b[0m\u001b[0mparams\u001b[0m\u001b[0;34m)\u001b[0m\u001b[0;34m.\u001b[0m\u001b[0m_transform\u001b[0m\u001b[0;34m(\u001b[0m\u001b[0mdataset\u001b[0m\u001b[0;34m)\u001b[0m\u001b[0;34m\u001b[0m\u001b[0;34m\u001b[0m\u001b[0m\n\u001b[1;32m    216\u001b[0m             \u001b[0;32melse\u001b[0m\u001b[0;34m:\u001b[0m\u001b[0;34m\u001b[0m\u001b[0;34m\u001b[0m\u001b[0m\n\u001b[0;32m--> 217\u001b[0;31m                 \u001b[0;32mreturn\u001b[0m \u001b[0mself\u001b[0m\u001b[0;34m.\u001b[0m\u001b[0m_transform\u001b[0m\u001b[0;34m(\u001b[0m\u001b[0mdataset\u001b[0m\u001b[0;34m)\u001b[0m\u001b[0;34m\u001b[0m\u001b[0;34m\u001b[0m\u001b[0m\n\u001b[0m\u001b[1;32m    218\u001b[0m         \u001b[0;32melse\u001b[0m\u001b[0;34m:\u001b[0m\u001b[0;34m\u001b[0m\u001b[0;34m\u001b[0m\u001b[0m\n\u001b[1;32m    219\u001b[0m             \u001b[0;32mraise\u001b[0m \u001b[0mTypeError\u001b[0m\u001b[0;34m(\u001b[0m\u001b[0;34m\"Params must be a param map but got %s.\"\u001b[0m \u001b[0;34m%\u001b[0m \u001b[0mtype\u001b[0m\u001b[0;34m(\u001b[0m\u001b[0mparams\u001b[0m\u001b[0;34m)\u001b[0m\u001b[0;34m)\u001b[0m\u001b[0;34m\u001b[0m\u001b[0;34m\u001b[0m\u001b[0m\n",
            "\u001b[0;32m/usr/local/lib/python3.7/dist-packages/pyspark/ml/wrapper.py\u001b[0m in \u001b[0;36m_transform\u001b[0;34m(self, dataset)\u001b[0m\n\u001b[1;32m    348\u001b[0m     \u001b[0;32mdef\u001b[0m \u001b[0m_transform\u001b[0m\u001b[0;34m(\u001b[0m\u001b[0mself\u001b[0m\u001b[0;34m,\u001b[0m \u001b[0mdataset\u001b[0m\u001b[0;34m)\u001b[0m\u001b[0;34m:\u001b[0m\u001b[0;34m\u001b[0m\u001b[0;34m\u001b[0m\u001b[0m\n\u001b[1;32m    349\u001b[0m         \u001b[0mself\u001b[0m\u001b[0;34m.\u001b[0m\u001b[0m_transfer_params_to_java\u001b[0m\u001b[0;34m(\u001b[0m\u001b[0;34m)\u001b[0m\u001b[0;34m\u001b[0m\u001b[0;34m\u001b[0m\u001b[0m\n\u001b[0;32m--> 350\u001b[0;31m         \u001b[0;32mreturn\u001b[0m \u001b[0mDataFrame\u001b[0m\u001b[0;34m(\u001b[0m\u001b[0mself\u001b[0m\u001b[0;34m.\u001b[0m\u001b[0m_java_obj\u001b[0m\u001b[0;34m.\u001b[0m\u001b[0mtransform\u001b[0m\u001b[0;34m(\u001b[0m\u001b[0mdataset\u001b[0m\u001b[0;34m.\u001b[0m\u001b[0m_jdf\u001b[0m\u001b[0;34m)\u001b[0m\u001b[0;34m,\u001b[0m \u001b[0mdataset\u001b[0m\u001b[0;34m.\u001b[0m\u001b[0msql_ctx\u001b[0m\u001b[0;34m)\u001b[0m\u001b[0;34m\u001b[0m\u001b[0;34m\u001b[0m\u001b[0m\n\u001b[0m\u001b[1;32m    351\u001b[0m \u001b[0;34m\u001b[0m\u001b[0m\n\u001b[1;32m    352\u001b[0m \u001b[0;34m\u001b[0m\u001b[0m\n",
            "\u001b[0;32m/usr/local/lib/python3.7/dist-packages/py4j/java_gateway.py\u001b[0m in \u001b[0;36m__call__\u001b[0;34m(self, *args)\u001b[0m\n\u001b[1;32m   1320\u001b[0m         \u001b[0manswer\u001b[0m \u001b[0;34m=\u001b[0m \u001b[0mself\u001b[0m\u001b[0;34m.\u001b[0m\u001b[0mgateway_client\u001b[0m\u001b[0;34m.\u001b[0m\u001b[0msend_command\u001b[0m\u001b[0;34m(\u001b[0m\u001b[0mcommand\u001b[0m\u001b[0;34m)\u001b[0m\u001b[0;34m\u001b[0m\u001b[0;34m\u001b[0m\u001b[0m\n\u001b[1;32m   1321\u001b[0m         return_value = get_return_value(\n\u001b[0;32m-> 1322\u001b[0;31m             answer, self.gateway_client, self.target_id, self.name)\n\u001b[0m\u001b[1;32m   1323\u001b[0m \u001b[0;34m\u001b[0m\u001b[0m\n\u001b[1;32m   1324\u001b[0m         \u001b[0;32mfor\u001b[0m \u001b[0mtemp_arg\u001b[0m \u001b[0;32min\u001b[0m \u001b[0mtemp_args\u001b[0m\u001b[0;34m:\u001b[0m\u001b[0;34m\u001b[0m\u001b[0;34m\u001b[0m\u001b[0m\n",
            "\u001b[0;32m/usr/local/lib/python3.7/dist-packages/pyspark/sql/utils.py\u001b[0m in \u001b[0;36mdeco\u001b[0;34m(*a, **kw)\u001b[0m\n\u001b[1;32m    115\u001b[0m                 \u001b[0;31m# Hide where the exception came from that shows a non-Pythonic\u001b[0m\u001b[0;34m\u001b[0m\u001b[0;34m\u001b[0m\u001b[0;34m\u001b[0m\u001b[0m\n\u001b[1;32m    116\u001b[0m                 \u001b[0;31m# JVM exception message.\u001b[0m\u001b[0;34m\u001b[0m\u001b[0;34m\u001b[0m\u001b[0;34m\u001b[0m\u001b[0m\n\u001b[0;32m--> 117\u001b[0;31m                 \u001b[0;32mraise\u001b[0m \u001b[0mconverted\u001b[0m \u001b[0;32mfrom\u001b[0m \u001b[0;32mNone\u001b[0m\u001b[0;34m\u001b[0m\u001b[0;34m\u001b[0m\u001b[0m\n\u001b[0m\u001b[1;32m    118\u001b[0m             \u001b[0;32melse\u001b[0m\u001b[0;34m:\u001b[0m\u001b[0;34m\u001b[0m\u001b[0;34m\u001b[0m\u001b[0m\n\u001b[1;32m    119\u001b[0m                 \u001b[0;32mraise\u001b[0m\u001b[0;34m\u001b[0m\u001b[0;34m\u001b[0m\u001b[0m\n",
            "\u001b[0;31mIllegalArgumentException\u001b[0m: TB does not exist. Available: S.No, FacebookId, Surname, FBValueScore, Geography, Gender, Age, On FB Since Years, Spend on FB Till Date, NumOfAds, HasCreditCard, IsActiveBusiness, EstimatedTurnover, ExitedFromFB"
          ]
        }
      ]
    },
    {
      "cell_type": "code",
      "source": [
        "from pyspark.ml.evaluation import BinaryClassificationEvaluator\n",
        "eval_obj = BinaryClassificationEvaluator(rawPredictionCol= 'rawPrediction', labelCol = \"ExitFromFB\")\n",
        "accuracy = eval_obj\n",
        "print(accuracy)"
      ],
      "metadata": {
        "colab": {
          "base_uri": "https://localhost:8080/"
        },
        "id": "HVGH5Y-sDOFJ",
        "outputId": "7deebc4c-05e5-4c2f-e356-dcb1167df8e2"
      },
      "execution_count": null,
      "outputs": [
        {
          "output_type": "stream",
          "name": "stdout",
          "text": [
            "BinaryClassificationEvaluator_6f8925e8b243\n"
          ]
        }
      ]
    },
    {
      "cell_type": "code",
      "source": [
        ""
      ],
      "metadata": {
        "id": "EhX7x0k9DOO8"
      },
      "execution_count": null,
      "outputs": []
    },
    {
      "cell_type": "code",
      "source": [
        "#Date: 3rd May, 2022"
      ],
      "metadata": {
        "id": "mVCSskc3DOYq"
      },
      "execution_count": null,
      "outputs": []
    },
    {
      "cell_type": "code",
      "source": [
        "!pip install pyspark"
      ],
      "metadata": {
        "colab": {
          "base_uri": "https://localhost:8080/"
        },
        "id": "Y3M4S2zeFfe2",
        "outputId": "40eec629-2518-4f2d-c0c8-12ee0bcea281"
      },
      "execution_count": null,
      "outputs": [
        {
          "output_type": "stream",
          "name": "stdout",
          "text": [
            "Requirement already satisfied: pyspark in /usr/local/lib/python3.7/dist-packages (3.2.1)\n",
            "Requirement already satisfied: py4j==0.10.9.3 in /usr/local/lib/python3.7/dist-packages (from pyspark) (0.10.9.3)\n"
          ]
        }
      ]
    },
    {
      "cell_type": "code",
      "source": [
        "from pyspark.sql import SparkSession\n",
        "session   = SparkSession.builder.appName(\"customer\").master(\"local[2]\").getOrCreate()"
      ],
      "metadata": {
        "id": "gAhjxUDIFfoe"
      },
      "execution_count": null,
      "outputs": []
    },
    {
      "cell_type": "code",
      "source": [
        "data = session.read.csv(\"customer_churn.csv\", header = True)"
      ],
      "metadata": {
        "id": "7IuHV56OFfxY"
      },
      "execution_count": null,
      "outputs": []
    },
    {
      "cell_type": "code",
      "source": [
        "data.show(3)\n",
        "data.columns"
      ],
      "metadata": {
        "colab": {
          "base_uri": "https://localhost:8080/"
        },
        "id": "OVbZxDdhKNIk",
        "outputId": "36884f05-7d80-472d-8b3e-1a0d87f0666a"
      },
      "execution_count": null,
      "outputs": [
        {
          "output_type": "stream",
          "name": "stdout",
          "text": [
            "+----------+------+-------------+-------+----------+------+------------+----------------+---------------+--------------+------------+----------------+-----------+-----------+---------------+--------------+----------------+----------------+--------------+------------+-----+\n",
            "|customerID|gender|SeniorCitizen|Partner|Dependents|tenure|PhoneService|   MultipleLines|InternetService|OnlineSecurity|OnlineBackup|DeviceProtection|TechSupport|StreamingTV|StreamingMovies|      Contract|PaperlessBilling|   PaymentMethod|MonthlyCharges|TotalCharges|Churn|\n",
            "+----------+------+-------------+-------+----------+------+------------+----------------+---------------+--------------+------------+----------------+-----------+-----------+---------------+--------------+----------------+----------------+--------------+------------+-----+\n",
            "|7590-VHVEG|Female|            0|    Yes|        No|     1|          No|No phone service|            DSL|            No|         Yes|              No|         No|         No|             No|Month-to-month|             Yes|Electronic check|         29.85|       29.85|   No|\n",
            "|5575-GNVDE|  Male|            0|     No|        No|    34|         Yes|              No|            DSL|           Yes|          No|             Yes|         No|         No|             No|      One year|              No|    Mailed check|         56.95|      1889.5|   No|\n",
            "|3668-QPYBK|  Male|            0|     No|        No|     2|         Yes|              No|            DSL|           Yes|         Yes|              No|         No|         No|             No|Month-to-month|             Yes|    Mailed check|         53.85|      108.15|  Yes|\n",
            "+----------+------+-------------+-------+----------+------+------------+----------------+---------------+--------------+------------+----------------+-----------+-----------+---------------+--------------+----------------+----------------+--------------+------------+-----+\n",
            "only showing top 3 rows\n",
            "\n"
          ]
        },
        {
          "output_type": "execute_result",
          "data": {
            "text/plain": [
              "['customerID',\n",
              " 'gender',\n",
              " 'SeniorCitizen',\n",
              " 'Partner',\n",
              " 'Dependents',\n",
              " 'tenure',\n",
              " 'PhoneService',\n",
              " 'MultipleLines',\n",
              " 'InternetService',\n",
              " 'OnlineSecurity',\n",
              " 'OnlineBackup',\n",
              " 'DeviceProtection',\n",
              " 'TechSupport',\n",
              " 'StreamingTV',\n",
              " 'StreamingMovies',\n",
              " 'Contract',\n",
              " 'PaperlessBilling',\n",
              " 'PaymentMethod',\n",
              " 'MonthlyCharges',\n",
              " 'TotalCharges',\n",
              " 'Churn']"
            ]
          },
          "metadata": {},
          "execution_count": 55
        }
      ]
    },
    {
      "cell_type": "code",
      "source": [
        "#pyspark.sql has mmany important libraries with respect to machine learning\n",
        "#features package has many functions for feature processing\n",
        "#StringIndexer: This is used to convert string into number\n",
        "#OneHotEncode will perform the one hot encoding on the numeric variable\n",
        "#VectorAssembler: will merge the different columns into single column"
      ],
      "metadata": {
        "id": "3LMq52XEFf6M"
      },
      "execution_count": null,
      "outputs": []
    },
    {
      "cell_type": "code",
      "source": [
        "from pyspark.ml.feature import VectorAssembler, StringIndexer, OneHotEncoder\n",
        "#str_idx1 = StringIndexer(inputCol = \"gender\"], OutputCol = \"newgender\")\n",
        "#str_idx2 = StringIndexer(inputCol = \"Partner\"], OutputCol = \"newPartner\")\n",
        "str_idx = StringIndexer(inputCols = [\"gender\", 'Partner', 'InternetService', 'Churn'], outputCols =[\"newgender\", 'newPartner', 'newInternetService', 'newChurn'] )\n",
        "\n",
        "#Thiw will help input col to output col \n",
        "#But it will not do it now, it will do it later when processing is required...\n",
        "#When some data will be given to it\n",
        "#We have not given any data to it now...hence execution will not take place\n",
        "#OneHotEncoder will acccept the string indexer as input\n",
        "#we will not consider churn in one hot encoding because one hot encoding is done only on independent variables\n",
        "onehot = OneHotEncoder(inputCols = [\"newgender\", 'newPartner', 'newInternetService'], outputCols =[\"newgender2\", 'newPartner2', 'newInternetService2'] )\n"
      ],
      "metadata": {
        "id": "CqmoE3GaFgDv"
      },
      "execution_count": null,
      "outputs": []
    },
    {
      "cell_type": "code",
      "source": [
        "#It is taking only columns which are numeric in nature \n",
        "#Because the model wanted only numeric variables\n",
        "#vac_ass = VectorAssembler(inputCols = [\"newgender\", \"newPartner\", 'newInternetService' ], outputCol=\"all_features\")\n",
        "vac_ass = VectorAssembler(inputCols = [\"newgender2\", \"newPartner2\", 'newInternetService2' ], outputCol=\"all_features\")\n"
      ],
      "metadata": {
        "id": "stRWDyEiFgMD"
      },
      "execution_count": null,
      "outputs": []
    },
    {
      "cell_type": "code",
      "source": [
        "#Creating a model\n",
        "#All the supervised ML models take two arguments: featuresCol (independent variable) and labelCol (dependent variable)\n",
        "from pyspark.ml.classification import LogisticRegression\n",
        "lr = LogisticRegression(featuresCol= \"all_features\", labelCol = \"newChurn\")\n"
      ],
      "metadata": {
        "id": "34VlDYbmFgUr"
      },
      "execution_count": null,
      "outputs": []
    },
    {
      "cell_type": "code",
      "source": [
        "from pyspark.ml import Pipeline\n",
        "mypipeline = Pipeline(stages = [str_idx,onehot, vac_ass, lr])\n",
        "#The stages should not be string because those are object variables"
      ],
      "metadata": {
        "id": "blf_6c3sFgdF"
      },
      "execution_count": null,
      "outputs": []
    },
    {
      "cell_type": "code",
      "source": [
        "training, test = data.randomSplit([0.8,0.2])"
      ],
      "metadata": {
        "id": "-jW4HS3TFglR"
      },
      "execution_count": null,
      "outputs": []
    },
    {
      "cell_type": "code",
      "source": [
        "#Till now, nothing got executed, only objects were created \n",
        "#Now, we will execute the things \n",
        "lrmodel = mypipeline.fit(training)"
      ],
      "metadata": {
        "id": "FytB88BWFgtD"
      },
      "execution_count": null,
      "outputs": []
    },
    {
      "cell_type": "code",
      "source": [
        "results = lrmodel.transform(test)\n",
        "results.show()"
      ],
      "metadata": {
        "colab": {
          "base_uri": "https://localhost:8080/"
        },
        "id": "MHPPwfjoFg01",
        "outputId": "463baa24-2f06-4d4d-c00a-5b16b9834419"
      },
      "execution_count": null,
      "outputs": [
        {
          "output_type": "stream",
          "name": "stdout",
          "text": [
            "+----------+------+-------------+-------+----------+------+------------+-------------+---------------+-------------------+-------------------+-------------------+-------------------+-------------------+-------------------+--------------+----------------+--------------------+--------------+------------+-----+---------+----------+------------------+--------+-------------+-------------+-------------------+-----------------+--------------------+--------------------+----------+\n",
            "|customerID|gender|SeniorCitizen|Partner|Dependents|tenure|PhoneService|MultipleLines|InternetService|     OnlineSecurity|       OnlineBackup|   DeviceProtection|        TechSupport|        StreamingTV|    StreamingMovies|      Contract|PaperlessBilling|       PaymentMethod|MonthlyCharges|TotalCharges|Churn|newgender|newPartner|newInternetService|newChurn|   newgender2|  newPartner2|newInternetService2|     all_features|       rawPrediction|         probability|prediction|\n",
            "+----------+------+-------------+-------+----------+------+------------+-------------+---------------+-------------------+-------------------+-------------------+-------------------+-------------------+-------------------+--------------+----------------+--------------------+--------------+------------+-----+---------+----------+------------------+--------+-------------+-------------+-------------------+-----------------+--------------------+--------------------+----------+\n",
            "|0003-MKNFE|  Male|            0|     No|        No|     9|         Yes|          Yes|            DSL|                 No|                 No|                 No|                 No|                 No|                Yes|Month-to-month|              No|        Mailed check|          59.9|       542.4|   No|      0.0|       0.0|               1.0|     0.0|(1,[0],[1.0])|(1,[0],[1.0])|      (2,[1],[1.0])|[1.0,1.0,0.0,1.0]|[1.10390953605719...|[0.75099191795724...|       0.0|\n",
            "|0004-TLHLJ|  Male|            0|     No|        No|     4|         Yes|           No|    Fiber optic|                 No|                 No|                Yes|                 No|                 No|                 No|Month-to-month|             Yes|    Electronic check|          73.9|      280.85|  Yes|      0.0|       0.0|               0.0|     1.0|(1,[0],[1.0])|(1,[0],[1.0])|      (2,[0],[1.0])|[1.0,1.0,1.0,0.0]|[-0.0635176545123...|[0.48412592300005...|       1.0|\n",
            "|0011-IGKFF|  Male|            1|    Yes|        No|    13|         Yes|           No|    Fiber optic|                 No|                Yes|                Yes|                 No|                Yes|                Yes|Month-to-month|             Yes|    Electronic check|            98|     1237.85|  Yes|      0.0|       1.0|               0.0|     1.0|(1,[0],[1.0])|    (1,[],[])|      (2,[0],[1.0])|[1.0,0.0,1.0,0.0]|[0.75452828346526...|[0.68016458786572...|       0.0|\n",
            "|0013-MHZWF|Female|            0|     No|       Yes|     9|         Yes|           No|            DSL|                 No|                 No|                 No|                Yes|                Yes|                Yes|Month-to-month|             Yes|Credit card (auto...|          69.4|      571.45|   No|      1.0|       0.0|               1.0|     0.0|    (1,[],[])|(1,[0],[1.0])|      (2,[1],[1.0])|[0.0,1.0,0.0,1.0]|[1.11601380223575...|[0.75324856931294...|       0.0|\n",
            "|0014-BMAQU|  Male|            0|    Yes|        No|    63|         Yes|          Yes|    Fiber optic|                Yes|                 No|                 No|                Yes|                 No|                 No|      Two year|             Yes|Credit card (auto...|         84.65|      5377.8|   No|      0.0|       1.0|               0.0|     0.0|(1,[0],[1.0])|    (1,[],[])|      (2,[0],[1.0])|[1.0,0.0,1.0,0.0]|[0.75452828346526...|[0.68016458786572...|       0.0|\n",
            "|0023-XUOPT|Female|            0|    Yes|        No|    13|         Yes|          Yes|    Fiber optic|                 No|                Yes|                Yes|                 No|                Yes|                 No|Month-to-month|              No|    Electronic check|          94.1|      1215.6|  Yes|      1.0|       1.0|               0.0|     1.0|    (1,[],[])|    (1,[],[])|      (2,[0],[1.0])|    (4,[2],[1.0])|[0.76663254964382...|[0.68279199683293...|       0.0|\n",
            "|0030-FNXPP|Female|            0|     No|        No|     3|         Yes|           No|             No|No internet service|No internet service|No internet service|No internet service|No internet service|No internet service|Month-to-month|              No|        Mailed check|         19.85|        57.2|   No|      1.0|       0.0|               2.0|     0.0|    (1,[],[])|(1,[0],[1.0])|          (2,[],[])|    (4,[1],[1.0])|[2.25783361907815...|[0.90532410839034...|       0.0|\n",
            "|0031-PVLZI|Female|            0|    Yes|       Yes|     4|         Yes|           No|             No|No internet service|No internet service|No internet service|No internet service|No internet service|No internet service|Month-to-month|              No|        Mailed check|         20.35|       76.35|  Yes|      1.0|       1.0|               2.0|     1.0|    (1,[],[])|    (1,[],[])|          (2,[],[])|        (4,[],[])|[3.07587955705572...|[0.95588676282749...|       0.0|\n",
            "|0042-JVWOJ|  Male|            0|     No|        No|    26|         Yes|           No|             No|No internet service|No internet service|No internet service|No internet service|No internet service|No internet service|      One year|             Yes|Bank transfer (au...|          19.6|      471.85|   No|      0.0|       0.0|               2.0|     0.0|(1,[0],[1.0])|(1,[0],[1.0])|          (2,[],[])|[1.0,1.0,0.0,0.0]|[2.24572935289958...|[0.90428152072042...|       0.0|\n",
            "|0064-SUDOG|Female|            0|    Yes|       Yes|    12|         Yes|           No|             No|No internet service|No internet service|No internet service|No internet service|No internet service|No internet service|      Two year|              No|Bank transfer (au...|          20.3|       224.5|   No|      1.0|       1.0|               2.0|     0.0|    (1,[],[])|    (1,[],[])|          (2,[],[])|        (4,[],[])|[3.07587955705572...|[0.95588676282749...|       0.0|\n",
            "|0067-DKWBL|  Male|            1|     No|        No|     2|         Yes|           No|            DSL|                Yes|                 No|                 No|                 No|                 No|                 No|Month-to-month|             Yes|    Electronic check|         49.25|        91.1|  Yes|      0.0|       0.0|               1.0|     1.0|(1,[0],[1.0])|(1,[0],[1.0])|      (2,[1],[1.0])|[1.0,1.0,0.0,1.0]|[1.10390953605719...|[0.75099191795724...|       0.0|\n",
            "|0082-LDZUE|  Male|            0|     No|        No|     1|         Yes|           No|            DSL|                 No|                 No|                 No|                 No|                 No|                 No|Month-to-month|             Yes|        Mailed check|          44.3|        44.3|   No|      0.0|       0.0|               1.0|     0.0|(1,[0],[1.0])|(1,[0],[1.0])|      (2,[1],[1.0])|[1.0,1.0,0.0,1.0]|[1.10390953605719...|[0.75099191795724...|       0.0|\n",
            "|0083-PIVIK|  Male|            0|     No|        No|    64|         Yes|          Yes|            DSL|                Yes|                Yes|                Yes|                Yes|                Yes|                 No|      One year|              No|    Electronic check|         81.25|     5567.55|   No|      0.0|       0.0|               1.0|     0.0|(1,[0],[1.0])|(1,[0],[1.0])|      (2,[1],[1.0])|[1.0,1.0,0.0,1.0]|[1.10390953605719...|[0.75099191795724...|       0.0|\n",
            "|0106-UGRDO|Female|            0|    Yes|        No|    69|         Yes|          Yes|    Fiber optic|                Yes|                Yes|                Yes|                Yes|                Yes|                Yes|      Two year|             Yes|    Electronic check|           116|     8182.85|   No|      1.0|       1.0|               0.0|     0.0|    (1,[],[])|    (1,[],[])|      (2,[0],[1.0])|    (4,[2],[1.0])|[0.76663254964382...|[0.68279199683293...|       0.0|\n",
            "|0114-PEGZZ|Female|            0|     No|        No|    33|         Yes|          Yes|    Fiber optic|                 No|                Yes|                Yes|                 No|                Yes|                Yes|Month-to-month|              No|    Electronic check|        107.55|      3645.5|   No|      1.0|       0.0|               0.0|     0.0|    (1,[],[])|(1,[0],[1.0])|      (2,[0],[1.0])|[0.0,1.0,1.0,0.0]|[-0.0514133883337...|[0.48714948347847...|       1.0|\n",
            "|0122-OAHPZ|Female|            0|     No|        No|     7|         Yes|          Yes|    Fiber optic|                 No|                 No|                 No|                 No|                 No|                 No|Month-to-month|             Yes|    Electronic check|         73.85|      511.25|  Yes|      1.0|       0.0|               0.0|     1.0|    (1,[],[])|(1,[0],[1.0])|      (2,[0],[1.0])|[0.0,1.0,1.0,0.0]|[-0.0514133883337...|[0.48714948347847...|       1.0|\n",
            "|0123-CRBRT|Female|            0|    Yes|       Yes|    61|         Yes|          Yes|            DSL|                Yes|                Yes|                Yes|                Yes|                Yes|                Yes|      Two year|              No|        Mailed check|          88.1|     5526.75|   No|      1.0|       1.0|               1.0|     0.0|    (1,[],[])|    (1,[],[])|      (2,[1],[1.0])|    (4,[3],[1.0])|[1.93405974021333...|[0.87369809121191...|       0.0|\n",
            "|0125-LZQXK|  Male|            0|     No|        No|    15|         Yes|           No|    Fiber optic|                 No|                 No|                Yes|                Yes|                Yes|                Yes|Month-to-month|             Yes|    Electronic check|        101.35|     1553.95|  Yes|      0.0|       0.0|               0.0|     1.0|(1,[0],[1.0])|(1,[0],[1.0])|      (2,[0],[1.0])|[1.0,1.0,1.0,0.0]|[-0.0635176545123...|[0.48412592300005...|       1.0|\n",
            "|0151-ONTOV|Female|            0|     No|        No|     1|         Yes|           No|    Fiber optic|                 No|                 No|                 No|                 No|                 No|                 No|Month-to-month|              No|        Mailed check|          70.9|        70.9|  Yes|      1.0|       0.0|               0.0|     1.0|    (1,[],[])|(1,[0],[1.0])|      (2,[0],[1.0])|[0.0,1.0,1.0,0.0]|[-0.0514133883337...|[0.48714948347847...|       1.0|\n",
            "|0188-GWFLE|  Male|            0|     No|        No|     2|         Yes|           No|             No|No internet service|No internet service|No internet service|No internet service|No internet service|No internet service|Month-to-month|              No|        Mailed check|         20.05|        33.7|   No|      0.0|       0.0|               2.0|     0.0|(1,[0],[1.0])|(1,[0],[1.0])|          (2,[],[])|[1.0,1.0,0.0,0.0]|[2.24572935289958...|[0.90428152072042...|       0.0|\n",
            "+----------+------+-------------+-------+----------+------+------------+-------------+---------------+-------------------+-------------------+-------------------+-------------------+-------------------+-------------------+--------------+----------------+--------------------+--------------+------------+-----+---------+----------+------------------+--------+-------------+-------------+-------------------+-----------------+--------------------+--------------------+----------+\n",
            "only showing top 20 rows\n",
            "\n"
          ]
        }
      ]
    },
    {
      "cell_type": "code",
      "source": [
        "#Raw prediction, probability and prediction all these values convey the same thing\n",
        "#Greater the difference between probability, greater is the value of rawPrediction\n",
        "#The total of rawprediction is 0\n",
        "#Depending on the probabiity prediction is done\n",
        "#Since, this dataset had two values of churn, hence two probabilities are displayed\n",
        "#The predicted value is written corresponding to the higher probability"
      ],
      "metadata": {
        "id": "1aM2sX5IFg85"
      },
      "execution_count": null,
      "outputs": []
    },
    {
      "cell_type": "code",
      "source": [
        "from pyspark.ml.evaluation import BinaryClassificationEvaluator\n",
        "eval = BinaryClassificationEvaluator(rawPredictionCol= \"rawPrediction\", labelCol= \"newChurn\")\n"
      ],
      "metadata": {
        "id": "y_1D-WurFhEx"
      },
      "execution_count": null,
      "outputs": []
    },
    {
      "cell_type": "code",
      "source": [
        "eval.evaluate(results)"
      ],
      "metadata": {
        "colab": {
          "base_uri": "https://localhost:8080/"
        },
        "id": "FrMXpU2VFhMs",
        "outputId": "f1147ece-40b1-4121-dafe-2d3c40dbc4d2"
      },
      "execution_count": null,
      "outputs": [
        {
          "output_type": "execute_result",
          "data": {
            "text/plain": [
              "0.7109786540723335"
            ]
          },
          "metadata": {},
          "execution_count": 121
        }
      ]
    },
    {
      "cell_type": "code",
      "source": [
        "        Designation\n",
        "Record1   Manager\n",
        "Record2   Executive\n",
        "Record3   Officer\n",
        "\n",
        "\n",
        "Label   Encoding (String indexer)\n",
        "          Designation\n",
        "Record1          2\n",
        "Record2          1\n",
        "Record3          0\n",
        "\n",
        "One hot Encoding\n",
        "              Designation_2(Manager)   Designation_1(Executive)   Designation_0(officer)\n",
        "Record1           1                           0                             0\n",
        "Record2           0                           1                             0\n",
        "Record3           0                           0                             1\n",
        "\n",
        "We do not do one hot encoding\n"
      ],
      "metadata": {
        "id": "d6WojUgVFhUz"
      },
      "execution_count": null,
      "outputs": []
    },
    {
      "cell_type": "code",
      "source": [
        ""
      ],
      "metadata": {
        "id": "-HTmJUBoFhcg"
      },
      "execution_count": null,
      "outputs": []
    },
    {
      "cell_type": "code",
      "source": [
        ""
      ],
      "metadata": {
        "id": "cHQCO418Fhkg"
      },
      "execution_count": null,
      "outputs": []
    },
    {
      "cell_type": "code",
      "source": [
        ""
      ],
      "metadata": {
        "id": "HKRPRX90FhsZ"
      },
      "execution_count": null,
      "outputs": []
    },
    {
      "cell_type": "code",
      "source": [
        ""
      ],
      "metadata": {
        "id": "FR52UVyCFh1B"
      },
      "execution_count": null,
      "outputs": []
    },
    {
      "cell_type": "code",
      "source": [
        ""
      ],
      "metadata": {
        "id": "q4ESHvRTFh9d"
      },
      "execution_count": null,
      "outputs": []
    },
    {
      "cell_type": "code",
      "source": [
        ""
      ],
      "metadata": {
        "id": "7FRMNiLyFiFx"
      },
      "execution_count": null,
      "outputs": []
    },
    {
      "cell_type": "code",
      "source": [
        ""
      ],
      "metadata": {
        "id": "6LS2rxJrFiOc"
      },
      "execution_count": null,
      "outputs": []
    },
    {
      "cell_type": "code",
      "source": [
        ""
      ],
      "metadata": {
        "id": "plNWcCmkFiWb"
      },
      "execution_count": null,
      "outputs": []
    },
    {
      "cell_type": "code",
      "source": [
        ""
      ],
      "metadata": {
        "id": "ZQ9Dyf-ZFieP"
      },
      "execution_count": null,
      "outputs": []
    },
    {
      "cell_type": "code",
      "source": [
        ""
      ],
      "metadata": {
        "id": "jgzhSPNKFimo"
      },
      "execution_count": null,
      "outputs": []
    },
    {
      "cell_type": "code",
      "source": [
        ""
      ],
      "metadata": {
        "id": "TsE2TCCXFiu2"
      },
      "execution_count": null,
      "outputs": []
    },
    {
      "cell_type": "code",
      "source": [
        ""
      ],
      "metadata": {
        "id": "F7KHpBxIFi2r"
      },
      "execution_count": null,
      "outputs": []
    },
    {
      "cell_type": "code",
      "source": [
        ""
      ],
      "metadata": {
        "id": "E7dphXT-Fi-_"
      },
      "execution_count": null,
      "outputs": []
    }
  ]
}