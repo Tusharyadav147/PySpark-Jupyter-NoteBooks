{
  "nbformat": 4,
  "nbformat_minor": 0,
  "metadata": {
    "colab": {
      "name": "Spark15.ipynb",
      "provenance": []
    },
    "kernelspec": {
      "name": "python3",
      "display_name": "Python 3"
    },
    "language_info": {
      "name": "python"
    }
  },
  "cells": [
    {
      "cell_type": "code",
      "execution_count": 1,
      "metadata": {
        "colab": {
          "base_uri": "https://localhost:8080/"
        },
        "id": "OmHAX86e47Mh",
        "outputId": "573bb257-b67d-4eb2-f38a-dce2e159f409"
      },
      "outputs": [
        {
          "output_type": "stream",
          "name": "stdout",
          "text": [
            "Collecting pyspark\n",
            "  Downloading pyspark-3.2.1.tar.gz (281.4 MB)\n",
            "\u001b[K     |████████████████████████████████| 281.4 MB 33 kB/s \n",
            "\u001b[?25hCollecting py4j==0.10.9.3\n",
            "  Downloading py4j-0.10.9.3-py2.py3-none-any.whl (198 kB)\n",
            "\u001b[K     |████████████████████████████████| 198 kB 54.9 MB/s \n",
            "\u001b[?25hBuilding wheels for collected packages: pyspark\n",
            "  Building wheel for pyspark (setup.py) ... \u001b[?25l\u001b[?25hdone\n",
            "  Created wheel for pyspark: filename=pyspark-3.2.1-py2.py3-none-any.whl size=281853642 sha256=f5b0586d96b2ec0991e57ff5267083f3e1bda051ea43dbecfbc76eae7e921efb\n",
            "  Stored in directory: /root/.cache/pip/wheels/9f/f5/07/7cd8017084dce4e93e84e92efd1e1d5334db05f2e83bcef74f\n",
            "Successfully built pyspark\n",
            "Installing collected packages: py4j, pyspark\n",
            "Successfully installed py4j-0.10.9.3 pyspark-3.2.1\n"
          ]
        }
      ],
      "source": [
        "pip install pyspark"
      ]
    },
    {
      "cell_type": "code",
      "source": [
        "from pyspark.ml.clustering import KMeans"
      ],
      "metadata": {
        "id": "U-0ugnm85E0w"
      },
      "execution_count": 2,
      "outputs": []
    },
    {
      "cell_type": "code",
      "source": [
        "from pyspark.sql import SparkSession"
      ],
      "metadata": {
        "id": "MPNXKkQK5KjX"
      },
      "execution_count": 4,
      "outputs": []
    },
    {
      "cell_type": "code",
      "source": [
        "session = SparkSession.builder.appName('cluster').getOrCreate()"
      ],
      "metadata": {
        "id": "8taN7dCF5N9N"
      },
      "execution_count": 5,
      "outputs": []
    },
    {
      "cell_type": "code",
      "source": [
        "data = session.read.csv(\"cluster menu.csv\", header = True, inferSchema=True)"
      ],
      "metadata": {
        "id": "nvu95f3R5YN1"
      },
      "execution_count": 6,
      "outputs": []
    },
    {
      "cell_type": "code",
      "source": [
        "data.show(5)"
      ],
      "metadata": {
        "id": "Ay5Herbe5prC",
        "outputId": "c9b80210-cd80-4882-f767-4a6bc17c0722",
        "colab": {
          "base_uri": "https://localhost:8080/"
        }
      },
      "execution_count": 7,
      "outputs": [
        {
          "output_type": "stream",
          "name": "stdout",
          "text": [
            "+---------+--------------------+--------------+--------+-----------------+---------+-------------------------+-------------+-----------------------------+---------+-----------+---------------------------+------+----------------------+-------------+-----------------------------+-------------+-----------------------------+------+-------+-------------------------+-------------------------+-----------------------+--------------------+\n",
            "| Category|                Item|  Serving Size|Calories|Calories from Fat|Total Fat|Total Fat (% Daily Value)|Saturated Fat|Saturated Fat (% Daily Value)|Trans Fat|Cholesterol|Cholesterol (% Daily Value)|Sodium|Sodium (% Daily Value)|Carbohydrates|Carbohydrates (% Daily Value)|Dietary Fiber|Dietary Fiber (% Daily Value)|Sugars|Protein|Vitamin A (% Daily Value)|Vitamin C (% Daily Value)|Calcium (% Daily Value)|Iron (% Daily Value)|\n",
            "+---------+--------------------+--------------+--------+-----------------+---------+-------------------------+-------------+-----------------------------+---------+-----------+---------------------------+------+----------------------+-------------+-----------------------------+-------------+-----------------------------+------+-------+-------------------------+-------------------------+-----------------------+--------------------+\n",
            "|Breakfast|        Egg McMuffin|4.8 oz (136 g)|     300|              120|     13.0|                       20|          5.0|                           25|      0.0|        260|                         87|   750|                    31|           31|                           10|            4|                           17|     3|     17|                       10|                        0|                     25|                  15|\n",
            "|Breakfast|   Egg White Delight|4.8 oz (135 g)|     250|               70|      8.0|                       12|          3.0|                           15|      0.0|         25|                          8|   770|                    32|           30|                           10|            4|                           17|     3|     18|                        6|                        0|                     25|                   8|\n",
            "|Breakfast|    Sausage McMuffin|3.9 oz (111 g)|     370|              200|     23.0|                       35|          8.0|                           42|      0.0|         45|                         15|   780|                    33|           29|                           10|            4|                           17|     2|     14|                        8|                        0|                     25|                  10|\n",
            "|Breakfast|Sausage McMuffin ...|5.7 oz (161 g)|     450|              250|     28.0|                       43|         10.0|                           52|      0.0|        285|                         95|   860|                    36|           30|                           10|            4|                           17|     2|     21|                       15|                        0|                     30|                  15|\n",
            "|Breakfast|Sausage McMuffin ...|5.7 oz (161 g)|     400|              210|     23.0|                       35|          8.0|                           42|      0.0|         50|                         16|   880|                    37|           30|                           10|            4|                           17|     2|     21|                        6|                        0|                     25|                  10|\n",
            "+---------+--------------------+--------------+--------+-----------------+---------+-------------------------+-------------+-----------------------------+---------+-----------+---------------------------+------+----------------------+-------------+-----------------------------+-------------+-----------------------------+------+-------+-------------------------+-------------------------+-----------------------+--------------------+\n",
            "only showing top 5 rows\n",
            "\n"
          ]
        }
      ]
    },
    {
      "cell_type": "code",
      "source": [
        "data.count()"
      ],
      "metadata": {
        "id": "1jvBv-cy5sMy",
        "outputId": "eebd61e4-5064-498c-af48-1f5c6a95523c",
        "colab": {
          "base_uri": "https://localhost:8080/"
        }
      },
      "execution_count": 8,
      "outputs": [
        {
          "output_type": "execute_result",
          "data": {
            "text/plain": [
              "260"
            ]
          },
          "metadata": {},
          "execution_count": 8
        }
      ]
    },
    {
      "cell_type": "code",
      "source": [
        "data.columns"
      ],
      "metadata": {
        "id": "Ax4KKngQ5vD9",
        "outputId": "0d2837c6-0455-4346-e99f-b53dc6adc405",
        "colab": {
          "base_uri": "https://localhost:8080/"
        }
      },
      "execution_count": 9,
      "outputs": [
        {
          "output_type": "execute_result",
          "data": {
            "text/plain": [
              "['Category',\n",
              " 'Item',\n",
              " 'Serving Size',\n",
              " 'Calories',\n",
              " 'Calories from Fat',\n",
              " 'Total Fat',\n",
              " 'Total Fat (% Daily Value)',\n",
              " 'Saturated Fat',\n",
              " 'Saturated Fat (% Daily Value)',\n",
              " 'Trans Fat',\n",
              " 'Cholesterol',\n",
              " 'Cholesterol (% Daily Value)',\n",
              " 'Sodium',\n",
              " 'Sodium (% Daily Value)',\n",
              " 'Carbohydrates',\n",
              " 'Carbohydrates (% Daily Value)',\n",
              " 'Dietary Fiber',\n",
              " 'Dietary Fiber (% Daily Value)',\n",
              " 'Sugars',\n",
              " 'Protein',\n",
              " 'Vitamin A (% Daily Value)',\n",
              " 'Vitamin C (% Daily Value)',\n",
              " 'Calcium (% Daily Value)',\n",
              " 'Iron (% Daily Value)']"
            ]
          },
          "metadata": {},
          "execution_count": 9
        }
      ]
    },
    {
      "cell_type": "code",
      "source": [
        "data.describe()"
      ],
      "metadata": {
        "id": "1eZzvgK876M3",
        "outputId": "38271ff0-2836-4274-9add-5066a8b7c366",
        "colab": {
          "base_uri": "https://localhost:8080/"
        }
      },
      "execution_count": 18,
      "outputs": [
        {
          "output_type": "execute_result",
          "data": {
            "text/plain": [
              "DataFrame[summary: string, Category: string, Item: string, Serving Size: string, Calories: string, Calories from Fat: string, Total Fat: string, Total Fat (% Daily Value): string, Saturated Fat: string, Saturated Fat (% Daily Value): string, Trans Fat: string, Cholesterol: string, Cholesterol (% Daily Value): string, Sodium: string, Sodium (% Daily Value): string, Carbohydrates: string, Carbohydrates (% Daily Value): string, Dietary Fiber: string, Dietary Fiber (% Daily Value): string, Sugars: string, Protein: string, Vitamin A (% Daily Value): string, Vitamin C (% Daily Value): string, Calcium (% Daily Value): string, Iron (% Daily Value): string]"
            ]
          },
          "metadata": {},
          "execution_count": 18
        }
      ]
    },
    {
      "cell_type": "code",
      "source": [
        "from pyspark.ml.feature import VectorAssembler"
      ],
      "metadata": {
        "id": "BAwB2qff5w8c"
      },
      "execution_count": 19,
      "outputs": []
    },
    {
      "cell_type": "code",
      "source": [
        "vector_ass = VectorAssembler(inputCols = [\n",
        "'Calories',\n",
        "'Calories from Fat',\n",
        "'Total Fat',\n",
        "'Total Fat (% Daily Value)',\n",
        "'Saturated Fat',\n",
        "'Saturated Fat (% Daily Value)',\n",
        "'Trans Fat',\n",
        "'Cholesterol',\n",
        "'Cholesterol (% Daily Value)',\n",
        "'Sodium',\n",
        "'Sodium (% Daily Value)',\n",
        "'Carbohydrates',\n",
        "'Carbohydrates (% Daily Value)',\n",
        "'Dietary Fiber',\n",
        "'Dietary Fiber (% Daily Value)',\n",
        "'Sugars',\n",
        "'Protein',\n",
        "'Vitamin A (% Daily Value)',\n",
        "'Vitamin C (% Daily Value)',\n",
        "'Calcium (% Daily Value)',\n",
        "'Iron (% Daily Value)'], outputCol = \"allfeatures\")"
      ],
      "metadata": {
        "id": "cwd77B7p6A36"
      },
      "execution_count": 20,
      "outputs": []
    },
    {
      "cell_type": "code",
      "source": [
        "newdata = vector_ass.transform(data)"
      ],
      "metadata": {
        "id": "krPlwfOt7E3M"
      },
      "execution_count": 21,
      "outputs": []
    },
    {
      "cell_type": "code",
      "source": [
        "newdata.show(5)"
      ],
      "metadata": {
        "id": "jA2XF8-47Jkn",
        "outputId": "c0403a6c-ab63-4490-8d2b-507c2b384edd",
        "colab": {
          "base_uri": "https://localhost:8080/"
        }
      },
      "execution_count": 22,
      "outputs": [
        {
          "output_type": "stream",
          "name": "stdout",
          "text": [
            "+---------+--------------------+--------------+--------+-----------------+---------+-------------------------+-------------+-----------------------------+---------+-----------+---------------------------+------+----------------------+-------------+-----------------------------+-------------+-----------------------------+------+-------+-------------------------+-------------------------+-----------------------+--------------------+--------------------+\n",
            "| Category|                Item|  Serving Size|Calories|Calories from Fat|Total Fat|Total Fat (% Daily Value)|Saturated Fat|Saturated Fat (% Daily Value)|Trans Fat|Cholesterol|Cholesterol (% Daily Value)|Sodium|Sodium (% Daily Value)|Carbohydrates|Carbohydrates (% Daily Value)|Dietary Fiber|Dietary Fiber (% Daily Value)|Sugars|Protein|Vitamin A (% Daily Value)|Vitamin C (% Daily Value)|Calcium (% Daily Value)|Iron (% Daily Value)|         allfeatures|\n",
            "+---------+--------------------+--------------+--------+-----------------+---------+-------------------------+-------------+-----------------------------+---------+-----------+---------------------------+------+----------------------+-------------+-----------------------------+-------------+-----------------------------+------+-------+-------------------------+-------------------------+-----------------------+--------------------+--------------------+\n",
            "|Breakfast|        Egg McMuffin|4.8 oz (136 g)|     300|              120|     13.0|                       20|          5.0|                           25|      0.0|        260|                         87|   750|                    31|           31|                           10|            4|                           17|     3|     17|                       10|                        0|                     25|                  15|[300.0,120.0,13.0...|\n",
            "|Breakfast|   Egg White Delight|4.8 oz (135 g)|     250|               70|      8.0|                       12|          3.0|                           15|      0.0|         25|                          8|   770|                    32|           30|                           10|            4|                           17|     3|     18|                        6|                        0|                     25|                   8|[250.0,70.0,8.0,1...|\n",
            "|Breakfast|    Sausage McMuffin|3.9 oz (111 g)|     370|              200|     23.0|                       35|          8.0|                           42|      0.0|         45|                         15|   780|                    33|           29|                           10|            4|                           17|     2|     14|                        8|                        0|                     25|                  10|[370.0,200.0,23.0...|\n",
            "|Breakfast|Sausage McMuffin ...|5.7 oz (161 g)|     450|              250|     28.0|                       43|         10.0|                           52|      0.0|        285|                         95|   860|                    36|           30|                           10|            4|                           17|     2|     21|                       15|                        0|                     30|                  15|[450.0,250.0,28.0...|\n",
            "|Breakfast|Sausage McMuffin ...|5.7 oz (161 g)|     400|              210|     23.0|                       35|          8.0|                           42|      0.0|         50|                         16|   880|                    37|           30|                           10|            4|                           17|     2|     21|                        6|                        0|                     25|                  10|[400.0,210.0,23.0...|\n",
            "+---------+--------------------+--------------+--------+-----------------+---------+-------------------------+-------------+-----------------------------+---------+-----------+---------------------------+------+----------------------+-------------+-----------------------------+-------------+-----------------------------+------+-------+-------------------------+-------------------------+-----------------------+--------------------+--------------------+\n",
            "only showing top 5 rows\n",
            "\n"
          ]
        }
      ]
    },
    {
      "cell_type": "code",
      "source": [
        "model = KMeans(featuresCol = \"allfeatures\").setK(3)\n",
        "new_model = model.fit(newdata)\n",
        "result = new_model.transform(newdata)\n",
        "result.show()"
      ],
      "metadata": {
        "id": "6gvhK2XZ9MPX",
        "outputId": "5cc8a234-287b-44af-97ab-5505c8586d66",
        "colab": {
          "base_uri": "https://localhost:8080/"
        }
      },
      "execution_count": 34,
      "outputs": [
        {
          "output_type": "stream",
          "name": "stdout",
          "text": [
            "+---------+--------------------+--------------+--------+-----------------+---------+-------------------------+-------------+-----------------------------+---------+-----------+---------------------------+------+----------------------+-------------+-----------------------------+-------------+-----------------------------+------+-------+-------------------------+-------------------------+-----------------------+--------------------+--------------------+----------+\n",
            "| Category|                Item|  Serving Size|Calories|Calories from Fat|Total Fat|Total Fat (% Daily Value)|Saturated Fat|Saturated Fat (% Daily Value)|Trans Fat|Cholesterol|Cholesterol (% Daily Value)|Sodium|Sodium (% Daily Value)|Carbohydrates|Carbohydrates (% Daily Value)|Dietary Fiber|Dietary Fiber (% Daily Value)|Sugars|Protein|Vitamin A (% Daily Value)|Vitamin C (% Daily Value)|Calcium (% Daily Value)|Iron (% Daily Value)|         allfeatures|prediction|\n",
            "+---------+--------------------+--------------+--------+-----------------+---------+-------------------------+-------------+-----------------------------+---------+-----------+---------------------------+------+----------------------+-------------+-----------------------------+-------------+-----------------------------+------+-------+-------------------------+-------------------------+-----------------------+--------------------+--------------------+----------+\n",
            "|Breakfast|        Egg McMuffin|4.8 oz (136 g)|     300|              120|     13.0|                       20|          5.0|                           25|      0.0|        260|                         87|   750|                    31|           31|                           10|            4|                           17|     3|     17|                       10|                        0|                     25|                  15|[300.0,120.0,13.0...|         1|\n",
            "|Breakfast|   Egg White Delight|4.8 oz (135 g)|     250|               70|      8.0|                       12|          3.0|                           15|      0.0|         25|                          8|   770|                    32|           30|                           10|            4|                           17|     3|     18|                        6|                        0|                     25|                   8|[250.0,70.0,8.0,1...|         1|\n",
            "|Breakfast|    Sausage McMuffin|3.9 oz (111 g)|     370|              200|     23.0|                       35|          8.0|                           42|      0.0|         45|                         15|   780|                    33|           29|                           10|            4|                           17|     2|     14|                        8|                        0|                     25|                  10|[370.0,200.0,23.0...|         1|\n",
            "|Breakfast|Sausage McMuffin ...|5.7 oz (161 g)|     450|              250|     28.0|                       43|         10.0|                           52|      0.0|        285|                         95|   860|                    36|           30|                           10|            4|                           17|     2|     21|                       15|                        0|                     30|                  15|[450.0,250.0,28.0...|         1|\n",
            "|Breakfast|Sausage McMuffin ...|5.7 oz (161 g)|     400|              210|     23.0|                       35|          8.0|                           42|      0.0|         50|                         16|   880|                    37|           30|                           10|            4|                           17|     2|     21|                        6|                        0|                     25|                  10|[400.0,210.0,23.0...|         1|\n",
            "|Breakfast|Steak & Egg McMuffin|6.5 oz (185 g)|     430|              210|     23.0|                       36|          9.0|                           46|      1.0|        300|                        100|   960|                    40|           31|                           10|            4|                           18|     3|     26|                       15|                        2|                     30|                  20|[430.0,210.0,23.0...|         1|\n",
            "|Breakfast|Bacon, Egg & Chee...|5.3 oz (150 g)|     460|              230|     26.0|                       40|         13.0|                           65|      0.0|        250|                         83|  1300|                    54|           38|                           13|            2|                            7|     3|     19|                       10|                        8|                     15|                  15|[460.0,230.0,26.0...|         1|\n",
            "|Breakfast|Bacon, Egg & Chee...|5.8 oz (164 g)|     520|              270|     30.0|                       47|         14.0|                           68|      0.0|        250|                         83|  1410|                    59|           43|                           14|            3|                           12|     4|     19|                       15|                        8|                     20|                  20|[520.0,270.0,30.0...|         1|\n",
            "|Breakfast|Bacon, Egg & Chee...|5.4 oz (153 g)|     410|              180|     20.0|                       32|         11.0|                           56|      0.0|         35|                         11|  1300|                    54|           36|                           12|            2|                            7|     3|     20|                        2|                        8|                     15|                  10|[410.0,180.0,20.0...|         1|\n",
            "|Breakfast|Bacon, Egg & Chee...|5.9 oz (167 g)|     470|              220|     25.0|                       38|         12.0|                           59|      0.0|         35|                         11|  1420|                    59|           42|                           14|            3|                           12|     4|     20|                        6|                        8|                     15|                  15|[470.0,220.0,25.0...|         1|\n",
            "|Breakfast|Sausage Biscuit (...|4.1 oz (117 g)|     430|              240|     27.0|                       42|         12.0|                           62|      0.0|         30|                         10|  1080|                    45|           34|                           11|            2|                            6|     2|     11|                        0|                        0|                      6|                  15|[430.0,240.0,27.0...|         1|\n",
            "|Breakfast|Sausage Biscuit (...|4.6 oz (131 g)|     480|              280|     31.0|                       48|         13.0|                           65|      0.0|         30|                         10|  1190|                    50|           39|                           13|            3|                           11|     3|     11|                        4|                        0|                      8|                  15|[480.0,280.0,31.0...|         1|\n",
            "|Breakfast|Sausage Biscuit w...|5.7 oz (163 g)|     510|              290|     33.0|                       50|         14.0|                           71|      0.0|        250|                         83|  1170|                    49|           36|                           12|            2|                            6|     2|     18|                        6|                        0|                     10|                  20|[510.0,290.0,33.0...|         1|\n",
            "|Breakfast|Sausage Biscuit w...|6.2 oz (177 g)|     570|              330|     37.0|                       57|         15.0|                           74|      0.0|        250|                         83|  1280|                    53|           42|                           14|            3|                           11|     3|     18|                       10|                        0|                     10|                  20|[570.0,330.0,37.0...|         1|\n",
            "|Breakfast|Sausage Biscuit w...|5.9 oz (167 g)|     460|              250|     27.0|                       42|         12.0|                           62|      0.0|         35|                         11|  1180|                    49|           34|                           11|            2|                            6|     3|     18|                        0|                        0|                      8|                  15|[460.0,250.0,27.0...|         1|\n",
            "|Breakfast|Sausage Biscuit w...|6.4 oz (181 g)|     520|              280|     32.0|                       49|         13.0|                           65|      0.0|         35|                         11|  1290|                    54|           40|                           13|            3|                           11|     3|     18|                        4|                        0|                      8|                  15|[520.0,280.0,32.0...|         1|\n",
            "|Breakfast|Southern Style Ch...|  5 oz (143 g)|     410|              180|     20.0|                       31|          8.0|                           41|      0.0|         30|                         10|  1180|                    49|           41|                           14|            2|                            6|     3|     17|                        0|                        2|                      6|                  15|[410.0,180.0,20.0...|         1|\n",
            "|Breakfast|Southern Style Ch...|5.5 oz (157 g)|     470|              220|     24.0|                       37|          9.0|                           45|      0.0|         30|                         10|  1290|                    54|           46|                           15|            3|                           11|     4|     17|                        4|                        2|                      8|                  15|[470.0,220.0,24.0...|         1|\n",
            "|Breakfast|Steak & Egg Biscu...|7.1 oz (201 g)|     540|              290|     32.0|                       49|         16.0|                           78|      1.0|        280|                         93|  1470|                    61|           38|                           13|            2|                            8|     3|     25|                       10|                        2|                     20|                  25|[540.0,290.0,32.0...|         1|\n",
            "|Breakfast|Bacon, Egg & Chee...|6.1 oz (174 g)|     460|              190|     21.0|                       32|          9.0|                           44|      0.0|        250|                         84|  1250|                    52|           48|                           16|            2|                            9|    15|     19|                       10|                       10|                     20|                  15|[460.0,190.0,21.0...|         1|\n",
            "+---------+--------------------+--------------+--------+-----------------+---------+-------------------------+-------------+-----------------------------+---------+-----------+---------------------------+------+----------------------+-------------+-----------------------------+-------------+-----------------------------+------+-------+-------------------------+-------------------------+-----------------------+--------------------+--------------------+----------+\n",
            "only showing top 20 rows\n",
            "\n"
          ]
        }
      ]
    },
    {
      "cell_type": "code",
      "source": [
        "cluster1 = result.filter(result[\"prediction\"]== 0)\n",
        "cluster1.count()"
      ],
      "metadata": {
        "id": "fuCWbaSh9j9Q",
        "outputId": "00e0d00a-dffa-49fa-9406-39a2e0b4566e",
        "colab": {
          "base_uri": "https://localhost:8080/"
        }
      },
      "execution_count": 35,
      "outputs": [
        {
          "output_type": "execute_result",
          "data": {
            "text/plain": [
              "181"
            ]
          },
          "metadata": {},
          "execution_count": 35
        }
      ]
    },
    {
      "cell_type": "code",
      "source": [
        "cluster2 = result.filter(result[\"prediction\"]==1)\n",
        "cluster2.count()"
      ],
      "metadata": {
        "id": "cAGtVlMH9wUY",
        "outputId": "f2bca6b5-df30-4de6-ea91-9badc1166787",
        "colab": {
          "base_uri": "https://localhost:8080/"
        }
      },
      "execution_count": 36,
      "outputs": [
        {
          "output_type": "execute_result",
          "data": {
            "text/plain": [
              "78"
            ]
          },
          "metadata": {},
          "execution_count": 36
        }
      ]
    },
    {
      "cell_type": "code",
      "source": [
        "cluster3 = result.filter(result[\"prediction\"]==2)\n",
        "cluster3.count()"
      ],
      "metadata": {
        "id": "1wiLk09X-Byy",
        "outputId": "a9e0c54f-8497-40fe-a900-b56a18f33cdc",
        "colab": {
          "base_uri": "https://localhost:8080/"
        }
      },
      "execution_count": 37,
      "outputs": [
        {
          "output_type": "execute_result",
          "data": {
            "text/plain": [
              "1"
            ]
          },
          "metadata": {},
          "execution_count": 37
        }
      ]
    },
    {
      "cell_type": "code",
      "source": [
        ""
      ],
      "metadata": {
        "id": "KLeK7jpb-K9w"
      },
      "execution_count": null,
      "outputs": []
    }
  ]
}